{
 "cells": [
  {
   "cell_type": "markdown",
   "metadata": {},
   "source": [
    "# Исследование объявлений о продаже квартир\n",
    "\n",
    "В вашем распоряжении данные сервиса Яндекс.Недвижимость — архив объявлений о продаже квартир в Санкт-Петербурге и соседних населённых пунктов за несколько лет. Нужно научиться определять рыночную стоимость объектов недвижимости. Ваша задача — установить параметры. Это позволит построить автоматизированную систему: она отследит аномалии и мошенническую деятельность. \n",
    "\n",
    "По каждой квартире на продажу доступны два вида данных. Первые вписаны пользователем, вторые — получены автоматически на основе картографических данных. Например, расстояние до центра, аэропорта, ближайшего парка и водоёма. "
   ]
  },
  {
   "cell_type": "markdown",
   "metadata": {},
   "source": [
    "Цель исследования\n",
    "Выполнить предобработку данных и изучить их, чтобы найти интересные особенности и зависимости, которые существуют на рынке недвижимости.\n",
    "\n",
    "Описание данных:\n",
    "\n",
    "* airports_nearest — расстояние до ближайшего аэропорта в метрах (м)\n",
    "* balcony — число балконов\n",
    "* ceiling_height — высота потолков (м)\n",
    "* cityCenters_nearest — расстояние до центра города (м)\n",
    "* days_exposition — сколько дней было размещено объявление (от публикации до снятия)\n",
    "* first_day_exposition — дата публикации\n",
    "* floor — этаж\n",
    "* floors_total — всего этажей в доме\n",
    "* is_apartment — апартаменты (булев тип)\n",
    "* kitchen_area — площадь кухни в квадратных метрах (м²)\n",
    "* last_price — цена на момент снятия с публикации\n",
    "* living_area — жилая площадь в квадратных метрах (м²)\n",
    "* locality_name — название населённого пункта\n",
    "* open_plan — свободная планировка (булев тип)\n",
    "* parks_around3000 — число парков в радиусе 3 км\n",
    "* parks_nearest — расстояние до ближайшего парка (м)\n",
    "* ponds_around3000 — число водоёмов в радиусе 3 км\n",
    "* ponds_nearest — расстояние до ближайшего водоёма (м)\n",
    "* rooms — число комнат\n",
    "* studio — квартира-студия (булев тип)\n",
    "* total_area — общая площадь квартиры в квадратных метрах (м²)\n",
    "* total_images — число фотографий квартиры в объявлении\n",
    "\n",
    "План работы:\n",
    "\n",
    "* изучить общую информацию о данных;\n",
    "* предобработка данных (удаление пропусков, обработка аномальных значений, изменение типов данных, обработка дубликатов, категоризация данных);\n",
    "* исследование данных.\n"
   ]
  },
  {
   "cell_type": "markdown",
   "metadata": {},
   "source": [
    "### Откройте файл с данными и изучите общую информацию. "
   ]
  },
  {
   "cell_type": "code",
   "execution_count": 1,
   "metadata": {},
   "outputs": [],
   "source": [
    "import pandas as pd # импорт библиотеки pandas\n",
    "import numpy as np # импорт библиотеки numpy"
   ]
  },
  {
   "cell_type": "code",
   "execution_count": 2,
   "metadata": {},
   "outputs": [],
   "source": [
    "data = pd.read_csv('/datasets/real_estate_data.csv', sep='\\t') # прочитала csv-файл"
   ]
  },
  {
   "cell_type": "code",
   "execution_count": 3,
   "metadata": {},
   "outputs": [
    {
     "name": "stdout",
     "output_type": "stream",
     "text": [
      "<class 'pandas.core.frame.DataFrame'>\n",
      "RangeIndex: 23699 entries, 0 to 23698\n",
      "Data columns (total 22 columns):\n",
      " #   Column                Non-Null Count  Dtype  \n",
      "---  ------                --------------  -----  \n",
      " 0   total_images          23699 non-null  int64  \n",
      " 1   last_price            23699 non-null  float64\n",
      " 2   total_area            23699 non-null  float64\n",
      " 3   first_day_exposition  23699 non-null  object \n",
      " 4   rooms                 23699 non-null  int64  \n",
      " 5   ceiling_height        14504 non-null  float64\n",
      " 6   floors_total          23613 non-null  float64\n",
      " 7   living_area           21796 non-null  float64\n",
      " 8   floor                 23699 non-null  int64  \n",
      " 9   is_apartment          2775 non-null   object \n",
      " 10  studio                23699 non-null  bool   \n",
      " 11  open_plan             23699 non-null  bool   \n",
      " 12  kitchen_area          21421 non-null  float64\n",
      " 13  balcony               12180 non-null  float64\n",
      " 14  locality_name         23650 non-null  object \n",
      " 15  airports_nearest      18157 non-null  float64\n",
      " 16  cityCenters_nearest   18180 non-null  float64\n",
      " 17  parks_around3000      18181 non-null  float64\n",
      " 18  parks_nearest         8079 non-null   float64\n",
      " 19  ponds_around3000      18181 non-null  float64\n",
      " 20  ponds_nearest         9110 non-null   float64\n",
      " 21  days_exposition       20518 non-null  float64\n",
      "dtypes: bool(2), float64(14), int64(3), object(3)\n",
      "memory usage: 3.7+ MB\n"
     ]
    },
    {
     "data": {
      "text/html": [
       "<div>\n",
       "<style scoped>\n",
       "    .dataframe tbody tr th:only-of-type {\n",
       "        vertical-align: middle;\n",
       "    }\n",
       "\n",
       "    .dataframe tbody tr th {\n",
       "        vertical-align: top;\n",
       "    }\n",
       "\n",
       "    .dataframe thead th {\n",
       "        text-align: right;\n",
       "    }\n",
       "</style>\n",
       "<table border=\"1\" class=\"dataframe\">\n",
       "  <thead>\n",
       "    <tr style=\"text-align: right;\">\n",
       "      <th></th>\n",
       "      <th>total_images</th>\n",
       "      <th>last_price</th>\n",
       "      <th>total_area</th>\n",
       "      <th>first_day_exposition</th>\n",
       "      <th>rooms</th>\n",
       "      <th>ceiling_height</th>\n",
       "      <th>floors_total</th>\n",
       "      <th>living_area</th>\n",
       "      <th>floor</th>\n",
       "      <th>is_apartment</th>\n",
       "      <th>...</th>\n",
       "      <th>kitchen_area</th>\n",
       "      <th>balcony</th>\n",
       "      <th>locality_name</th>\n",
       "      <th>airports_nearest</th>\n",
       "      <th>cityCenters_nearest</th>\n",
       "      <th>parks_around3000</th>\n",
       "      <th>parks_nearest</th>\n",
       "      <th>ponds_around3000</th>\n",
       "      <th>ponds_nearest</th>\n",
       "      <th>days_exposition</th>\n",
       "    </tr>\n",
       "  </thead>\n",
       "  <tbody>\n",
       "    <tr>\n",
       "      <th>0</th>\n",
       "      <td>20</td>\n",
       "      <td>13000000.0</td>\n",
       "      <td>108.00</td>\n",
       "      <td>2019-03-07T00:00:00</td>\n",
       "      <td>3</td>\n",
       "      <td>2.70</td>\n",
       "      <td>16.0</td>\n",
       "      <td>51.00</td>\n",
       "      <td>8</td>\n",
       "      <td>NaN</td>\n",
       "      <td>...</td>\n",
       "      <td>25.00</td>\n",
       "      <td>NaN</td>\n",
       "      <td>Санкт-Петербург</td>\n",
       "      <td>18863.0</td>\n",
       "      <td>16028.0</td>\n",
       "      <td>1.0</td>\n",
       "      <td>482.0</td>\n",
       "      <td>2.0</td>\n",
       "      <td>755.0</td>\n",
       "      <td>NaN</td>\n",
       "    </tr>\n",
       "    <tr>\n",
       "      <th>1</th>\n",
       "      <td>7</td>\n",
       "      <td>3350000.0</td>\n",
       "      <td>40.40</td>\n",
       "      <td>2018-12-04T00:00:00</td>\n",
       "      <td>1</td>\n",
       "      <td>NaN</td>\n",
       "      <td>11.0</td>\n",
       "      <td>18.60</td>\n",
       "      <td>1</td>\n",
       "      <td>NaN</td>\n",
       "      <td>...</td>\n",
       "      <td>11.00</td>\n",
       "      <td>2.0</td>\n",
       "      <td>посёлок Шушары</td>\n",
       "      <td>12817.0</td>\n",
       "      <td>18603.0</td>\n",
       "      <td>0.0</td>\n",
       "      <td>NaN</td>\n",
       "      <td>0.0</td>\n",
       "      <td>NaN</td>\n",
       "      <td>81.0</td>\n",
       "    </tr>\n",
       "    <tr>\n",
       "      <th>2</th>\n",
       "      <td>10</td>\n",
       "      <td>5196000.0</td>\n",
       "      <td>56.00</td>\n",
       "      <td>2015-08-20T00:00:00</td>\n",
       "      <td>2</td>\n",
       "      <td>NaN</td>\n",
       "      <td>5.0</td>\n",
       "      <td>34.30</td>\n",
       "      <td>4</td>\n",
       "      <td>NaN</td>\n",
       "      <td>...</td>\n",
       "      <td>8.30</td>\n",
       "      <td>0.0</td>\n",
       "      <td>Санкт-Петербург</td>\n",
       "      <td>21741.0</td>\n",
       "      <td>13933.0</td>\n",
       "      <td>1.0</td>\n",
       "      <td>90.0</td>\n",
       "      <td>2.0</td>\n",
       "      <td>574.0</td>\n",
       "      <td>558.0</td>\n",
       "    </tr>\n",
       "    <tr>\n",
       "      <th>3</th>\n",
       "      <td>0</td>\n",
       "      <td>64900000.0</td>\n",
       "      <td>159.00</td>\n",
       "      <td>2015-07-24T00:00:00</td>\n",
       "      <td>3</td>\n",
       "      <td>NaN</td>\n",
       "      <td>14.0</td>\n",
       "      <td>NaN</td>\n",
       "      <td>9</td>\n",
       "      <td>NaN</td>\n",
       "      <td>...</td>\n",
       "      <td>NaN</td>\n",
       "      <td>0.0</td>\n",
       "      <td>Санкт-Петербург</td>\n",
       "      <td>28098.0</td>\n",
       "      <td>6800.0</td>\n",
       "      <td>2.0</td>\n",
       "      <td>84.0</td>\n",
       "      <td>3.0</td>\n",
       "      <td>234.0</td>\n",
       "      <td>424.0</td>\n",
       "    </tr>\n",
       "    <tr>\n",
       "      <th>4</th>\n",
       "      <td>2</td>\n",
       "      <td>10000000.0</td>\n",
       "      <td>100.00</td>\n",
       "      <td>2018-06-19T00:00:00</td>\n",
       "      <td>2</td>\n",
       "      <td>3.03</td>\n",
       "      <td>14.0</td>\n",
       "      <td>32.00</td>\n",
       "      <td>13</td>\n",
       "      <td>NaN</td>\n",
       "      <td>...</td>\n",
       "      <td>41.00</td>\n",
       "      <td>NaN</td>\n",
       "      <td>Санкт-Петербург</td>\n",
       "      <td>31856.0</td>\n",
       "      <td>8098.0</td>\n",
       "      <td>2.0</td>\n",
       "      <td>112.0</td>\n",
       "      <td>1.0</td>\n",
       "      <td>48.0</td>\n",
       "      <td>121.0</td>\n",
       "    </tr>\n",
       "    <tr>\n",
       "      <th>5</th>\n",
       "      <td>10</td>\n",
       "      <td>2890000.0</td>\n",
       "      <td>30.40</td>\n",
       "      <td>2018-09-10T00:00:00</td>\n",
       "      <td>1</td>\n",
       "      <td>NaN</td>\n",
       "      <td>12.0</td>\n",
       "      <td>14.40</td>\n",
       "      <td>5</td>\n",
       "      <td>NaN</td>\n",
       "      <td>...</td>\n",
       "      <td>9.10</td>\n",
       "      <td>NaN</td>\n",
       "      <td>городской посёлок Янино-1</td>\n",
       "      <td>NaN</td>\n",
       "      <td>NaN</td>\n",
       "      <td>NaN</td>\n",
       "      <td>NaN</td>\n",
       "      <td>NaN</td>\n",
       "      <td>NaN</td>\n",
       "      <td>55.0</td>\n",
       "    </tr>\n",
       "    <tr>\n",
       "      <th>6</th>\n",
       "      <td>6</td>\n",
       "      <td>3700000.0</td>\n",
       "      <td>37.30</td>\n",
       "      <td>2017-11-02T00:00:00</td>\n",
       "      <td>1</td>\n",
       "      <td>NaN</td>\n",
       "      <td>26.0</td>\n",
       "      <td>10.60</td>\n",
       "      <td>6</td>\n",
       "      <td>NaN</td>\n",
       "      <td>...</td>\n",
       "      <td>14.40</td>\n",
       "      <td>1.0</td>\n",
       "      <td>посёлок Парголово</td>\n",
       "      <td>52996.0</td>\n",
       "      <td>19143.0</td>\n",
       "      <td>0.0</td>\n",
       "      <td>NaN</td>\n",
       "      <td>0.0</td>\n",
       "      <td>NaN</td>\n",
       "      <td>155.0</td>\n",
       "    </tr>\n",
       "    <tr>\n",
       "      <th>7</th>\n",
       "      <td>5</td>\n",
       "      <td>7915000.0</td>\n",
       "      <td>71.60</td>\n",
       "      <td>2019-04-18T00:00:00</td>\n",
       "      <td>2</td>\n",
       "      <td>NaN</td>\n",
       "      <td>24.0</td>\n",
       "      <td>NaN</td>\n",
       "      <td>22</td>\n",
       "      <td>NaN</td>\n",
       "      <td>...</td>\n",
       "      <td>18.90</td>\n",
       "      <td>2.0</td>\n",
       "      <td>Санкт-Петербург</td>\n",
       "      <td>23982.0</td>\n",
       "      <td>11634.0</td>\n",
       "      <td>0.0</td>\n",
       "      <td>NaN</td>\n",
       "      <td>0.0</td>\n",
       "      <td>NaN</td>\n",
       "      <td>NaN</td>\n",
       "    </tr>\n",
       "    <tr>\n",
       "      <th>8</th>\n",
       "      <td>20</td>\n",
       "      <td>2900000.0</td>\n",
       "      <td>33.16</td>\n",
       "      <td>2018-05-23T00:00:00</td>\n",
       "      <td>1</td>\n",
       "      <td>NaN</td>\n",
       "      <td>27.0</td>\n",
       "      <td>15.43</td>\n",
       "      <td>26</td>\n",
       "      <td>NaN</td>\n",
       "      <td>...</td>\n",
       "      <td>8.81</td>\n",
       "      <td>NaN</td>\n",
       "      <td>посёлок Мурино</td>\n",
       "      <td>NaN</td>\n",
       "      <td>NaN</td>\n",
       "      <td>NaN</td>\n",
       "      <td>NaN</td>\n",
       "      <td>NaN</td>\n",
       "      <td>NaN</td>\n",
       "      <td>189.0</td>\n",
       "    </tr>\n",
       "    <tr>\n",
       "      <th>9</th>\n",
       "      <td>18</td>\n",
       "      <td>5400000.0</td>\n",
       "      <td>61.00</td>\n",
       "      <td>2017-02-26T00:00:00</td>\n",
       "      <td>3</td>\n",
       "      <td>2.50</td>\n",
       "      <td>9.0</td>\n",
       "      <td>43.60</td>\n",
       "      <td>7</td>\n",
       "      <td>NaN</td>\n",
       "      <td>...</td>\n",
       "      <td>6.50</td>\n",
       "      <td>2.0</td>\n",
       "      <td>Санкт-Петербург</td>\n",
       "      <td>50898.0</td>\n",
       "      <td>15008.0</td>\n",
       "      <td>0.0</td>\n",
       "      <td>NaN</td>\n",
       "      <td>0.0</td>\n",
       "      <td>NaN</td>\n",
       "      <td>289.0</td>\n",
       "    </tr>\n",
       "  </tbody>\n",
       "</table>\n",
       "<p>10 rows × 22 columns</p>\n",
       "</div>"
      ],
      "text/plain": [
       "   total_images  last_price  total_area first_day_exposition  rooms  \\\n",
       "0            20  13000000.0      108.00  2019-03-07T00:00:00      3   \n",
       "1             7   3350000.0       40.40  2018-12-04T00:00:00      1   \n",
       "2            10   5196000.0       56.00  2015-08-20T00:00:00      2   \n",
       "3             0  64900000.0      159.00  2015-07-24T00:00:00      3   \n",
       "4             2  10000000.0      100.00  2018-06-19T00:00:00      2   \n",
       "5            10   2890000.0       30.40  2018-09-10T00:00:00      1   \n",
       "6             6   3700000.0       37.30  2017-11-02T00:00:00      1   \n",
       "7             5   7915000.0       71.60  2019-04-18T00:00:00      2   \n",
       "8            20   2900000.0       33.16  2018-05-23T00:00:00      1   \n",
       "9            18   5400000.0       61.00  2017-02-26T00:00:00      3   \n",
       "\n",
       "   ceiling_height  floors_total  living_area  floor is_apartment  ...  \\\n",
       "0            2.70          16.0        51.00      8          NaN  ...   \n",
       "1             NaN          11.0        18.60      1          NaN  ...   \n",
       "2             NaN           5.0        34.30      4          NaN  ...   \n",
       "3             NaN          14.0          NaN      9          NaN  ...   \n",
       "4            3.03          14.0        32.00     13          NaN  ...   \n",
       "5             NaN          12.0        14.40      5          NaN  ...   \n",
       "6             NaN          26.0        10.60      6          NaN  ...   \n",
       "7             NaN          24.0          NaN     22          NaN  ...   \n",
       "8             NaN          27.0        15.43     26          NaN  ...   \n",
       "9            2.50           9.0        43.60      7          NaN  ...   \n",
       "\n",
       "   kitchen_area  balcony              locality_name  airports_nearest  \\\n",
       "0         25.00      NaN            Санкт-Петербург           18863.0   \n",
       "1         11.00      2.0             посёлок Шушары           12817.0   \n",
       "2          8.30      0.0            Санкт-Петербург           21741.0   \n",
       "3           NaN      0.0            Санкт-Петербург           28098.0   \n",
       "4         41.00      NaN            Санкт-Петербург           31856.0   \n",
       "5          9.10      NaN  городской посёлок Янино-1               NaN   \n",
       "6         14.40      1.0          посёлок Парголово           52996.0   \n",
       "7         18.90      2.0            Санкт-Петербург           23982.0   \n",
       "8          8.81      NaN             посёлок Мурино               NaN   \n",
       "9          6.50      2.0            Санкт-Петербург           50898.0   \n",
       "\n",
       "  cityCenters_nearest  parks_around3000  parks_nearest  ponds_around3000  \\\n",
       "0             16028.0               1.0          482.0               2.0   \n",
       "1             18603.0               0.0            NaN               0.0   \n",
       "2             13933.0               1.0           90.0               2.0   \n",
       "3              6800.0               2.0           84.0               3.0   \n",
       "4              8098.0               2.0          112.0               1.0   \n",
       "5                 NaN               NaN            NaN               NaN   \n",
       "6             19143.0               0.0            NaN               0.0   \n",
       "7             11634.0               0.0            NaN               0.0   \n",
       "8                 NaN               NaN            NaN               NaN   \n",
       "9             15008.0               0.0            NaN               0.0   \n",
       "\n",
       "   ponds_nearest  days_exposition  \n",
       "0          755.0              NaN  \n",
       "1            NaN             81.0  \n",
       "2          574.0            558.0  \n",
       "3          234.0            424.0  \n",
       "4           48.0            121.0  \n",
       "5            NaN             55.0  \n",
       "6            NaN            155.0  \n",
       "7            NaN              NaN  \n",
       "8            NaN            189.0  \n",
       "9            NaN            289.0  \n",
       "\n",
       "[10 rows x 22 columns]"
      ]
     },
     "execution_count": 3,
     "metadata": {},
     "output_type": "execute_result"
    }
   ],
   "source": [
    "data.info() # вывела основную информацию о датафрейме\n",
    "data.head(10) #вывела на экран первые 10 строк data"
   ]
  },
  {
   "cell_type": "code",
   "execution_count": 5,
   "metadata": {},
   "outputs": [
    {
     "data": {
      "image/png": "[encoded data removed]",
      "text/plain": [
       "<Figure size 1080x1440 with 20 Axes>"
      ]
     },
     "metadata": {
      "needs_background": "light"
     },
     "output_type": "display_data"
    }
   ],
   "source": [
    "data.hist(figsize=(15, 20)); #Построила общую гистограмму для всех числовых столбцов таблицы"
   ]
  },
  {
   "cell_type": "markdown",
   "metadata": {},
   "source": [
    "Гистограммы просмотрела, явных аномалий, выбросов не вижу."
   ]
  },
  {
   "cell_type": "markdown",
   "metadata": {},
   "source": [
    "### Предобработка данных"
   ]
  },
  {
   "cell_type": "markdown",
   "metadata": {},
   "source": [
    "**Обработка пропущенных значений**"
   ]
  },
  {
   "cell_type": "code",
   "execution_count": 6,
   "metadata": {},
   "outputs": [
    {
     "data": {
      "text/plain": [
       "total_images                0\n",
       "last_price                  0\n",
       "total_area                  0\n",
       "first_day_exposition        0\n",
       "rooms                       0\n",
       "ceiling_height           9195\n",
       "floors_total               86\n",
       "living_area              1903\n",
       "floor                       0\n",
       "is_apartment            20924\n",
       "studio                      0\n",
       "open_plan                   0\n",
       "kitchen_area             2278\n",
       "balcony                 11519\n",
       "locality_name              49\n",
       "airports_nearest         5542\n",
       "cityCenters_nearest      5519\n",
       "parks_around3000         5518\n",
       "parks_nearest           15620\n",
       "ponds_around3000         5518\n",
       "ponds_nearest           14589\n",
       "days_exposition          3181\n",
       "dtype: int64"
      ]
     },
     "execution_count": 6,
     "metadata": {},
     "output_type": "execute_result"
    }
   ],
   "source": [
    "data.isna().sum() #проверяю в каких столбцах есть пропуски"
   ]
  },
  {
   "cell_type": "markdown",
   "metadata": {},
   "source": [
    "Найдены пропуски в данных столбцов: living_area, is_apartment, kitchen_area, locality_name, airports_nearest, cityCenters_nearest, parks_around3000, parks_nearest, ponds_around3000, ponds_nearest, days_exposition."
   ]
  },
  {
   "cell_type": "code",
   "execution_count": 7,
   "metadata": {},
   "outputs": [
    {
     "data": {
      "text/plain": [
       "total_images                0\n",
       "last_price                  0\n",
       "total_area                  0\n",
       "first_day_exposition        0\n",
       "rooms                       0\n",
       "ceiling_height           9195\n",
       "floors_total               86\n",
       "living_area              1903\n",
       "floor                       0\n",
       "is_apartment            20924\n",
       "studio                      0\n",
       "open_plan                   0\n",
       "kitchen_area             2278\n",
       "balcony                     0\n",
       "locality_name              49\n",
       "airports_nearest         5542\n",
       "cityCenters_nearest      5519\n",
       "parks_around3000         5518\n",
       "parks_nearest           15620\n",
       "ponds_around3000         5518\n",
       "ponds_nearest           14589\n",
       "days_exposition          3181\n",
       "dtype: int64"
      ]
     },
     "execution_count": 7,
     "metadata": {},
     "output_type": "execute_result"
    }
   ],
   "source": [
    "data['balcony'] = data['balcony'].fillna(0) #заполняю пропуски в столбце balcony нулем\n",
    "data.isna().sum()"
   ]
  },
  {
   "cell_type": "markdown",
   "metadata": {},
   "source": [
    "Пропуски в столбце 'balcony' заменила на ноль, скорее всего число балконов не указали, потому что их нет в квартире. Но среднее значение было бы не логично заменять эти пропуски, потому что в квартире может и не быть балкона."
   ]
  },
  {
   "cell_type": "code",
   "execution_count": 8,
   "metadata": {},
   "outputs": [
    {
     "data": {
      "text/plain": [
       "total_images                0\n",
       "last_price                  0\n",
       "total_area                  0\n",
       "first_day_exposition        0\n",
       "rooms                       0\n",
       "ceiling_height              0\n",
       "floors_total               86\n",
       "living_area              1903\n",
       "floor                       0\n",
       "is_apartment            20924\n",
       "studio                      0\n",
       "open_plan                   0\n",
       "kitchen_area             2278\n",
       "balcony                     0\n",
       "locality_name              49\n",
       "airports_nearest         5542\n",
       "cityCenters_nearest      5519\n",
       "parks_around3000         5518\n",
       "parks_nearest           15620\n",
       "ponds_around3000         5518\n",
       "ponds_nearest           14589\n",
       "days_exposition          3181\n",
       "dtype: int64"
      ]
     },
     "metadata": {},
     "output_type": "display_data"
    },
    {
     "data": {
      "text/html": [
       "<div>\n",
       "<style scoped>\n",
       "    .dataframe tbody tr th:only-of-type {\n",
       "        vertical-align: middle;\n",
       "    }\n",
       "\n",
       "    .dataframe tbody tr th {\n",
       "        vertical-align: top;\n",
       "    }\n",
       "\n",
       "    .dataframe thead th {\n",
       "        text-align: right;\n",
       "    }\n",
       "</style>\n",
       "<table border=\"1\" class=\"dataframe\">\n",
       "  <thead>\n",
       "    <tr style=\"text-align: right;\">\n",
       "      <th></th>\n",
       "      <th>total_images</th>\n",
       "      <th>last_price</th>\n",
       "      <th>total_area</th>\n",
       "      <th>first_day_exposition</th>\n",
       "      <th>rooms</th>\n",
       "      <th>ceiling_height</th>\n",
       "      <th>floors_total</th>\n",
       "      <th>living_area</th>\n",
       "      <th>floor</th>\n",
       "      <th>is_apartment</th>\n",
       "      <th>...</th>\n",
       "      <th>kitchen_area</th>\n",
       "      <th>balcony</th>\n",
       "      <th>locality_name</th>\n",
       "      <th>airports_nearest</th>\n",
       "      <th>cityCenters_nearest</th>\n",
       "      <th>parks_around3000</th>\n",
       "      <th>parks_nearest</th>\n",
       "      <th>ponds_around3000</th>\n",
       "      <th>ponds_nearest</th>\n",
       "      <th>days_exposition</th>\n",
       "    </tr>\n",
       "  </thead>\n",
       "  <tbody>\n",
       "    <tr>\n",
       "      <th>0</th>\n",
       "      <td>20</td>\n",
       "      <td>13000000.0</td>\n",
       "      <td>108.0</td>\n",
       "      <td>2019-03-07T00:00:00</td>\n",
       "      <td>3</td>\n",
       "      <td>2.70</td>\n",
       "      <td>16.0</td>\n",
       "      <td>51.0</td>\n",
       "      <td>8</td>\n",
       "      <td>NaN</td>\n",
       "      <td>...</td>\n",
       "      <td>25.0</td>\n",
       "      <td>0.0</td>\n",
       "      <td>Санкт-Петербург</td>\n",
       "      <td>18863.0</td>\n",
       "      <td>16028.0</td>\n",
       "      <td>1.0</td>\n",
       "      <td>482.0</td>\n",
       "      <td>2.0</td>\n",
       "      <td>755.0</td>\n",
       "      <td>NaN</td>\n",
       "    </tr>\n",
       "    <tr>\n",
       "      <th>1</th>\n",
       "      <td>7</td>\n",
       "      <td>3350000.0</td>\n",
       "      <td>40.4</td>\n",
       "      <td>2018-12-04T00:00:00</td>\n",
       "      <td>1</td>\n",
       "      <td>2.65</td>\n",
       "      <td>11.0</td>\n",
       "      <td>18.6</td>\n",
       "      <td>1</td>\n",
       "      <td>NaN</td>\n",
       "      <td>...</td>\n",
       "      <td>11.0</td>\n",
       "      <td>2.0</td>\n",
       "      <td>посёлок Шушары</td>\n",
       "      <td>12817.0</td>\n",
       "      <td>18603.0</td>\n",
       "      <td>0.0</td>\n",
       "      <td>NaN</td>\n",
       "      <td>0.0</td>\n",
       "      <td>NaN</td>\n",
       "      <td>81.0</td>\n",
       "    </tr>\n",
       "    <tr>\n",
       "      <th>2</th>\n",
       "      <td>10</td>\n",
       "      <td>5196000.0</td>\n",
       "      <td>56.0</td>\n",
       "      <td>2015-08-20T00:00:00</td>\n",
       "      <td>2</td>\n",
       "      <td>2.65</td>\n",
       "      <td>5.0</td>\n",
       "      <td>34.3</td>\n",
       "      <td>4</td>\n",
       "      <td>NaN</td>\n",
       "      <td>...</td>\n",
       "      <td>8.3</td>\n",
       "      <td>0.0</td>\n",
       "      <td>Санкт-Петербург</td>\n",
       "      <td>21741.0</td>\n",
       "      <td>13933.0</td>\n",
       "      <td>1.0</td>\n",
       "      <td>90.0</td>\n",
       "      <td>2.0</td>\n",
       "      <td>574.0</td>\n",
       "      <td>558.0</td>\n",
       "    </tr>\n",
       "    <tr>\n",
       "      <th>3</th>\n",
       "      <td>0</td>\n",
       "      <td>64900000.0</td>\n",
       "      <td>159.0</td>\n",
       "      <td>2015-07-24T00:00:00</td>\n",
       "      <td>3</td>\n",
       "      <td>2.65</td>\n",
       "      <td>14.0</td>\n",
       "      <td>NaN</td>\n",
       "      <td>9</td>\n",
       "      <td>NaN</td>\n",
       "      <td>...</td>\n",
       "      <td>NaN</td>\n",
       "      <td>0.0</td>\n",
       "      <td>Санкт-Петербург</td>\n",
       "      <td>28098.0</td>\n",
       "      <td>6800.0</td>\n",
       "      <td>2.0</td>\n",
       "      <td>84.0</td>\n",
       "      <td>3.0</td>\n",
       "      <td>234.0</td>\n",
       "      <td>424.0</td>\n",
       "    </tr>\n",
       "    <tr>\n",
       "      <th>4</th>\n",
       "      <td>2</td>\n",
       "      <td>10000000.0</td>\n",
       "      <td>100.0</td>\n",
       "      <td>2018-06-19T00:00:00</td>\n",
       "      <td>2</td>\n",
       "      <td>3.03</td>\n",
       "      <td>14.0</td>\n",
       "      <td>32.0</td>\n",
       "      <td>13</td>\n",
       "      <td>NaN</td>\n",
       "      <td>...</td>\n",
       "      <td>41.0</td>\n",
       "      <td>0.0</td>\n",
       "      <td>Санкт-Петербург</td>\n",
       "      <td>31856.0</td>\n",
       "      <td>8098.0</td>\n",
       "      <td>2.0</td>\n",
       "      <td>112.0</td>\n",
       "      <td>1.0</td>\n",
       "      <td>48.0</td>\n",
       "      <td>121.0</td>\n",
       "    </tr>\n",
       "  </tbody>\n",
       "</table>\n",
       "<p>5 rows × 22 columns</p>\n",
       "</div>"
      ],
      "text/plain": [
       "   total_images  last_price  total_area first_day_exposition  rooms  \\\n",
       "0            20  13000000.0       108.0  2019-03-07T00:00:00      3   \n",
       "1             7   3350000.0        40.4  2018-12-04T00:00:00      1   \n",
       "2            10   5196000.0        56.0  2015-08-20T00:00:00      2   \n",
       "3             0  64900000.0       159.0  2015-07-24T00:00:00      3   \n",
       "4             2  10000000.0       100.0  2018-06-19T00:00:00      2   \n",
       "\n",
       "   ceiling_height  floors_total  living_area  floor is_apartment  ...  \\\n",
       "0            2.70          16.0         51.0      8          NaN  ...   \n",
       "1            2.65          11.0         18.6      1          NaN  ...   \n",
       "2            2.65           5.0         34.3      4          NaN  ...   \n",
       "3            2.65          14.0          NaN      9          NaN  ...   \n",
       "4            3.03          14.0         32.0     13          NaN  ...   \n",
       "\n",
       "   kitchen_area  balcony    locality_name  airports_nearest  \\\n",
       "0          25.0      0.0  Санкт-Петербург           18863.0   \n",
       "1          11.0      2.0   посёлок Шушары           12817.0   \n",
       "2           8.3      0.0  Санкт-Петербург           21741.0   \n",
       "3           NaN      0.0  Санкт-Петербург           28098.0   \n",
       "4          41.0      0.0  Санкт-Петербург           31856.0   \n",
       "\n",
       "  cityCenters_nearest  parks_around3000  parks_nearest  ponds_around3000  \\\n",
       "0             16028.0               1.0          482.0               2.0   \n",
       "1             18603.0               0.0            NaN               0.0   \n",
       "2             13933.0               1.0           90.0               2.0   \n",
       "3              6800.0               2.0           84.0               3.0   \n",
       "4              8098.0               2.0          112.0               1.0   \n",
       "\n",
       "   ponds_nearest  days_exposition  \n",
       "0          755.0              NaN  \n",
       "1            NaN             81.0  \n",
       "2          574.0            558.0  \n",
       "3          234.0            424.0  \n",
       "4           48.0            121.0  \n",
       "\n",
       "[5 rows x 22 columns]"
      ]
     },
     "execution_count": 8,
     "metadata": {},
     "output_type": "execute_result"
    }
   ],
   "source": [
    "data['ceiling_height'] = data['ceiling_height'].fillna(value = data['ceiling_height'].median()) #заменяю пропущенные значения в столбце ceiling_height медианным значением высоты потолка \n",
    "display(data.isna().sum()) #Проверяю количество пропусков в столбце ceiling_height\n",
    "data.head(5) #Проверяю как визуально стала выглядеть информация после изменений"
   ]
  },
  {
   "cell_type": "markdown",
   "metadata": {},
   "source": [
    "Высоту потолков заполнила медианным значением. Пропуски удалось убрать полностью."
   ]
  },
  {
   "cell_type": "code",
   "execution_count": 9,
   "metadata": {},
   "outputs": [
    {
     "data": {
      "text/plain": [
       "total_images                0\n",
       "last_price                  0\n",
       "total_area                  0\n",
       "first_day_exposition        0\n",
       "rooms                       0\n",
       "ceiling_height              0\n",
       "floors_total                0\n",
       "living_area              1870\n",
       "floor                       0\n",
       "is_apartment            20838\n",
       "studio                      0\n",
       "open_plan                   0\n",
       "kitchen_area             2231\n",
       "balcony                     0\n",
       "locality_name              48\n",
       "airports_nearest         5532\n",
       "cityCenters_nearest      5509\n",
       "parks_around3000         5508\n",
       "parks_nearest           15568\n",
       "ponds_around3000         5508\n",
       "ponds_nearest           14552\n",
       "days_exposition          3172\n",
       "dtype: int64"
      ]
     },
     "execution_count": 9,
     "metadata": {},
     "output_type": "execute_result"
    }
   ],
   "source": [
    "data = data.dropna(subset=['floors_total']) #удаляю пропуски в столбце floors_total\n",
    "data.isna().sum() #проверяю"
   ]
  },
  {
   "cell_type": "markdown",
   "metadata": {},
   "source": [
    "Пропуски в столбце \"всего этажей в доме\" решила заполниль нулем, потому что другим значением заполнять считаю было бы странно, этажность разная у домов, разброс достаточно большой, чтобы выбирать среднее или медиану."
   ]
  },
  {
   "cell_type": "code",
   "execution_count": 10,
   "metadata": {},
   "outputs": [
    {
     "data": {
      "text/plain": [
       "total_images                0\n",
       "last_price                  0\n",
       "total_area                  0\n",
       "first_day_exposition        0\n",
       "rooms                       0\n",
       "ceiling_height              0\n",
       "floors_total                0\n",
       "living_area                 0\n",
       "floor                       0\n",
       "is_apartment            20838\n",
       "studio                      0\n",
       "open_plan                   0\n",
       "kitchen_area             2231\n",
       "balcony                     0\n",
       "locality_name              48\n",
       "airports_nearest         5532\n",
       "cityCenters_nearest      5509\n",
       "parks_around3000         5508\n",
       "parks_nearest           15568\n",
       "ponds_around3000         5508\n",
       "ponds_nearest           14552\n",
       "days_exposition          3172\n",
       "dtype: int64"
      ]
     },
     "execution_count": 10,
     "metadata": {},
     "output_type": "execute_result"
    }
   ],
   "source": [
    "for t in data['rooms'].unique():\n",
    "    data.loc[(data['rooms'] == t) & (data['living_area'].isna()), 'living_area'] = \\\n",
    "    data.loc[(data['rooms'] == t), 'living_area'].median() # Заполняю пропуски в living_area медианным значением через цикл for\n",
    "data.isna().sum() #проверяю изменилось ли количество пропусков в столбце living_area"
   ]
  },
  {
   "cell_type": "markdown",
   "metadata": {},
   "source": [
    "Пропуски в столбце \"жилая площадь в квадратным метрах\" заполнила медианным значением по каждому типу квартиры в зависимости от количества комнат. После проверки видно, что пропусков нет."
   ]
  },
  {
   "cell_type": "code",
   "execution_count": 11,
   "metadata": {},
   "outputs": [
    {
     "name": "stderr",
     "output_type": "stream",
     "text": [
      "/opt/conda/lib/python3.9/site-packages/numpy/lib/nanfunctions.py:1117: RuntimeWarning: Mean of empty slice\n",
      "  return np.nanmean(a, axis, out=out, keepdims=keepdims)\n"
     ]
    },
    {
     "data": {
      "text/plain": [
       "total_images                0\n",
       "last_price                  0\n",
       "total_area                  0\n",
       "first_day_exposition        0\n",
       "rooms                       0\n",
       "ceiling_height              0\n",
       "floors_total                0\n",
       "living_area                 0\n",
       "floor                       0\n",
       "is_apartment            20838\n",
       "studio                      0\n",
       "open_plan                   0\n",
       "kitchen_area                0\n",
       "balcony                     0\n",
       "locality_name              48\n",
       "airports_nearest         5532\n",
       "cityCenters_nearest      5509\n",
       "parks_around3000         5508\n",
       "parks_nearest           15568\n",
       "ponds_around3000         5508\n",
       "ponds_nearest           14552\n",
       "days_exposition          3172\n",
       "dtype: int64"
      ]
     },
     "execution_count": 11,
     "metadata": {},
     "output_type": "execute_result"
    }
   ],
   "source": [
    "for t in data['rooms'].unique():\n",
    "    data.loc[(data['rooms'] == t) & (data['kitchen_area'].isna()), 'kitchen_area'] = \\\n",
    "    data.loc[(data['rooms'] == t), 'kitchen_area'].median() # Заполняю пропуски в kitchen_area медианным значением через цикл for\n",
    "data['kitchen_area'] = data['kitchen_area'].fillna(0) #оставшиеся пропуски заполнила значением \"0\"\n",
    "data.isna().sum() #проверяю изменилось ли количество пропусков в столбце kitchen_area\n"
   ]
  },
  {
   "cell_type": "markdown",
   "metadata": {},
   "source": [
    "Пропуски в столбце \"площадь кухни\" заполняю медианным значением по каждому типу квартиры в зависимости от количества комнат. Так как не все пропуски заполнились, поэтому оставшиеся пропуски заменила на ноль. По таблице видно, что пропусков в столбце \"kitchen_area\" нет."
   ]
  },
  {
   "cell_type": "code",
   "execution_count": 12,
   "metadata": {},
   "outputs": [
    {
     "data": {
      "text/plain": [
       "total_images                0\n",
       "last_price                  0\n",
       "total_area                  0\n",
       "first_day_exposition        0\n",
       "rooms                       0\n",
       "ceiling_height              0\n",
       "floors_total                0\n",
       "living_area                 0\n",
       "floor                       0\n",
       "is_apartment            20838\n",
       "studio                      0\n",
       "open_plan                   0\n",
       "kitchen_area                0\n",
       "balcony                     0\n",
       "locality_name              48\n",
       "airports_nearest         5532\n",
       "cityCenters_nearest      5509\n",
       "parks_around3000         5508\n",
       "parks_nearest           15568\n",
       "ponds_around3000         5508\n",
       "ponds_nearest           14552\n",
       "days_exposition             0\n",
       "dtype: int64"
      ]
     },
     "execution_count": 12,
     "metadata": {},
     "output_type": "execute_result"
    }
   ],
   "source": [
    "data['days_exposition'] = data['days_exposition'].fillna(value = data['days_exposition'].median()) #заменяю пропущенные значения в столбце\n",
    "data.isna().sum() #Проверяю количество пропусков в столбце"
   ]
  },
  {
   "cell_type": "markdown",
   "metadata": {},
   "source": [
    "Пропуски в столбце days_exposition заполнила медианным значением, в результате проверки пропусков нет. "
   ]
  },
  {
   "cell_type": "code",
   "execution_count": 13,
   "metadata": {},
   "outputs": [
    {
     "data": {
      "text/plain": [
       "total_images                0\n",
       "last_price                  0\n",
       "total_area                  0\n",
       "first_day_exposition        0\n",
       "rooms                       0\n",
       "ceiling_height              0\n",
       "floors_total                0\n",
       "living_area                 0\n",
       "floor                       0\n",
       "is_apartment            20838\n",
       "studio                      0\n",
       "open_plan                   0\n",
       "kitchen_area                0\n",
       "balcony                     0\n",
       "locality_name               0\n",
       "airports_nearest         5532\n",
       "cityCenters_nearest      5509\n",
       "parks_around3000            0\n",
       "parks_nearest           15568\n",
       "ponds_around3000            0\n",
       "ponds_nearest           14552\n",
       "days_exposition             0\n",
       "dtype: int64"
      ]
     },
     "execution_count": 13,
     "metadata": {},
     "output_type": "execute_result"
    }
   ],
   "source": [
    "data['locality_name'] = data['locality_name'].fillna(' ') #заполняю пропуски пустыми значениями\n",
    "data['ponds_around3000'] = data['ponds_around3000'].fillna('0') \n",
    "data['parks_around3000'] = data['parks_around3000'].fillna('0') \n",
    "data.isna().sum() #проверяю результат"
   ]
  },
  {
   "cell_type": "markdown",
   "metadata": {},
   "source": [
    "В столбцах locality_name, ponds_around3000 и parks_around3000 заполнила пропуски пустым значением. По оставшимся пропускам в столбцах: airports_nearest, cityCenters_nearest, parks_nearest, ponds_nearest решила их оставить. В столбце is_apartment много пропусков, но там булев тип данных, заполнить пропуски не предоставляется возможным."
   ]
  },
  {
   "cell_type": "markdown",
   "metadata": {},
   "source": [
    "**Рассмотрим типы данных в каждом столбце**"
   ]
  },
  {
   "cell_type": "code",
   "execution_count": 14,
   "metadata": {},
   "outputs": [
    {
     "name": "stdout",
     "output_type": "stream",
     "text": [
      "<class 'pandas.core.frame.DataFrame'>\n",
      "Int64Index: 23613 entries, 0 to 23698\n",
      "Data columns (total 22 columns):\n",
      " #   Column                Non-Null Count  Dtype  \n",
      "---  ------                --------------  -----  \n",
      " 0   total_images          23613 non-null  int64  \n",
      " 1   last_price            23613 non-null  float64\n",
      " 2   total_area            23613 non-null  float64\n",
      " 3   first_day_exposition  23613 non-null  object \n",
      " 4   rooms                 23613 non-null  int64  \n",
      " 5   ceiling_height        23613 non-null  float64\n",
      " 6   floors_total          23613 non-null  float64\n",
      " 7   living_area           23613 non-null  float64\n",
      " 8   floor                 23613 non-null  int64  \n",
      " 9   is_apartment          2775 non-null   object \n",
      " 10  studio                23613 non-null  bool   \n",
      " 11  open_plan             23613 non-null  bool   \n",
      " 12  kitchen_area          23613 non-null  float64\n",
      " 13  balcony               23613 non-null  float64\n",
      " 14  locality_name         23613 non-null  object \n",
      " 15  airports_nearest      18081 non-null  float64\n",
      " 16  cityCenters_nearest   18104 non-null  float64\n",
      " 17  parks_around3000      23613 non-null  object \n",
      " 18  parks_nearest         8045 non-null   float64\n",
      " 19  ponds_around3000      23613 non-null  object \n",
      " 20  ponds_nearest         9061 non-null   float64\n",
      " 21  days_exposition       23613 non-null  float64\n",
      "dtypes: bool(2), float64(12), int64(3), object(5)\n",
      "memory usage: 3.8+ MB\n"
     ]
    }
   ],
   "source": [
    "data.info() # рассмотрим типы данных"
   ]
  },
  {
   "cell_type": "markdown",
   "metadata": {},
   "source": [
    "По таблице видно, что во многих столбцах вместо типа данных int - стоит float. В столбцах: floors_total, balcony, parks_around3000, ponds_around3000, days_exposition - нужно поменять на целочисленный тип. В столбце first_day_exposition убрать разделитель Т и привести к типу datetime64. В столбце is_apartment нужно поменять на булев тип, потому что в описании к проекту написано, что у этого столбца должен быть такой булев тип данных."
   ]
  },
  {
   "cell_type": "code",
   "execution_count": 15,
   "metadata": {},
   "outputs": [
    {
     "name": "stdout",
     "output_type": "stream",
     "text": [
      "<class 'pandas.core.frame.DataFrame'>\n",
      "Int64Index: 23613 entries, 0 to 23698\n",
      "Data columns (total 22 columns):\n",
      " #   Column                Non-Null Count  Dtype         \n",
      "---  ------                --------------  -----         \n",
      " 0   total_images          23613 non-null  int64         \n",
      " 1   last_price            23613 non-null  float64       \n",
      " 2   total_area            23613 non-null  float64       \n",
      " 3   first_day_exposition  23613 non-null  datetime64[ns]\n",
      " 4   rooms                 23613 non-null  int64         \n",
      " 5   ceiling_height        23613 non-null  float64       \n",
      " 6   floors_total          23613 non-null  int64         \n",
      " 7   living_area           23613 non-null  float64       \n",
      " 8   floor                 23613 non-null  int64         \n",
      " 9   is_apartment          23613 non-null  bool          \n",
      " 10  studio                23613 non-null  bool          \n",
      " 11  open_plan             23613 non-null  bool          \n",
      " 12  kitchen_area          23613 non-null  float64       \n",
      " 13  balcony               23613 non-null  int64         \n",
      " 14  locality_name         23613 non-null  object        \n",
      " 15  airports_nearest      18081 non-null  float64       \n",
      " 16  cityCenters_nearest   18104 non-null  float64       \n",
      " 17  parks_around3000      23613 non-null  int64         \n",
      " 18  parks_nearest         8045 non-null   float64       \n",
      " 19  ponds_around3000      23613 non-null  int64         \n",
      " 20  ponds_nearest         9061 non-null   float64       \n",
      " 21  days_exposition       23613 non-null  int64         \n",
      "dtypes: bool(3), datetime64[ns](1), float64(9), int64(8), object(1)\n",
      "memory usage: 3.7+ MB\n"
     ]
    }
   ],
   "source": [
    "data['floors_total'] = data['floors_total'].astype(int) #заменяю везде вещественный тип данных на целочисленный\n",
    "data['balcony'] = data['balcony'].astype(int)\n",
    "data['days_exposition'] = data['days_exposition'].astype(int)\n",
    "data['ponds_around3000'] = data['ponds_around3000'].replace(' ', '0')#заменяю пробел нулем\n",
    "data['parks_around3000'] = data['parks_around3000'].replace(' ', '0')#заменяю пробел нулем\n",
    "data['ponds_around3000'] = data['ponds_around3000'].astype(int) #заменяю везде вещественный тип данных на целочисленный\n",
    "data['parks_around3000'] = data['parks_around3000'].astype(int)\n",
    "data['first_day_exposition'] = pd.to_datetime(data['first_day_exposition'], format='%Y-%m-%dT%H:%M:%S')# убираю разделитель Т и меняю на тип datetime\n",
    "data['is_apartment'] = data['is_apartment'].astype(bool) # Меняю object на bool\n",
    "data.info() # проверяю изменения"
   ]
  },
  {
   "cell_type": "markdown",
   "metadata": {},
   "source": [
    "Все, что запланировала по изменению типов данных выполнила. **Переходим к изучению уникальных значений.**"
   ]
  },
  {
   "cell_type": "code",
   "execution_count": 16,
   "metadata": {},
   "outputs": [
    {
     "data": {
      "text/plain": [
       "{' ',\n",
       " 'Бокситогорск',\n",
       " 'Волосово',\n",
       " 'Волхов',\n",
       " 'Всеволожск',\n",
       " 'Выборг',\n",
       " 'Высоцк',\n",
       " 'Гатчина',\n",
       " 'Зеленогорск',\n",
       " 'Ивангород',\n",
       " 'Каменногорск',\n",
       " 'Кингисепп',\n",
       " 'Кириши',\n",
       " 'Кировск',\n",
       " 'Колпино',\n",
       " 'Коммунар',\n",
       " 'Красное Село',\n",
       " 'Кронштадт',\n",
       " 'Кудрово',\n",
       " 'Лодейное Поле',\n",
       " 'Ломоносов',\n",
       " 'Луга',\n",
       " 'Любань',\n",
       " 'Мурино',\n",
       " 'Никольское',\n",
       " 'Новая Ладога',\n",
       " 'Отрадное',\n",
       " 'Павловск',\n",
       " 'Петергоф',\n",
       " 'Пикалёво',\n",
       " 'Подпорожье',\n",
       " 'Приморск',\n",
       " 'Приозерск',\n",
       " 'Пушкин',\n",
       " 'Санкт-Петербург',\n",
       " 'Светогорск',\n",
       " 'Сертолово',\n",
       " 'Сестрорецк',\n",
       " 'Сланцы',\n",
       " 'Сосновый Бор',\n",
       " 'Сясьстрой',\n",
       " 'Тихвин',\n",
       " 'Тосно',\n",
       " 'Шлиссельбург',\n",
       " 'городской поселок Большая Ижора',\n",
       " 'городской поселок Янино-1',\n",
       " 'городской посёлок Будогощь',\n",
       " 'городской посёлок Виллози',\n",
       " 'городской посёлок Лесогорский',\n",
       " 'городской посёлок Мга',\n",
       " 'городской посёлок Назия',\n",
       " 'городской посёлок Новоселье',\n",
       " 'городской посёлок Павлово',\n",
       " 'городской посёлок Рощино',\n",
       " 'городской посёлок Свирьстрой',\n",
       " 'городской посёлок Советский',\n",
       " 'городской посёлок Фёдоровское',\n",
       " 'городской посёлок Янино-1',\n",
       " 'деревня Агалатово',\n",
       " 'деревня Аро',\n",
       " 'деревня Батово',\n",
       " 'деревня Бегуницы',\n",
       " 'деревня Белогорка',\n",
       " 'деревня Большая Вруда',\n",
       " 'деревня Большая Пустомержа',\n",
       " 'деревня Большие Колпаны',\n",
       " 'деревня Большое Рейзино',\n",
       " 'деревня Большой Сабск',\n",
       " 'деревня Бор',\n",
       " 'деревня Борисова Грива',\n",
       " 'деревня Ваганово',\n",
       " 'деревня Вартемяги',\n",
       " 'деревня Вахнова Кара',\n",
       " 'деревня Выскатка',\n",
       " 'деревня Гарболово',\n",
       " 'деревня Глинка',\n",
       " 'деревня Горбунки',\n",
       " 'деревня Гостилицы',\n",
       " 'деревня Заклинье',\n",
       " 'деревня Заневка',\n",
       " 'деревня Зимитицы',\n",
       " 'деревня Извара',\n",
       " 'деревня Иссад',\n",
       " 'деревня Калитино',\n",
       " 'деревня Кальтино',\n",
       " 'деревня Камышовка',\n",
       " 'деревня Каськово',\n",
       " 'деревня Келози',\n",
       " 'деревня Кипень',\n",
       " 'деревня Кисельня',\n",
       " 'деревня Колтуши',\n",
       " 'деревня Коркино',\n",
       " 'деревня Котлы',\n",
       " 'деревня Кривко',\n",
       " 'деревня Кудрово',\n",
       " 'деревня Кузьмолово',\n",
       " 'деревня Курковицы',\n",
       " 'деревня Куровицы',\n",
       " 'деревня Куттузи',\n",
       " 'деревня Лаврики',\n",
       " 'деревня Лаголово',\n",
       " 'деревня Лампово',\n",
       " 'деревня Лесколово',\n",
       " 'деревня Лопухинка',\n",
       " 'деревня Лупполово',\n",
       " 'деревня Малая Романовка',\n",
       " 'деревня Малое Верево',\n",
       " 'деревня Малое Карлино',\n",
       " 'деревня Малые Колпаны',\n",
       " 'деревня Мануйлово',\n",
       " 'деревня Меньково',\n",
       " 'деревня Мины',\n",
       " 'деревня Мистолово',\n",
       " 'деревня Ненимяки',\n",
       " 'деревня Нижние Осельки',\n",
       " 'деревня Нижняя',\n",
       " 'деревня Низино',\n",
       " 'деревня Новое Девяткино',\n",
       " 'деревня Новолисино',\n",
       " 'деревня Нурма',\n",
       " 'деревня Оржицы',\n",
       " 'деревня Парицы',\n",
       " 'деревня Пельгора',\n",
       " 'деревня Пеники',\n",
       " 'деревня Пижма',\n",
       " 'деревня Пикколово',\n",
       " 'деревня Пудомяги',\n",
       " 'деревня Пустынка',\n",
       " 'деревня Пчева',\n",
       " 'деревня Рабитицы',\n",
       " 'деревня Разбегаево',\n",
       " 'деревня Раздолье',\n",
       " 'деревня Разметелево',\n",
       " 'деревня Рапполово',\n",
       " 'деревня Реброво',\n",
       " 'деревня Русско',\n",
       " 'деревня Сижно',\n",
       " 'деревня Снегирёвка',\n",
       " 'деревня Старая',\n",
       " 'деревня Старая Пустошь',\n",
       " 'деревня Старое Хинколово',\n",
       " 'деревня Старополье',\n",
       " 'деревня Старосиверская',\n",
       " 'деревня Старые Бегуницы',\n",
       " 'деревня Суоранда',\n",
       " 'деревня Сяськелево',\n",
       " 'деревня Тарасово',\n",
       " 'деревня Терпилицы',\n",
       " 'деревня Тихковицы',\n",
       " 'деревня Тойворово',\n",
       " 'деревня Торосово',\n",
       " 'деревня Торошковичи',\n",
       " 'деревня Трубников Бор',\n",
       " 'деревня Фалилеево',\n",
       " 'деревня Фёдоровское',\n",
       " 'деревня Хапо-Ое',\n",
       " 'деревня Хязельки',\n",
       " 'деревня Чудской Бор',\n",
       " 'деревня Шпаньково',\n",
       " 'деревня Щеглово',\n",
       " 'деревня Юкки',\n",
       " 'деревня Ялгино',\n",
       " 'деревня Яльгелево',\n",
       " 'деревня Ям-Тесово',\n",
       " 'коттеджный поселок Кивеннапа Север',\n",
       " 'коттеджный поселок Счастье',\n",
       " 'коттеджный посёлок Лесное',\n",
       " 'поселок Аннино',\n",
       " 'поселок Барышево',\n",
       " 'поселок Бугры',\n",
       " 'поселок Возрождение',\n",
       " 'поселок Войсковицы',\n",
       " 'поселок Володарское',\n",
       " 'поселок Гаврилово',\n",
       " 'поселок Гарболово',\n",
       " 'поселок Гладкое',\n",
       " 'поселок Глажево',\n",
       " 'поселок Глебычево',\n",
       " 'поселок Гончарово',\n",
       " 'поселок Громово',\n",
       " 'поселок Дружноселье',\n",
       " 'поселок Елизаветино',\n",
       " 'поселок Жилгородок',\n",
       " 'поселок Жилпосёлок',\n",
       " 'поселок Житково',\n",
       " 'поселок Заводской',\n",
       " 'поселок Запорожское',\n",
       " 'поселок Зимитицы',\n",
       " 'поселок Ильичёво',\n",
       " 'поселок Калитино',\n",
       " 'поселок Каложицы',\n",
       " 'поселок Кингисеппский',\n",
       " 'поселок Кирпичное',\n",
       " 'поселок Кобралово',\n",
       " 'поселок Кобринское',\n",
       " 'поселок Коммунары',\n",
       " 'поселок Коробицыно',\n",
       " 'поселок Котельский',\n",
       " 'поселок Красная Долина',\n",
       " 'поселок Красносельское',\n",
       " 'поселок Лесное',\n",
       " 'поселок Лисий Нос',\n",
       " 'поселок Лукаши',\n",
       " 'поселок Любань',\n",
       " 'поселок Мельниково',\n",
       " 'поселок Мичуринское',\n",
       " 'поселок Молодцово',\n",
       " 'поселок Мурино',\n",
       " 'поселок Новый Свет',\n",
       " 'поселок Новый Учхоз',\n",
       " 'поселок Оредеж',\n",
       " 'поселок Пансионат Зелёный Бор',\n",
       " 'поселок Первомайское',\n",
       " 'поселок Перово',\n",
       " 'поселок Петровское',\n",
       " 'поселок Победа',\n",
       " 'поселок Поляны',\n",
       " 'поселок Почап',\n",
       " 'поселок Починок',\n",
       " 'поселок Пушное',\n",
       " 'поселок Пчевжа',\n",
       " 'поселок Рабитицы',\n",
       " 'поселок Романовка',\n",
       " 'поселок Ромашки',\n",
       " 'поселок Рябово',\n",
       " 'поселок Севастьяново',\n",
       " 'поселок Селезнёво',\n",
       " 'поселок Сельцо',\n",
       " 'поселок Семиозерье',\n",
       " 'поселок Семрино',\n",
       " 'поселок Серебрянский',\n",
       " 'поселок Совхозный',\n",
       " 'поселок Старая Малукса',\n",
       " 'поселок Стеклянный',\n",
       " 'поселок Сумино',\n",
       " 'поселок Суходолье',\n",
       " 'поселок Тельмана',\n",
       " 'поселок Терволово',\n",
       " 'поселок Торковичи',\n",
       " 'поселок Тёсово-4',\n",
       " 'поселок Углово',\n",
       " 'поселок Усть-Луга',\n",
       " 'поселок Ушаки',\n",
       " 'поселок Цвелодубово',\n",
       " 'поселок Цвылёво',\n",
       " 'поселок городского типа Большая Ижора',\n",
       " 'поселок городского типа Вырица',\n",
       " 'поселок городского типа Дружная Горка',\n",
       " 'поселок городского типа Дубровка',\n",
       " 'поселок городского типа Ефимовский',\n",
       " 'поселок городского типа Кондратьево',\n",
       " 'поселок городского типа Красный Бор',\n",
       " 'поселок городского типа Кузьмоловский',\n",
       " 'поселок городского типа Лебяжье',\n",
       " 'поселок городского типа Лесогорский',\n",
       " 'поселок городского типа Назия',\n",
       " 'поселок городского типа Никольский',\n",
       " 'поселок городского типа Приладожский',\n",
       " 'поселок городского типа Рахья',\n",
       " 'поселок городского типа Рощино',\n",
       " 'поселок городского типа Рябово',\n",
       " 'поселок городского типа Синявино',\n",
       " 'поселок городского типа Советский',\n",
       " 'поселок городского типа Токсово',\n",
       " 'поселок городского типа Форносово',\n",
       " 'поселок городского типа имени Свердлова',\n",
       " 'поселок станции Вещево',\n",
       " 'поселок станции Корнево',\n",
       " 'поселок станции Лужайка',\n",
       " 'поселок станции Приветнинское',\n",
       " 'посёлок Александровская',\n",
       " 'посёлок Алексеевка',\n",
       " 'посёлок Аннино',\n",
       " 'посёлок Белоостров',\n",
       " 'посёлок Бугры',\n",
       " 'посёлок Возрождение',\n",
       " 'посёлок Войскорово',\n",
       " 'посёлок Высокоключевой',\n",
       " 'посёлок Гаврилово',\n",
       " 'посёлок Дзержинского',\n",
       " 'посёлок Жилгородок',\n",
       " 'посёлок Ильичёво',\n",
       " 'посёлок Кикерино',\n",
       " 'посёлок Кобралово',\n",
       " 'посёлок Коробицыно',\n",
       " 'посёлок Левашово',\n",
       " 'посёлок Ленинское',\n",
       " 'посёлок Лисий Нос',\n",
       " 'посёлок Мельниково',\n",
       " 'посёлок Металлострой',\n",
       " 'посёлок Мичуринское',\n",
       " 'посёлок Молодёжное',\n",
       " 'посёлок Мурино',\n",
       " 'посёлок Мыза-Ивановка',\n",
       " 'посёлок Новогорелово',\n",
       " 'посёлок Новый Свет',\n",
       " 'посёлок Пансионат Зелёный Бор',\n",
       " 'посёлок Парголово',\n",
       " 'посёлок Перово',\n",
       " 'посёлок Песочный',\n",
       " 'посёлок Петро-Славянка',\n",
       " 'посёлок Петровское',\n",
       " 'посёлок Платформа 69-й километр',\n",
       " 'посёлок Плодовое',\n",
       " 'посёлок Плоское',\n",
       " 'посёлок Победа',\n",
       " 'посёлок Поляны',\n",
       " 'посёлок Понтонный',\n",
       " 'посёлок Пригородный',\n",
       " 'посёлок Пудость',\n",
       " 'посёлок Репино',\n",
       " 'посёлок Ропша',\n",
       " 'посёлок Сапёрное',\n",
       " 'посёлок Сапёрный',\n",
       " 'посёлок Сосново',\n",
       " 'посёлок Старая Малукса',\n",
       " 'посёлок Стеклянный',\n",
       " 'посёлок Стрельна',\n",
       " 'посёлок Суйда',\n",
       " 'посёлок Сумино',\n",
       " 'посёлок Тельмана',\n",
       " 'посёлок Терволово',\n",
       " 'посёлок Торфяное',\n",
       " 'посёлок Усть-Ижора',\n",
       " 'посёлок Усть-Луга',\n",
       " 'посёлок Форт Красная Горка',\n",
       " 'посёлок Шугозеро',\n",
       " 'посёлок Шушары',\n",
       " 'посёлок Щеглово',\n",
       " 'посёлок городского типа Важины',\n",
       " 'посёлок городского типа Вознесенье',\n",
       " 'посёлок городского типа Вырица',\n",
       " 'посёлок городского типа Красный Бор',\n",
       " 'посёлок городского типа Кузнечное',\n",
       " 'посёлок городского типа Кузьмоловский',\n",
       " 'посёлок городского типа Лебяжье',\n",
       " 'посёлок городского типа Мга',\n",
       " 'посёлок городского типа Павлово',\n",
       " 'посёлок городского типа Рощино',\n",
       " 'посёлок городского типа Рябово',\n",
       " 'посёлок городского типа Сиверский',\n",
       " 'посёлок городского типа Тайцы',\n",
       " 'посёлок городского типа Токсово',\n",
       " 'посёлок городского типа Ульяновка',\n",
       " 'посёлок городского типа Форносово',\n",
       " 'посёлок городского типа имени Морозова',\n",
       " 'посёлок городского типа имени Свердлова',\n",
       " 'посёлок при железнодорожной станции Вещево',\n",
       " 'посёлок при железнодорожной станции Приветнинское',\n",
       " 'посёлок станции Громово',\n",
       " 'посёлок станции Свирь',\n",
       " 'садоводческое некоммерческое товарищество Лесная Поляна',\n",
       " 'садовое товарищество Новая Ропша',\n",
       " 'садовое товарищество Приладожский',\n",
       " 'садовое товарищество Рахья',\n",
       " 'садовое товарищество Садко',\n",
       " 'село Копорье',\n",
       " 'село Никольское',\n",
       " 'село Павлово',\n",
       " 'село Паша',\n",
       " 'село Путилово',\n",
       " 'село Рождествено',\n",
       " 'село Русско-Высоцкое',\n",
       " 'село Старая Ладога',\n",
       " 'село Шум'}"
      ]
     },
     "execution_count": 16,
     "metadata": {},
     "output_type": "execute_result"
    }
   ],
   "source": [
    "set(data['locality_name'].unique()) #смотрим значения столбца locality_name"
   ]
  },
  {
   "cell_type": "markdown",
   "metadata": {},
   "source": [
    "Заменим в словах ё на е , найдем и устраним неявные дубликаты в столбце locality_name."
   ]
  },
  {
   "cell_type": "code",
   "execution_count": 17,
   "metadata": {},
   "outputs": [
    {
     "data": {
      "text/plain": [
       "array(['Санкт-Петербург', 'поселок Шушары', 'городской поселок Янино-1',\n",
       "       'поселок Парголово', 'поселок Мурино', 'Ломоносов', 'Сертолово',\n",
       "       'Петергоф', 'Пушкин', 'деревня Кудрово', 'Коммунар', 'Колпино',\n",
       "       'поселок городского типа Красный Бор', 'Гатчина',\n",
       "       'деревня Федоровское', 'Выборг', 'Кронштадт', 'Кировск',\n",
       "       'деревня Новое Девяткино', 'поселок Металлострой',\n",
       "       'поселок городского типа Лебяжье',\n",
       "       'поселок городского типа Сиверский', 'поселок Молодцово',\n",
       "       'поселок городского типа Кузьмоловский',\n",
       "       'садовое товарищество Новая Ропша', 'Павловск',\n",
       "       'деревня Пикколово', 'Всеволожск', 'Волхов', 'Кингисепп',\n",
       "       'Приозерск', 'Сестрорецк', 'деревня Куттузи', 'поселок Аннино',\n",
       "       'поселок городского типа Ефимовский', 'поселок Плодовое',\n",
       "       'деревня Заклинье', 'поселок Торковичи', 'поселок Первомайское',\n",
       "       'Красное Село', 'поселок Понтонный', 'Сясьстрой', 'деревня Старая',\n",
       "       'деревня Лесколово', 'поселок Новый Свет', 'Сланцы',\n",
       "       'село Путилово', 'Ивангород', 'Мурино', 'Шлиссельбург',\n",
       "       'Никольское', 'Зеленогорск', 'Сосновый Бор', 'деревня Оржицы',\n",
       "       'деревня Кальтино', 'Кудрово', 'поселок Романовка',\n",
       "       'поселок Бугры', 'поселок городского типа Рощино', 'Кириши',\n",
       "       'Луга', 'Волосово', 'Отрадное', 'село Павлово', 'поселок Оредеж',\n",
       "       'село Копорье', 'поселок Молодежное', 'Тихвин', 'поселок Победа',\n",
       "       'деревня Нурма', 'поселок городского типа Синявино', 'Тосно',\n",
       "       'поселок Стрельна', 'Бокситогорск', 'поселок Александровская',\n",
       "       'деревня Лопухинка', 'Пикалево', 'поселок Терволово',\n",
       "       'поселок городского типа Советский', 'Подпорожье',\n",
       "       'поселок Петровское', 'поселок городского типа Токсово',\n",
       "       'поселок Сельцо', 'поселок городского типа Вырица',\n",
       "       'деревня Кипень', 'деревня Келози', 'деревня Вартемяги',\n",
       "       'поселок Тельмана', 'поселок Севастьяново',\n",
       "       'городской поселок Большая Ижора', ' ',\n",
       "       'городской поселок Павлово', 'деревня Агалатово',\n",
       "       'поселок Новогорелово', 'городской поселок Лесогорский',\n",
       "       'деревня Лаголово', 'поселок Цвелодубово',\n",
       "       'поселок городского типа Рахья', 'деревня Белогорка',\n",
       "       'поселок Заводской', 'городской поселок Новоселье',\n",
       "       'деревня Большие Колпаны', 'деревня Горбунки', 'деревня Батово',\n",
       "       'деревня Заневка', 'деревня Иссад', 'Приморск',\n",
       "       'городской поселок Федоровское', 'деревня Мистолово',\n",
       "       'Новая Ладога', 'поселок Зимитицы', 'поселок Барышево',\n",
       "       'деревня Разметелево', 'поселок городского типа имени Свердлова',\n",
       "       'деревня Пеники', 'поселок Рябово', 'деревня Пудомяги',\n",
       "       'поселок станции Корнево', 'деревня Низино', 'деревня Бегуницы',\n",
       "       'поселок Поляны', 'городской поселок Мга', 'поселок Елизаветино',\n",
       "       'поселок городского типа Кузнечное', 'деревня Колтуши',\n",
       "       'поселок Запорожское', 'деревня Гостилицы',\n",
       "       'деревня Малое Карлино', 'поселок Мичуринское',\n",
       "       'поселок городского типа имени Морозова', 'поселок Песочный',\n",
       "       'поселок Сосново', 'деревня Аро', 'поселок Ильичево',\n",
       "       'поселок городского типа Тайцы', 'деревня Малое Верево',\n",
       "       'деревня Извара', 'поселок станции Вещево', 'село Паша',\n",
       "       'деревня Калитино', 'поселок городского типа Ульяновка',\n",
       "       'деревня Чудской Бор', 'поселок городского типа Дубровка',\n",
       "       'деревня Мины', 'поселок Войсковицы', 'деревня Коркино',\n",
       "       'поселок Ропша', 'поселок городского типа Приладожский',\n",
       "       'поселок Щеглово', 'поселок Гаврилово', 'Лодейное Поле',\n",
       "       'деревня Рабитицы', 'поселок городского типа Никольский',\n",
       "       'деревня Кузьмолово', 'деревня Малые Колпаны',\n",
       "       'поселок Петро-Славянка', 'городской поселок Назия',\n",
       "       'поселок Репино', 'поселок Углово', 'поселок Старая Малукса',\n",
       "       'садовое товарищество Рахья', 'деревня Меньково',\n",
       "       'деревня Старые Бегуницы', 'поселок Саперный', 'поселок Семрино',\n",
       "       'поселок Глажево', 'поселок Кобринское', 'деревня Гарболово',\n",
       "       'деревня Юкки', 'поселок станции Приветнинское',\n",
       "       'деревня Мануйлово', 'деревня Пчева', 'поселок Цвылево',\n",
       "       'поселок Мельниково', 'поселок Пудость', 'поселок Усть-Луга',\n",
       "       'Светогорск', 'Любань', 'поселок Селезнево',\n",
       "       'поселок городского типа Рябово', 'Каменногорск', 'деревня Кривко',\n",
       "       'поселок Глебычево', 'деревня Парицы', 'поселок Жилпоселок',\n",
       "       'поселок городского типа Мга', 'поселок Войскорово',\n",
       "       'село Никольское', 'поселок Стеклянный',\n",
       "       'поселок городского типа Важины', 'поселок Мыза-Ивановка',\n",
       "       'село Русско-Высоцкое', 'поселок городского типа Форносово',\n",
       "       'село Старая Ладога', 'поселок Житково',\n",
       "       'городской поселок Виллози', 'деревня Лампово',\n",
       "       'деревня Шпаньково', 'деревня Лаврики', 'поселок Сумино',\n",
       "       'поселок Возрождение', 'деревня Старосиверская',\n",
       "       'поселок Кикерино', 'деревня Старое Хинколово',\n",
       "       'поселок Пригородный', 'поселок Торфяное',\n",
       "       'городской поселок Будогощь', 'поселок Суходолье',\n",
       "       'поселок Красная Долина', 'деревня Хапо-Ое',\n",
       "       'поселок городского типа Дружная Горка', 'поселок Лисий Нос',\n",
       "       'деревня Яльгелево', 'село Рождествено', 'деревня Старополье',\n",
       "       'поселок Левашово', 'деревня Сяськелево', 'деревня Камышовка',\n",
       "       'садоводческое некоммерческое товарищество Лесная Поляна',\n",
       "       'деревня Хязельки', 'поселок Жилгородок',\n",
       "       'поселок городского типа Павлово', 'деревня Ялгино',\n",
       "       'поселок Новый Учхоз', 'городской поселок Рощино',\n",
       "       'поселок Гончарово', 'поселок Почап', 'поселок Саперное',\n",
       "       'поселок Платформа 69-й километр', 'поселок Каложицы',\n",
       "       'деревня Фалилеево', 'деревня Пельгора',\n",
       "       'поселок городского типа Лесогорский', 'деревня Торошковичи',\n",
       "       'поселок Белоостров', 'поселок Алексеевка', 'поселок Серебрянский',\n",
       "       'поселок Лукаши', 'деревня Щеглово', 'деревня Тарасово',\n",
       "       'поселок Кингисеппский',\n",
       "       'поселок при железнодорожной станции Вещево', 'поселок Ушаки',\n",
       "       'деревня Котлы', 'деревня Сижно', 'деревня Торосово',\n",
       "       'поселок Форт Красная Горка', 'деревня Новолисино',\n",
       "       'поселок станции Громово', 'деревня Глинка',\n",
       "       'поселок городского типа Назия', 'деревня Старая Пустошь',\n",
       "       'поселок Коммунары', 'поселок Починок',\n",
       "       'поселок городского типа Вознесенье', 'деревня Разбегаево',\n",
       "       'поселок Гладкое',\n",
       "       'поселок при железнодорожной станции Приветнинское',\n",
       "       'поселок Тесово-4', 'деревня Бор', 'поселок Коробицыно',\n",
       "       'деревня Большая Вруда', 'деревня Курковицы',\n",
       "       'городской поселок Советский', 'поселок Кобралово',\n",
       "       'деревня Суоранда', 'поселок городского типа Кондратьево',\n",
       "       'коттеджный поселок Счастье', 'поселок Любань', 'деревня Реброво',\n",
       "       'деревня Зимитицы', 'деревня Тойворово', 'поселок Семиозерье',\n",
       "       'поселок Лесное', 'поселок Совхозный', 'поселок Ленинское',\n",
       "       'поселок Суйда', 'деревня Нижние Осельки', 'поселок станции Свирь',\n",
       "       'поселок Перово', 'Высоцк', 'поселок Гарболово', 'село Шум',\n",
       "       'поселок Котельский', 'поселок станции Лужайка',\n",
       "       'деревня Большая Пустомержа', 'поселок Красносельское',\n",
       "       'деревня Вахнова Кара', 'деревня Пижма',\n",
       "       'коттеджный поселок Кивеннапа Север', 'поселок Ромашки',\n",
       "       'деревня Каськово', 'деревня Куровицы', 'поселок Плоское',\n",
       "       'поселок городского типа Большая Ижора', 'поселок Кирпичное',\n",
       "       'деревня Ям-Тесово', 'деревня Раздолье', 'деревня Терпилицы',\n",
       "       'поселок Шугозеро', 'деревня Ваганово', 'поселок Пушное',\n",
       "       'садовое товарищество Садко', 'поселок Усть-Ижора',\n",
       "       'деревня Выскатка', 'городской поселок Свирьстрой',\n",
       "       'поселок Громово', 'деревня Кисельня', 'деревня Трубников Бор',\n",
       "       'поселок Калитино', 'поселок Высокоключевой',\n",
       "       'садовое товарищество Приладожский',\n",
       "       'поселок Пансионат Зеленый Бор', 'деревня Ненимяки',\n",
       "       'деревня Снегиревка', 'деревня Рапполово', 'деревня Пустынка',\n",
       "       'поселок Рабитицы', 'деревня Большой Сабск', 'деревня Русско',\n",
       "       'деревня Лупполово', 'деревня Большое Рейзино',\n",
       "       'деревня Малая Романовка', 'поселок Дружноселье', 'поселок Пчевжа',\n",
       "       'поселок Володарское', 'деревня Нижняя',\n",
       "       'коттеджный поселок Лесное', 'деревня Тихковицы',\n",
       "       'деревня Борисова Грива', 'поселок Дзержинского'], dtype=object)"
      ]
     },
     "metadata": {},
     "output_type": "display_data"
    },
    {
     "data": {
      "text/plain": [
       "331"
      ]
     },
     "execution_count": 17,
     "metadata": {},
     "output_type": "execute_result"
    }
   ],
   "source": [
    "data['locality_name'] = data['locality_name'].str.replace('ё', 'е') # заменила во всех названиях Ё на Е.\n",
    "display(data['locality_name'].unique()) #проверию замену\n",
    "len(data['locality_name'].unique())#количество уникальных значений до"
   ]
  },
  {
   "cell_type": "code",
   "execution_count": 18,
   "metadata": {},
   "outputs": [
    {
     "data": {
      "text/plain": [
       "329"
      ]
     },
     "execution_count": 18,
     "metadata": {},
     "output_type": "execute_result"
    }
   ],
   "source": [
    "data['locality_name'] = data['locality_name'].replace('nan', 'no_name') #удаляю неявные дубликаты, которые нашла\n",
    "data['locality_name'] = data['locality_name'].replace('поселок городского типа Рябово', 'поселок Рябово')\n",
    "data['locality_name'] = data['locality_name'].replace('поселок при железнодорожной станции Приветнинское', 'поселок станции Приветнинское')\n",
    "len(data['locality_name'].unique())#количество уникальных значений после"
   ]
  },
  {
   "cell_type": "markdown",
   "metadata": {},
   "source": [
    "Очень много названий, удалила то, что нашла с заменой названия в сущетсвующем столбце. Удалять слова в названиях \"поселок, село, деревня\" и т.д. считаю не подходящим, теряется представление о масштабе населенного пункта."
   ]
  },
  {
   "cell_type": "markdown",
   "metadata": {},
   "source": [
    "**Поиск и устранение редких и выбивающихся значений**"
   ]
  },
  {
   "cell_type": "code",
   "execution_count": 19,
   "metadata": {},
   "outputs": [
    {
     "data": {
      "text/plain": [
       "array([  2.7 ,   2.65,   3.03,   2.5 ,   2.67,   2.56,   3.05,   2.75,\n",
       "         2.6 ,   2.9 ,   2.8 ,   2.55,   3.  ,   3.2 ,   2.61,   3.25,\n",
       "         3.45,   2.77,   2.85,   2.64,   2.57,   4.15,   3.5 ,   3.3 ,\n",
       "         2.71,   4.  ,   2.47,   2.73,   2.84,   3.1 ,   2.34,   3.4 ,\n",
       "         3.06,   2.72,   2.54,   2.51,   2.78,   2.76,  25.  ,   2.58,\n",
       "         3.7 ,   2.52,   5.2 ,   2.87,   2.66,   2.59,   2.  ,   2.45,\n",
       "         3.6 ,   2.92,   3.11,   3.13,   3.8 ,   3.15,   3.55,   3.16,\n",
       "         3.62,   3.12,   2.53,   2.74,   2.96,   2.46,   5.3 ,   5.  ,\n",
       "         2.79,   2.95,   4.06,   2.94,   3.82,   3.54,   3.53,   2.83,\n",
       "         4.7 ,   2.4 ,   3.38,   3.01,   5.6 ,   3.65,   3.9 ,   3.18,\n",
       "         3.35,   2.3 ,   3.57,   2.48,   2.62,   2.82,   3.98,   2.63,\n",
       "         3.83,   3.52,   3.95,   3.75,   2.88,   3.67,   3.87,   3.66,\n",
       "         3.85,   3.86,   4.19,   3.24,   4.8 ,   4.5 ,   4.2 ,   3.36,\n",
       "        32.  ,   3.08,   3.68,   3.07,   3.37,   3.09,   8.  ,   3.26,\n",
       "         3.34,   2.81,   3.44,   2.97,   3.14,   4.37,   2.68,   3.22,\n",
       "         3.27,  27.  ,   4.1 ,   2.93,   3.46,  24.  ,   3.47,   3.33,\n",
       "         3.63,   3.32,  26.  ,   1.2 ,   8.3 ,   2.98,   2.86,   3.17,\n",
       "         4.4 ,   3.28,   3.04,   4.45,   5.5 ,   3.84,   3.23,   3.02,\n",
       "         3.21,   3.43,   3.78,   4.3 ,   3.39,   2.69,   3.31,   4.65,\n",
       "         3.56,   2.2 ,   3.51,   3.93,   3.42,   2.99,   3.49,  14.  ,\n",
       "         4.14,   2.91,   3.88,   1.75,   4.25,   3.29,  20.  ,   2.25,\n",
       "         3.76,   3.69,   6.  ,  22.6 ,   2.89,   3.58,   5.8 ,  27.5 ,\n",
       "         2.49,   4.9 ,   3.48,  10.3 ,   1.  , 100.  ,   3.59])"
      ]
     },
     "execution_count": 19,
     "metadata": {},
     "output_type": "execute_result"
    }
   ],
   "source": [
    "data['ceiling_height'].unique()#проверяю аномальные значения в столбце "
   ]
  },
  {
   "cell_type": "markdown",
   "metadata": {},
   "source": [
    "Есть значения в которых скорее всего не поставили точку в нужном месте, аномальные значения удалю."
   ]
  },
  {
   "cell_type": "code",
   "execution_count": 20,
   "metadata": {},
   "outputs": [
    {
     "data": {
      "text/plain": [
       "array([ 2.7 ,  2.65,  3.03,  2.5 ,  2.67,  2.56,  3.05,  2.75,  2.6 ,\n",
       "        2.9 ,  2.8 ,  2.55,  3.  ,  3.2 ,  2.61,  3.25,  3.45,  2.77,\n",
       "        2.85,  2.64,  2.57,  4.15,  3.5 ,  3.3 ,  2.71,  4.  ,  2.47,\n",
       "        2.73,  2.84,  3.1 ,  2.34,  3.4 ,  3.06,  2.72,  2.54,  2.51,\n",
       "        2.78,  2.76,  2.58,  3.7 ,  2.52,  5.2 ,  2.87,  2.66,  2.59,\n",
       "        2.  ,  2.45,  3.6 ,  2.92,  3.11,  3.13,  3.8 ,  3.15,  3.55,\n",
       "        3.16,  3.62,  3.12,  2.53,  2.74,  2.96,  2.46,  5.3 ,  5.  ,\n",
       "        2.79,  2.95,  4.06,  2.94,  3.82,  3.54,  3.53,  2.83,  4.7 ,\n",
       "        2.4 ,  3.38,  3.01,  5.6 ,  3.65,  3.9 ,  3.18,  3.35,  2.3 ,\n",
       "        3.57,  2.48,  2.62,  2.82,  3.98,  2.63,  3.83,  3.52,  3.95,\n",
       "        3.75,  2.88,  3.67,  3.87,  3.66,  3.85,  3.86,  4.19,  3.24,\n",
       "        4.8 ,  4.5 ,  4.2 ,  3.36,  3.08,  3.68,  3.07,  3.37,  3.09,\n",
       "        8.  ,  3.26,  3.34,  2.81,  3.44,  2.97,  3.14,  4.37,  2.68,\n",
       "        3.22,  3.27,  4.1 ,  2.93,  3.46,  3.47,  3.33,  3.63,  3.32,\n",
       "        1.2 ,  8.3 ,  2.98,  2.86,  3.17,  4.4 ,  3.28,  3.04,  4.45,\n",
       "        5.5 ,  3.84,  3.23,  3.02,  3.21,  3.43,  3.78,  4.3 ,  3.39,\n",
       "        2.69,  3.31,  4.65,  3.56,  2.2 ,  3.51,  3.93,  3.42,  2.99,\n",
       "        3.49, 14.  ,  4.14,  2.91,  3.88,  1.75,  4.25,  3.29,  2.25,\n",
       "        3.76,  3.69,  6.  ,  2.26,  2.89,  3.58,  5.8 ,  2.49,  4.9 ,\n",
       "        3.48, 10.3 ,  1.  , 10.  ,  3.59])"
      ]
     },
     "execution_count": 20,
     "metadata": {},
     "output_type": "execute_result"
    }
   ],
   "source": [
    "data.loc[data['ceiling_height'] >=20, 'ceiling_height'] /= 10 #делю на 10 высоту потолков больше 22 метров\n",
    "data['ceiling_height'].unique()#проверяю изменения"
   ]
  },
  {
   "cell_type": "markdown",
   "metadata": {},
   "source": [
    "Заменила высоту потолков, по которым было указано 20 и более метров, поделив на 10, не встречала в домах таких потолков, но и значения 10-14 метров тоже большеваты, но если их на 10 поделить, таких точно не может быть потолков. Решила удалить эти значения."
   ]
  },
  {
   "cell_type": "code",
   "execution_count": 21,
   "metadata": {},
   "outputs": [
    {
     "data": {
      "text/plain": [
       "array([2.7 , 2.65, 3.03, 2.5 , 2.67, 2.56, 3.05, 2.75, 2.6 , 2.9 , 2.8 ,\n",
       "       2.55, 3.  , 3.2 , 2.61, 3.25, 3.45, 2.77, 2.85, 2.64, 2.57, 4.15,\n",
       "       3.5 , 3.3 , 2.71, 4.  , 2.47, 2.73, 2.84, 3.1 , 2.34, 3.4 , 3.06,\n",
       "       2.72, 2.54, 2.51, 2.78, 2.76, 2.58, 3.7 , 2.52, 5.2 , 2.87, 2.66,\n",
       "       2.59, 2.  , 2.45, 3.6 , 2.92, 3.11, 3.13, 3.8 , 3.15, 3.55, 3.16,\n",
       "       3.62, 3.12, 2.53, 2.74, 2.96, 2.46, 5.3 , 5.  , 2.79, 2.95, 4.06,\n",
       "       2.94, 3.82, 3.54, 3.53, 2.83, 4.7 , 2.4 , 3.38, 3.01, 5.6 , 3.65,\n",
       "       3.9 , 3.18, 3.35, 2.3 , 3.57, 2.48, 2.62, 2.82, 3.98, 2.63, 3.83,\n",
       "       3.52, 3.95, 3.75, 2.88, 3.67, 3.87, 3.66, 3.85, 3.86, 4.19, 3.24,\n",
       "       4.8 , 4.5 , 4.2 , 3.36, 3.08, 3.68, 3.07, 3.37, 3.09, 8.  , 3.26,\n",
       "       3.34, 2.81, 3.44, 2.97, 3.14, 4.37, 2.68, 3.22, 3.27, 4.1 , 2.93,\n",
       "       3.46, 3.47, 3.33, 3.63, 3.32, 1.2 , 8.3 , 2.98, 2.86, 3.17, 4.4 ,\n",
       "       3.28, 3.04, 4.45, 5.5 , 3.84, 3.23, 3.02, 3.21, 3.43, 3.78, 4.3 ,\n",
       "       3.39, 2.69, 3.31, 4.65, 3.56, 2.2 , 3.51, 3.93, 3.42, 2.99, 3.49,\n",
       "       4.14, 2.91, 3.88, 1.75, 4.25, 3.29, 2.25, 3.76, 3.69, 6.  , 2.26,\n",
       "       2.89, 3.58, 5.8 , 2.49, 4.9 , 3.48, 1.  , 3.59])"
      ]
     },
     "execution_count": 21,
     "metadata": {},
     "output_type": "execute_result"
    }
   ],
   "source": [
    "data = data[(data['ceiling_height'] != 10) & (data['ceiling_height'] != 10.3) & (data['ceiling_height'] != 14.)] #удаляю аномальные значения\n",
    "data['ceiling_height'].unique() #проверяю изменения"
   ]
  },
  {
   "cell_type": "code",
   "execution_count": 22,
   "metadata": {},
   "outputs": [
    {
     "data": {
      "text/plain": [
       "array([  95,   81,  558, ..., 1360, 1007,  971])"
      ]
     },
     "execution_count": 22,
     "metadata": {},
     "output_type": "execute_result"
    }
   ],
   "source": [
    "data['days_exposition'] = data['days_exposition'].replace(' ', '0')# обнаружила пробел заменяю его нулем\n",
    "data['days_exposition'].unique()# проверяю аномалии в столбце"
   ]
  },
  {
   "cell_type": "markdown",
   "metadata": {},
   "source": [
    "Квартиры могут годами не продаваться, поэтому 1360 дней вполне реалистично."
   ]
  },
  {
   "cell_type": "code",
   "execution_count": 23,
   "metadata": {},
   "outputs": [
    {
     "data": {
      "text/plain": [
       "array([18863., 12817., 21741., ..., 11751., 20151., 24665.])"
      ]
     },
     "metadata": {},
     "output_type": "display_data"
    },
    {
     "data": {
      "text/plain": [
       "array([0, 2, 1, 5, 4, 3])"
      ]
     },
     "metadata": {},
     "output_type": "display_data"
    },
    {
     "data": {
      "text/plain": [
       "array([16028., 18603., 13933., ..., 27977.,  7262.,  6263.])"
      ]
     },
     "metadata": {},
     "output_type": "display_data"
    }
   ],
   "source": [
    "display(data['airports_nearest'].unique()) # проверяю аномалии в столбцах\n",
    "display(data['balcony'].unique())\n",
    "display(data['cityCenters_nearest'].unique())"
   ]
  },
  {
   "cell_type": "markdown",
   "metadata": {},
   "source": [
    "Вполне допустимые значения, т.к. в данных территория СПб и область, расстояние до ближайшего аэропорта, расстояние до центра города разные, количество балконов возможное и допустимое."
   ]
  },
  {
   "cell_type": "code",
   "execution_count": 24,
   "metadata": {},
   "outputs": [
    {
     "data": {
      "text/plain": [
       "'floor'"
      ]
     },
     "metadata": {},
     "output_type": "display_data"
    },
    {
     "data": {
      "text/plain": [
       "array([ 8,  1,  4,  9, 13,  5,  6, 22, 26,  7,  3,  2, 11, 15, 18, 10, 19,\n",
       "       16, 20, 27, 25, 17, 14, 12, 21, 28, 24, 23, 30, 29, 32, 33, 31])"
      ]
     },
     "metadata": {},
     "output_type": "display_data"
    },
    {
     "data": {
      "text/plain": [
       "'last_price'"
      ]
     },
     "metadata": {},
     "output_type": "display_data"
    },
    {
     "data": {
      "text/plain": [
       "array([13000000.,  3350000.,  5196000., ...,  6151120., 21400000.,\n",
       "       11475000.])"
      ]
     },
     "metadata": {},
     "output_type": "display_data"
    },
    {
     "data": {
      "text/plain": [
       "'floors_total'"
      ]
     },
     "metadata": {},
     "output_type": "display_data"
    },
    {
     "data": {
      "text/plain": [
       "array([16, 11,  5, 14, 12, 26, 24, 27,  9,  6, 17, 25,  3, 23, 19, 18,  4,\n",
       "       22,  8,  2, 10,  7, 13, 15, 20, 28, 36, 21, 35, 34, 60,  1, 29, 33,\n",
       "       52, 37])"
      ]
     },
     "metadata": {},
     "output_type": "display_data"
    },
    {
     "data": {
      "text/plain": [
       "'kitchen_area'"
      ]
     },
     "metadata": {},
     "output_type": "display_data"
    },
    {
     "data": {
      "text/plain": [
       "array([ 25.  ,  11.  ,   8.3 ,   9.5 ,  41.  ,   9.1 ,  14.4 ,  18.9 ,\n",
       "         8.81,   6.5 ,   8.5 ,   6.  ,   9.  ,   5.2 ,   8.  ,   7.6 ,\n",
       "         5.6 ,  12.  ,   5.7 ,   6.1 ,  19.6 ,  15.  ,   7.  ,   9.2 ,\n",
       "        11.7 ,  13.4 ,  17.  ,   6.3 ,   8.7 ,  11.6 ,   8.8 ,  10.  ,\n",
       "        17.6 ,   7.5 ,  50.  ,  15.5 ,  10.7 ,  11.1 ,  20.  ,  11.9 ,\n",
       "        16.  ,   5.3 ,  11.5 ,   7.2 ,   6.2 ,  10.4 ,   7.1 ,   4.9 ,\n",
       "         7.3 ,  11.95,  10.2 ,   6.4 ,   5.5 ,  13.  ,   8.4 ,  23.6 ,\n",
       "        10.8 ,  18.3 ,   5.  ,   8.2 ,  24.  ,  23.8 ,   6.6 ,  26.85,\n",
       "        15.4 ,   0.  ,   7.8 ,  33.8 ,   5.4 ,  12.72,  12.2 ,  11.05,\n",
       "        19.  ,  12.4 ,   7.9 ,  10.3 ,   9.8 ,  17.5 ,  14.7 ,  20.91,\n",
       "        21.3 ,  10.6 ,  10.9 ,   9.7 ,   7.7 ,  12.5 ,  11.4 ,   8.6 ,\n",
       "        11.24,  14.1 ,  15.7 ,  13.29,  14.  ,  12.9 ,  12.7 ,  16.5 ,\n",
       "         9.36,  21.5 ,  35.  ,  10.5 ,  19.3 ,  21.4 ,  40.  ,  49.2 ,\n",
       "        11.52,   8.9 ,   9.6 ,  30.  ,  14.2 ,   8.1 ,  10.44,   4.5 ,\n",
       "        16.3 ,  11.2 ,  18.4 ,   7.4 ,  11.3 ,   9.4 ,  13.1 ,  10.19,\n",
       "         7.06,  22.  ,  36.  ,   5.1 ,  18.7 ,   9.9 ,  14.3 ,  18.  ,\n",
       "        23.  ,  19.4 ,  11.8 ,  13.3 ,  17.7 ,  23.1 ,  21.1 ,  11.33,\n",
       "        13.5 ,  19.5 ,  13.2 ,  17.2 ,  77.  ,  13.8 ,  12.3 ,   9.3 ,\n",
       "         5.8 ,  26.1 ,  12.88,   9.28,  16.1 ,  14.5 ,  31.  ,   5.9 ,\n",
       "        10.1 ,  23.4 ,  16.2 ,  19.2 ,  28.6 ,  15.1 ,  26.4 ,   8.98,\n",
       "        10.59,  17.9 ,  11.27,  16.74,   9.57,  23.43,  15.2 ,   8.07,\n",
       "        12.24,  13.39,  36.6 ,  10.84,  15.3 ,  18.5 ,  23.9 ,  19.7 ,\n",
       "        19.9 ,  22.1 ,  10.35,  10.69,  16.9 ,   5.49,  31.2 ,   6.8 ,\n",
       "         8.29,   6.7 ,  13.6 ,  16.6 ,  10.75,  18.8 ,  17.8 ,   2.  ,\n",
       "         6.77,  11.06,  12.6 ,   7.71,  27.  ,  11.35,  13.31,  63.  ,\n",
       "        21.  ,  20.6 ,  11.78,  20.5 ,  13.79,  20.52,   5.75,  66.  ,\n",
       "        18.78,  23.5 ,  24.3 ,   6.9 ,  14.8 ,   8.87,  14.9 ,   8.71,\n",
       "         9.95,  17.53,  42.6 ,  25.2 ,   8.31,   9.67,  16.7 ,  14.61,\n",
       "        32.  ,  22.4 ,  16.4 ,   6.36,  17.1 ,  13.14,  18.2 ,   9.18,\n",
       "        13.7 ,  15.61,  22.31,   9.45,  29.  ,  14.49,   5.35,  29.9 ,\n",
       "        25.1 ,   8.08,  13.11,   6.25,  26.  ,  35.35,  12.8 ,  30.2 ,\n",
       "        10.09,  46.  ,  32.1 ,  11.29,  14.56,  11.11,  11.49,  13.67,\n",
       "        16.72,  24.5 ,  11.14,  20.9 ,   4.  ,  14.84,   8.21,  12.18,\n",
       "        25.34,   9.25,   8.65,  13.9 ,  13.53,  15.09,   9.39,  18.6 ,\n",
       "        15.9 ,  24.7 ,  12.35,  20.8 ,  27.4 ,   7.17,   3.  ,   8.23,\n",
       "        24.03,   9.17,  43.  ,  10.45,  11.39,  19.92,  20.2 ,  10.72,\n",
       "        20.07,  11.81,  18.45,  10.51,  39.  ,  10.91,   6.73,  11.85,\n",
       "        37.8 ,   4.8 , 100.7 ,  21.6 ,   5.78,  12.1 ,  11.28,   9.97,\n",
       "        10.68,  21.2 ,  10.56,   9.68,   8.25,   4.7 ,  17.4 ,  19.75,\n",
       "        10.02,  40.2 ,  11.62,  14.6 ,  11.71,  13.69,  18.1 ,  22.22,\n",
       "        17.3 ,   6.35,  23.3 ,  10.88,   6.76,  16.8 ,  28.  ,  10.29,\n",
       "        11.63,  25.6 ,  19.1 ,  15.6 ,  21.87,   3.2 ,  12.27,  10.39,\n",
       "        10.89,  60.  ,  11.53,   5.68,  10.55,  33.  ,   3.8 ,  36.2 ,\n",
       "         9.22,   5.62,  38.  ,  21.9 ,  12.17,  19.8 ,  37.  ,   4.2 ,\n",
       "        21.7 ,  12.38,  11.46,   7.89,  31.7 ,  24.4 ,  14.57,  30.9 ,\n",
       "        10.15,  12.05,   9.27,  15.33,   6.58,   9.93,  35.05,  25.3 ,\n",
       "        28.8 ,  13.05,  29.4 ,  36.5 ,   7.92,  15.8 ,  15.69,  42.  ,\n",
       "         7.85,  13.16,  12.86,  48.  ,  30.5 ,  29.3 ,  45.  ,   9.32,\n",
       "        44.  ,   5.74,  11.26,  13.38,  14.31,  26.6 ,   6.55,  10.52,\n",
       "         6.72,  13.02,  11.17,  56.2 ,  12.52,  28.2 ,  12.29,  11.59,\n",
       "         8.38,   5.47,  10.18,  10.64,  18.88,   9.89,  36.3 ,  12.92,\n",
       "        23.53,  37.7 ,  10.36,  14.05,   9.04,  10.78,  14.24,  13.42,\n",
       "        32.8 ,  20.16,  10.12,   7.12,  17.64,  23.25,  11.41,  11.42,\n",
       "        40.4 ,  31.47,  13.55,  13.28,  14.55,   9.38,   8.32,  11.55,\n",
       "        13.81,  24.1 ,  11.51,   7.65,   9.91,  16.83,  11.34, 100.  ,\n",
       "        11.16,  18.34,  34.19,   6.02,  18.07,  20.1 ,  12.08,   7.18,\n",
       "         8.11,   8.05,   8.06,  12.96,  42.4 ,   8.93,  44.9 ,  10.62,\n",
       "         9.72,  22.5 ,  11.18,  10.22,  51.  ,  21.8 ,  10.94,  13.49,\n",
       "        31.73,  70.  ,  25.7 ,   5.86,   7.63,  11.47,  13.25,  22.2 ,\n",
       "        19.35,  17.28,  14.04,  39.9 ,  21.76,   4.3 ,  10.06,   8.19,\n",
       "        28.4 ,  22.7 ,  14.74,  11.12,  25.11,  14.02,  13.06,   8.01,\n",
       "        20.38,   5.53,  46.8 ,  11.31,  17.85,  20.7 ,  34.78,   9.46,\n",
       "         6.31,  42.5 ,   9.48,  43.4 ,  11.57,  12.44,  14.46,  12.58,\n",
       "        12.47,   7.95,  16.32,  15.26,  12.23,  11.37,  27.9 ,   8.58,\n",
       "        19.51,  12.39,   9.65,   9.05,   6.84,  20.3 ,  26.5 ,  63.4 ,\n",
       "        41.9 ,   6.82,  11.36,  10.08,  10.54,   9.16,  14.95,  12.84,\n",
       "        22.9 ,   8.76,  10.03,   9.35,   7.87,   2.89,  45.5 ,   7.36,\n",
       "        24.9 ,   9.59,   7.97,   9.85,  33.9 ,  42.8 ,   7.86,   5.25,\n",
       "        10.26,   5.33,  12.85,   9.51,  58.4 ,  10.34,  23.71,  19.42,\n",
       "         6.83,  11.92,  13.17,  11.84,  12.56,  53.1 ,  20.56,  41.3 ,\n",
       "         9.01,   8.73,   5.82,   3.7 ,   2.4 ,  31.8 ,  42.7 ,  40.5 ,\n",
       "        12.02,   8.57,  12.76,   8.66,  11.04,  40.3 ,  15.83,  18.59,\n",
       "         9.37,  23.38,  10.42,  13.93,   7.54,  23.42,  13.64,   5.61,\n",
       "        19.45,  17.59,  29.1 ,   5.65,  15.42,  11.09,  11.73,  15.72,\n",
       "        25.4 ,  10.25,  10.38,  13.41,   5.23,   9.09,  11.45,  11.74,\n",
       "        14.64,  12.14,   8.84,  16.66,  10.27,  12.55,  32.55,  16.26,\n",
       "         6.62,  10.33,  13.26,  32.3 ,  23.2 ,  14.14,   9.62,  34.  ,\n",
       "        10.92,  10.58,  22.8 ,  15.85,   7.78,   8.94,   9.82,  34.7 ,\n",
       "         8.45,  15.62,  22.3 ,  14.17,  15.39,  56.  ,   8.43,  87.2 ,\n",
       "        12.66,   8.35,   8.47,  22.72,   9.52,  28.1 ,  14.97,   4.6 ,\n",
       "         5.29,  10.49,  15.07,  20.31,  23.28,   8.54,  30.59,  27.57,\n",
       "         9.71,  28.63,   9.98,  37.9 ,   6.91,  25.9 ,  47.  ,  51.8 ,\n",
       "        14.27,  40.7 ,  19.61,   9.44,  27.76,  25.86,  36.4 ,  15.78,\n",
       "        10.05,  26.2 ,  10.32,  19.39,   9.77,  29.5 ,  13.73,  10.71,\n",
       "        10.73,   3.5 ,  13.84,   6.19,  28.5 ,  16.25,  13.47,   4.4 ,\n",
       "        43.2 ,  27.5 ,  11.67,  44.7 ,  12.57,  16.27,   6.28,  12.01,\n",
       "        37.6 ,  13.35,   3.4 ,   8.61,   8.96,  34.8 ,  27.3 ,  10.24,\n",
       "         8.15,  35.5 ,   4.1 ,  10.43,  16.46,   7.19,  62.  ,  34.3 ,\n",
       "        48.5 ,  30.6 ,  17.55,  10.74,  13.24,   5.91,   9.43,  20.92,\n",
       "         8.13,  33.1 ,  10.37,  16.77,   6.27,  26.8 ,  12.37,  22.6 ,\n",
       "        33.6 ,  16.92,  15.54,   6.23,  15.35,  37.5 ,  21.82,   7.94,\n",
       "        34.1 ,   9.76,   6.03,  15.55,   8.44,  43.8 ,  29.09,  18.93,\n",
       "        12.75,   6.33,  24.8 ,   5.64,  22.43,  39.1 ,  27.6 ,   7.48,\n",
       "        32.7 ,   5.44,   6.22,   7.41,  27.1 ,  17.06,  75.  ,  34.51,\n",
       "         6.26,  35.6 ,   9.83,  54.3 ,  28.7 ,   3.3 ,  13.63,  62.5 ,\n",
       "        10.47,  11.87,  28.3 ,  11.25,   5.42,  18.25,   8.82,   9.58,\n",
       "         5.04,  13.52,  11.44,   8.48,  13.21,   8.03,  16.89,  26.9 ,\n",
       "        35.4 ,  13.95,  14.72,   9.34,  64.  ,  37.78,  23.7 ,  29.8 ,\n",
       "         6.95,  16.05,  11.65,  38.1 ,  10.99,  10.86,   8.85,  14.65,\n",
       "         9.24,  16.45,   7.84,  93.2 ,   9.79,   7.03,  17.12,   5.28,\n",
       "        12.53,  14.51,   9.31,  31.6 ,  72.  ,   6.86,  11.07,  14.06,\n",
       "        93.  ,   6.93,  15.15,  32.9 ,   8.34,  55.7 ,  24.89,  35.9 ,\n",
       "        22.78,  16.47,  38.86,  18.16,   8.69,  25.5 ,  22.46,  13.74,\n",
       "        54.2 ,  19.21,  31.5 ,  12.11,  11.98,  10.17,  10.63,  35.7 ,\n",
       "        12.71,   2.3 ,  16.07,   9.42,  20.77,  28.64,  13.86,  10.01,\n",
       "        24.2 ,  12.45,  12.87,  14.33,  12.15,  39.7 ,  65.  ,   5.06,\n",
       "        14.29,  14.43,  25.02,   8.52,  11.56,  12.89,   8.63,  13.32,\n",
       "        16.42,   5.31,  27.2 ,   9.26,  14.93,  31.4 ,   9.06,   6.61,\n",
       "        20.4 ,   6.65,  19.19,  20.24,  13.77,   6.37,  53.  ,  14.58,\n",
       "         9.19,   8.67,  21.22, 112.  ,  13.58,  12.03,  10.87,  19.28,\n",
       "        16.48,  32.6 ,   9.08,  12.69,   8.09,   5.21,  12.83,  54.  ,\n",
       "        11.64, 107.  ,   1.3 ,  55.5 ,  48.3 ,   9.11,  21.53,  29.86,\n",
       "        28.52,  15.43,  15.57,  13.43,  19.94,   8.77,  50.2 ,  15.03,\n",
       "        16.38,  13.33,  12.43,  17.61,   9.66,  12.32,  58.  ,  24.6 ,\n",
       "         6.47,  41.1 ,   8.12,  21.25,  41.6 ,  49.4 ,  12.25,  28.56,\n",
       "        11.69,  14.85,  15.18,   8.02,  11.22,   8.95,  34.6 ,  29.2 ,\n",
       "         9.73,  10.46,  26.7 ,  29.7 ,  32.4 ,  12.93,  12.63,  15.24,\n",
       "         8.18,  22.15,  11.43,   7.02,  11.93,   7.09,   6.16,   7.15,\n",
       "        13.65,  10.79,  14.98,  34.4 ,   5.14,   9.75,   5.59,  35.1 ,\n",
       "        13.04,  10.95,  16.03,   9.13,  17.44,  40.1 ,   5.85,   6.24,\n",
       "        21.74,  31.3 ,  30.8 ,  16.88,  21.55,  18.55,  17.87,  13.83])"
      ]
     },
     "metadata": {},
     "output_type": "display_data"
    },
    {
     "data": {
      "text/plain": [
       "'living_area'"
      ]
     },
     "metadata": {},
     "output_type": "display_data"
    },
    {
     "data": {
      "text/plain": [
       "array([51.  , 18.6 , 34.3 , ..., 31.65, 13.59, 42.55])"
      ]
     },
     "metadata": {},
     "output_type": "display_data"
    },
    {
     "data": {
      "text/plain": [
       "'parks_around3000'"
      ]
     },
     "metadata": {},
     "output_type": "display_data"
    },
    {
     "data": {
      "text/plain": [
       "array([1, 0, 2, 3])"
      ]
     },
     "metadata": {},
     "output_type": "display_data"
    },
    {
     "data": {
      "text/plain": [
       "'rooms'"
      ]
     },
     "metadata": {},
     "output_type": "display_data"
    },
    {
     "data": {
      "text/plain": [
       "array([ 3,  1,  2,  4,  5,  6,  0,  7, 11,  8, 14, 10, 15,  9, 19, 16, 12])"
      ]
     },
     "metadata": {},
     "output_type": "display_data"
    }
   ],
   "source": [
    "display('floor', data['floor'].unique())# проверяю аномалии в столбцах\n",
    "display('last_price', data['last_price'].unique())\n",
    "display('floors_total', data['floors_total'].unique())\n",
    "display('kitchen_area', data['kitchen_area'].unique())\n",
    "display('living_area', data['living_area'].unique())\n",
    "display('parks_around3000', data['parks_around3000'].unique())\n",
    "display('rooms', data['rooms'].unique())"
   ]
  },
  {
   "cell_type": "markdown",
   "metadata": {},
   "source": [
    "Аномальных значений в рассмотренных столбцах я не обнаружила, все значения в пределах реальности. Столбцы с булевым типом смысла нет проверять на аномалии. Все столбцы, связанные с растоянием я проверила, но не стала включать сюда, там нет данных, которые бросаются в глаза."
   ]
  },
  {
   "cell_type": "code",
   "execution_count": 25,
   "metadata": {},
   "outputs": [],
   "source": [
    "import matplotlib.pyplot as plt #импорт библиотеки\n",
    "import pandas as pd"
   ]
  },
  {
   "cell_type": "code",
   "execution_count": 26,
   "metadata": {},
   "outputs": [
    {
     "data": {
      "text/plain": [
       "count    2.361000e+04\n",
       "mean     6.540290e+06\n",
       "std      1.090227e+07\n",
       "min      1.219000e+04\n",
       "25%      3.400000e+06\n",
       "50%      4.650000e+06\n",
       "75%      6.799000e+06\n",
       "max      7.630000e+08\n",
       "Name: last_price, dtype: float64"
      ]
     },
     "metadata": {},
     "output_type": "display_data"
    },
    {
     "data": {
      "text/html": [
       "<div>\n",
       "<style scoped>\n",
       "    .dataframe tbody tr th:only-of-type {\n",
       "        vertical-align: middle;\n",
       "    }\n",
       "\n",
       "    .dataframe tbody tr th {\n",
       "        vertical-align: top;\n",
       "    }\n",
       "\n",
       "    .dataframe thead th {\n",
       "        text-align: right;\n",
       "    }\n",
       "</style>\n",
       "<table border=\"1\" class=\"dataframe\">\n",
       "  <thead>\n",
       "    <tr style=\"text-align: right;\">\n",
       "      <th></th>\n",
       "      <th>total_images</th>\n",
       "      <th>last_price</th>\n",
       "      <th>total_area</th>\n",
       "      <th>first_day_exposition</th>\n",
       "      <th>rooms</th>\n",
       "      <th>ceiling_height</th>\n",
       "      <th>floors_total</th>\n",
       "      <th>living_area</th>\n",
       "      <th>floor</th>\n",
       "      <th>is_apartment</th>\n",
       "      <th>...</th>\n",
       "      <th>kitchen_area</th>\n",
       "      <th>balcony</th>\n",
       "      <th>locality_name</th>\n",
       "      <th>airports_nearest</th>\n",
       "      <th>cityCenters_nearest</th>\n",
       "      <th>parks_around3000</th>\n",
       "      <th>parks_nearest</th>\n",
       "      <th>ponds_around3000</th>\n",
       "      <th>ponds_nearest</th>\n",
       "      <th>days_exposition</th>\n",
       "    </tr>\n",
       "  </thead>\n",
       "  <tbody>\n",
       "    <tr>\n",
       "      <th>12971</th>\n",
       "      <td>19</td>\n",
       "      <td>763000000.0</td>\n",
       "      <td>400.0</td>\n",
       "      <td>2017-09-30</td>\n",
       "      <td>7</td>\n",
       "      <td>2.65</td>\n",
       "      <td>10</td>\n",
       "      <td>250.0</td>\n",
       "      <td>10</td>\n",
       "      <td>True</td>\n",
       "      <td>...</td>\n",
       "      <td>20.0</td>\n",
       "      <td>2</td>\n",
       "      <td>Санкт-Петербург</td>\n",
       "      <td>25108.0</td>\n",
       "      <td>3956.0</td>\n",
       "      <td>1</td>\n",
       "      <td>530.0</td>\n",
       "      <td>3</td>\n",
       "      <td>756.0</td>\n",
       "      <td>33</td>\n",
       "    </tr>\n",
       "    <tr>\n",
       "      <th>19540</th>\n",
       "      <td>8</td>\n",
       "      <td>420000000.0</td>\n",
       "      <td>900.0</td>\n",
       "      <td>2017-12-06</td>\n",
       "      <td>12</td>\n",
       "      <td>2.80</td>\n",
       "      <td>25</td>\n",
       "      <td>409.7</td>\n",
       "      <td>25</td>\n",
       "      <td>True</td>\n",
       "      <td>...</td>\n",
       "      <td>112.0</td>\n",
       "      <td>0</td>\n",
       "      <td>Санкт-Петербург</td>\n",
       "      <td>30706.0</td>\n",
       "      <td>7877.0</td>\n",
       "      <td>0</td>\n",
       "      <td>NaN</td>\n",
       "      <td>2</td>\n",
       "      <td>318.0</td>\n",
       "      <td>106</td>\n",
       "    </tr>\n",
       "    <tr>\n",
       "      <th>14706</th>\n",
       "      <td>15</td>\n",
       "      <td>401300000.0</td>\n",
       "      <td>401.0</td>\n",
       "      <td>2016-02-20</td>\n",
       "      <td>5</td>\n",
       "      <td>2.65</td>\n",
       "      <td>9</td>\n",
       "      <td>204.0</td>\n",
       "      <td>9</td>\n",
       "      <td>False</td>\n",
       "      <td>...</td>\n",
       "      <td>24.0</td>\n",
       "      <td>3</td>\n",
       "      <td>Санкт-Петербург</td>\n",
       "      <td>21912.0</td>\n",
       "      <td>2389.0</td>\n",
       "      <td>1</td>\n",
       "      <td>545.0</td>\n",
       "      <td>1</td>\n",
       "      <td>478.0</td>\n",
       "      <td>393</td>\n",
       "    </tr>\n",
       "    <tr>\n",
       "      <th>1436</th>\n",
       "      <td>19</td>\n",
       "      <td>330000000.0</td>\n",
       "      <td>190.0</td>\n",
       "      <td>2018-04-04</td>\n",
       "      <td>3</td>\n",
       "      <td>3.50</td>\n",
       "      <td>7</td>\n",
       "      <td>95.0</td>\n",
       "      <td>5</td>\n",
       "      <td>True</td>\n",
       "      <td>...</td>\n",
       "      <td>40.0</td>\n",
       "      <td>0</td>\n",
       "      <td>Санкт-Петербург</td>\n",
       "      <td>23011.0</td>\n",
       "      <td>1197.0</td>\n",
       "      <td>3</td>\n",
       "      <td>519.0</td>\n",
       "      <td>3</td>\n",
       "      <td>285.0</td>\n",
       "      <td>233</td>\n",
       "    </tr>\n",
       "    <tr>\n",
       "      <th>15651</th>\n",
       "      <td>20</td>\n",
       "      <td>300000000.0</td>\n",
       "      <td>618.0</td>\n",
       "      <td>2017-12-18</td>\n",
       "      <td>7</td>\n",
       "      <td>3.40</td>\n",
       "      <td>7</td>\n",
       "      <td>258.0</td>\n",
       "      <td>5</td>\n",
       "      <td>True</td>\n",
       "      <td>...</td>\n",
       "      <td>70.0</td>\n",
       "      <td>0</td>\n",
       "      <td>Санкт-Петербург</td>\n",
       "      <td>32440.0</td>\n",
       "      <td>5297.0</td>\n",
       "      <td>0</td>\n",
       "      <td>NaN</td>\n",
       "      <td>2</td>\n",
       "      <td>198.0</td>\n",
       "      <td>111</td>\n",
       "    </tr>\n",
       "    <tr>\n",
       "      <th>...</th>\n",
       "      <td>...</td>\n",
       "      <td>...</td>\n",
       "      <td>...</td>\n",
       "      <td>...</td>\n",
       "      <td>...</td>\n",
       "      <td>...</td>\n",
       "      <td>...</td>\n",
       "      <td>...</td>\n",
       "      <td>...</td>\n",
       "      <td>...</td>\n",
       "      <td>...</td>\n",
       "      <td>...</td>\n",
       "      <td>...</td>\n",
       "      <td>...</td>\n",
       "      <td>...</td>\n",
       "      <td>...</td>\n",
       "      <td>...</td>\n",
       "      <td>...</td>\n",
       "      <td>...</td>\n",
       "      <td>...</td>\n",
       "      <td>...</td>\n",
       "    </tr>\n",
       "    <tr>\n",
       "      <th>5698</th>\n",
       "      <td>7</td>\n",
       "      <td>450000.0</td>\n",
       "      <td>42.0</td>\n",
       "      <td>2017-07-31</td>\n",
       "      <td>2</td>\n",
       "      <td>2.65</td>\n",
       "      <td>1</td>\n",
       "      <td>23.0</td>\n",
       "      <td>1</td>\n",
       "      <td>True</td>\n",
       "      <td>...</td>\n",
       "      <td>5.8</td>\n",
       "      <td>0</td>\n",
       "      <td>городской поселок Будогощь</td>\n",
       "      <td>NaN</td>\n",
       "      <td>NaN</td>\n",
       "      <td>0</td>\n",
       "      <td>NaN</td>\n",
       "      <td>0</td>\n",
       "      <td>NaN</td>\n",
       "      <td>233</td>\n",
       "    </tr>\n",
       "    <tr>\n",
       "      <th>16274</th>\n",
       "      <td>18</td>\n",
       "      <td>440000.0</td>\n",
       "      <td>40.0</td>\n",
       "      <td>2018-07-10</td>\n",
       "      <td>1</td>\n",
       "      <td>2.65</td>\n",
       "      <td>5</td>\n",
       "      <td>17.6</td>\n",
       "      <td>1</td>\n",
       "      <td>True</td>\n",
       "      <td>...</td>\n",
       "      <td>9.0</td>\n",
       "      <td>0</td>\n",
       "      <td>деревня Старополье</td>\n",
       "      <td>NaN</td>\n",
       "      <td>NaN</td>\n",
       "      <td>0</td>\n",
       "      <td>NaN</td>\n",
       "      <td>0</td>\n",
       "      <td>NaN</td>\n",
       "      <td>45</td>\n",
       "    </tr>\n",
       "    <tr>\n",
       "      <th>14911</th>\n",
       "      <td>5</td>\n",
       "      <td>430000.0</td>\n",
       "      <td>54.0</td>\n",
       "      <td>2018-06-26</td>\n",
       "      <td>2</td>\n",
       "      <td>2.65</td>\n",
       "      <td>3</td>\n",
       "      <td>30.5</td>\n",
       "      <td>3</td>\n",
       "      <td>True</td>\n",
       "      <td>...</td>\n",
       "      <td>8.7</td>\n",
       "      <td>0</td>\n",
       "      <td>поселок станции Свирь</td>\n",
       "      <td>NaN</td>\n",
       "      <td>NaN</td>\n",
       "      <td>0</td>\n",
       "      <td>NaN</td>\n",
       "      <td>0</td>\n",
       "      <td>NaN</td>\n",
       "      <td>44</td>\n",
       "    </tr>\n",
       "    <tr>\n",
       "      <th>17456</th>\n",
       "      <td>7</td>\n",
       "      <td>430000.0</td>\n",
       "      <td>30.4</td>\n",
       "      <td>2019-04-22</td>\n",
       "      <td>1</td>\n",
       "      <td>2.65</td>\n",
       "      <td>2</td>\n",
       "      <td>16.0</td>\n",
       "      <td>1</td>\n",
       "      <td>True</td>\n",
       "      <td>...</td>\n",
       "      <td>6.0</td>\n",
       "      <td>0</td>\n",
       "      <td>Сланцы</td>\n",
       "      <td>NaN</td>\n",
       "      <td>NaN</td>\n",
       "      <td>0</td>\n",
       "      <td>NaN</td>\n",
       "      <td>0</td>\n",
       "      <td>NaN</td>\n",
       "      <td>95</td>\n",
       "    </tr>\n",
       "    <tr>\n",
       "      <th>8793</th>\n",
       "      <td>7</td>\n",
       "      <td>12190.0</td>\n",
       "      <td>109.0</td>\n",
       "      <td>2019-03-20</td>\n",
       "      <td>2</td>\n",
       "      <td>2.75</td>\n",
       "      <td>25</td>\n",
       "      <td>32.0</td>\n",
       "      <td>25</td>\n",
       "      <td>True</td>\n",
       "      <td>...</td>\n",
       "      <td>40.5</td>\n",
       "      <td>0</td>\n",
       "      <td>Санкт-Петербург</td>\n",
       "      <td>36421.0</td>\n",
       "      <td>9176.0</td>\n",
       "      <td>1</td>\n",
       "      <td>805.0</td>\n",
       "      <td>0</td>\n",
       "      <td>NaN</td>\n",
       "      <td>8</td>\n",
       "    </tr>\n",
       "  </tbody>\n",
       "</table>\n",
       "<p>23610 rows × 22 columns</p>\n",
       "</div>"
      ],
      "text/plain": [
       "       total_images   last_price  total_area first_day_exposition  rooms  \\\n",
       "12971            19  763000000.0       400.0           2017-09-30      7   \n",
       "19540             8  420000000.0       900.0           2017-12-06     12   \n",
       "14706            15  401300000.0       401.0           2016-02-20      5   \n",
       "1436             19  330000000.0       190.0           2018-04-04      3   \n",
       "15651            20  300000000.0       618.0           2017-12-18      7   \n",
       "...             ...          ...         ...                  ...    ...   \n",
       "5698              7     450000.0        42.0           2017-07-31      2   \n",
       "16274            18     440000.0        40.0           2018-07-10      1   \n",
       "14911             5     430000.0        54.0           2018-06-26      2   \n",
       "17456             7     430000.0        30.4           2019-04-22      1   \n",
       "8793              7      12190.0       109.0           2019-03-20      2   \n",
       "\n",
       "       ceiling_height  floors_total  living_area  floor  is_apartment  ...  \\\n",
       "12971            2.65            10        250.0     10          True  ...   \n",
       "19540            2.80            25        409.7     25          True  ...   \n",
       "14706            2.65             9        204.0      9         False  ...   \n",
       "1436             3.50             7         95.0      5          True  ...   \n",
       "15651            3.40             7        258.0      5          True  ...   \n",
       "...               ...           ...          ...    ...           ...  ...   \n",
       "5698             2.65             1         23.0      1          True  ...   \n",
       "16274            2.65             5         17.6      1          True  ...   \n",
       "14911            2.65             3         30.5      3          True  ...   \n",
       "17456            2.65             2         16.0      1          True  ...   \n",
       "8793             2.75            25         32.0     25          True  ...   \n",
       "\n",
       "       kitchen_area  balcony               locality_name  airports_nearest  \\\n",
       "12971          20.0        2             Санкт-Петербург           25108.0   \n",
       "19540         112.0        0             Санкт-Петербург           30706.0   \n",
       "14706          24.0        3             Санкт-Петербург           21912.0   \n",
       "1436           40.0        0             Санкт-Петербург           23011.0   \n",
       "15651          70.0        0             Санкт-Петербург           32440.0   \n",
       "...             ...      ...                         ...               ...   \n",
       "5698            5.8        0  городской поселок Будогощь               NaN   \n",
       "16274           9.0        0          деревня Старополье               NaN   \n",
       "14911           8.7        0       поселок станции Свирь               NaN   \n",
       "17456           6.0        0                      Сланцы               NaN   \n",
       "8793           40.5        0             Санкт-Петербург           36421.0   \n",
       "\n",
       "      cityCenters_nearest  parks_around3000  parks_nearest  ponds_around3000  \\\n",
       "12971              3956.0                 1          530.0                 3   \n",
       "19540              7877.0                 0            NaN                 2   \n",
       "14706              2389.0                 1          545.0                 1   \n",
       "1436               1197.0                 3          519.0                 3   \n",
       "15651              5297.0                 0            NaN                 2   \n",
       "...                   ...               ...            ...               ...   \n",
       "5698                  NaN                 0            NaN                 0   \n",
       "16274                 NaN                 0            NaN                 0   \n",
       "14911                 NaN                 0            NaN                 0   \n",
       "17456                 NaN                 0            NaN                 0   \n",
       "8793               9176.0                 1          805.0                 0   \n",
       "\n",
       "       ponds_nearest  days_exposition  \n",
       "12971          756.0               33  \n",
       "19540          318.0              106  \n",
       "14706          478.0              393  \n",
       "1436           285.0              233  \n",
       "15651          198.0              111  \n",
       "...              ...              ...  \n",
       "5698             NaN              233  \n",
       "16274            NaN               45  \n",
       "14911            NaN               44  \n",
       "17456            NaN               95  \n",
       "8793             NaN                8  \n",
       "\n",
       "[23610 rows x 22 columns]"
      ]
     },
     "metadata": {},
     "output_type": "display_data"
    },
    {
     "data": {
      "text/plain": [
       "(23610, 22)"
      ]
     },
     "execution_count": 26,
     "metadata": {},
     "output_type": "execute_result"
    },
    {
     "data": {
      "image/png": "[encoded data removed]",
      "text/plain": [
       "<Figure size 432x288 with 1 Axes>"
      ]
     },
     "metadata": {
      "needs_background": "light"
     },
     "output_type": "display_data"
    }
   ],
   "source": [
    "plt.boxplot(data['last_price'])#диаграмма размаха\n",
    "plt.title('last_price')\n",
    "plt.ylim(-100, 800000000)\n",
    "display(data['last_price'].describe())#cписок значений\n",
    "display(data.sort_values(by='last_price', ascending=False))# смотрю самые высокие значения цены \n",
    "data.shape"
   ]
  },
  {
   "cell_type": "markdown",
   "metadata": {},
   "source": [
    "**Вывод** Получается, что cтандартное отклонение 1.090. Над верхним усом много выбросов. Попробую удалить то, что дороже 200млн.рублей."
   ]
  },
  {
   "cell_type": "code",
   "execution_count": 27,
   "metadata": {},
   "outputs": [
    {
     "data": {
      "text/plain": [
       "(9, 22)"
      ]
     },
     "execution_count": 27,
     "metadata": {},
     "output_type": "execute_result"
    }
   ],
   "source": [
    "data[(data['last_price'] > 200000000)].shape # смотрю сколько таких значений с ценой более 200млн."
   ]
  },
  {
   "cell_type": "code",
   "execution_count": 28,
   "metadata": {},
   "outputs": [
    {
     "data": {
      "text/plain": [
       "(23610, 22)"
      ]
     },
     "metadata": {},
     "output_type": "display_data"
    },
    {
     "data": {
      "text/plain": [
       "(23601, 23)"
      ]
     },
     "execution_count": 28,
     "metadata": {},
     "output_type": "execute_result"
    }
   ],
   "source": [
    "data2 = data[(data['last_price'] < 200000000)].reset_index()#срез и удаление\n",
    "display(data.shape)#количество до удаления\n",
    "data2.shape #после удаления"
   ]
  },
  {
   "cell_type": "code",
   "execution_count": 29,
   "metadata": {},
   "outputs": [
    {
     "data": {
      "text/plain": [
       "count    2.360100e+04\n",
       "mean     6.406411e+06\n",
       "std      7.905031e+06\n",
       "min      1.219000e+04\n",
       "25%      3.400000e+06\n",
       "50%      4.646000e+06\n",
       "75%      6.790000e+06\n",
       "max      1.908700e+08\n",
       "Name: last_price, dtype: float64"
      ]
     },
     "metadata": {},
     "output_type": "display_data"
    },
    {
     "data": {
      "image/png": "[encoded data removed]",
      "text/plain": [
       "<Figure size 432x288 with 1 Axes>"
      ]
     },
     "metadata": {
      "needs_background": "light"
     },
     "output_type": "display_data"
    }
   ],
   "source": [
    "plt.boxplot(data2['last_price'])#диаграмма размаха\n",
    "plt.title('last_price')\n",
    "plt.ylim(-100, 800000000)\n",
    "display(data2['last_price'].describe())#cписок значений"
   ]
  },
  {
   "cell_type": "markdown",
   "metadata": {},
   "source": [
    "**Вывод** Было стандартное отклонение 1.090 стало после удалений 7.905 получается лучше этим я не сделала или надо было больше удалять значений?"
   ]
  },
  {
   "cell_type": "code",
   "execution_count": 30,
   "metadata": {},
   "outputs": [
    {
     "data": {
      "text/plain": [
       "count    23610.000000\n",
       "mean        60.342992\n",
       "std         35.650362\n",
       "min         12.000000\n",
       "25%         40.000000\n",
       "50%         52.000000\n",
       "75%         69.800000\n",
       "max        900.000000\n",
       "Name: total_area, dtype: float64"
      ]
     },
     "metadata": {},
     "output_type": "display_data"
    },
    {
     "data": {
      "text/html": [
       "<div>\n",
       "<style scoped>\n",
       "    .dataframe tbody tr th:only-of-type {\n",
       "        vertical-align: middle;\n",
       "    }\n",
       "\n",
       "    .dataframe tbody tr th {\n",
       "        vertical-align: top;\n",
       "    }\n",
       "\n",
       "    .dataframe thead th {\n",
       "        text-align: right;\n",
       "    }\n",
       "</style>\n",
       "<table border=\"1\" class=\"dataframe\">\n",
       "  <thead>\n",
       "    <tr style=\"text-align: right;\">\n",
       "      <th></th>\n",
       "      <th>total_images</th>\n",
       "      <th>last_price</th>\n",
       "      <th>total_area</th>\n",
       "      <th>first_day_exposition</th>\n",
       "      <th>rooms</th>\n",
       "      <th>ceiling_height</th>\n",
       "      <th>floors_total</th>\n",
       "      <th>living_area</th>\n",
       "      <th>floor</th>\n",
       "      <th>is_apartment</th>\n",
       "      <th>...</th>\n",
       "      <th>kitchen_area</th>\n",
       "      <th>balcony</th>\n",
       "      <th>locality_name</th>\n",
       "      <th>airports_nearest</th>\n",
       "      <th>cityCenters_nearest</th>\n",
       "      <th>parks_around3000</th>\n",
       "      <th>parks_nearest</th>\n",
       "      <th>ponds_around3000</th>\n",
       "      <th>ponds_nearest</th>\n",
       "      <th>days_exposition</th>\n",
       "    </tr>\n",
       "  </thead>\n",
       "  <tbody>\n",
       "    <tr>\n",
       "      <th>19540</th>\n",
       "      <td>8</td>\n",
       "      <td>420000000.0</td>\n",
       "      <td>900.0</td>\n",
       "      <td>2017-12-06</td>\n",
       "      <td>12</td>\n",
       "      <td>2.80</td>\n",
       "      <td>25</td>\n",
       "      <td>409.7</td>\n",
       "      <td>25</td>\n",
       "      <td>True</td>\n",
       "      <td>...</td>\n",
       "      <td>112.0</td>\n",
       "      <td>0</td>\n",
       "      <td>Санкт-Петербург</td>\n",
       "      <td>30706.0</td>\n",
       "      <td>7877.0</td>\n",
       "      <td>0</td>\n",
       "      <td>NaN</td>\n",
       "      <td>2</td>\n",
       "      <td>318.0</td>\n",
       "      <td>106</td>\n",
       "    </tr>\n",
       "    <tr>\n",
       "      <th>12859</th>\n",
       "      <td>20</td>\n",
       "      <td>140000000.0</td>\n",
       "      <td>631.2</td>\n",
       "      <td>2019-04-09</td>\n",
       "      <td>7</td>\n",
       "      <td>3.90</td>\n",
       "      <td>4</td>\n",
       "      <td>322.3</td>\n",
       "      <td>4</td>\n",
       "      <td>True</td>\n",
       "      <td>...</td>\n",
       "      <td>19.5</td>\n",
       "      <td>1</td>\n",
       "      <td>Санкт-Петербург</td>\n",
       "      <td>25707.0</td>\n",
       "      <td>4972.0</td>\n",
       "      <td>0</td>\n",
       "      <td>NaN</td>\n",
       "      <td>2</td>\n",
       "      <td>210.0</td>\n",
       "      <td>95</td>\n",
       "    </tr>\n",
       "    <tr>\n",
       "      <th>3117</th>\n",
       "      <td>19</td>\n",
       "      <td>140000000.0</td>\n",
       "      <td>631.0</td>\n",
       "      <td>2019-03-30</td>\n",
       "      <td>7</td>\n",
       "      <td>2.65</td>\n",
       "      <td>5</td>\n",
       "      <td>145.0</td>\n",
       "      <td>5</td>\n",
       "      <td>True</td>\n",
       "      <td>...</td>\n",
       "      <td>60.0</td>\n",
       "      <td>0</td>\n",
       "      <td>Санкт-Петербург</td>\n",
       "      <td>25707.0</td>\n",
       "      <td>4972.0</td>\n",
       "      <td>0</td>\n",
       "      <td>NaN</td>\n",
       "      <td>2</td>\n",
       "      <td>210.0</td>\n",
       "      <td>95</td>\n",
       "    </tr>\n",
       "    <tr>\n",
       "      <th>15651</th>\n",
       "      <td>20</td>\n",
       "      <td>300000000.0</td>\n",
       "      <td>618.0</td>\n",
       "      <td>2017-12-18</td>\n",
       "      <td>7</td>\n",
       "      <td>3.40</td>\n",
       "      <td>7</td>\n",
       "      <td>258.0</td>\n",
       "      <td>5</td>\n",
       "      <td>True</td>\n",
       "      <td>...</td>\n",
       "      <td>70.0</td>\n",
       "      <td>0</td>\n",
       "      <td>Санкт-Петербург</td>\n",
       "      <td>32440.0</td>\n",
       "      <td>5297.0</td>\n",
       "      <td>0</td>\n",
       "      <td>NaN</td>\n",
       "      <td>2</td>\n",
       "      <td>198.0</td>\n",
       "      <td>111</td>\n",
       "    </tr>\n",
       "    <tr>\n",
       "      <th>5358</th>\n",
       "      <td>20</td>\n",
       "      <td>65000000.0</td>\n",
       "      <td>590.0</td>\n",
       "      <td>2019-02-14</td>\n",
       "      <td>15</td>\n",
       "      <td>3.50</td>\n",
       "      <td>6</td>\n",
       "      <td>409.0</td>\n",
       "      <td>3</td>\n",
       "      <td>True</td>\n",
       "      <td>...</td>\n",
       "      <td>100.0</td>\n",
       "      <td>0</td>\n",
       "      <td>Санкт-Петербург</td>\n",
       "      <td>24447.0</td>\n",
       "      <td>4666.0</td>\n",
       "      <td>1</td>\n",
       "      <td>767.0</td>\n",
       "      <td>0</td>\n",
       "      <td>NaN</td>\n",
       "      <td>14</td>\n",
       "    </tr>\n",
       "    <tr>\n",
       "      <th>...</th>\n",
       "      <td>...</td>\n",
       "      <td>...</td>\n",
       "      <td>...</td>\n",
       "      <td>...</td>\n",
       "      <td>...</td>\n",
       "      <td>...</td>\n",
       "      <td>...</td>\n",
       "      <td>...</td>\n",
       "      <td>...</td>\n",
       "      <td>...</td>\n",
       "      <td>...</td>\n",
       "      <td>...</td>\n",
       "      <td>...</td>\n",
       "      <td>...</td>\n",
       "      <td>...</td>\n",
       "      <td>...</td>\n",
       "      <td>...</td>\n",
       "      <td>...</td>\n",
       "      <td>...</td>\n",
       "      <td>...</td>\n",
       "      <td>...</td>\n",
       "    </tr>\n",
       "    <tr>\n",
       "      <th>19558</th>\n",
       "      <td>2</td>\n",
       "      <td>1686000.0</td>\n",
       "      <td>13.2</td>\n",
       "      <td>2018-12-17</td>\n",
       "      <td>1</td>\n",
       "      <td>2.65</td>\n",
       "      <td>5</td>\n",
       "      <td>17.6</td>\n",
       "      <td>1</td>\n",
       "      <td>True</td>\n",
       "      <td>...</td>\n",
       "      <td>9.0</td>\n",
       "      <td>0</td>\n",
       "      <td>Санкт-Петербург</td>\n",
       "      <td>19891.0</td>\n",
       "      <td>4165.0</td>\n",
       "      <td>1</td>\n",
       "      <td>361.0</td>\n",
       "      <td>1</td>\n",
       "      <td>155.0</td>\n",
       "      <td>19</td>\n",
       "    </tr>\n",
       "    <tr>\n",
       "      <th>19807</th>\n",
       "      <td>0</td>\n",
       "      <td>3800000.0</td>\n",
       "      <td>13.0</td>\n",
       "      <td>2018-07-04</td>\n",
       "      <td>1</td>\n",
       "      <td>2.65</td>\n",
       "      <td>5</td>\n",
       "      <td>10.0</td>\n",
       "      <td>3</td>\n",
       "      <td>True</td>\n",
       "      <td>...</td>\n",
       "      <td>9.0</td>\n",
       "      <td>0</td>\n",
       "      <td>Санкт-Петербург</td>\n",
       "      <td>21302.0</td>\n",
       "      <td>1242.0</td>\n",
       "      <td>1</td>\n",
       "      <td>592.0</td>\n",
       "      <td>3</td>\n",
       "      <td>27.0</td>\n",
       "      <td>9</td>\n",
       "    </tr>\n",
       "    <tr>\n",
       "      <th>19546</th>\n",
       "      <td>3</td>\n",
       "      <td>1850000.0</td>\n",
       "      <td>13.0</td>\n",
       "      <td>2019-03-11</td>\n",
       "      <td>1</td>\n",
       "      <td>3.40</td>\n",
       "      <td>5</td>\n",
       "      <td>17.6</td>\n",
       "      <td>2</td>\n",
       "      <td>False</td>\n",
       "      <td>...</td>\n",
       "      <td>9.0</td>\n",
       "      <td>0</td>\n",
       "      <td>Санкт-Петербург</td>\n",
       "      <td>24915.0</td>\n",
       "      <td>5483.0</td>\n",
       "      <td>1</td>\n",
       "      <td>644.0</td>\n",
       "      <td>0</td>\n",
       "      <td>NaN</td>\n",
       "      <td>24</td>\n",
       "    </tr>\n",
       "    <tr>\n",
       "      <th>17961</th>\n",
       "      <td>3</td>\n",
       "      <td>1400000.0</td>\n",
       "      <td>13.0</td>\n",
       "      <td>2017-12-03</td>\n",
       "      <td>1</td>\n",
       "      <td>2.60</td>\n",
       "      <td>9</td>\n",
       "      <td>17.6</td>\n",
       "      <td>1</td>\n",
       "      <td>True</td>\n",
       "      <td>...</td>\n",
       "      <td>9.0</td>\n",
       "      <td>0</td>\n",
       "      <td>Санкт-Петербург</td>\n",
       "      <td>14350.0</td>\n",
       "      <td>15945.0</td>\n",
       "      <td>0</td>\n",
       "      <td>NaN</td>\n",
       "      <td>1</td>\n",
       "      <td>185.0</td>\n",
       "      <td>410</td>\n",
       "    </tr>\n",
       "    <tr>\n",
       "      <th>19904</th>\n",
       "      <td>4</td>\n",
       "      <td>2400000.0</td>\n",
       "      <td>12.0</td>\n",
       "      <td>2017-07-19</td>\n",
       "      <td>1</td>\n",
       "      <td>2.55</td>\n",
       "      <td>5</td>\n",
       "      <td>10.0</td>\n",
       "      <td>2</td>\n",
       "      <td>True</td>\n",
       "      <td>...</td>\n",
       "      <td>9.0</td>\n",
       "      <td>0</td>\n",
       "      <td>Санкт-Петербург</td>\n",
       "      <td>21314.0</td>\n",
       "      <td>964.0</td>\n",
       "      <td>1</td>\n",
       "      <td>886.0</td>\n",
       "      <td>2</td>\n",
       "      <td>45.0</td>\n",
       "      <td>200</td>\n",
       "    </tr>\n",
       "  </tbody>\n",
       "</table>\n",
       "<p>23610 rows × 22 columns</p>\n",
       "</div>"
      ],
      "text/plain": [
       "       total_images   last_price  total_area first_day_exposition  rooms  \\\n",
       "19540             8  420000000.0       900.0           2017-12-06     12   \n",
       "12859            20  140000000.0       631.2           2019-04-09      7   \n",
       "3117             19  140000000.0       631.0           2019-03-30      7   \n",
       "15651            20  300000000.0       618.0           2017-12-18      7   \n",
       "5358             20   65000000.0       590.0           2019-02-14     15   \n",
       "...             ...          ...         ...                  ...    ...   \n",
       "19558             2    1686000.0        13.2           2018-12-17      1   \n",
       "19807             0    3800000.0        13.0           2018-07-04      1   \n",
       "19546             3    1850000.0        13.0           2019-03-11      1   \n",
       "17961             3    1400000.0        13.0           2017-12-03      1   \n",
       "19904             4    2400000.0        12.0           2017-07-19      1   \n",
       "\n",
       "       ceiling_height  floors_total  living_area  floor  is_apartment  ...  \\\n",
       "19540            2.80            25        409.7     25          True  ...   \n",
       "12859            3.90             4        322.3      4          True  ...   \n",
       "3117             2.65             5        145.0      5          True  ...   \n",
       "15651            3.40             7        258.0      5          True  ...   \n",
       "5358             3.50             6        409.0      3          True  ...   \n",
       "...               ...           ...          ...    ...           ...  ...   \n",
       "19558            2.65             5         17.6      1          True  ...   \n",
       "19807            2.65             5         10.0      3          True  ...   \n",
       "19546            3.40             5         17.6      2         False  ...   \n",
       "17961            2.60             9         17.6      1          True  ...   \n",
       "19904            2.55             5         10.0      2          True  ...   \n",
       "\n",
       "       kitchen_area  balcony    locality_name  airports_nearest  \\\n",
       "19540         112.0        0  Санкт-Петербург           30706.0   \n",
       "12859          19.5        1  Санкт-Петербург           25707.0   \n",
       "3117           60.0        0  Санкт-Петербург           25707.0   \n",
       "15651          70.0        0  Санкт-Петербург           32440.0   \n",
       "5358          100.0        0  Санкт-Петербург           24447.0   \n",
       "...             ...      ...              ...               ...   \n",
       "19558           9.0        0  Санкт-Петербург           19891.0   \n",
       "19807           9.0        0  Санкт-Петербург           21302.0   \n",
       "19546           9.0        0  Санкт-Петербург           24915.0   \n",
       "17961           9.0        0  Санкт-Петербург           14350.0   \n",
       "19904           9.0        0  Санкт-Петербург           21314.0   \n",
       "\n",
       "      cityCenters_nearest  parks_around3000  parks_nearest  ponds_around3000  \\\n",
       "19540              7877.0                 0            NaN                 2   \n",
       "12859              4972.0                 0            NaN                 2   \n",
       "3117               4972.0                 0            NaN                 2   \n",
       "15651              5297.0                 0            NaN                 2   \n",
       "5358               4666.0                 1          767.0                 0   \n",
       "...                   ...               ...            ...               ...   \n",
       "19558              4165.0                 1          361.0                 1   \n",
       "19807              1242.0                 1          592.0                 3   \n",
       "19546              5483.0                 1          644.0                 0   \n",
       "17961             15945.0                 0            NaN                 1   \n",
       "19904               964.0                 1          886.0                 2   \n",
       "\n",
       "       ponds_nearest  days_exposition  \n",
       "19540          318.0              106  \n",
       "12859          210.0               95  \n",
       "3117           210.0               95  \n",
       "15651          198.0              111  \n",
       "5358             NaN               14  \n",
       "...              ...              ...  \n",
       "19558          155.0               19  \n",
       "19807           27.0                9  \n",
       "19546            NaN               24  \n",
       "17961          185.0              410  \n",
       "19904           45.0              200  \n",
       "\n",
       "[23610 rows x 22 columns]"
      ]
     },
     "metadata": {},
     "output_type": "display_data"
    },
    {
     "data": {
      "text/plain": [
       "(23610, 22)"
      ]
     },
     "execution_count": 30,
     "metadata": {},
     "output_type": "execute_result"
    },
    {
     "data": {
      "image/png": "[encoded data removed]",
      "text/plain": [
       "<Figure size 432x288 with 1 Axes>"
      ]
     },
     "metadata": {
      "needs_background": "light"
     },
     "output_type": "display_data"
    }
   ],
   "source": [
    "plt.boxplot(data['total_area'])#диаграмма размаха\n",
    "plt.title('total_area')\n",
    "plt.ylim(-100, 1000)\n",
    "display(data['total_area'].describe())#cписок значений\n",
    "display(data.sort_values(by='total_area', ascending=False))# смотрю самые большие значения площади \n",
    "data.shape"
   ]
  },
  {
   "cell_type": "markdown",
   "metadata": {},
   "source": [
    "**Вывод** На первом боксплоте тоже выбросы, всё над верхним усом и стандартное отклонение вообще 35.65, размах большой от 12 до 900."
   ]
  },
  {
   "cell_type": "code",
   "execution_count": 31,
   "metadata": {},
   "outputs": [
    {
     "data": {
      "text/plain": [
       "count    23610.000000\n",
       "mean         2.071241\n",
       "std          1.078403\n",
       "min          0.000000\n",
       "25%          1.000000\n",
       "50%          2.000000\n",
       "75%          3.000000\n",
       "max         19.000000\n",
       "Name: rooms, dtype: float64"
      ]
     },
     "metadata": {},
     "output_type": "display_data"
    },
    {
     "data": {
      "text/html": [
       "<div>\n",
       "<style scoped>\n",
       "    .dataframe tbody tr th:only-of-type {\n",
       "        vertical-align: middle;\n",
       "    }\n",
       "\n",
       "    .dataframe tbody tr th {\n",
       "        vertical-align: top;\n",
       "    }\n",
       "\n",
       "    .dataframe thead th {\n",
       "        text-align: right;\n",
       "    }\n",
       "</style>\n",
       "<table border=\"1\" class=\"dataframe\">\n",
       "  <thead>\n",
       "    <tr style=\"text-align: right;\">\n",
       "      <th></th>\n",
       "      <th>total_images</th>\n",
       "      <th>last_price</th>\n",
       "      <th>total_area</th>\n",
       "      <th>first_day_exposition</th>\n",
       "      <th>rooms</th>\n",
       "      <th>ceiling_height</th>\n",
       "      <th>floors_total</th>\n",
       "      <th>living_area</th>\n",
       "      <th>floor</th>\n",
       "      <th>is_apartment</th>\n",
       "      <th>...</th>\n",
       "      <th>kitchen_area</th>\n",
       "      <th>balcony</th>\n",
       "      <th>locality_name</th>\n",
       "      <th>airports_nearest</th>\n",
       "      <th>cityCenters_nearest</th>\n",
       "      <th>parks_around3000</th>\n",
       "      <th>parks_nearest</th>\n",
       "      <th>ponds_around3000</th>\n",
       "      <th>ponds_nearest</th>\n",
       "      <th>days_exposition</th>\n",
       "    </tr>\n",
       "  </thead>\n",
       "  <tbody>\n",
       "    <tr>\n",
       "      <th>14498</th>\n",
       "      <td>6</td>\n",
       "      <td>32250000.0</td>\n",
       "      <td>374.60</td>\n",
       "      <td>2018-06-09</td>\n",
       "      <td>19</td>\n",
       "      <td>2.65</td>\n",
       "      <td>5</td>\n",
       "      <td>264.5</td>\n",
       "      <td>2</td>\n",
       "      <td>True</td>\n",
       "      <td>...</td>\n",
       "      <td>27.6</td>\n",
       "      <td>0</td>\n",
       "      <td>Санкт-Петербург</td>\n",
       "      <td>19497.0</td>\n",
       "      <td>3574.0</td>\n",
       "      <td>0</td>\n",
       "      <td>NaN</td>\n",
       "      <td>2</td>\n",
       "      <td>548.0</td>\n",
       "      <td>114</td>\n",
       "    </tr>\n",
       "    <tr>\n",
       "      <th>18848</th>\n",
       "      <td>6</td>\n",
       "      <td>28500000.0</td>\n",
       "      <td>270.00</td>\n",
       "      <td>2015-03-02</td>\n",
       "      <td>16</td>\n",
       "      <td>3.00</td>\n",
       "      <td>4</td>\n",
       "      <td>180.0</td>\n",
       "      <td>4</td>\n",
       "      <td>True</td>\n",
       "      <td>...</td>\n",
       "      <td>13.0</td>\n",
       "      <td>1</td>\n",
       "      <td>Санкт-Петербург</td>\n",
       "      <td>23575.0</td>\n",
       "      <td>4142.0</td>\n",
       "      <td>1</td>\n",
       "      <td>516.0</td>\n",
       "      <td>0</td>\n",
       "      <td>NaN</td>\n",
       "      <td>1365</td>\n",
       "    </tr>\n",
       "    <tr>\n",
       "      <th>5358</th>\n",
       "      <td>20</td>\n",
       "      <td>65000000.0</td>\n",
       "      <td>590.00</td>\n",
       "      <td>2019-02-14</td>\n",
       "      <td>15</td>\n",
       "      <td>3.50</td>\n",
       "      <td>6</td>\n",
       "      <td>409.0</td>\n",
       "      <td>3</td>\n",
       "      <td>True</td>\n",
       "      <td>...</td>\n",
       "      <td>100.0</td>\n",
       "      <td>0</td>\n",
       "      <td>Санкт-Петербург</td>\n",
       "      <td>24447.0</td>\n",
       "      <td>4666.0</td>\n",
       "      <td>1</td>\n",
       "      <td>767.0</td>\n",
       "      <td>0</td>\n",
       "      <td>NaN</td>\n",
       "      <td>14</td>\n",
       "    </tr>\n",
       "    <tr>\n",
       "      <th>866</th>\n",
       "      <td>5</td>\n",
       "      <td>25000000.0</td>\n",
       "      <td>363.00</td>\n",
       "      <td>2017-12-23</td>\n",
       "      <td>14</td>\n",
       "      <td>3.16</td>\n",
       "      <td>5</td>\n",
       "      <td>222.0</td>\n",
       "      <td>4</td>\n",
       "      <td>True</td>\n",
       "      <td>...</td>\n",
       "      <td>16.6</td>\n",
       "      <td>0</td>\n",
       "      <td>Санкт-Петербург</td>\n",
       "      <td>38076.0</td>\n",
       "      <td>7950.0</td>\n",
       "      <td>0</td>\n",
       "      <td>NaN</td>\n",
       "      <td>2</td>\n",
       "      <td>435.0</td>\n",
       "      <td>418</td>\n",
       "    </tr>\n",
       "    <tr>\n",
       "      <th>20829</th>\n",
       "      <td>6</td>\n",
       "      <td>28659000.0</td>\n",
       "      <td>245.40</td>\n",
       "      <td>2016-03-31</td>\n",
       "      <td>14</td>\n",
       "      <td>2.65</td>\n",
       "      <td>4</td>\n",
       "      <td>168.3</td>\n",
       "      <td>2</td>\n",
       "      <td>True</td>\n",
       "      <td>...</td>\n",
       "      <td>25.9</td>\n",
       "      <td>0</td>\n",
       "      <td>Санкт-Петербург</td>\n",
       "      <td>21104.0</td>\n",
       "      <td>2054.0</td>\n",
       "      <td>3</td>\n",
       "      <td>541.0</td>\n",
       "      <td>2</td>\n",
       "      <td>118.0</td>\n",
       "      <td>95</td>\n",
       "    </tr>\n",
       "    <tr>\n",
       "      <th>...</th>\n",
       "      <td>...</td>\n",
       "      <td>...</td>\n",
       "      <td>...</td>\n",
       "      <td>...</td>\n",
       "      <td>...</td>\n",
       "      <td>...</td>\n",
       "      <td>...</td>\n",
       "      <td>...</td>\n",
       "      <td>...</td>\n",
       "      <td>...</td>\n",
       "      <td>...</td>\n",
       "      <td>...</td>\n",
       "      <td>...</td>\n",
       "      <td>...</td>\n",
       "      <td>...</td>\n",
       "      <td>...</td>\n",
       "      <td>...</td>\n",
       "      <td>...</td>\n",
       "      <td>...</td>\n",
       "      <td>...</td>\n",
       "      <td>...</td>\n",
       "    </tr>\n",
       "    <tr>\n",
       "      <th>2055</th>\n",
       "      <td>14</td>\n",
       "      <td>2300000.0</td>\n",
       "      <td>29.00</td>\n",
       "      <td>2018-03-29</td>\n",
       "      <td>0</td>\n",
       "      <td>2.60</td>\n",
       "      <td>26</td>\n",
       "      <td>22.0</td>\n",
       "      <td>9</td>\n",
       "      <td>True</td>\n",
       "      <td>...</td>\n",
       "      <td>0.0</td>\n",
       "      <td>2</td>\n",
       "      <td>поселок городского типа имени Свердлова</td>\n",
       "      <td>NaN</td>\n",
       "      <td>NaN</td>\n",
       "      <td>0</td>\n",
       "      <td>NaN</td>\n",
       "      <td>0</td>\n",
       "      <td>NaN</td>\n",
       "      <td>115</td>\n",
       "    </tr>\n",
       "    <tr>\n",
       "      <th>12412</th>\n",
       "      <td>0</td>\n",
       "      <td>3300000.0</td>\n",
       "      <td>27.00</td>\n",
       "      <td>2017-08-15</td>\n",
       "      <td>0</td>\n",
       "      <td>2.65</td>\n",
       "      <td>25</td>\n",
       "      <td>25.0</td>\n",
       "      <td>22</td>\n",
       "      <td>True</td>\n",
       "      <td>...</td>\n",
       "      <td>0.0</td>\n",
       "      <td>0</td>\n",
       "      <td>Санкт-Петербург</td>\n",
       "      <td>12199.0</td>\n",
       "      <td>12111.0</td>\n",
       "      <td>0</td>\n",
       "      <td>NaN</td>\n",
       "      <td>1</td>\n",
       "      <td>337.0</td>\n",
       "      <td>161</td>\n",
       "    </tr>\n",
       "    <tr>\n",
       "      <th>20002</th>\n",
       "      <td>8</td>\n",
       "      <td>2700000.0</td>\n",
       "      <td>28.00</td>\n",
       "      <td>2017-11-10</td>\n",
       "      <td>0</td>\n",
       "      <td>2.65</td>\n",
       "      <td>21</td>\n",
       "      <td>20.0</td>\n",
       "      <td>6</td>\n",
       "      <td>True</td>\n",
       "      <td>...</td>\n",
       "      <td>0.0</td>\n",
       "      <td>2</td>\n",
       "      <td>Санкт-Петербург</td>\n",
       "      <td>21460.0</td>\n",
       "      <td>16788.0</td>\n",
       "      <td>0</td>\n",
       "      <td>NaN</td>\n",
       "      <td>1</td>\n",
       "      <td>170.0</td>\n",
       "      <td>17</td>\n",
       "    </tr>\n",
       "    <tr>\n",
       "      <th>17695</th>\n",
       "      <td>7</td>\n",
       "      <td>2550000.0</td>\n",
       "      <td>24.00</td>\n",
       "      <td>2017-12-16</td>\n",
       "      <td>0</td>\n",
       "      <td>2.65</td>\n",
       "      <td>23</td>\n",
       "      <td>17.0</td>\n",
       "      <td>8</td>\n",
       "      <td>True</td>\n",
       "      <td>...</td>\n",
       "      <td>0.0</td>\n",
       "      <td>1</td>\n",
       "      <td>деревня Кудрово</td>\n",
       "      <td>NaN</td>\n",
       "      <td>NaN</td>\n",
       "      <td>0</td>\n",
       "      <td>NaN</td>\n",
       "      <td>0</td>\n",
       "      <td>NaN</td>\n",
       "      <td>38</td>\n",
       "    </tr>\n",
       "    <tr>\n",
       "      <th>16429</th>\n",
       "      <td>2</td>\n",
       "      <td>2460000.0</td>\n",
       "      <td>28.01</td>\n",
       "      <td>2017-08-17</td>\n",
       "      <td>0</td>\n",
       "      <td>2.65</td>\n",
       "      <td>17</td>\n",
       "      <td>18.1</td>\n",
       "      <td>5</td>\n",
       "      <td>True</td>\n",
       "      <td>...</td>\n",
       "      <td>0.0</td>\n",
       "      <td>1</td>\n",
       "      <td>деревня Кудрово</td>\n",
       "      <td>NaN</td>\n",
       "      <td>NaN</td>\n",
       "      <td>0</td>\n",
       "      <td>NaN</td>\n",
       "      <td>0</td>\n",
       "      <td>NaN</td>\n",
       "      <td>15</td>\n",
       "    </tr>\n",
       "  </tbody>\n",
       "</table>\n",
       "<p>23610 rows × 22 columns</p>\n",
       "</div>"
      ],
      "text/plain": [
       "       total_images  last_price  total_area first_day_exposition  rooms  \\\n",
       "14498             6  32250000.0      374.60           2018-06-09     19   \n",
       "18848             6  28500000.0      270.00           2015-03-02     16   \n",
       "5358             20  65000000.0      590.00           2019-02-14     15   \n",
       "866               5  25000000.0      363.00           2017-12-23     14   \n",
       "20829             6  28659000.0      245.40           2016-03-31     14   \n",
       "...             ...         ...         ...                  ...    ...   \n",
       "2055             14   2300000.0       29.00           2018-03-29      0   \n",
       "12412             0   3300000.0       27.00           2017-08-15      0   \n",
       "20002             8   2700000.0       28.00           2017-11-10      0   \n",
       "17695             7   2550000.0       24.00           2017-12-16      0   \n",
       "16429             2   2460000.0       28.01           2017-08-17      0   \n",
       "\n",
       "       ceiling_height  floors_total  living_area  floor  is_apartment  ...  \\\n",
       "14498            2.65             5        264.5      2          True  ...   \n",
       "18848            3.00             4        180.0      4          True  ...   \n",
       "5358             3.50             6        409.0      3          True  ...   \n",
       "866              3.16             5        222.0      4          True  ...   \n",
       "20829            2.65             4        168.3      2          True  ...   \n",
       "...               ...           ...          ...    ...           ...  ...   \n",
       "2055             2.60            26         22.0      9          True  ...   \n",
       "12412            2.65            25         25.0     22          True  ...   \n",
       "20002            2.65            21         20.0      6          True  ...   \n",
       "17695            2.65            23         17.0      8          True  ...   \n",
       "16429            2.65            17         18.1      5          True  ...   \n",
       "\n",
       "       kitchen_area  balcony                            locality_name  \\\n",
       "14498          27.6        0                          Санкт-Петербург   \n",
       "18848          13.0        1                          Санкт-Петербург   \n",
       "5358          100.0        0                          Санкт-Петербург   \n",
       "866            16.6        0                          Санкт-Петербург   \n",
       "20829          25.9        0                          Санкт-Петербург   \n",
       "...             ...      ...                                      ...   \n",
       "2055            0.0        2  поселок городского типа имени Свердлова   \n",
       "12412           0.0        0                          Санкт-Петербург   \n",
       "20002           0.0        2                          Санкт-Петербург   \n",
       "17695           0.0        1                          деревня Кудрово   \n",
       "16429           0.0        1                          деревня Кудрово   \n",
       "\n",
       "       airports_nearest cityCenters_nearest  parks_around3000  parks_nearest  \\\n",
       "14498           19497.0              3574.0                 0            NaN   \n",
       "18848           23575.0              4142.0                 1          516.0   \n",
       "5358            24447.0              4666.0                 1          767.0   \n",
       "866             38076.0              7950.0                 0            NaN   \n",
       "20829           21104.0              2054.0                 3          541.0   \n",
       "...                 ...                 ...               ...            ...   \n",
       "2055                NaN                 NaN                 0            NaN   \n",
       "12412           12199.0             12111.0                 0            NaN   \n",
       "20002           21460.0             16788.0                 0            NaN   \n",
       "17695               NaN                 NaN                 0            NaN   \n",
       "16429               NaN                 NaN                 0            NaN   \n",
       "\n",
       "       ponds_around3000  ponds_nearest  days_exposition  \n",
       "14498                 2          548.0              114  \n",
       "18848                 0            NaN             1365  \n",
       "5358                  0            NaN               14  \n",
       "866                   2          435.0              418  \n",
       "20829                 2          118.0               95  \n",
       "...                 ...            ...              ...  \n",
       "2055                  0            NaN              115  \n",
       "12412                 1          337.0              161  \n",
       "20002                 1          170.0               17  \n",
       "17695                 0            NaN               38  \n",
       "16429                 0            NaN               15  \n",
       "\n",
       "[23610 rows x 22 columns]"
      ]
     },
     "metadata": {},
     "output_type": "display_data"
    },
    {
     "data": {
      "text/plain": [
       "(23610, 22)"
      ]
     },
     "execution_count": 31,
     "metadata": {},
     "output_type": "execute_result"
    },
    {
     "data": {
      "image/png": "[encoded data removed]",
      "text/plain": [
       "<Figure size 432x288 with 1 Axes>"
      ]
     },
     "metadata": {
      "needs_background": "light"
     },
     "output_type": "display_data"
    }
   ],
   "source": [
    "plt.boxplot(data['rooms'])#диаграмма размаха\n",
    "plt.title('rooms')\n",
    "plt.ylim(-1, 10)\n",
    "display(data['rooms'].describe())#cписок значений\n",
    "display(data.sort_values(by='rooms', ascending=False))# смотрю самые большие значения  \n",
    "data.shape"
   ]
  },
  {
   "cell_type": "code",
   "execution_count": 32,
   "metadata": {},
   "outputs": [
    {
     "data": {
      "text/plain": [
       "(0, 22)"
      ]
     },
     "execution_count": 32,
     "metadata": {},
     "output_type": "execute_result"
    }
   ],
   "source": [
    "data[(data['rooms'] <=0) & (data['rooms'] >6)].shape #смотрю сколько таких квартир"
   ]
  },
  {
   "cell_type": "code",
   "execution_count": 33,
   "metadata": {},
   "outputs": [
    {
     "data": {
      "text/plain": [
       "(23610, 22)"
      ]
     },
     "metadata": {},
     "output_type": "display_data"
    },
    {
     "data": {
      "text/plain": [
       "(23416, 23)"
      ]
     },
     "execution_count": 33,
     "metadata": {},
     "output_type": "execute_result"
    }
   ],
   "source": [
    "data3 = data[(data['rooms'] <6)].reset_index()#срез и удаление\n",
    "display(data.shape)#количество до\n",
    "data3.shape#количество после"
   ]
  },
  {
   "cell_type": "code",
   "execution_count": 34,
   "metadata": {},
   "outputs": [
    {
     "data": {
      "text/plain": [
       "count    23416.000000\n",
       "mean         2.030876\n",
       "std          0.973593\n",
       "min          0.000000\n",
       "25%          1.000000\n",
       "50%          2.000000\n",
       "75%          3.000000\n",
       "max          5.000000\n",
       "Name: rooms, dtype: float64"
      ]
     },
     "execution_count": 34,
     "metadata": {},
     "output_type": "execute_result"
    },
    {
     "data": {
      "image/png": "[encoded data removed]",
      "text/plain": [
       "<Figure size 432x288 with 1 Axes>"
      ]
     },
     "metadata": {
      "needs_background": "light"
     },
     "output_type": "display_data"
    }
   ],
   "source": [
    "plt.boxplot(data3['rooms'])#диаграмма размаха повторно\n",
    "plt.title('rooms')\n",
    "plt.ylim(-1, 10)\n",
    "data3['rooms'].describe()#cписок значений"
   ]
  },
  {
   "cell_type": "markdown",
   "metadata": {},
   "source": [
    "**Выводы** Тоже есть выбросы, размах большой, от нуля до 19 квартир и стандартное отклонение 1.078. Удалила квартиры с 6 и более комнатами. Стандартное отклонение уменьшилось до 0.97. По видно, что выбросов не стало."
   ]
  },
  {
   "cell_type": "markdown",
   "metadata": {},
   "source": [
    "### Посчитайте и добавьте в таблицу новые столбцы"
   ]
  },
  {
   "cell_type": "markdown",
   "metadata": {},
   "source": [
    "**Добавление в таблицу нового столбца с параметрами - Цена одного квадратного метра.**"
   ]
  },
  {
   "cell_type": "code",
   "execution_count": 35,
   "metadata": {},
   "outputs": [
    {
     "data": {
      "text/html": [
       "<div>\n",
       "<style scoped>\n",
       "    .dataframe tbody tr th:only-of-type {\n",
       "        vertical-align: middle;\n",
       "    }\n",
       "\n",
       "    .dataframe tbody tr th {\n",
       "        vertical-align: top;\n",
       "    }\n",
       "\n",
       "    .dataframe thead th {\n",
       "        text-align: right;\n",
       "    }\n",
       "</style>\n",
       "<table border=\"1\" class=\"dataframe\">\n",
       "  <thead>\n",
       "    <tr style=\"text-align: right;\">\n",
       "      <th></th>\n",
       "      <th>total_images</th>\n",
       "      <th>last_price</th>\n",
       "      <th>total_area</th>\n",
       "      <th>first_day_exposition</th>\n",
       "      <th>rooms</th>\n",
       "      <th>ceiling_height</th>\n",
       "      <th>floors_total</th>\n",
       "      <th>living_area</th>\n",
       "      <th>floor</th>\n",
       "      <th>is_apartment</th>\n",
       "      <th>...</th>\n",
       "      <th>balcony</th>\n",
       "      <th>locality_name</th>\n",
       "      <th>airports_nearest</th>\n",
       "      <th>cityCenters_nearest</th>\n",
       "      <th>parks_around3000</th>\n",
       "      <th>parks_nearest</th>\n",
       "      <th>ponds_around3000</th>\n",
       "      <th>ponds_nearest</th>\n",
       "      <th>days_exposition</th>\n",
       "      <th>price_one_metr</th>\n",
       "    </tr>\n",
       "  </thead>\n",
       "  <tbody>\n",
       "    <tr>\n",
       "      <th>0</th>\n",
       "      <td>20</td>\n",
       "      <td>13000000.0</td>\n",
       "      <td>108.0</td>\n",
       "      <td>2019-03-07</td>\n",
       "      <td>3</td>\n",
       "      <td>2.70</td>\n",
       "      <td>16</td>\n",
       "      <td>51.0</td>\n",
       "      <td>8</td>\n",
       "      <td>True</td>\n",
       "      <td>...</td>\n",
       "      <td>0</td>\n",
       "      <td>Санкт-Петербург</td>\n",
       "      <td>18863.0</td>\n",
       "      <td>16028.0</td>\n",
       "      <td>1</td>\n",
       "      <td>482.0</td>\n",
       "      <td>2</td>\n",
       "      <td>755.0</td>\n",
       "      <td>95</td>\n",
       "      <td>120370.370370</td>\n",
       "    </tr>\n",
       "    <tr>\n",
       "      <th>1</th>\n",
       "      <td>7</td>\n",
       "      <td>3350000.0</td>\n",
       "      <td>40.4</td>\n",
       "      <td>2018-12-04</td>\n",
       "      <td>1</td>\n",
       "      <td>2.65</td>\n",
       "      <td>11</td>\n",
       "      <td>18.6</td>\n",
       "      <td>1</td>\n",
       "      <td>True</td>\n",
       "      <td>...</td>\n",
       "      <td>2</td>\n",
       "      <td>поселок Шушары</td>\n",
       "      <td>12817.0</td>\n",
       "      <td>18603.0</td>\n",
       "      <td>0</td>\n",
       "      <td>NaN</td>\n",
       "      <td>0</td>\n",
       "      <td>NaN</td>\n",
       "      <td>81</td>\n",
       "      <td>82920.792079</td>\n",
       "    </tr>\n",
       "    <tr>\n",
       "      <th>2</th>\n",
       "      <td>10</td>\n",
       "      <td>5196000.0</td>\n",
       "      <td>56.0</td>\n",
       "      <td>2015-08-20</td>\n",
       "      <td>2</td>\n",
       "      <td>2.65</td>\n",
       "      <td>5</td>\n",
       "      <td>34.3</td>\n",
       "      <td>4</td>\n",
       "      <td>True</td>\n",
       "      <td>...</td>\n",
       "      <td>0</td>\n",
       "      <td>Санкт-Петербург</td>\n",
       "      <td>21741.0</td>\n",
       "      <td>13933.0</td>\n",
       "      <td>1</td>\n",
       "      <td>90.0</td>\n",
       "      <td>2</td>\n",
       "      <td>574.0</td>\n",
       "      <td>558</td>\n",
       "      <td>92785.714286</td>\n",
       "    </tr>\n",
       "    <tr>\n",
       "      <th>3</th>\n",
       "      <td>0</td>\n",
       "      <td>64900000.0</td>\n",
       "      <td>159.0</td>\n",
       "      <td>2015-07-24</td>\n",
       "      <td>3</td>\n",
       "      <td>2.65</td>\n",
       "      <td>14</td>\n",
       "      <td>45.0</td>\n",
       "      <td>9</td>\n",
       "      <td>True</td>\n",
       "      <td>...</td>\n",
       "      <td>0</td>\n",
       "      <td>Санкт-Петербург</td>\n",
       "      <td>28098.0</td>\n",
       "      <td>6800.0</td>\n",
       "      <td>2</td>\n",
       "      <td>84.0</td>\n",
       "      <td>3</td>\n",
       "      <td>234.0</td>\n",
       "      <td>424</td>\n",
       "      <td>408176.100629</td>\n",
       "    </tr>\n",
       "    <tr>\n",
       "      <th>4</th>\n",
       "      <td>2</td>\n",
       "      <td>10000000.0</td>\n",
       "      <td>100.0</td>\n",
       "      <td>2018-06-19</td>\n",
       "      <td>2</td>\n",
       "      <td>3.03</td>\n",
       "      <td>14</td>\n",
       "      <td>32.0</td>\n",
       "      <td>13</td>\n",
       "      <td>True</td>\n",
       "      <td>...</td>\n",
       "      <td>0</td>\n",
       "      <td>Санкт-Петербург</td>\n",
       "      <td>31856.0</td>\n",
       "      <td>8098.0</td>\n",
       "      <td>2</td>\n",
       "      <td>112.0</td>\n",
       "      <td>1</td>\n",
       "      <td>48.0</td>\n",
       "      <td>121</td>\n",
       "      <td>100000.000000</td>\n",
       "    </tr>\n",
       "  </tbody>\n",
       "</table>\n",
       "<p>5 rows × 23 columns</p>\n",
       "</div>"
      ],
      "text/plain": [
       "   total_images  last_price  total_area first_day_exposition  rooms  \\\n",
       "0            20  13000000.0       108.0           2019-03-07      3   \n",
       "1             7   3350000.0        40.4           2018-12-04      1   \n",
       "2            10   5196000.0        56.0           2015-08-20      2   \n",
       "3             0  64900000.0       159.0           2015-07-24      3   \n",
       "4             2  10000000.0       100.0           2018-06-19      2   \n",
       "\n",
       "   ceiling_height  floors_total  living_area  floor  is_apartment  ...  \\\n",
       "0            2.70            16         51.0      8          True  ...   \n",
       "1            2.65            11         18.6      1          True  ...   \n",
       "2            2.65             5         34.3      4          True  ...   \n",
       "3            2.65            14         45.0      9          True  ...   \n",
       "4            3.03            14         32.0     13          True  ...   \n",
       "\n",
       "   balcony    locality_name  airports_nearest  cityCenters_nearest  \\\n",
       "0        0  Санкт-Петербург           18863.0              16028.0   \n",
       "1        2   поселок Шушары           12817.0              18603.0   \n",
       "2        0  Санкт-Петербург           21741.0              13933.0   \n",
       "3        0  Санкт-Петербург           28098.0               6800.0   \n",
       "4        0  Санкт-Петербург           31856.0               8098.0   \n",
       "\n",
       "  parks_around3000  parks_nearest  ponds_around3000  ponds_nearest  \\\n",
       "0                1          482.0                 2          755.0   \n",
       "1                0            NaN                 0            NaN   \n",
       "2                1           90.0                 2          574.0   \n",
       "3                2           84.0                 3          234.0   \n",
       "4                2          112.0                 1           48.0   \n",
       "\n",
       "   days_exposition  price_one_metr  \n",
       "0               95   120370.370370  \n",
       "1               81    82920.792079  \n",
       "2              558    92785.714286  \n",
       "3              424   408176.100629  \n",
       "4              121   100000.000000  \n",
       "\n",
       "[5 rows x 23 columns]"
      ]
     },
     "execution_count": 35,
     "metadata": {},
     "output_type": "execute_result"
    }
   ],
   "source": [
    "data['price_one_metr'] = data['last_price'] / data['total_area']# цена одного метра равна отношению цены к общей площади квартиры\n",
    "data.head(5)"
   ]
  },
  {
   "cell_type": "markdown",
   "metadata": {},
   "source": [
    "**Добавление в таблицу нового столбца - день недели публикации объявления (0 — понедельник, 1 — вторник и так далее).**"
   ]
  },
  {
   "cell_type": "code",
   "execution_count": 36,
   "metadata": {},
   "outputs": [
    {
     "data": {
      "text/html": [
       "<div>\n",
       "<style scoped>\n",
       "    .dataframe tbody tr th:only-of-type {\n",
       "        vertical-align: middle;\n",
       "    }\n",
       "\n",
       "    .dataframe tbody tr th {\n",
       "        vertical-align: top;\n",
       "    }\n",
       "\n",
       "    .dataframe thead th {\n",
       "        text-align: right;\n",
       "    }\n",
       "</style>\n",
       "<table border=\"1\" class=\"dataframe\">\n",
       "  <thead>\n",
       "    <tr style=\"text-align: right;\">\n",
       "      <th></th>\n",
       "      <th>total_images</th>\n",
       "      <th>last_price</th>\n",
       "      <th>total_area</th>\n",
       "      <th>first_day_exposition</th>\n",
       "      <th>rooms</th>\n",
       "      <th>ceiling_height</th>\n",
       "      <th>floors_total</th>\n",
       "      <th>living_area</th>\n",
       "      <th>floor</th>\n",
       "      <th>is_apartment</th>\n",
       "      <th>...</th>\n",
       "      <th>locality_name</th>\n",
       "      <th>airports_nearest</th>\n",
       "      <th>cityCenters_nearest</th>\n",
       "      <th>parks_around3000</th>\n",
       "      <th>parks_nearest</th>\n",
       "      <th>ponds_around3000</th>\n",
       "      <th>ponds_nearest</th>\n",
       "      <th>days_exposition</th>\n",
       "      <th>price_one_metr</th>\n",
       "      <th>day_week_exposition</th>\n",
       "    </tr>\n",
       "  </thead>\n",
       "  <tbody>\n",
       "    <tr>\n",
       "      <th>0</th>\n",
       "      <td>20</td>\n",
       "      <td>13000000.0</td>\n",
       "      <td>108.0</td>\n",
       "      <td>2019-03-07</td>\n",
       "      <td>3</td>\n",
       "      <td>2.70</td>\n",
       "      <td>16</td>\n",
       "      <td>51.0</td>\n",
       "      <td>8</td>\n",
       "      <td>True</td>\n",
       "      <td>...</td>\n",
       "      <td>Санкт-Петербург</td>\n",
       "      <td>18863.0</td>\n",
       "      <td>16028.0</td>\n",
       "      <td>1</td>\n",
       "      <td>482.0</td>\n",
       "      <td>2</td>\n",
       "      <td>755.0</td>\n",
       "      <td>95</td>\n",
       "      <td>120370.370370</td>\n",
       "      <td>3</td>\n",
       "    </tr>\n",
       "    <tr>\n",
       "      <th>1</th>\n",
       "      <td>7</td>\n",
       "      <td>3350000.0</td>\n",
       "      <td>40.4</td>\n",
       "      <td>2018-12-04</td>\n",
       "      <td>1</td>\n",
       "      <td>2.65</td>\n",
       "      <td>11</td>\n",
       "      <td>18.6</td>\n",
       "      <td>1</td>\n",
       "      <td>True</td>\n",
       "      <td>...</td>\n",
       "      <td>поселок Шушары</td>\n",
       "      <td>12817.0</td>\n",
       "      <td>18603.0</td>\n",
       "      <td>0</td>\n",
       "      <td>NaN</td>\n",
       "      <td>0</td>\n",
       "      <td>NaN</td>\n",
       "      <td>81</td>\n",
       "      <td>82920.792079</td>\n",
       "      <td>1</td>\n",
       "    </tr>\n",
       "    <tr>\n",
       "      <th>2</th>\n",
       "      <td>10</td>\n",
       "      <td>5196000.0</td>\n",
       "      <td>56.0</td>\n",
       "      <td>2015-08-20</td>\n",
       "      <td>2</td>\n",
       "      <td>2.65</td>\n",
       "      <td>5</td>\n",
       "      <td>34.3</td>\n",
       "      <td>4</td>\n",
       "      <td>True</td>\n",
       "      <td>...</td>\n",
       "      <td>Санкт-Петербург</td>\n",
       "      <td>21741.0</td>\n",
       "      <td>13933.0</td>\n",
       "      <td>1</td>\n",
       "      <td>90.0</td>\n",
       "      <td>2</td>\n",
       "      <td>574.0</td>\n",
       "      <td>558</td>\n",
       "      <td>92785.714286</td>\n",
       "      <td>3</td>\n",
       "    </tr>\n",
       "    <tr>\n",
       "      <th>3</th>\n",
       "      <td>0</td>\n",
       "      <td>64900000.0</td>\n",
       "      <td>159.0</td>\n",
       "      <td>2015-07-24</td>\n",
       "      <td>3</td>\n",
       "      <td>2.65</td>\n",
       "      <td>14</td>\n",
       "      <td>45.0</td>\n",
       "      <td>9</td>\n",
       "      <td>True</td>\n",
       "      <td>...</td>\n",
       "      <td>Санкт-Петербург</td>\n",
       "      <td>28098.0</td>\n",
       "      <td>6800.0</td>\n",
       "      <td>2</td>\n",
       "      <td>84.0</td>\n",
       "      <td>3</td>\n",
       "      <td>234.0</td>\n",
       "      <td>424</td>\n",
       "      <td>408176.100629</td>\n",
       "      <td>4</td>\n",
       "    </tr>\n",
       "    <tr>\n",
       "      <th>4</th>\n",
       "      <td>2</td>\n",
       "      <td>10000000.0</td>\n",
       "      <td>100.0</td>\n",
       "      <td>2018-06-19</td>\n",
       "      <td>2</td>\n",
       "      <td>3.03</td>\n",
       "      <td>14</td>\n",
       "      <td>32.0</td>\n",
       "      <td>13</td>\n",
       "      <td>True</td>\n",
       "      <td>...</td>\n",
       "      <td>Санкт-Петербург</td>\n",
       "      <td>31856.0</td>\n",
       "      <td>8098.0</td>\n",
       "      <td>2</td>\n",
       "      <td>112.0</td>\n",
       "      <td>1</td>\n",
       "      <td>48.0</td>\n",
       "      <td>121</td>\n",
       "      <td>100000.000000</td>\n",
       "      <td>1</td>\n",
       "    </tr>\n",
       "  </tbody>\n",
       "</table>\n",
       "<p>5 rows × 24 columns</p>\n",
       "</div>"
      ],
      "text/plain": [
       "   total_images  last_price  total_area first_day_exposition  rooms  \\\n",
       "0            20  13000000.0       108.0           2019-03-07      3   \n",
       "1             7   3350000.0        40.4           2018-12-04      1   \n",
       "2            10   5196000.0        56.0           2015-08-20      2   \n",
       "3             0  64900000.0       159.0           2015-07-24      3   \n",
       "4             2  10000000.0       100.0           2018-06-19      2   \n",
       "\n",
       "   ceiling_height  floors_total  living_area  floor  is_apartment  ...  \\\n",
       "0            2.70            16         51.0      8          True  ...   \n",
       "1            2.65            11         18.6      1          True  ...   \n",
       "2            2.65             5         34.3      4          True  ...   \n",
       "3            2.65            14         45.0      9          True  ...   \n",
       "4            3.03            14         32.0     13          True  ...   \n",
       "\n",
       "     locality_name  airports_nearest  cityCenters_nearest  parks_around3000  \\\n",
       "0  Санкт-Петербург           18863.0              16028.0                 1   \n",
       "1   поселок Шушары           12817.0              18603.0                 0   \n",
       "2  Санкт-Петербург           21741.0              13933.0                 1   \n",
       "3  Санкт-Петербург           28098.0               6800.0                 2   \n",
       "4  Санкт-Петербург           31856.0               8098.0                 2   \n",
       "\n",
       "  parks_nearest  ponds_around3000  ponds_nearest  days_exposition  \\\n",
       "0         482.0                 2          755.0               95   \n",
       "1           NaN                 0            NaN               81   \n",
       "2          90.0                 2          574.0              558   \n",
       "3          84.0                 3          234.0              424   \n",
       "4         112.0                 1           48.0              121   \n",
       "\n",
       "   price_one_metr  day_week_exposition  \n",
       "0   120370.370370                    3  \n",
       "1    82920.792079                    1  \n",
       "2    92785.714286                    3  \n",
       "3   408176.100629                    4  \n",
       "4   100000.000000                    1  \n",
       "\n",
       "[5 rows x 24 columns]"
      ]
     },
     "execution_count": 36,
     "metadata": {},
     "output_type": "execute_result"
    }
   ],
   "source": [
    "data['day_week_exposition'] = data['first_day_exposition'].dt.weekday #в новый столбец добавляю номер дня в неделе\n",
    "data.head() #проверяю как выглядит новый столбец"
   ]
  },
  {
   "cell_type": "markdown",
   "metadata": {},
   "source": [
    "**Добавление в таблицу нового столбца - Месяц публикации объявления.**"
   ]
  },
  {
   "cell_type": "code",
   "execution_count": 37,
   "metadata": {},
   "outputs": [
    {
     "data": {
      "text/html": [
       "<div>\n",
       "<style scoped>\n",
       "    .dataframe tbody tr th:only-of-type {\n",
       "        vertical-align: middle;\n",
       "    }\n",
       "\n",
       "    .dataframe tbody tr th {\n",
       "        vertical-align: top;\n",
       "    }\n",
       "\n",
       "    .dataframe thead th {\n",
       "        text-align: right;\n",
       "    }\n",
       "</style>\n",
       "<table border=\"1\" class=\"dataframe\">\n",
       "  <thead>\n",
       "    <tr style=\"text-align: right;\">\n",
       "      <th></th>\n",
       "      <th>total_images</th>\n",
       "      <th>last_price</th>\n",
       "      <th>total_area</th>\n",
       "      <th>first_day_exposition</th>\n",
       "      <th>rooms</th>\n",
       "      <th>ceiling_height</th>\n",
       "      <th>floors_total</th>\n",
       "      <th>living_area</th>\n",
       "      <th>floor</th>\n",
       "      <th>is_apartment</th>\n",
       "      <th>...</th>\n",
       "      <th>airports_nearest</th>\n",
       "      <th>cityCenters_nearest</th>\n",
       "      <th>parks_around3000</th>\n",
       "      <th>parks_nearest</th>\n",
       "      <th>ponds_around3000</th>\n",
       "      <th>ponds_nearest</th>\n",
       "      <th>days_exposition</th>\n",
       "      <th>price_one_metr</th>\n",
       "      <th>day_week_exposition</th>\n",
       "      <th>month_exposition</th>\n",
       "    </tr>\n",
       "  </thead>\n",
       "  <tbody>\n",
       "    <tr>\n",
       "      <th>0</th>\n",
       "      <td>20</td>\n",
       "      <td>13000000.0</td>\n",
       "      <td>108.0</td>\n",
       "      <td>2019-03-07</td>\n",
       "      <td>3</td>\n",
       "      <td>2.70</td>\n",
       "      <td>16</td>\n",
       "      <td>51.0</td>\n",
       "      <td>8</td>\n",
       "      <td>True</td>\n",
       "      <td>...</td>\n",
       "      <td>18863.0</td>\n",
       "      <td>16028.0</td>\n",
       "      <td>1</td>\n",
       "      <td>482.0</td>\n",
       "      <td>2</td>\n",
       "      <td>755.0</td>\n",
       "      <td>95</td>\n",
       "      <td>120370.370370</td>\n",
       "      <td>3</td>\n",
       "      <td>3</td>\n",
       "    </tr>\n",
       "    <tr>\n",
       "      <th>1</th>\n",
       "      <td>7</td>\n",
       "      <td>3350000.0</td>\n",
       "      <td>40.4</td>\n",
       "      <td>2018-12-04</td>\n",
       "      <td>1</td>\n",
       "      <td>2.65</td>\n",
       "      <td>11</td>\n",
       "      <td>18.6</td>\n",
       "      <td>1</td>\n",
       "      <td>True</td>\n",
       "      <td>...</td>\n",
       "      <td>12817.0</td>\n",
       "      <td>18603.0</td>\n",
       "      <td>0</td>\n",
       "      <td>NaN</td>\n",
       "      <td>0</td>\n",
       "      <td>NaN</td>\n",
       "      <td>81</td>\n",
       "      <td>82920.792079</td>\n",
       "      <td>1</td>\n",
       "      <td>12</td>\n",
       "    </tr>\n",
       "    <tr>\n",
       "      <th>2</th>\n",
       "      <td>10</td>\n",
       "      <td>5196000.0</td>\n",
       "      <td>56.0</td>\n",
       "      <td>2015-08-20</td>\n",
       "      <td>2</td>\n",
       "      <td>2.65</td>\n",
       "      <td>5</td>\n",
       "      <td>34.3</td>\n",
       "      <td>4</td>\n",
       "      <td>True</td>\n",
       "      <td>...</td>\n",
       "      <td>21741.0</td>\n",
       "      <td>13933.0</td>\n",
       "      <td>1</td>\n",
       "      <td>90.0</td>\n",
       "      <td>2</td>\n",
       "      <td>574.0</td>\n",
       "      <td>558</td>\n",
       "      <td>92785.714286</td>\n",
       "      <td>3</td>\n",
       "      <td>8</td>\n",
       "    </tr>\n",
       "    <tr>\n",
       "      <th>3</th>\n",
       "      <td>0</td>\n",
       "      <td>64900000.0</td>\n",
       "      <td>159.0</td>\n",
       "      <td>2015-07-24</td>\n",
       "      <td>3</td>\n",
       "      <td>2.65</td>\n",
       "      <td>14</td>\n",
       "      <td>45.0</td>\n",
       "      <td>9</td>\n",
       "      <td>True</td>\n",
       "      <td>...</td>\n",
       "      <td>28098.0</td>\n",
       "      <td>6800.0</td>\n",
       "      <td>2</td>\n",
       "      <td>84.0</td>\n",
       "      <td>3</td>\n",
       "      <td>234.0</td>\n",
       "      <td>424</td>\n",
       "      <td>408176.100629</td>\n",
       "      <td>4</td>\n",
       "      <td>7</td>\n",
       "    </tr>\n",
       "    <tr>\n",
       "      <th>4</th>\n",
       "      <td>2</td>\n",
       "      <td>10000000.0</td>\n",
       "      <td>100.0</td>\n",
       "      <td>2018-06-19</td>\n",
       "      <td>2</td>\n",
       "      <td>3.03</td>\n",
       "      <td>14</td>\n",
       "      <td>32.0</td>\n",
       "      <td>13</td>\n",
       "      <td>True</td>\n",
       "      <td>...</td>\n",
       "      <td>31856.0</td>\n",
       "      <td>8098.0</td>\n",
       "      <td>2</td>\n",
       "      <td>112.0</td>\n",
       "      <td>1</td>\n",
       "      <td>48.0</td>\n",
       "      <td>121</td>\n",
       "      <td>100000.000000</td>\n",
       "      <td>1</td>\n",
       "      <td>6</td>\n",
       "    </tr>\n",
       "  </tbody>\n",
       "</table>\n",
       "<p>5 rows × 25 columns</p>\n",
       "</div>"
      ],
      "text/plain": [
       "   total_images  last_price  total_area first_day_exposition  rooms  \\\n",
       "0            20  13000000.0       108.0           2019-03-07      3   \n",
       "1             7   3350000.0        40.4           2018-12-04      1   \n",
       "2            10   5196000.0        56.0           2015-08-20      2   \n",
       "3             0  64900000.0       159.0           2015-07-24      3   \n",
       "4             2  10000000.0       100.0           2018-06-19      2   \n",
       "\n",
       "   ceiling_height  floors_total  living_area  floor  is_apartment  ...  \\\n",
       "0            2.70            16         51.0      8          True  ...   \n",
       "1            2.65            11         18.6      1          True  ...   \n",
       "2            2.65             5         34.3      4          True  ...   \n",
       "3            2.65            14         45.0      9          True  ...   \n",
       "4            3.03            14         32.0     13          True  ...   \n",
       "\n",
       "   airports_nearest  cityCenters_nearest  parks_around3000  parks_nearest  \\\n",
       "0           18863.0              16028.0                 1          482.0   \n",
       "1           12817.0              18603.0                 0            NaN   \n",
       "2           21741.0              13933.0                 1           90.0   \n",
       "3           28098.0               6800.0                 2           84.0   \n",
       "4           31856.0               8098.0                 2          112.0   \n",
       "\n",
       "  ponds_around3000  ponds_nearest  days_exposition  price_one_metr  \\\n",
       "0                2          755.0               95   120370.370370   \n",
       "1                0            NaN               81    82920.792079   \n",
       "2                2          574.0              558    92785.714286   \n",
       "3                3          234.0              424   408176.100629   \n",
       "4                1           48.0              121   100000.000000   \n",
       "\n",
       "   day_week_exposition  month_exposition  \n",
       "0                    3                 3  \n",
       "1                    1                12  \n",
       "2                    3                 8  \n",
       "3                    4                 7  \n",
       "4                    1                 6  \n",
       "\n",
       "[5 rows x 25 columns]"
      ]
     },
     "execution_count": 37,
     "metadata": {},
     "output_type": "execute_result"
    }
   ],
   "source": [
    "data['month_exposition'] = data['first_day_exposition'].dt.month #в новый столбец month_exposition добавляю месяц\n",
    "data.head() #проверяю изменения "
   ]
  },
  {
   "cell_type": "markdown",
   "metadata": {},
   "source": [
    "**Добавление в таблицу нового столбца - год публикации объявления.**"
   ]
  },
  {
   "cell_type": "code",
   "execution_count": 38,
   "metadata": {},
   "outputs": [
    {
     "data": {
      "text/html": [
       "<div>\n",
       "<style scoped>\n",
       "    .dataframe tbody tr th:only-of-type {\n",
       "        vertical-align: middle;\n",
       "    }\n",
       "\n",
       "    .dataframe tbody tr th {\n",
       "        vertical-align: top;\n",
       "    }\n",
       "\n",
       "    .dataframe thead th {\n",
       "        text-align: right;\n",
       "    }\n",
       "</style>\n",
       "<table border=\"1\" class=\"dataframe\">\n",
       "  <thead>\n",
       "    <tr style=\"text-align: right;\">\n",
       "      <th></th>\n",
       "      <th>total_images</th>\n",
       "      <th>last_price</th>\n",
       "      <th>total_area</th>\n",
       "      <th>first_day_exposition</th>\n",
       "      <th>rooms</th>\n",
       "      <th>ceiling_height</th>\n",
       "      <th>floors_total</th>\n",
       "      <th>living_area</th>\n",
       "      <th>floor</th>\n",
       "      <th>is_apartment</th>\n",
       "      <th>...</th>\n",
       "      <th>cityCenters_nearest</th>\n",
       "      <th>parks_around3000</th>\n",
       "      <th>parks_nearest</th>\n",
       "      <th>ponds_around3000</th>\n",
       "      <th>ponds_nearest</th>\n",
       "      <th>days_exposition</th>\n",
       "      <th>price_one_metr</th>\n",
       "      <th>day_week_exposition</th>\n",
       "      <th>month_exposition</th>\n",
       "      <th>year_exposition</th>\n",
       "    </tr>\n",
       "  </thead>\n",
       "  <tbody>\n",
       "    <tr>\n",
       "      <th>0</th>\n",
       "      <td>20</td>\n",
       "      <td>13000000.0</td>\n",
       "      <td>108.0</td>\n",
       "      <td>2019-03-07</td>\n",
       "      <td>3</td>\n",
       "      <td>2.70</td>\n",
       "      <td>16</td>\n",
       "      <td>51.0</td>\n",
       "      <td>8</td>\n",
       "      <td>True</td>\n",
       "      <td>...</td>\n",
       "      <td>16028.0</td>\n",
       "      <td>1</td>\n",
       "      <td>482.0</td>\n",
       "      <td>2</td>\n",
       "      <td>755.0</td>\n",
       "      <td>95</td>\n",
       "      <td>120370.370370</td>\n",
       "      <td>3</td>\n",
       "      <td>3</td>\n",
       "      <td>2019</td>\n",
       "    </tr>\n",
       "    <tr>\n",
       "      <th>1</th>\n",
       "      <td>7</td>\n",
       "      <td>3350000.0</td>\n",
       "      <td>40.4</td>\n",
       "      <td>2018-12-04</td>\n",
       "      <td>1</td>\n",
       "      <td>2.65</td>\n",
       "      <td>11</td>\n",
       "      <td>18.6</td>\n",
       "      <td>1</td>\n",
       "      <td>True</td>\n",
       "      <td>...</td>\n",
       "      <td>18603.0</td>\n",
       "      <td>0</td>\n",
       "      <td>NaN</td>\n",
       "      <td>0</td>\n",
       "      <td>NaN</td>\n",
       "      <td>81</td>\n",
       "      <td>82920.792079</td>\n",
       "      <td>1</td>\n",
       "      <td>12</td>\n",
       "      <td>2018</td>\n",
       "    </tr>\n",
       "    <tr>\n",
       "      <th>2</th>\n",
       "      <td>10</td>\n",
       "      <td>5196000.0</td>\n",
       "      <td>56.0</td>\n",
       "      <td>2015-08-20</td>\n",
       "      <td>2</td>\n",
       "      <td>2.65</td>\n",
       "      <td>5</td>\n",
       "      <td>34.3</td>\n",
       "      <td>4</td>\n",
       "      <td>True</td>\n",
       "      <td>...</td>\n",
       "      <td>13933.0</td>\n",
       "      <td>1</td>\n",
       "      <td>90.0</td>\n",
       "      <td>2</td>\n",
       "      <td>574.0</td>\n",
       "      <td>558</td>\n",
       "      <td>92785.714286</td>\n",
       "      <td>3</td>\n",
       "      <td>8</td>\n",
       "      <td>2015</td>\n",
       "    </tr>\n",
       "    <tr>\n",
       "      <th>3</th>\n",
       "      <td>0</td>\n",
       "      <td>64900000.0</td>\n",
       "      <td>159.0</td>\n",
       "      <td>2015-07-24</td>\n",
       "      <td>3</td>\n",
       "      <td>2.65</td>\n",
       "      <td>14</td>\n",
       "      <td>45.0</td>\n",
       "      <td>9</td>\n",
       "      <td>True</td>\n",
       "      <td>...</td>\n",
       "      <td>6800.0</td>\n",
       "      <td>2</td>\n",
       "      <td>84.0</td>\n",
       "      <td>3</td>\n",
       "      <td>234.0</td>\n",
       "      <td>424</td>\n",
       "      <td>408176.100629</td>\n",
       "      <td>4</td>\n",
       "      <td>7</td>\n",
       "      <td>2015</td>\n",
       "    </tr>\n",
       "    <tr>\n",
       "      <th>4</th>\n",
       "      <td>2</td>\n",
       "      <td>10000000.0</td>\n",
       "      <td>100.0</td>\n",
       "      <td>2018-06-19</td>\n",
       "      <td>2</td>\n",
       "      <td>3.03</td>\n",
       "      <td>14</td>\n",
       "      <td>32.0</td>\n",
       "      <td>13</td>\n",
       "      <td>True</td>\n",
       "      <td>...</td>\n",
       "      <td>8098.0</td>\n",
       "      <td>2</td>\n",
       "      <td>112.0</td>\n",
       "      <td>1</td>\n",
       "      <td>48.0</td>\n",
       "      <td>121</td>\n",
       "      <td>100000.000000</td>\n",
       "      <td>1</td>\n",
       "      <td>6</td>\n",
       "      <td>2018</td>\n",
       "    </tr>\n",
       "  </tbody>\n",
       "</table>\n",
       "<p>5 rows × 26 columns</p>\n",
       "</div>"
      ],
      "text/plain": [
       "   total_images  last_price  total_area first_day_exposition  rooms  \\\n",
       "0            20  13000000.0       108.0           2019-03-07      3   \n",
       "1             7   3350000.0        40.4           2018-12-04      1   \n",
       "2            10   5196000.0        56.0           2015-08-20      2   \n",
       "3             0  64900000.0       159.0           2015-07-24      3   \n",
       "4             2  10000000.0       100.0           2018-06-19      2   \n",
       "\n",
       "   ceiling_height  floors_total  living_area  floor  is_apartment  ...  \\\n",
       "0            2.70            16         51.0      8          True  ...   \n",
       "1            2.65            11         18.6      1          True  ...   \n",
       "2            2.65             5         34.3      4          True  ...   \n",
       "3            2.65            14         45.0      9          True  ...   \n",
       "4            3.03            14         32.0     13          True  ...   \n",
       "\n",
       "   cityCenters_nearest  parks_around3000  parks_nearest  ponds_around3000  \\\n",
       "0              16028.0                 1          482.0                 2   \n",
       "1              18603.0                 0            NaN                 0   \n",
       "2              13933.0                 1           90.0                 2   \n",
       "3               6800.0                 2           84.0                 3   \n",
       "4               8098.0                 2          112.0                 1   \n",
       "\n",
       "  ponds_nearest  days_exposition  price_one_metr  day_week_exposition  \\\n",
       "0         755.0               95   120370.370370                    3   \n",
       "1           NaN               81    82920.792079                    1   \n",
       "2         574.0              558    92785.714286                    3   \n",
       "3         234.0              424   408176.100629                    4   \n",
       "4          48.0              121   100000.000000                    1   \n",
       "\n",
       "   month_exposition  year_exposition  \n",
       "0                 3             2019  \n",
       "1                12             2018  \n",
       "2                 8             2015  \n",
       "3                 7             2015  \n",
       "4                 6             2018  \n",
       "\n",
       "[5 rows x 26 columns]"
      ]
     },
     "execution_count": 38,
     "metadata": {},
     "output_type": "execute_result"
    }
   ],
   "source": [
    "data['year_exposition'] = data['first_day_exposition'].dt.year #в новый столбец year_exposition добавляю год\n",
    "data.head() #проверяю изменения "
   ]
  },
  {
   "cell_type": "markdown",
   "metadata": {},
   "source": [
    "**Добавление в таблицу нового столбца - тип этажа квартиры (значения — «первый», «последний», «другой»).**"
   ]
  },
  {
   "cell_type": "code",
   "execution_count": 39,
   "metadata": {},
   "outputs": [
    {
     "data": {
      "text/html": [
       "<div>\n",
       "<style scoped>\n",
       "    .dataframe tbody tr th:only-of-type {\n",
       "        vertical-align: middle;\n",
       "    }\n",
       "\n",
       "    .dataframe tbody tr th {\n",
       "        vertical-align: top;\n",
       "    }\n",
       "\n",
       "    .dataframe thead th {\n",
       "        text-align: right;\n",
       "    }\n",
       "</style>\n",
       "<table border=\"1\" class=\"dataframe\">\n",
       "  <thead>\n",
       "    <tr style=\"text-align: right;\">\n",
       "      <th></th>\n",
       "      <th>total_images</th>\n",
       "      <th>last_price</th>\n",
       "      <th>total_area</th>\n",
       "      <th>first_day_exposition</th>\n",
       "      <th>rooms</th>\n",
       "      <th>ceiling_height</th>\n",
       "      <th>floors_total</th>\n",
       "      <th>living_area</th>\n",
       "      <th>floor</th>\n",
       "      <th>is_apartment</th>\n",
       "      <th>...</th>\n",
       "      <th>parks_around3000</th>\n",
       "      <th>parks_nearest</th>\n",
       "      <th>ponds_around3000</th>\n",
       "      <th>ponds_nearest</th>\n",
       "      <th>days_exposition</th>\n",
       "      <th>price_one_metr</th>\n",
       "      <th>day_week_exposition</th>\n",
       "      <th>month_exposition</th>\n",
       "      <th>year_exposition</th>\n",
       "      <th>type_floor</th>\n",
       "    </tr>\n",
       "  </thead>\n",
       "  <tbody>\n",
       "    <tr>\n",
       "      <th>0</th>\n",
       "      <td>20</td>\n",
       "      <td>13000000.0</td>\n",
       "      <td>108.0</td>\n",
       "      <td>2019-03-07</td>\n",
       "      <td>3</td>\n",
       "      <td>2.70</td>\n",
       "      <td>16</td>\n",
       "      <td>51.0</td>\n",
       "      <td>8</td>\n",
       "      <td>True</td>\n",
       "      <td>...</td>\n",
       "      <td>1</td>\n",
       "      <td>482.0</td>\n",
       "      <td>2</td>\n",
       "      <td>755.0</td>\n",
       "      <td>95</td>\n",
       "      <td>120370.370370</td>\n",
       "      <td>3</td>\n",
       "      <td>3</td>\n",
       "      <td>2019</td>\n",
       "      <td>Другой</td>\n",
       "    </tr>\n",
       "    <tr>\n",
       "      <th>1</th>\n",
       "      <td>7</td>\n",
       "      <td>3350000.0</td>\n",
       "      <td>40.4</td>\n",
       "      <td>2018-12-04</td>\n",
       "      <td>1</td>\n",
       "      <td>2.65</td>\n",
       "      <td>11</td>\n",
       "      <td>18.6</td>\n",
       "      <td>1</td>\n",
       "      <td>True</td>\n",
       "      <td>...</td>\n",
       "      <td>0</td>\n",
       "      <td>NaN</td>\n",
       "      <td>0</td>\n",
       "      <td>NaN</td>\n",
       "      <td>81</td>\n",
       "      <td>82920.792079</td>\n",
       "      <td>1</td>\n",
       "      <td>12</td>\n",
       "      <td>2018</td>\n",
       "      <td>Первый</td>\n",
       "    </tr>\n",
       "    <tr>\n",
       "      <th>2</th>\n",
       "      <td>10</td>\n",
       "      <td>5196000.0</td>\n",
       "      <td>56.0</td>\n",
       "      <td>2015-08-20</td>\n",
       "      <td>2</td>\n",
       "      <td>2.65</td>\n",
       "      <td>5</td>\n",
       "      <td>34.3</td>\n",
       "      <td>4</td>\n",
       "      <td>True</td>\n",
       "      <td>...</td>\n",
       "      <td>1</td>\n",
       "      <td>90.0</td>\n",
       "      <td>2</td>\n",
       "      <td>574.0</td>\n",
       "      <td>558</td>\n",
       "      <td>92785.714286</td>\n",
       "      <td>3</td>\n",
       "      <td>8</td>\n",
       "      <td>2015</td>\n",
       "      <td>Другой</td>\n",
       "    </tr>\n",
       "    <tr>\n",
       "      <th>3</th>\n",
       "      <td>0</td>\n",
       "      <td>64900000.0</td>\n",
       "      <td>159.0</td>\n",
       "      <td>2015-07-24</td>\n",
       "      <td>3</td>\n",
       "      <td>2.65</td>\n",
       "      <td>14</td>\n",
       "      <td>45.0</td>\n",
       "      <td>9</td>\n",
       "      <td>True</td>\n",
       "      <td>...</td>\n",
       "      <td>2</td>\n",
       "      <td>84.0</td>\n",
       "      <td>3</td>\n",
       "      <td>234.0</td>\n",
       "      <td>424</td>\n",
       "      <td>408176.100629</td>\n",
       "      <td>4</td>\n",
       "      <td>7</td>\n",
       "      <td>2015</td>\n",
       "      <td>Другой</td>\n",
       "    </tr>\n",
       "    <tr>\n",
       "      <th>4</th>\n",
       "      <td>2</td>\n",
       "      <td>10000000.0</td>\n",
       "      <td>100.0</td>\n",
       "      <td>2018-06-19</td>\n",
       "      <td>2</td>\n",
       "      <td>3.03</td>\n",
       "      <td>14</td>\n",
       "      <td>32.0</td>\n",
       "      <td>13</td>\n",
       "      <td>True</td>\n",
       "      <td>...</td>\n",
       "      <td>2</td>\n",
       "      <td>112.0</td>\n",
       "      <td>1</td>\n",
       "      <td>48.0</td>\n",
       "      <td>121</td>\n",
       "      <td>100000.000000</td>\n",
       "      <td>1</td>\n",
       "      <td>6</td>\n",
       "      <td>2018</td>\n",
       "      <td>Другой</td>\n",
       "    </tr>\n",
       "  </tbody>\n",
       "</table>\n",
       "<p>5 rows × 27 columns</p>\n",
       "</div>"
      ],
      "text/plain": [
       "   total_images  last_price  total_area first_day_exposition  rooms  \\\n",
       "0            20  13000000.0       108.0           2019-03-07      3   \n",
       "1             7   3350000.0        40.4           2018-12-04      1   \n",
       "2            10   5196000.0        56.0           2015-08-20      2   \n",
       "3             0  64900000.0       159.0           2015-07-24      3   \n",
       "4             2  10000000.0       100.0           2018-06-19      2   \n",
       "\n",
       "   ceiling_height  floors_total  living_area  floor  is_apartment  ...  \\\n",
       "0            2.70            16         51.0      8          True  ...   \n",
       "1            2.65            11         18.6      1          True  ...   \n",
       "2            2.65             5         34.3      4          True  ...   \n",
       "3            2.65            14         45.0      9          True  ...   \n",
       "4            3.03            14         32.0     13          True  ...   \n",
       "\n",
       "   parks_around3000  parks_nearest  ponds_around3000  ponds_nearest  \\\n",
       "0                 1          482.0                 2          755.0   \n",
       "1                 0            NaN                 0            NaN   \n",
       "2                 1           90.0                 2          574.0   \n",
       "3                 2           84.0                 3          234.0   \n",
       "4                 2          112.0                 1           48.0   \n",
       "\n",
       "  days_exposition  price_one_metr  day_week_exposition  month_exposition  \\\n",
       "0              95   120370.370370                    3                 3   \n",
       "1              81    82920.792079                    1                12   \n",
       "2             558    92785.714286                    3                 8   \n",
       "3             424   408176.100629                    4                 7   \n",
       "4             121   100000.000000                    1                 6   \n",
       "\n",
       "   year_exposition  type_floor  \n",
       "0             2019      Другой  \n",
       "1             2018      Первый  \n",
       "2             2015      Другой  \n",
       "3             2015      Другой  \n",
       "4             2018      Другой  \n",
       "\n",
       "[5 rows x 27 columns]"
      ]
     },
     "execution_count": 39,
     "metadata": {},
     "output_type": "execute_result"
    }
   ],
   "source": [
    "data['type_floor'] = np.where(data['floor'] == 1,'Первый', np.where(data['floor'] == data['floors_total'], 'Последний', 'Другой'))#добавляю в новый столбец данные через использование библиотеки numpy и метода where\n",
    "data.head(5)"
   ]
  },
  {
   "cell_type": "markdown",
   "metadata": {},
   "source": [
    "**Добавление в таблицу нового столбца - расстояние до центра города в километрах (переведите из м в км и округлите до целых значений).**"
   ]
  },
  {
   "cell_type": "code",
   "execution_count": 40,
   "metadata": {},
   "outputs": [
    {
     "data": {
      "text/html": [
       "<div>\n",
       "<style scoped>\n",
       "    .dataframe tbody tr th:only-of-type {\n",
       "        vertical-align: middle;\n",
       "    }\n",
       "\n",
       "    .dataframe tbody tr th {\n",
       "        vertical-align: top;\n",
       "    }\n",
       "\n",
       "    .dataframe thead th {\n",
       "        text-align: right;\n",
       "    }\n",
       "</style>\n",
       "<table border=\"1\" class=\"dataframe\">\n",
       "  <thead>\n",
       "    <tr style=\"text-align: right;\">\n",
       "      <th></th>\n",
       "      <th>total_images</th>\n",
       "      <th>last_price</th>\n",
       "      <th>total_area</th>\n",
       "      <th>first_day_exposition</th>\n",
       "      <th>rooms</th>\n",
       "      <th>ceiling_height</th>\n",
       "      <th>floors_total</th>\n",
       "      <th>living_area</th>\n",
       "      <th>floor</th>\n",
       "      <th>is_apartment</th>\n",
       "      <th>...</th>\n",
       "      <th>parks_nearest</th>\n",
       "      <th>ponds_around3000</th>\n",
       "      <th>ponds_nearest</th>\n",
       "      <th>days_exposition</th>\n",
       "      <th>price_one_metr</th>\n",
       "      <th>day_week_exposition</th>\n",
       "      <th>month_exposition</th>\n",
       "      <th>year_exposition</th>\n",
       "      <th>type_floor</th>\n",
       "      <th>cityCenters_nearest_km</th>\n",
       "    </tr>\n",
       "  </thead>\n",
       "  <tbody>\n",
       "    <tr>\n",
       "      <th>0</th>\n",
       "      <td>20</td>\n",
       "      <td>13000000.0</td>\n",
       "      <td>108.0</td>\n",
       "      <td>2019-03-07</td>\n",
       "      <td>3</td>\n",
       "      <td>2.70</td>\n",
       "      <td>16</td>\n",
       "      <td>51.0</td>\n",
       "      <td>8</td>\n",
       "      <td>True</td>\n",
       "      <td>...</td>\n",
       "      <td>482.0</td>\n",
       "      <td>2</td>\n",
       "      <td>755.0</td>\n",
       "      <td>95</td>\n",
       "      <td>120370.370370</td>\n",
       "      <td>3</td>\n",
       "      <td>3</td>\n",
       "      <td>2019</td>\n",
       "      <td>Другой</td>\n",
       "      <td>16.0</td>\n",
       "    </tr>\n",
       "    <tr>\n",
       "      <th>1</th>\n",
       "      <td>7</td>\n",
       "      <td>3350000.0</td>\n",
       "      <td>40.4</td>\n",
       "      <td>2018-12-04</td>\n",
       "      <td>1</td>\n",
       "      <td>2.65</td>\n",
       "      <td>11</td>\n",
       "      <td>18.6</td>\n",
       "      <td>1</td>\n",
       "      <td>True</td>\n",
       "      <td>...</td>\n",
       "      <td>NaN</td>\n",
       "      <td>0</td>\n",
       "      <td>NaN</td>\n",
       "      <td>81</td>\n",
       "      <td>82920.792079</td>\n",
       "      <td>1</td>\n",
       "      <td>12</td>\n",
       "      <td>2018</td>\n",
       "      <td>Первый</td>\n",
       "      <td>19.0</td>\n",
       "    </tr>\n",
       "    <tr>\n",
       "      <th>2</th>\n",
       "      <td>10</td>\n",
       "      <td>5196000.0</td>\n",
       "      <td>56.0</td>\n",
       "      <td>2015-08-20</td>\n",
       "      <td>2</td>\n",
       "      <td>2.65</td>\n",
       "      <td>5</td>\n",
       "      <td>34.3</td>\n",
       "      <td>4</td>\n",
       "      <td>True</td>\n",
       "      <td>...</td>\n",
       "      <td>90.0</td>\n",
       "      <td>2</td>\n",
       "      <td>574.0</td>\n",
       "      <td>558</td>\n",
       "      <td>92785.714286</td>\n",
       "      <td>3</td>\n",
       "      <td>8</td>\n",
       "      <td>2015</td>\n",
       "      <td>Другой</td>\n",
       "      <td>14.0</td>\n",
       "    </tr>\n",
       "    <tr>\n",
       "      <th>3</th>\n",
       "      <td>0</td>\n",
       "      <td>64900000.0</td>\n",
       "      <td>159.0</td>\n",
       "      <td>2015-07-24</td>\n",
       "      <td>3</td>\n",
       "      <td>2.65</td>\n",
       "      <td>14</td>\n",
       "      <td>45.0</td>\n",
       "      <td>9</td>\n",
       "      <td>True</td>\n",
       "      <td>...</td>\n",
       "      <td>84.0</td>\n",
       "      <td>3</td>\n",
       "      <td>234.0</td>\n",
       "      <td>424</td>\n",
       "      <td>408176.100629</td>\n",
       "      <td>4</td>\n",
       "      <td>7</td>\n",
       "      <td>2015</td>\n",
       "      <td>Другой</td>\n",
       "      <td>7.0</td>\n",
       "    </tr>\n",
       "    <tr>\n",
       "      <th>4</th>\n",
       "      <td>2</td>\n",
       "      <td>10000000.0</td>\n",
       "      <td>100.0</td>\n",
       "      <td>2018-06-19</td>\n",
       "      <td>2</td>\n",
       "      <td>3.03</td>\n",
       "      <td>14</td>\n",
       "      <td>32.0</td>\n",
       "      <td>13</td>\n",
       "      <td>True</td>\n",
       "      <td>...</td>\n",
       "      <td>112.0</td>\n",
       "      <td>1</td>\n",
       "      <td>48.0</td>\n",
       "      <td>121</td>\n",
       "      <td>100000.000000</td>\n",
       "      <td>1</td>\n",
       "      <td>6</td>\n",
       "      <td>2018</td>\n",
       "      <td>Другой</td>\n",
       "      <td>8.0</td>\n",
       "    </tr>\n",
       "  </tbody>\n",
       "</table>\n",
       "<p>5 rows × 28 columns</p>\n",
       "</div>"
      ],
      "text/plain": [
       "   total_images  last_price  total_area first_day_exposition  rooms  \\\n",
       "0            20  13000000.0       108.0           2019-03-07      3   \n",
       "1             7   3350000.0        40.4           2018-12-04      1   \n",
       "2            10   5196000.0        56.0           2015-08-20      2   \n",
       "3             0  64900000.0       159.0           2015-07-24      3   \n",
       "4             2  10000000.0       100.0           2018-06-19      2   \n",
       "\n",
       "   ceiling_height  floors_total  living_area  floor  is_apartment  ...  \\\n",
       "0            2.70            16         51.0      8          True  ...   \n",
       "1            2.65            11         18.6      1          True  ...   \n",
       "2            2.65             5         34.3      4          True  ...   \n",
       "3            2.65            14         45.0      9          True  ...   \n",
       "4            3.03            14         32.0     13          True  ...   \n",
       "\n",
       "   parks_nearest  ponds_around3000  ponds_nearest  days_exposition  \\\n",
       "0          482.0                 2          755.0               95   \n",
       "1            NaN                 0            NaN               81   \n",
       "2           90.0                 2          574.0              558   \n",
       "3           84.0                 3          234.0              424   \n",
       "4          112.0                 1           48.0              121   \n",
       "\n",
       "  price_one_metr  day_week_exposition  month_exposition  year_exposition  \\\n",
       "0  120370.370370                    3                 3             2019   \n",
       "1   82920.792079                    1                12             2018   \n",
       "2   92785.714286                    3                 8             2015   \n",
       "3  408176.100629                    4                 7             2015   \n",
       "4  100000.000000                    1                 6             2018   \n",
       "\n",
       "   type_floor  cityCenters_nearest_km  \n",
       "0      Другой                    16.0  \n",
       "1      Первый                    19.0  \n",
       "2      Другой                    14.0  \n",
       "3      Другой                     7.0  \n",
       "4      Другой                     8.0  \n",
       "\n",
       "[5 rows x 28 columns]"
      ]
     },
     "execution_count": 40,
     "metadata": {},
     "output_type": "execute_result"
    }
   ],
   "source": [
    "data['cityCenters_nearest_km'] = round(data['cityCenters_nearest']/1000) #перевожу метры в километры и округляю\n",
    "data.head(5)"
   ]
  },
  {
   "cell_type": "markdown",
   "metadata": {},
   "source": [
    "**Вывод** Новые столбцы добавлены в таблицу, всё необходимое - посчитано."
   ]
  },
  {
   "cell_type": "markdown",
   "metadata": {},
   "source": [
    "### Проведите исследовательский анализ данных"
   ]
  },
  {
   "cell_type": "markdown",
   "metadata": {},
   "source": [
    "**Изучим следующие параметры объектов**"
   ]
  },
  {
   "cell_type": "markdown",
   "metadata": {},
   "source": [
    "Общая площадь квартиры"
   ]
  },
  {
   "cell_type": "code",
   "execution_count": 41,
   "metadata": {},
   "outputs": [
    {
     "data": {
      "text/plain": [
       "<AxesSubplot:ylabel='Frequency'>"
      ]
     },
     "execution_count": 41,
     "metadata": {},
     "output_type": "execute_result"
    },
    {
     "data": {
      "image/png": "[encoded data removed]",
      "text/plain": [
       "<Figure size 432x288 with 1 Axes>"
      ]
     },
     "metadata": {
      "needs_background": "light"
     },
     "output_type": "display_data"
    }
   ],
   "source": [
    "data['total_area'].plot(kind='hist', bins=10, range=(0,100))"
   ]
  },
  {
   "cell_type": "markdown",
   "metadata": {},
   "source": [
    "**Вывод** Добавила range чтобы было лучше и ближе было видно показатели. Больше всего квартир площадью от 40 до 50 кв.м. (чуть больше 5000), 5000 объявлений с квартириами 30-40кв.м. 4 тысячи объявлений квартир с площадью 50-60 кв.м. 3 тысячи квартир с площадью 60-70 кв.м, 2 тысячи квартир 70-80кв.м., и около 2 тысяч квартир продается с общей площадью от 80 до 100 кв.м.  Чем больше площадь квартиры, тем меньше таких квартир продается."
   ]
  },
  {
   "cell_type": "markdown",
   "metadata": {},
   "source": [
    "Жилая площадь"
   ]
  },
  {
   "cell_type": "code",
   "execution_count": 42,
   "metadata": {},
   "outputs": [
    {
     "data": {
      "text/plain": [
       "<AxesSubplot:ylabel='Frequency'>"
      ]
     },
     "execution_count": 42,
     "metadata": {},
     "output_type": "execute_result"
    },
    {
     "data": {
      "image/png": "[encoded data removed]",
      "text/plain": [
       "<Figure size 432x288 with 1 Axes>"
      ]
     },
     "metadata": {
      "needs_background": "light"
     },
     "output_type": "display_data"
    }
   ],
   "source": [
    "data['living_area'].plot(kind='hist', bins=10, range=(0,200))"
   ]
  },
  {
   "cell_type": "markdown",
   "metadata": {},
   "source": [
    "**Вывод** По графику видно, что больше всего квартир с жилой площадью 25-40 кв.м. почти 10 000 объявлений, квартир с жилой площадью в 40-60кв.м в половину меньше, около 5 000. Жилая площадь до 25кв.м. у 7 тысяч квартир. Видна зависимость, чем больше жилая площадь квартиры, тем меньше таких квартир продается."
   ]
  },
  {
   "cell_type": "markdown",
   "metadata": {},
   "source": [
    "Площадь кухни"
   ]
  },
  {
   "cell_type": "code",
   "execution_count": 43,
   "metadata": {},
   "outputs": [
    {
     "data": {
      "text/plain": [
       "<AxesSubplot:ylabel='Frequency'>"
      ]
     },
     "execution_count": 43,
     "metadata": {},
     "output_type": "execute_result"
    },
    {
     "data": {
      "image/png": "[encoded data removed]",
      "text/plain": [
       "<Figure size 432x288 with 1 Axes>"
      ]
     },
     "metadata": {
      "needs_background": "light"
     },
     "output_type": "display_data"
    }
   ],
   "source": [
    "data['kitchen_area'].plot(kind='hist', bins=7, range=(0,35))"
   ]
  },
  {
   "cell_type": "markdown",
   "metadata": {},
   "source": [
    "**Вывод** У большого количества объявлений (14тысяч) квартиры с площадью кухни 5 - 10 кв.м., у большинства обычных квартир так и есть. E 7000 квартир кухни 10-15 метров. Далее видна зависимость, чем больше площадь кухни у квартиры, тем меньше таких квартир продается."
   ]
  },
  {
   "cell_type": "markdown",
   "metadata": {},
   "source": [
    "Цена объекта"
   ]
  },
  {
   "cell_type": "code",
   "execution_count": 44,
   "metadata": {},
   "outputs": [
    {
     "data": {
      "text/plain": [
       "<AxesSubplot:ylabel='Frequency'>"
      ]
     },
     "execution_count": 44,
     "metadata": {},
     "output_type": "execute_result"
    },
    {
     "data": {
      "image/png": "[encoded data removed]",
      "text/plain": [
       "<Figure size 432x288 with 1 Axes>"
      ]
     },
     "metadata": {
      "needs_background": "light"
     },
     "output_type": "display_data"
    }
   ],
   "source": [
    "data['last_price'].plot(kind='hist', bins=10, range=(0,21000000))"
   ]
  },
  {
   "cell_type": "markdown",
   "metadata": {},
   "source": [
    "**Вывод** При проверке аномалий была цифра в данном столбце в 21млн, поэтому в range решила добавить это значение. По гистограмме видео, что большее количество квартир (8 тысяч и 7 тысяч) продается за цену от 2,5млн до 6.5млн.рублей, до 2,5 млн квартир очень мало - всего 1500. Далее прослеживается зависимость, чем выше цена за квартиру, тем меньше объявлений о продаже."
   ]
  },
  {
   "cell_type": "markdown",
   "metadata": {},
   "source": [
    "Количество комнат"
   ]
  },
  {
   "cell_type": "code",
   "execution_count": 45,
   "metadata": {},
   "outputs": [
    {
     "data": {
      "text/plain": [
       "<AxesSubplot:ylabel='Frequency'>"
      ]
     },
     "execution_count": 45,
     "metadata": {},
     "output_type": "execute_result"
    },
    {
     "data": {
      "image/png": "[encoded data removed]",
      "text/plain": [
       "<Figure size 432x288 with 1 Axes>"
      ]
     },
     "metadata": {
      "needs_background": "light"
     },
     "output_type": "display_data"
    }
   ],
   "source": [
    "data3['rooms'].plot(kind='hist', bins=11, range=(0,10))"
   ]
  },
  {
   "cell_type": "markdown",
   "metadata": {},
   "source": [
    "**Вывод** Больше всего продается однокомнатных квартир (8000 объявлений), почти столько же двушек. Трехкомнатных по меньше - 6000 объявлений. Четырехкомнатных квартир всего 1000 объявлений, далее предложений о продаже все меньше и меньше. Потому что немногим людям нужно и подсилу иметь квартиру с 5 и более комнатами."
   ]
  },
  {
   "cell_type": "markdown",
   "metadata": {},
   "source": [
    "Высота потолков"
   ]
  },
  {
   "cell_type": "code",
   "execution_count": 46,
   "metadata": {},
   "outputs": [
    {
     "data": {
      "text/plain": [
       "<AxesSubplot:ylabel='Frequency'>"
      ]
     },
     "execution_count": 46,
     "metadata": {},
     "output_type": "execute_result"
    },
    {
     "data": {
      "image/png": "[encoded data removed]",
      "text/plain": [
       "<Figure size 432x288 with 1 Axes>"
      ]
     },
     "metadata": {
      "needs_background": "light"
     },
     "output_type": "display_data"
    }
   ],
   "source": [
    "data['ceiling_height'].plot(kind='hist', bins=8, range=(1,4))"
   ]
  },
  {
   "cell_type": "markdown",
   "metadata": {},
   "source": [
    "**Вывод** Видно, что большинство квартир с потолками от 2,5 метром (20 000 объявлений), с потолком в 3 метра всего 2500 объявлений."
   ]
  },
  {
   "cell_type": "markdown",
   "metadata": {},
   "source": [
    "Этаж квартиры"
   ]
  },
  {
   "cell_type": "code",
   "execution_count": 47,
   "metadata": {},
   "outputs": [
    {
     "data": {
      "text/plain": [
       "<AxesSubplot:ylabel='Frequency'>"
      ]
     },
     "execution_count": 47,
     "metadata": {},
     "output_type": "execute_result"
    },
    {
     "data": {
      "image/png": "[encoded data removed]",
      "text/plain": [
       "<Figure size 432x288 with 1 Axes>"
      ]
     },
     "metadata": {
      "needs_background": "light"
     },
     "output_type": "display_data"
    }
   ],
   "source": [
    "data['floor'].plot(kind='hist', bins=11, range=(0,30))"
   ]
  },
  {
   "cell_type": "markdown",
   "metadata": {},
   "source": [
    "**Вывод** Большинство квартир (8 500) продается выше второго этажа и до 7го. У 6200 квартир 1-2 этаж. 3500 квартир с этажами 6-9. Далее чем выше этаж, тем меньше квартир продается."
   ]
  },
  {
   "cell_type": "markdown",
   "metadata": {},
   "source": [
    "Тип этажа квартиры («первый», «последний», «другой»)"
   ]
  },
  {
   "cell_type": "code",
   "execution_count": 48,
   "metadata": {},
   "outputs": [
    {
     "data": {
      "text/plain": [
       "<AxesSubplot:>"
      ]
     },
     "execution_count": 48,
     "metadata": {},
     "output_type": "execute_result"
    },
    {
     "data": {
      "image/png": "[encoded data removed]",
      "text/plain": [
       "<Figure size 432x288 with 1 Axes>"
      ]
     },
     "metadata": {
      "needs_background": "light"
     },
     "output_type": "display_data"
    }
   ],
   "source": [
    "data['type_floor'].hist(bins=3)"
   ]
  },
  {
   "cell_type": "markdown",
   "metadata": {},
   "source": [
    "**Вывод** По гистограмме видно, что самыми не популярными являются квартиры на первом и последнем этаже 2500 и 3500 квартир. 17500 объявлений с продажей квартиры на других этажах."
   ]
  },
  {
   "cell_type": "markdown",
   "metadata": {},
   "source": [
    "Общее количество этажей в доме"
   ]
  },
  {
   "cell_type": "code",
   "execution_count": 49,
   "metadata": {},
   "outputs": [
    {
     "data": {
      "text/plain": [
       "<AxesSubplot:ylabel='Frequency'>"
      ]
     },
     "execution_count": 49,
     "metadata": {},
     "output_type": "execute_result"
    },
    {
     "data": {
      "image/png": "[encoded data removed]",
      "text/plain": [
       "<Figure size 432x288 with 1 Axes>"
      ]
     },
     "metadata": {
      "needs_background": "light"
     },
     "output_type": "display_data"
    }
   ],
   "source": [
    "data['floors_total'].plot(kind='hist', bins=10, range=(0,30))"
   ]
  },
  {
   "cell_type": "markdown",
   "metadata": {},
   "source": [
    "**Вывод** Почти 8тыс объявлений с квартирами в трех-пяти этажных домах, 5тыс квартир продаются в 9ти-12ти этажных домах, менее популярные дома с 6-9 этажами (5000 квартир), 13-ти этажные дома и более высокие дома тоже не особо популярны."
   ]
  },
  {
   "cell_type": "markdown",
   "metadata": {},
   "source": [
    "Расстояние до центра города в метрах"
   ]
  },
  {
   "cell_type": "code",
   "execution_count": 50,
   "metadata": {},
   "outputs": [
    {
     "data": {
      "text/plain": [
       "<AxesSubplot:ylabel='Frequency'>"
      ]
     },
     "execution_count": 50,
     "metadata": {},
     "output_type": "execute_result"
    },
    {
     "data": {
      "image/png": "[encoded data removed]",
      "text/plain": [
       "<Figure size 432x288 with 1 Axes>"
      ]
     },
     "metadata": {
      "needs_background": "light"
     },
     "output_type": "display_data"
    }
   ],
   "source": [
    "data['cityCenters_nearest'].plot(kind='hist')"
   ]
  },
  {
   "cell_type": "markdown",
   "metadata": {},
   "source": [
    "**Вывод** Чуть больше 6тыс квартир находятся на расстоянии от центра города от 6км до 15000, 6000 объявлений квартир на расстоянии от 15 до20км, дальше чем больше расстояние, тем меньшее количество квартир продается, меньше 1 тысячи."
   ]
  },
  {
   "cell_type": "markdown",
   "metadata": {},
   "source": [
    "Расстояние до ближайшего аэропорта"
   ]
  },
  {
   "cell_type": "code",
   "execution_count": 51,
   "metadata": {},
   "outputs": [
    {
     "data": {
      "text/plain": [
       "<AxesSubplot:ylabel='Frequency'>"
      ]
     },
     "execution_count": 51,
     "metadata": {},
     "output_type": "execute_result"
    },
    {
     "data": {
      "image/png": "[encoded data removed]",
      "text/plain": [
       "<Figure size 432x288 with 1 Axes>"
      ]
     },
     "metadata": {
      "needs_background": "light"
     },
     "output_type": "display_data"
    }
   ],
   "source": [
    "data['airports_nearest'].plot(kind='hist')"
   ]
  },
  {
   "cell_type": "markdown",
   "metadata": {},
   "source": [
    "**Вывод** По гистограмме видно, что большинство квартир (почти 5тысяч) находятся в 20км от аэропорта, по 3500 квартир на расстоянии от 10км до 20км и  25-35км от аэропорта, далее чем дальше от аэропорта, тем меньше квартир продается."
   ]
  },
  {
   "cell_type": "markdown",
   "metadata": {},
   "source": [
    "Расстояние до ближайшего парка"
   ]
  },
  {
   "cell_type": "code",
   "execution_count": 52,
   "metadata": {},
   "outputs": [
    {
     "data": {
      "text/plain": [
       "<AxesSubplot:ylabel='Frequency'>"
      ]
     },
     "execution_count": 52,
     "metadata": {},
     "output_type": "execute_result"
    },
    {
     "data": {
      "image/png": "[encoded data removed]",
      "text/plain": [
       "<Figure size 432x288 with 1 Axes>"
      ]
     },
     "metadata": {
      "needs_background": "light"
     },
     "output_type": "display_data"
    }
   ],
   "source": [
    "data['parks_nearest'].plot(kind='hist', bins=10, range=(0,1500))"
   ]
  },
  {
   "cell_type": "markdown",
   "metadata": {},
   "source": [
    "**Вывод** Почти 4тыс квартир находятся на расстоянии 300-600метром до ближайшего парка это очень близко, такие квартиры чаще продаются, у 1400 квартир парк в 200 метрах, а у 1250 квартир парк в 600-800 метрах."
   ]
  },
  {
   "cell_type": "markdown",
   "metadata": {},
   "source": [
    "День и месяц публикации объявления"
   ]
  },
  {
   "cell_type": "code",
   "execution_count": 53,
   "metadata": {},
   "outputs": [
    {
     "data": {
      "text/plain": [
       "<AxesSubplot:ylabel='Frequency'>"
      ]
     },
     "execution_count": 53,
     "metadata": {},
     "output_type": "execute_result"
    },
    {
     "data": {
      "image/png": "[encoded data removed]",
      "text/plain": [
       "<Figure size 432x288 with 1 Axes>"
      ]
     },
     "metadata": {
      "needs_background": "light"
     },
     "output_type": "display_data"
    }
   ],
   "source": [
    "data['day_week_exposition'].plot(kind='hist')"
   ]
  },
  {
   "cell_type": "code",
   "execution_count": 54,
   "metadata": {},
   "outputs": [
    {
     "data": {
      "text/plain": [
       "<AxesSubplot:ylabel='Frequency'>"
      ]
     },
     "execution_count": 54,
     "metadata": {},
     "output_type": "execute_result"
    },
    {
     "data": {
      "image/png": "[encoded data removed]",
      "text/plain": [
       "<Figure size 432x288 with 1 Axes>"
      ]
     },
     "metadata": {
      "needs_background": "light"
     },
     "output_type": "display_data"
    }
   ],
   "source": [
    "data['month_exposition'].plot(kind='hist')"
   ]
  },
  {
   "cell_type": "markdown",
   "metadata": {},
   "source": [
    "**Вывод** Здесь видно, что больше всего публикуется объявлений о продаже квартир в будние дни, в выходные дни значительно меньше 20000 в будни и 8000 в выходные - меньше 4000. По месяцам - самые популярные месяца для публикации объявлений оказались декабрь и январь, по 4тысячи объявлений, чуть меньше около 2500 объявлений в месяца: февраль, март, апрель. Самый низкий показатель май, возможно из-за большого количества майских праздников, лето - практически стабильно около 1500 объявлений в каждый месяц, осенью начинается постепенное увеличение объявлений о продаже квартир."
   ]
  },
  {
   "cell_type": "markdown",
   "metadata": {},
   "source": [
    "Как быстро продавались квартиры"
   ]
  },
  {
   "cell_type": "code",
   "execution_count": 55,
   "metadata": {},
   "outputs": [
    {
     "data": {
      "text/plain": [
       "<AxesSubplot:ylabel='Frequency'>"
      ]
     },
     "execution_count": 55,
     "metadata": {},
     "output_type": "execute_result"
    },
    {
     "data": {
      "image/png": "[encoded data removed]",
      "text/plain": [
       "<Figure size 720x432 with 1 Axes>"
      ]
     },
     "metadata": {
      "needs_background": "light"
     },
     "output_type": "display_data"
    }
   ],
   "source": [
    "data['days_exposition'].plot(kind='hist', bins=50, figsize=(10,6), range=(0,1500))"
   ]
  },
  {
   "cell_type": "markdown",
   "metadata": {},
   "source": [
    "Самое большое количество квартир, 5 тысяч продали в течении 75-100 дней, по 3500 квартир продали за 25-50 дней, меньше квартир (2500) продали в течении срока 50-75 дней, далее 1200 квартир продали за 100-125 дней, далее чем дольше срок продажи, тем меньше объявлений. \n"
   ]
  },
  {
   "cell_type": "code",
   "execution_count": 56,
   "metadata": {},
   "outputs": [
    {
     "data": {
      "text/plain": [
       "(169.34930114358323, 95.0)"
      ]
     },
     "execution_count": 56,
     "metadata": {},
     "output_type": "execute_result"
    }
   ],
   "source": [
    "data['days_exposition'].mean(), data['days_exposition'].median() #считаю среднее и медиану\n"
   ]
  },
  {
   "cell_type": "markdown",
   "metadata": {},
   "source": [
    "**Выводы** Получается, что 95 дней это медианное значение. В этом столбце достаточно большой разброс данных. Если квартиру продали в течении первого месяца это можно считать быстрой продажей, а вот 169 дней это долгая продажа."
   ]
  },
  {
   "cell_type": "markdown",
   "metadata": {},
   "source": [
    "**Какие факторы больше всего влияют на общую (полную) стоимость объекта?**\n"
   ]
  },
  {
   "cell_type": "markdown",
   "metadata": {},
   "source": [
    "Изучим зависит ли цена от общей площади"
   ]
  },
  {
   "cell_type": "code",
   "execution_count": 57,
   "metadata": {},
   "outputs": [
    {
     "data": {
      "text/plain": [
       "0.6536360648200396"
      ]
     },
     "metadata": {},
     "output_type": "display_data"
    },
    {
     "data": {
      "text/plain": [
       "<AxesSubplot:xlabel='last_price', ylabel='total_area'>"
      ]
     },
     "execution_count": 57,
     "metadata": {},
     "output_type": "execute_result"
    },
    {
     "data": {
      "image/png": "[encoded data removed]",
      "text/plain": [
       "<Figure size 432x288 with 1 Axes>"
      ]
     },
     "metadata": {
      "needs_background": "light"
     },
     "output_type": "display_data"
    }
   ],
   "source": [
    "display(data['last_price'].corr(data['total_area']))#коффициент корреляции Пирсона\n",
    "data.plot(x='last_price', y='total_area', kind='scatter')#диаграмма рассеивания"
   ]
  },
  {
   "cell_type": "markdown",
   "metadata": {},
   "source": [
    "**Вывод** Использовала коффициент Пирсона и диаграмму рассеивания для оценки взаимосвязи. Коффициент равен 0.65, это ближе к единице, чем к нулю, зависимость цены от общей площади существует, но не сильная."
   ]
  },
  {
   "cell_type": "markdown",
   "metadata": {},
   "source": [
    "Посмотрим зависимость цены от жилой площади"
   ]
  },
  {
   "cell_type": "code",
   "execution_count": 58,
   "metadata": {},
   "outputs": [
    {
     "data": {
      "text/plain": [
       "0.5560636145195025"
      ]
     },
     "metadata": {},
     "output_type": "display_data"
    },
    {
     "data": {
      "text/plain": [
       "<AxesSubplot:xlabel='last_price', ylabel='living_area'>"
      ]
     },
     "execution_count": 58,
     "metadata": {},
     "output_type": "execute_result"
    },
    {
     "data": {
      "image/png": "[encoded data removed]",
      "text/plain": [
       "<Figure size 432x288 with 1 Axes>"
      ]
     },
     "metadata": {
      "needs_background": "light"
     },
     "output_type": "display_data"
    }
   ],
   "source": [
    "display(data['last_price'].corr(data['living_area']))#коффициент корреляции Пирсона\n",
    "data.plot(x='last_price', y='living_area', kind='scatter')#диаграмма рассеивания"
   ]
  },
  {
   "cell_type": "markdown",
   "metadata": {},
   "source": [
    "**Вывод** Засисимость цены от жилой площади квартиры меньше, чем зависимость цены от общей площади квартиры, всего 0.56. Скорее всего потому что при продаже/поиске квартиры, чаще всего фигурирует общая площадь квартиры."
   ]
  },
  {
   "cell_type": "markdown",
   "metadata": {},
   "source": [
    "Посмотрим зависимость цены от площади кухни"
   ]
  },
  {
   "cell_type": "code",
   "execution_count": 59,
   "metadata": {},
   "outputs": [
    {
     "data": {
      "text/plain": [
       "0.45153553442317973"
      ]
     },
     "metadata": {},
     "output_type": "display_data"
    },
    {
     "data": {
      "text/plain": [
       "<AxesSubplot:xlabel='last_price', ylabel='kitchen_area'>"
      ]
     },
     "execution_count": 59,
     "metadata": {},
     "output_type": "execute_result"
    },
    {
     "data": {
      "image/png": "[encoded data removed]",
      "text/plain": [
       "<Figure size 432x288 with 1 Axes>"
      ]
     },
     "metadata": {
      "needs_background": "light"
     },
     "output_type": "display_data"
    }
   ],
   "source": [
    "display(data['last_price'].corr(data['kitchen_area']))#коффициент корреляции Пирсона\n",
    "data.plot(x='last_price', y='kitchen_area', kind='scatter')#диаграмма рассеивания"
   ]
  },
  {
   "cell_type": "markdown",
   "metadata": {},
   "source": [
    "**Вывод** Еще меньше зависимость цены от площади кухни, всего 0.45. Такая зависимость ближе к нулю, чем к единице, поэтому можно сказать, что её практически нет."
   ]
  },
  {
   "cell_type": "markdown",
   "metadata": {},
   "source": [
    "Посмотрим зависимость цены от количества комнат"
   ]
  },
  {
   "cell_type": "code",
   "execution_count": 60,
   "metadata": {},
   "outputs": [
    {
     "data": {
      "text/plain": [
       "0.006130211810965086"
      ]
     },
     "metadata": {},
     "output_type": "display_data"
    },
    {
     "data": {
      "text/plain": [
       "<AxesSubplot:xlabel='rooms'>"
      ]
     },
     "execution_count": 60,
     "metadata": {},
     "output_type": "execute_result"
    },
    {
     "data": {
      "image/png": "[encoded data removed]",
      "text/plain": [
       "<Figure size 720x360 with 1 Axes>"
      ]
     },
     "metadata": {
      "needs_background": "light"
     },
     "output_type": "display_data"
    }
   ],
   "source": [
    "display(data['last_price'].corr(data3['rooms']))#коффициент корреляции Пирсона\n",
    "#data.plot(x='last_price', y='rooms', kind='scatter')#диаграмма рассеивания\n",
    "price_rooms = data3.pivot_table(index='rooms', values='last_price')#сводная таблица\n",
    "price_rooms.plot(y='last_price', kind='bar', figsize=(10,5))#столбчатый график"
   ]
  },
  {
   "cell_type": "markdown",
   "metadata": {},
   "source": [
    "**Вывод** Здесь зависимость еще меньше, 0.06. На стоимость квартиры количество комнат не особо влияет получается. Но видно, что цена выше с увеличением количества комнат."
   ]
  },
  {
   "cell_type": "markdown",
   "metadata": {},
   "source": [
    "Посмотрим зависимость цены от этажа, на котором расположена квартира (первый, последний, другой)"
   ]
  },
  {
   "cell_type": "code",
   "execution_count": 61,
   "metadata": {},
   "outputs": [
    {
     "data": {
      "text/plain": [
       "<AxesSubplot:xlabel='floor'>"
      ]
     },
     "execution_count": 61,
     "metadata": {},
     "output_type": "execute_result"
    },
    {
     "data": {
      "image/png": "[encoded data removed]",
      "text/plain": [
       "<Figure size 720x360 with 1 Axes>"
      ]
     },
     "metadata": {
      "needs_background": "light"
     },
     "output_type": "display_data"
    }
   ],
   "source": [
    "price_floor = data.pivot_table(index='floor', values='last_price', aggfunc={'count', 'mean'})#сводная таблица\n",
    "price_floor.plot(y='mean', kind='bar', figsize=(10,5))# столбчатый график"
   ]
  },
  {
   "cell_type": "markdown",
   "metadata": {},
   "source": [
    "**Вывод** Самая низкая цена на квартиры на первом этаже, 26 и 27, цены повыше на квартиры на высоких этажах, у остальных этажей цена примерно одинаковая."
   ]
  },
  {
   "cell_type": "markdown",
   "metadata": {},
   "source": [
    "Посмотрим зависимость цены от даты размещения (день недели, месяц, год)"
   ]
  },
  {
   "cell_type": "code",
   "execution_count": 62,
   "metadata": {},
   "outputs": [
    {
     "data": {
      "text/plain": [
       "<AxesSubplot:xlabel='day_week_exposition'>"
      ]
     },
     "execution_count": 62,
     "metadata": {},
     "output_type": "execute_result"
    },
    {
     "data": {
      "image/png": "[encoded data removed]",
      "text/plain": [
       "<Figure size 720x360 with 1 Axes>"
      ]
     },
     "metadata": {
      "needs_background": "light"
     },
     "output_type": "display_data"
    }
   ],
   "source": [
    "price_day_week_exposition = data.pivot_table(index='day_week_exposition', values='last_price', aggfunc={'count', 'mean'})#сводная таблица\n",
    "price_day_week_exposition.plot(y='mean', kind='bar', figsize=(10,5))# столбчатый график"
   ]
  },
  {
   "cell_type": "markdown",
   "metadata": {},
   "source": [
    "**Вывод** Самая высокая цена в субботу, большой зависимости цены от даты размещения нет."
   ]
  },
  {
   "cell_type": "code",
   "execution_count": 63,
   "metadata": {},
   "outputs": [
    {
     "data": {
      "text/plain": [
       "<AxesSubplot:xlabel='month_exposition'>"
      ]
     },
     "execution_count": 63,
     "metadata": {},
     "output_type": "execute_result"
    },
    {
     "data": {
      "image/png": "[encoded data removed]",
      "text/plain": [
       "<Figure size 720x360 with 1 Axes>"
      ]
     },
     "metadata": {
      "needs_background": "light"
     },
     "output_type": "display_data"
    }
   ],
   "source": [
    "price_month_exposition = data.pivot_table(index='month_exposition', values='last_price', aggfunc={'count', 'mean'})#сводная таблица\n",
    "price_month_exposition.plot(y='mean', kind='bar', figsize=(10,5))# столбчатый график"
   ]
  },
  {
   "cell_type": "markdown",
   "metadata": {},
   "source": [
    "**Вывод** Зависимость цены от месяца публикации по средним показателям не наблюдается."
   ]
  },
  {
   "cell_type": "code",
   "execution_count": 64,
   "metadata": {},
   "outputs": [
    {
     "data": {
      "text/plain": [
       "<AxesSubplot:xlabel='year_exposition'>"
      ]
     },
     "execution_count": 64,
     "metadata": {},
     "output_type": "execute_result"
    },
    {
     "data": {
      "image/png": "[encoded data removed]",
      "text/plain": [
       "<Figure size 720x360 with 1 Axes>"
      ]
     },
     "metadata": {
      "needs_background": "light"
     },
     "output_type": "display_data"
    }
   ],
   "source": [
    "price_year_exposition = data.pivot_table(index='year_exposition', values='last_price', aggfunc={'count', 'mean'})#сводная таблица\n",
    "price_year_exposition.plot(y='mean', kind='bar', figsize=(10,5))# столбчатый график"
   ]
  },
  {
   "cell_type": "markdown",
   "metadata": {},
   "source": [
    "**Вывод** В 2014 году был подъем цен, далее шел спад до 2019. В 2019 году цена немного выросла.  "
   ]
  },
  {
   "cell_type": "markdown",
   "metadata": {},
   "source": [
    "Посчитаем среднюю цену одного квадратного метра в 10 населённых пунктах с наибольшим числом объявлений. Выделим населённые пункты с самой высокой и низкой стоимостью квадратного метра."
   ]
  },
  {
   "cell_type": "code",
   "execution_count": 65,
   "metadata": {},
   "outputs": [
    {
     "data": {
      "text/html": [
       "<div>\n",
       "<style scoped>\n",
       "    .dataframe tbody tr th:only-of-type {\n",
       "        vertical-align: middle;\n",
       "    }\n",
       "\n",
       "    .dataframe tbody tr th {\n",
       "        vertical-align: top;\n",
       "    }\n",
       "\n",
       "    .dataframe thead th {\n",
       "        text-align: right;\n",
       "    }\n",
       "</style>\n",
       "<table border=\"1\" class=\"dataframe\">\n",
       "  <thead>\n",
       "    <tr style=\"text-align: right;\">\n",
       "      <th></th>\n",
       "      <th>count</th>\n",
       "      <th>mean</th>\n",
       "    </tr>\n",
       "    <tr>\n",
       "      <th>locality_name</th>\n",
       "      <th></th>\n",
       "      <th></th>\n",
       "    </tr>\n",
       "  </thead>\n",
       "  <tbody>\n",
       "    <tr>\n",
       "      <th>Санкт-Петербург</th>\n",
       "      <td>15648</td>\n",
       "      <td>114838.684222</td>\n",
       "    </tr>\n",
       "    <tr>\n",
       "      <th>поселок Мурино</th>\n",
       "      <td>552</td>\n",
       "      <td>85629.568678</td>\n",
       "    </tr>\n",
       "    <tr>\n",
       "      <th>поселок Шушары</th>\n",
       "      <td>439</td>\n",
       "      <td>78551.344545</td>\n",
       "    </tr>\n",
       "    <tr>\n",
       "      <th>Всеволожск</th>\n",
       "      <td>398</td>\n",
       "      <td>68654.473986</td>\n",
       "    </tr>\n",
       "    <tr>\n",
       "      <th>Пушкин</th>\n",
       "      <td>369</td>\n",
       "      <td>103125.819291</td>\n",
       "    </tr>\n",
       "    <tr>\n",
       "      <th>Колпино</th>\n",
       "      <td>338</td>\n",
       "      <td>75424.579098</td>\n",
       "    </tr>\n",
       "    <tr>\n",
       "      <th>поселок Парголово</th>\n",
       "      <td>327</td>\n",
       "      <td>90175.913458</td>\n",
       "    </tr>\n",
       "    <tr>\n",
       "      <th>Гатчина</th>\n",
       "      <td>307</td>\n",
       "      <td>68746.146763</td>\n",
       "    </tr>\n",
       "    <tr>\n",
       "      <th>деревня Кудрово</th>\n",
       "      <td>299</td>\n",
       "      <td>92473.547576</td>\n",
       "    </tr>\n",
       "    <tr>\n",
       "      <th>Выборг</th>\n",
       "      <td>237</td>\n",
       "      <td>58141.909153</td>\n",
       "    </tr>\n",
       "  </tbody>\n",
       "</table>\n",
       "</div>"
      ],
      "text/plain": [
       "                   count           mean\n",
       "locality_name                          \n",
       "Санкт-Петербург    15648  114838.684222\n",
       "поселок Мурино       552   85629.568678\n",
       "поселок Шушары       439   78551.344545\n",
       "Всеволожск           398   68654.473986\n",
       "Пушкин               369  103125.819291\n",
       "Колпино              338   75424.579098\n",
       "поселок Парголово    327   90175.913458\n",
       "Гатчина              307   68746.146763\n",
       "деревня Кудрово      299   92473.547576\n",
       "Выборг               237   58141.909153"
      ]
     },
     "execution_count": 65,
     "metadata": {},
     "output_type": "execute_result"
    }
   ],
   "source": [
    "mean_price_onemetr = data.pivot_table(index='locality_name', values='price_one_metr', aggfunc={'mean', 'count'})#сводная таблица по населенным пунктам с расчетом средней цены одного квадратного метра\n",
    "mean_price_onemetr = mean_price_onemetr.sort_values(by='count', ascending=False)#сортировка по убыванию\n",
    "mean_price_onemetr.head(10)"
   ]
  },
  {
   "cell_type": "markdown",
   "metadata": {},
   "source": [
    "Выделите населённые пункты с самой высокой и низкой стоимостью квадратного метра. Эти данные можно найти по имени в столбце `locality_name`.\""
   ]
  },
  {
   "cell_type": "code",
   "execution_count": 66,
   "metadata": {},
   "outputs": [
    {
     "data": {
      "text/html": [
       "<div>\n",
       "<style scoped>\n",
       "    .dataframe tbody tr th:only-of-type {\n",
       "        vertical-align: middle;\n",
       "    }\n",
       "\n",
       "    .dataframe tbody tr th {\n",
       "        vertical-align: top;\n",
       "    }\n",
       "\n",
       "    .dataframe thead th {\n",
       "        text-align: right;\n",
       "    }\n",
       "</style>\n",
       "<table border=\"1\" class=\"dataframe\">\n",
       "  <thead>\n",
       "    <tr style=\"text-align: right;\">\n",
       "      <th></th>\n",
       "      <th>count</th>\n",
       "      <th>mean</th>\n",
       "    </tr>\n",
       "    <tr>\n",
       "      <th>locality_name</th>\n",
       "      <th></th>\n",
       "      <th></th>\n",
       "    </tr>\n",
       "  </thead>\n",
       "  <tbody>\n",
       "    <tr>\n",
       "      <th>Зеленогорск</th>\n",
       "      <td>24</td>\n",
       "      <td>115122.799198</td>\n",
       "    </tr>\n",
       "  </tbody>\n",
       "</table>\n",
       "</div>"
      ],
      "text/plain": [
       "               count           mean\n",
       "locality_name                      \n",
       "Зеленогорск       24  115122.799198"
      ]
     },
     "execution_count": 66,
     "metadata": {},
     "output_type": "execute_result"
    }
   ],
   "source": [
    "max_mean_price_onemetr = mean_price_onemetr.sort_values(by='mean', ascending=False)#сортировка по убыванию\n",
    "max_mean_price_onemetr.head(1)"
   ]
  },
  {
   "cell_type": "markdown",
   "metadata": {},
   "source": [
    "**Вывод** Самая высокая стоимость за квадратный метр в Зеленогорске. "
   ]
  },
  {
   "cell_type": "code",
   "execution_count": 67,
   "metadata": {},
   "outputs": [
    {
     "data": {
      "text/html": [
       "<div>\n",
       "<style scoped>\n",
       "    .dataframe tbody tr th:only-of-type {\n",
       "        vertical-align: middle;\n",
       "    }\n",
       "\n",
       "    .dataframe tbody tr th {\n",
       "        vertical-align: top;\n",
       "    }\n",
       "\n",
       "    .dataframe thead th {\n",
       "        text-align: right;\n",
       "    }\n",
       "</style>\n",
       "<table border=\"1\" class=\"dataframe\">\n",
       "  <thead>\n",
       "    <tr style=\"text-align: right;\">\n",
       "      <th></th>\n",
       "      <th>count</th>\n",
       "      <th>mean</th>\n",
       "    </tr>\n",
       "    <tr>\n",
       "      <th>locality_name</th>\n",
       "      <th></th>\n",
       "      <th></th>\n",
       "    </tr>\n",
       "  </thead>\n",
       "  <tbody>\n",
       "    <tr>\n",
       "      <th>деревня Старополье</th>\n",
       "      <td>3</td>\n",
       "      <td>11206.221198</td>\n",
       "    </tr>\n",
       "  </tbody>\n",
       "</table>\n",
       "</div>"
      ],
      "text/plain": [
       "                    count          mean\n",
       "locality_name                          \n",
       "деревня Старополье      3  11206.221198"
      ]
     },
     "execution_count": 67,
     "metadata": {},
     "output_type": "execute_result"
    }
   ],
   "source": [
    "min_mean_price_onemetr = mean_price_onemetr.sort_values(by='mean', ascending=True)\n",
    "min_mean_price_onemetr.head(1)"
   ]
  },
  {
   "cell_type": "markdown",
   "metadata": {},
   "source": [
    "**Вывод** Самая низкая стоимость квадратного метра в деревне Старополье."
   ]
  },
  {
   "cell_type": "markdown",
   "metadata": {},
   "source": [
    "Выделим квартиры в Санкт-Петербурге и вычислите среднюю цену каждого километра.\n"
   ]
  },
  {
   "cell_type": "code",
   "execution_count": 68,
   "metadata": {},
   "outputs": [
    {
     "data": {
      "text/html": [
       "<div>\n",
       "<style scoped>\n",
       "    .dataframe tbody tr th:only-of-type {\n",
       "        vertical-align: middle;\n",
       "    }\n",
       "\n",
       "    .dataframe tbody tr th {\n",
       "        vertical-align: top;\n",
       "    }\n",
       "\n",
       "    .dataframe thead th {\n",
       "        text-align: right;\n",
       "    }\n",
       "</style>\n",
       "<table border=\"1\" class=\"dataframe\">\n",
       "  <thead>\n",
       "    <tr style=\"text-align: right;\">\n",
       "      <th></th>\n",
       "      <th>mean</th>\n",
       "      <th>mean_price</th>\n",
       "    </tr>\n",
       "    <tr>\n",
       "      <th>cityCenters_nearest_km</th>\n",
       "      <th></th>\n",
       "      <th></th>\n",
       "    </tr>\n",
       "  </thead>\n",
       "  <tbody>\n",
       "    <tr>\n",
       "      <th>0.0</th>\n",
       "      <td>3.144912e+07</td>\n",
       "      <td>31.449116</td>\n",
       "    </tr>\n",
       "    <tr>\n",
       "      <th>1.0</th>\n",
       "      <td>2.120672e+07</td>\n",
       "      <td>21.206721</td>\n",
       "    </tr>\n",
       "    <tr>\n",
       "      <th>2.0</th>\n",
       "      <td>1.778832e+07</td>\n",
       "      <td>17.788320</td>\n",
       "    </tr>\n",
       "    <tr>\n",
       "      <th>3.0</th>\n",
       "      <td>1.113739e+07</td>\n",
       "      <td>11.137395</td>\n",
       "    </tr>\n",
       "    <tr>\n",
       "      <th>4.0</th>\n",
       "      <td>1.330428e+07</td>\n",
       "      <td>13.304280</td>\n",
       "    </tr>\n",
       "    <tr>\n",
       "      <th>5.0</th>\n",
       "      <td>1.445600e+07</td>\n",
       "      <td>14.455996</td>\n",
       "    </tr>\n",
       "    <tr>\n",
       "      <th>6.0</th>\n",
       "      <td>1.533842e+07</td>\n",
       "      <td>15.338418</td>\n",
       "    </tr>\n",
       "    <tr>\n",
       "      <th>7.0</th>\n",
       "      <td>1.477515e+07</td>\n",
       "      <td>14.775153</td>\n",
       "    </tr>\n",
       "    <tr>\n",
       "      <th>8.0</th>\n",
       "      <td>9.940594e+06</td>\n",
       "      <td>9.940594</td>\n",
       "    </tr>\n",
       "    <tr>\n",
       "      <th>9.0</th>\n",
       "      <td>6.956583e+06</td>\n",
       "      <td>6.956583</td>\n",
       "    </tr>\n",
       "    <tr>\n",
       "      <th>10.0</th>\n",
       "      <td>6.500434e+06</td>\n",
       "      <td>6.500434</td>\n",
       "    </tr>\n",
       "    <tr>\n",
       "      <th>11.0</th>\n",
       "      <td>6.228108e+06</td>\n",
       "      <td>6.228108</td>\n",
       "    </tr>\n",
       "    <tr>\n",
       "      <th>12.0</th>\n",
       "      <td>5.834953e+06</td>\n",
       "      <td>5.834953</td>\n",
       "    </tr>\n",
       "    <tr>\n",
       "      <th>13.0</th>\n",
       "      <td>6.077643e+06</td>\n",
       "      <td>6.077643</td>\n",
       "    </tr>\n",
       "    <tr>\n",
       "      <th>14.0</th>\n",
       "      <td>5.625193e+06</td>\n",
       "      <td>5.625193</td>\n",
       "    </tr>\n",
       "    <tr>\n",
       "      <th>15.0</th>\n",
       "      <td>5.876323e+06</td>\n",
       "      <td>5.876323</td>\n",
       "    </tr>\n",
       "    <tr>\n",
       "      <th>16.0</th>\n",
       "      <td>5.373131e+06</td>\n",
       "      <td>5.373131</td>\n",
       "    </tr>\n",
       "    <tr>\n",
       "      <th>17.0</th>\n",
       "      <td>5.299496e+06</td>\n",
       "      <td>5.299496</td>\n",
       "    </tr>\n",
       "    <tr>\n",
       "      <th>18.0</th>\n",
       "      <td>5.091331e+06</td>\n",
       "      <td>5.091331</td>\n",
       "    </tr>\n",
       "    <tr>\n",
       "      <th>19.0</th>\n",
       "      <td>5.051410e+06</td>\n",
       "      <td>5.051410</td>\n",
       "    </tr>\n",
       "    <tr>\n",
       "      <th>20.0</th>\n",
       "      <td>5.951465e+06</td>\n",
       "      <td>5.951465</td>\n",
       "    </tr>\n",
       "    <tr>\n",
       "      <th>21.0</th>\n",
       "      <td>5.493469e+06</td>\n",
       "      <td>5.493469</td>\n",
       "    </tr>\n",
       "    <tr>\n",
       "      <th>22.0</th>\n",
       "      <td>5.415524e+06</td>\n",
       "      <td>5.415524</td>\n",
       "    </tr>\n",
       "    <tr>\n",
       "      <th>23.0</th>\n",
       "      <td>4.985376e+06</td>\n",
       "      <td>4.985376</td>\n",
       "    </tr>\n",
       "    <tr>\n",
       "      <th>24.0</th>\n",
       "      <td>3.854430e+06</td>\n",
       "      <td>3.854430</td>\n",
       "    </tr>\n",
       "    <tr>\n",
       "      <th>25.0</th>\n",
       "      <td>4.052840e+06</td>\n",
       "      <td>4.052840</td>\n",
       "    </tr>\n",
       "    <tr>\n",
       "      <th>26.0</th>\n",
       "      <td>4.014287e+06</td>\n",
       "      <td>4.014287</td>\n",
       "    </tr>\n",
       "    <tr>\n",
       "      <th>27.0</th>\n",
       "      <td>8.300000e+06</td>\n",
       "      <td>8.300000</td>\n",
       "    </tr>\n",
       "    <tr>\n",
       "      <th>28.0</th>\n",
       "      <td>5.026429e+06</td>\n",
       "      <td>5.026429</td>\n",
       "    </tr>\n",
       "    <tr>\n",
       "      <th>29.0</th>\n",
       "      <td>4.236667e+06</td>\n",
       "      <td>4.236667</td>\n",
       "    </tr>\n",
       "  </tbody>\n",
       "</table>\n",
       "</div>"
      ],
      "text/plain": [
       "                                mean  mean_price\n",
       "cityCenters_nearest_km                          \n",
       "0.0                     3.144912e+07   31.449116\n",
       "1.0                     2.120672e+07   21.206721\n",
       "2.0                     1.778832e+07   17.788320\n",
       "3.0                     1.113739e+07   11.137395\n",
       "4.0                     1.330428e+07   13.304280\n",
       "5.0                     1.445600e+07   14.455996\n",
       "6.0                     1.533842e+07   15.338418\n",
       "7.0                     1.477515e+07   14.775153\n",
       "8.0                     9.940594e+06    9.940594\n",
       "9.0                     6.956583e+06    6.956583\n",
       "10.0                    6.500434e+06    6.500434\n",
       "11.0                    6.228108e+06    6.228108\n",
       "12.0                    5.834953e+06    5.834953\n",
       "13.0                    6.077643e+06    6.077643\n",
       "14.0                    5.625193e+06    5.625193\n",
       "15.0                    5.876323e+06    5.876323\n",
       "16.0                    5.373131e+06    5.373131\n",
       "17.0                    5.299496e+06    5.299496\n",
       "18.0                    5.091331e+06    5.091331\n",
       "19.0                    5.051410e+06    5.051410\n",
       "20.0                    5.951465e+06    5.951465\n",
       "21.0                    5.493469e+06    5.493469\n",
       "22.0                    5.415524e+06    5.415524\n",
       "23.0                    4.985376e+06    4.985376\n",
       "24.0                    3.854430e+06    3.854430\n",
       "25.0                    4.052840e+06    4.052840\n",
       "26.0                    4.014287e+06    4.014287\n",
       "27.0                    8.300000e+06    8.300000\n",
       "28.0                    5.026429e+06    5.026429\n",
       "29.0                    4.236667e+06    4.236667"
      ]
     },
     "metadata": {},
     "output_type": "display_data"
    },
    {
     "data": {
      "text/plain": [
       "<AxesSubplot:xlabel='cityCenters_nearest_km'>"
      ]
     },
     "execution_count": 68,
     "metadata": {},
     "output_type": "execute_result"
    },
    {
     "data": {
      "image/png": "[encoded data removed]",
      "text/plain": [
       "<Figure size 720x360 with 1 Axes>"
      ]
     },
     "metadata": {
      "needs_background": "light"
     },
     "output_type": "display_data"
    }
   ],
   "source": [
    "mean_price_km_v_spb = data.loc[data['locality_name']=='Санкт-Петербург'].pivot_table(index='cityCenters_nearest_km', values='last_price', aggfunc={'mean'})# выделение квартир в СПб, сводная таблица для вычисления средней цены каждого километра\n",
    "mean_price_km_v_spb['mean_price'] = mean_price_km_v_spb['mean']/1000000 #для наглядности поделила на 1млн\n",
    "display(mean_price_km_v_spb)\n",
    "mean_price_km_v_spb.plot(y='mean_price', kind='bar', figsize=(10,5))# столбчатый график"
   ]
  },
  {
   "cell_type": "markdown",
   "metadata": {},
   "source": [
    "**Вывод** По таблице видно, что стоимость квартиры напрямую зависит от расстояния до центра города. Цена километра в центре СПб 31.45, а в 29 километрах от центра - цена километра всего 4.24. В центре города хорошо развитая инфраструктура, все удобства для жизни, работы и развития. В более отдаленных территориях такого нет. Большая разница в цене видна невооруженным взглядом."
   ]
  },
  {
   "cell_type": "markdown",
   "metadata": {},
   "source": [
    "### Общий вывод"
   ]
  },
  {
   "cell_type": "markdown",
   "metadata": {},
   "source": [
    "1. Самое большое количество объявлений о продаже квартир (чуть больше 5 тысяч объявлений) с общей площадью от 40 до 50 кв.м. 5000 квартир с площадью 30-40 кв.м., далее идет снижение, чем больше площадь, тем меньше таких объявлений о продаже квартир - 4000 обявлений с квартирами 50-60кв.м., 3000 - 60-70кв.м., 2000 - 70-80кв.м., 2000 - 80-100кв.м. Из них 10 000 квартир с жилой площадью 40-60кв.м., 7 000 квартир с жилой площадью до 25 кв.м., далее прослеживается зависимость, чем больше жилая площадь, тем меньше таких квартир продается. \n",
    "\n",
    "2. Самая распространенная площадь кухни (у 14 тысяч квартир) это 5-10 кв.м., у 7000 квартир кухня 10-15 кв.м. Большая кухня это предмет роскоши, поэтому чем больше кухня, тем меньше таких квартир продается и они конечно стоят дороже. 15 тысяч квартир продается за цену от 2,5млн до 6.5млн.рублей. Самые дешевые квартиры до 2.5 млн всего 1000 объявлений, далее чем выше цена за квартиру, тем меньше предложений на рынке недвижимости. 16 тысяч квартир пополам это однокомнатные и двухкомнатные, всего 6000 оъявлений с трехкомнатными квартирами, четырехкомнатных всего 1000. \n",
    "\n",
    "3. 20 000 квартир с высотой потолков 2.5 - 2.7 метров. У 3000 квартир потолки в 3 метра высотой. У 8500 квартир этаж с 3 до 7,  у 6200 квартир первые 1-2 этаж, у 3500 этаж 6-9, далее чем выше этаж, тем меньше объявлений о продаже квартир. Самыми не популярными этажами оказались первый и последний. \n",
    "\n",
    "4. Большинство продаваемых квартир в 3х,4х и 5пятииэтижных домах около 8000. Менее популярные квартиры в 6-9тиэтажных домах - 5000 квартир. Почти 12 000 квартир находятся на растоянии 9-20км от центра города, далее чем дальше, тем меньше предложений о продаже квартир. Все квартиры находятся на расстоянии от аэропорта менее, чем в 60км.\n",
    "\n",
    "5. Больше всего квартир продается в будние дни, в выходные дни значительно меньше. По месяцам - самые распространенные оказались декабрь и январь, по 4тысячи объявлений, чуть меньше около 2500 объявлений в месяца: февраль, март, апрель. Самый низкий показатель май, возможно из-за большого количества майских праздников, лето - практически стабильно около 1500 объявлений в каждый месяц, осенью начинается постепенное увеличение объявлений о продаже квартир. Чаще всего объявления о продаже квартиры публикуются в будние дни, самыми популярными месяцами стали декабрь и январь. В среднем продажа квартиры занимает 95 дней, быстрой продажей считается срок в 1 месяц, долгой - 169 дней.\n",
    "\n",
    "6. На стоимость квартиры влияет общая и жилая площадь, этаж продаваемой квартиры, площадь кухни. Цена не зависит от дня публикации объявления и месяца публикации, в 2014 году был подъем цен на квартиры, далее спад, до 2019 года. Самая высокая стоимость за квадратный метр в Зеленогорске. \n",
    " \n",
    "7. Самая низкая стоимость квадратного метра в деревне Старополье. Стоимость квартиры напрямую зависит от расстояния до центра города. Цена километра в центре СПб 31.45, а в 29 километрах от центра - цена километра всего 4.24. В центре города хорошо развитая инфраструктура, все удобства для жизни, работы и развития. В более отдаленных территориях от крупного города таких возможностей меньше."
   ]
  }
 ],
 "metadata": {
  "ExecuteTimeLog": [
   {
    "duration": 410,
    "start_time": "2023-02-21T15:36:19.704Z"
   },
   {
    "duration": 137,
    "start_time": "2023-02-21T15:36:22.598Z"
   },
   {
    "duration": 16,
    "start_time": "2023-02-21T15:38:06.028Z"
   },
   {
    "duration": 22,
    "start_time": "2023-02-21T15:38:38.773Z"
   },
   {
    "duration": 394,
    "start_time": "2023-02-21T15:40:30.768Z"
   },
   {
    "duration": 97,
    "start_time": "2023-02-21T15:51:36.235Z"
   },
   {
    "duration": 55,
    "start_time": "2023-02-21T15:51:45.818Z"
   },
   {
    "duration": 2233,
    "start_time": "2023-02-21T15:53:38.712Z"
   },
   {
    "duration": 11,
    "start_time": "2023-02-21T16:05:21.759Z"
   },
   {
    "duration": 16,
    "start_time": "2023-02-21T16:17:58.520Z"
   },
   {
    "duration": 50,
    "start_time": "2023-02-21T16:18:06.726Z"
   },
   {
    "duration": 268,
    "start_time": "2023-02-21T16:24:13.537Z"
   },
   {
    "duration": 10,
    "start_time": "2023-02-21T16:24:22.686Z"
   },
   {
    "duration": 54,
    "start_time": "2023-02-21T16:24:48.607Z"
   },
   {
    "duration": 9,
    "start_time": "2023-02-21T16:31:32.596Z"
   },
   {
    "duration": 51,
    "start_time": "2023-02-21T16:33:15.205Z"
   },
   {
    "duration": 14,
    "start_time": "2023-02-21T16:33:49.074Z"
   },
   {
    "duration": 813,
    "start_time": "2023-02-21T16:42:28.920Z"
   },
   {
    "duration": 1064,
    "start_time": "2023-02-21T16:42:36.490Z"
   },
   {
    "duration": 10,
    "start_time": "2023-02-21T16:44:40.700Z"
   },
   {
    "duration": 718,
    "start_time": "2023-02-21T16:45:28.767Z"
   },
   {
    "duration": 12,
    "start_time": "2023-02-21T16:46:31.561Z"
   },
   {
    "duration": 268,
    "start_time": "2023-02-21T16:50:32.630Z"
   },
   {
    "duration": 1113,
    "start_time": "2023-02-21T16:50:47.810Z"
   },
   {
    "duration": 13,
    "start_time": "2023-02-21T16:51:38.353Z"
   },
   {
    "duration": 50,
    "start_time": "2023-02-21T16:52:25.453Z"
   },
   {
    "duration": 260,
    "start_time": "2023-02-21T16:53:33.261Z"
   },
   {
    "duration": 41,
    "start_time": "2023-02-21T16:56:39.008Z"
   },
   {
    "duration": 415,
    "start_time": "2023-02-22T04:58:58.521Z"
   },
   {
    "duration": 236,
    "start_time": "2023-02-22T04:59:01.979Z"
   },
   {
    "duration": 74,
    "start_time": "2023-02-22T04:59:18.065Z"
   },
   {
    "duration": 2542,
    "start_time": "2023-02-22T04:59:31.935Z"
   },
   {
    "duration": 15,
    "start_time": "2023-02-22T04:59:45.464Z"
   },
   {
    "duration": 28,
    "start_time": "2023-02-22T04:59:59.748Z"
   },
   {
    "duration": 55,
    "start_time": "2023-02-22T05:02:59.183Z"
   },
   {
    "duration": 58,
    "start_time": "2023-02-22T05:03:09.862Z"
   },
   {
    "duration": 51,
    "start_time": "2023-02-22T05:03:57.379Z"
   },
   {
    "duration": 15,
    "start_time": "2023-02-22T05:04:18.656Z"
   },
   {
    "duration": 40,
    "start_time": "2023-02-22T05:04:54.072Z"
   },
   {
    "duration": 55,
    "start_time": "2023-02-22T05:08:44.853Z"
   },
   {
    "duration": 58,
    "start_time": "2023-02-22T05:09:15.841Z"
   },
   {
    "duration": 9,
    "start_time": "2023-02-22T05:09:34.328Z"
   },
   {
    "duration": 32,
    "start_time": "2023-02-22T05:15:41.017Z"
   },
   {
    "duration": 97,
    "start_time": "2023-02-22T05:16:15.101Z"
   },
   {
    "duration": 114,
    "start_time": "2023-02-22T05:16:25.384Z"
   },
   {
    "duration": 129,
    "start_time": "2023-02-22T05:16:55.885Z"
   },
   {
    "duration": 38,
    "start_time": "2023-02-22T05:17:18.954Z"
   },
   {
    "duration": 59,
    "start_time": "2023-02-22T05:18:00.379Z"
   },
   {
    "duration": 50,
    "start_time": "2023-02-22T05:24:05.220Z"
   },
   {
    "duration": 51,
    "start_time": "2023-02-22T05:30:16.311Z"
   },
   {
    "duration": 17,
    "start_time": "2023-02-22T05:41:01.192Z"
   },
   {
    "duration": 11,
    "start_time": "2023-02-22T05:41:34.950Z"
   },
   {
    "duration": 1859,
    "start_time": "2023-02-22T05:50:32.080Z"
   },
   {
    "duration": 2046,
    "start_time": "2023-02-22T05:51:00.820Z"
   },
   {
    "duration": 1890,
    "start_time": "2023-02-22T05:52:59.209Z"
   },
   {
    "duration": 855,
    "start_time": "2023-02-22T08:07:46.738Z"
   },
   {
    "duration": 16,
    "start_time": "2023-02-22T08:08:21.587Z"
   },
   {
    "duration": 14,
    "start_time": "2023-02-22T08:09:32.316Z"
   },
   {
    "duration": 14,
    "start_time": "2023-02-22T08:10:18.995Z"
   },
   {
    "duration": 15,
    "start_time": "2023-02-22T08:11:13.424Z"
   },
   {
    "duration": 21,
    "start_time": "2023-02-22T08:12:30.159Z"
   },
   {
    "duration": 2,
    "start_time": "2023-02-22T08:16:50.534Z"
   },
   {
    "duration": 12,
    "start_time": "2023-02-22T08:18:42.444Z"
   },
   {
    "duration": 53,
    "start_time": "2023-02-22T08:18:58.401Z"
   },
   {
    "duration": 19,
    "start_time": "2023-02-22T08:21:28.143Z"
   },
   {
    "duration": 22,
    "start_time": "2023-02-22T08:23:29.709Z"
   },
   {
    "duration": 14,
    "start_time": "2023-02-22T08:49:39.682Z"
   },
   {
    "duration": 17,
    "start_time": "2023-02-22T08:49:50.770Z"
   },
   {
    "duration": 24,
    "start_time": "2023-02-22T08:50:11.817Z"
   },
   {
    "duration": 8,
    "start_time": "2023-02-22T09:06:36.401Z"
   },
   {
    "duration": 14,
    "start_time": "2023-02-22T09:35:07.375Z"
   },
   {
    "duration": 10,
    "start_time": "2023-02-22T09:45:08.772Z"
   },
   {
    "duration": 16,
    "start_time": "2023-02-22T09:52:17.117Z"
   },
   {
    "duration": 12,
    "start_time": "2023-02-22T10:10:03.918Z"
   },
   {
    "duration": 11,
    "start_time": "2023-02-22T10:10:12.819Z"
   },
   {
    "duration": 8,
    "start_time": "2023-02-22T10:22:14.414Z"
   },
   {
    "duration": 9,
    "start_time": "2023-02-22T10:27:23.696Z"
   },
   {
    "duration": 12,
    "start_time": "2023-02-22T10:33:12.131Z"
   },
   {
    "duration": 43,
    "start_time": "2023-02-22T10:35:19.936Z"
   },
   {
    "duration": 6,
    "start_time": "2023-02-22T10:35:25.436Z"
   },
   {
    "duration": 7,
    "start_time": "2023-02-22T10:36:28.156Z"
   },
   {
    "duration": 8,
    "start_time": "2023-02-22T10:37:13.361Z"
   },
   {
    "duration": 6,
    "start_time": "2023-02-22T10:37:35.776Z"
   },
   {
    "duration": 65,
    "start_time": "2023-02-22T10:44:47.909Z"
   },
   {
    "duration": 11,
    "start_time": "2023-02-22T10:45:00.071Z"
   },
   {
    "duration": 12,
    "start_time": "2023-02-22T10:47:00.295Z"
   },
   {
    "duration": 64,
    "start_time": "2023-02-22T10:55:22.861Z"
   },
   {
    "duration": 39,
    "start_time": "2023-02-22T10:56:57.077Z"
   },
   {
    "duration": 34,
    "start_time": "2023-02-22T10:59:50.958Z"
   },
   {
    "duration": 28,
    "start_time": "2023-02-22T11:00:52.350Z"
   },
   {
    "duration": 26,
    "start_time": "2023-02-22T11:01:53.059Z"
   },
   {
    "duration": 25,
    "start_time": "2023-02-22T11:03:09.504Z"
   },
   {
    "duration": 42,
    "start_time": "2023-02-22T11:03:56.639Z"
   },
   {
    "duration": 52,
    "start_time": "2023-02-22T11:06:19.171Z"
   },
   {
    "duration": 8,
    "start_time": "2023-02-22T12:13:19.903Z"
   },
   {
    "duration": 7,
    "start_time": "2023-02-22T12:16:07.316Z"
   },
   {
    "duration": 7,
    "start_time": "2023-02-22T12:16:19.985Z"
   },
   {
    "duration": 7,
    "start_time": "2023-02-22T12:17:23.130Z"
   },
   {
    "duration": 4,
    "start_time": "2023-02-22T12:18:06.464Z"
   },
   {
    "duration": 5,
    "start_time": "2023-02-22T12:18:21.064Z"
   },
   {
    "duration": 30,
    "start_time": "2023-02-22T12:19:05.352Z"
   },
   {
    "duration": 31,
    "start_time": "2023-02-22T12:28:51.156Z"
   },
   {
    "duration": 11,
    "start_time": "2023-02-22T12:30:41.363Z"
   },
   {
    "duration": 25,
    "start_time": "2023-02-22T12:38:58.409Z"
   },
   {
    "duration": 12,
    "start_time": "2023-02-22T12:39:14.824Z"
   },
   {
    "duration": 11,
    "start_time": "2023-02-22T12:39:36.522Z"
   },
   {
    "duration": 11,
    "start_time": "2023-02-22T12:43:00.656Z"
   },
   {
    "duration": 20,
    "start_time": "2023-02-22T12:46:22.037Z"
   },
   {
    "duration": 13,
    "start_time": "2023-02-22T12:47:39.636Z"
   },
   {
    "duration": 29,
    "start_time": "2023-02-22T12:48:32.928Z"
   },
   {
    "duration": 24,
    "start_time": "2023-02-22T12:48:45.880Z"
   },
   {
    "duration": 11,
    "start_time": "2023-02-22T12:49:39.767Z"
   },
   {
    "duration": 12,
    "start_time": "2023-02-22T12:50:28.170Z"
   },
   {
    "duration": 12,
    "start_time": "2023-02-22T12:50:43.663Z"
   },
   {
    "duration": 15,
    "start_time": "2023-02-22T12:59:11.772Z"
   },
   {
    "duration": 13,
    "start_time": "2023-02-22T13:00:59.611Z"
   },
   {
    "duration": 6,
    "start_time": "2023-02-22T13:01:08.516Z"
   },
   {
    "duration": 9,
    "start_time": "2023-02-22T13:02:31.128Z"
   },
   {
    "duration": 10,
    "start_time": "2023-02-22T13:03:16.030Z"
   },
   {
    "duration": 10,
    "start_time": "2023-02-22T13:03:38.211Z"
   },
   {
    "duration": 9,
    "start_time": "2023-02-22T13:03:47.047Z"
   },
   {
    "duration": 14,
    "start_time": "2023-02-22T13:06:30.619Z"
   },
   {
    "duration": 17,
    "start_time": "2023-02-22T13:07:23.821Z"
   },
   {
    "duration": 16,
    "start_time": "2023-02-22T13:08:22.643Z"
   },
   {
    "duration": 10,
    "start_time": "2023-02-22T13:08:40.661Z"
   },
   {
    "duration": 20,
    "start_time": "2023-02-22T13:10:03.896Z"
   },
   {
    "duration": 14,
    "start_time": "2023-02-22T13:10:29.951Z"
   },
   {
    "duration": 10,
    "start_time": "2023-02-22T13:10:37.023Z"
   },
   {
    "duration": 9,
    "start_time": "2023-02-22T13:13:34.337Z"
   },
   {
    "duration": 7,
    "start_time": "2023-02-22T13:13:59.729Z"
   },
   {
    "duration": 16,
    "start_time": "2023-02-22T13:16:58.824Z"
   },
   {
    "duration": 6,
    "start_time": "2023-02-22T13:18:36.862Z"
   },
   {
    "duration": 5,
    "start_time": "2023-02-22T13:21:31.216Z"
   },
   {
    "duration": 8,
    "start_time": "2023-02-22T13:21:52.962Z"
   },
   {
    "duration": 6,
    "start_time": "2023-02-22T13:21:58.169Z"
   },
   {
    "duration": 9,
    "start_time": "2023-02-22T13:22:21.502Z"
   },
   {
    "duration": 16,
    "start_time": "2023-02-22T13:22:31.397Z"
   },
   {
    "duration": 11,
    "start_time": "2023-02-22T13:22:59.498Z"
   },
   {
    "duration": 71,
    "start_time": "2023-02-22T13:24:31.760Z"
   },
   {
    "duration": 10,
    "start_time": "2023-02-22T13:24:40.326Z"
   },
   {
    "duration": 9,
    "start_time": "2023-02-22T13:28:02.502Z"
   },
   {
    "duration": 39,
    "start_time": "2023-02-22T13:28:31.277Z"
   },
   {
    "duration": 57,
    "start_time": "2023-02-22T13:34:23.717Z"
   },
   {
    "duration": 212,
    "start_time": "2023-02-22T14:05:35.607Z"
   },
   {
    "duration": 7,
    "start_time": "2023-02-22T14:10:29.269Z"
   },
   {
    "duration": 18,
    "start_time": "2023-02-22T14:11:22.905Z"
   },
   {
    "duration": 190,
    "start_time": "2023-02-22T14:13:15.576Z"
   },
   {
    "duration": 11,
    "start_time": "2023-02-22T14:24:13.328Z"
   },
   {
    "duration": 29,
    "start_time": "2023-02-22T14:28:43.340Z"
   },
   {
    "duration": 23,
    "start_time": "2023-02-22T14:30:20.481Z"
   },
   {
    "duration": 35,
    "start_time": "2023-02-22T14:42:54.234Z"
   },
   {
    "duration": 47,
    "start_time": "2023-02-22T14:54:54.980Z"
   },
   {
    "duration": 33,
    "start_time": "2023-02-22T14:55:50.702Z"
   },
   {
    "duration": 42,
    "start_time": "2023-02-22T14:57:13.304Z"
   },
   {
    "duration": 196,
    "start_time": "2023-02-22T15:02:15.176Z"
   },
   {
    "duration": 436,
    "start_time": "2023-02-22T17:18:39.979Z"
   },
   {
    "duration": 152,
    "start_time": "2023-02-22T17:21:55.264Z"
   },
   {
    "duration": 68,
    "start_time": "2023-02-22T17:22:01.687Z"
   },
   {
    "duration": 37,
    "start_time": "2023-02-22T17:22:23.408Z"
   },
   {
    "duration": 2306,
    "start_time": "2023-02-22T17:22:34.638Z"
   },
   {
    "duration": 10,
    "start_time": "2023-02-22T17:23:17.686Z"
   },
   {
    "duration": 34,
    "start_time": "2023-02-22T17:24:03.187Z"
   },
   {
    "duration": 11,
    "start_time": "2023-02-22T17:24:33.858Z"
   },
   {
    "duration": 35,
    "start_time": "2023-02-22T17:24:43.030Z"
   },
   {
    "duration": 49,
    "start_time": "2023-02-22T17:25:03.841Z"
   },
   {
    "duration": 10,
    "start_time": "2023-02-22T17:26:01.852Z"
   },
   {
    "duration": 57,
    "start_time": "2023-02-22T17:26:28.361Z"
   },
   {
    "duration": 34,
    "start_time": "2023-02-22T17:26:40.366Z"
   },
   {
    "duration": 36,
    "start_time": "2023-02-22T17:27:24.055Z"
   },
   {
    "duration": 42,
    "start_time": "2023-02-22T17:28:06.300Z"
   },
   {
    "duration": 3,
    "start_time": "2023-02-22T17:28:53.588Z"
   },
   {
    "duration": 23,
    "start_time": "2023-02-22T17:29:02.657Z"
   },
   {
    "duration": 86,
    "start_time": "2023-02-22T17:30:21.605Z"
   },
   {
    "duration": 14,
    "start_time": "2023-02-22T17:30:50.095Z"
   },
   {
    "duration": 20,
    "start_time": "2023-02-22T17:31:49.157Z"
   },
   {
    "duration": 19,
    "start_time": "2023-02-22T17:32:15.789Z"
   },
   {
    "duration": 19,
    "start_time": "2023-02-22T17:32:39.783Z"
   },
   {
    "duration": 22,
    "start_time": "2023-02-22T17:34:14.902Z"
   },
   {
    "duration": 20,
    "start_time": "2023-02-22T17:34:22.803Z"
   },
   {
    "duration": 23,
    "start_time": "2023-02-22T17:35:21.424Z"
   },
   {
    "duration": 11,
    "start_time": "2023-02-22T17:35:49.878Z"
   },
   {
    "duration": 16,
    "start_time": "2023-02-22T17:38:22.060Z"
   },
   {
    "duration": 39,
    "start_time": "2023-02-22T17:38:34.182Z"
   },
   {
    "duration": 417,
    "start_time": "2023-02-23T06:41:03.198Z"
   },
   {
    "duration": 149,
    "start_time": "2023-02-23T06:41:05.983Z"
   },
   {
    "duration": 54,
    "start_time": "2023-02-23T06:41:14.538Z"
   },
   {
    "duration": 2373,
    "start_time": "2023-02-23T06:41:28.040Z"
   },
   {
    "duration": 10,
    "start_time": "2023-02-23T06:41:45.825Z"
   },
   {
    "duration": 12,
    "start_time": "2023-02-23T06:41:54.917Z"
   },
   {
    "duration": 38,
    "start_time": "2023-02-23T06:42:09.032Z"
   },
   {
    "duration": 11,
    "start_time": "2023-02-23T06:42:21.025Z"
   },
   {
    "duration": 37,
    "start_time": "2023-02-23T06:42:37.576Z"
   },
   {
    "duration": 40,
    "start_time": "2023-02-23T06:42:45.728Z"
   },
   {
    "duration": 44,
    "start_time": "2023-02-23T06:43:06.429Z"
   },
   {
    "duration": 26,
    "start_time": "2023-02-23T06:43:28.504Z"
   },
   {
    "duration": 22,
    "start_time": "2023-02-23T06:44:28.560Z"
   },
   {
    "duration": 20,
    "start_time": "2023-02-23T06:44:53.384Z"
   },
   {
    "duration": 37,
    "start_time": "2023-02-23T06:45:07.473Z"
   },
   {
    "duration": 6,
    "start_time": "2023-02-23T06:49:39.393Z"
   },
   {
    "duration": 15,
    "start_time": "2023-02-23T06:49:46.949Z"
   },
   {
    "duration": 8,
    "start_time": "2023-02-23T06:49:58.044Z"
   },
   {
    "duration": 7,
    "start_time": "2023-02-23T06:50:12.295Z"
   },
   {
    "duration": 20,
    "start_time": "2023-02-23T06:50:25.634Z"
   },
   {
    "duration": 9,
    "start_time": "2023-02-23T06:50:52.917Z"
   },
   {
    "duration": 12,
    "start_time": "2023-02-23T06:51:00.841Z"
   },
   {
    "duration": 6,
    "start_time": "2023-02-23T06:51:18.114Z"
   },
   {
    "duration": 18,
    "start_time": "2023-02-23T06:52:23.838Z"
   },
   {
    "duration": 27,
    "start_time": "2023-02-23T06:53:10.771Z"
   },
   {
    "duration": 23,
    "start_time": "2023-02-23T06:53:56.627Z"
   },
   {
    "duration": 38,
    "start_time": "2023-02-23T06:54:20.706Z"
   },
   {
    "duration": 2,
    "start_time": "2023-02-23T06:55:40.761Z"
   },
   {
    "duration": 88,
    "start_time": "2023-02-23T06:55:43.717Z"
   },
   {
    "duration": 44,
    "start_time": "2023-02-23T06:55:45.023Z"
   },
   {
    "duration": 2042,
    "start_time": "2023-02-23T06:55:46.622Z"
   },
   {
    "duration": 9,
    "start_time": "2023-02-23T06:55:55.002Z"
   },
   {
    "duration": 11,
    "start_time": "2023-02-23T06:55:57.021Z"
   },
   {
    "duration": 41,
    "start_time": "2023-02-23T06:56:08.774Z"
   },
   {
    "duration": 11,
    "start_time": "2023-02-23T06:56:16.769Z"
   },
   {
    "duration": 37,
    "start_time": "2023-02-23T06:56:30.696Z"
   },
   {
    "duration": 39,
    "start_time": "2023-02-23T06:56:38.869Z"
   },
   {
    "duration": 41,
    "start_time": "2023-02-23T06:57:10.958Z"
   },
   {
    "duration": 3,
    "start_time": "2023-02-23T06:58:06.619Z"
   },
   {
    "duration": 20,
    "start_time": "2023-02-23T06:58:10.779Z"
   },
   {
    "duration": 22,
    "start_time": "2023-02-23T06:58:16.255Z"
   },
   {
    "duration": 40,
    "start_time": "2023-02-23T06:58:35.681Z"
   },
   {
    "duration": 7,
    "start_time": "2023-02-23T06:58:53.977Z"
   },
   {
    "duration": 16,
    "start_time": "2023-02-23T06:59:00.506Z"
   },
   {
    "duration": 7,
    "start_time": "2023-02-23T06:59:06.432Z"
   },
   {
    "duration": 6,
    "start_time": "2023-02-23T06:59:09.655Z"
   },
   {
    "duration": 7,
    "start_time": "2023-02-23T06:59:15.830Z"
   },
   {
    "duration": 16,
    "start_time": "2023-02-23T06:59:23.260Z"
   },
   {
    "duration": 8,
    "start_time": "2023-02-23T06:59:30.125Z"
   },
   {
    "duration": 14,
    "start_time": "2023-02-23T06:59:33.261Z"
   },
   {
    "duration": 25,
    "start_time": "2023-02-23T06:59:39.668Z"
   },
   {
    "duration": 22,
    "start_time": "2023-02-23T06:59:47.000Z"
   },
   {
    "duration": 37,
    "start_time": "2023-02-23T06:59:58.263Z"
   },
   {
    "duration": 45,
    "start_time": "2023-02-23T07:05:50.388Z"
   },
   {
    "duration": 52,
    "start_time": "2023-02-23T07:10:46.736Z"
   },
   {
    "duration": 24,
    "start_time": "2023-02-23T07:11:26.061Z"
   },
   {
    "duration": 3,
    "start_time": "2023-02-23T07:12:30.749Z"
   },
   {
    "duration": 88,
    "start_time": "2023-02-23T07:13:13.184Z"
   },
   {
    "duration": 47,
    "start_time": "2023-02-23T07:13:14.310Z"
   },
   {
    "duration": 2039,
    "start_time": "2023-02-23T07:13:15.200Z"
   },
   {
    "duration": 11,
    "start_time": "2023-02-23T07:13:17.404Z"
   },
   {
    "duration": 10,
    "start_time": "2023-02-23T07:13:18.001Z"
   },
   {
    "duration": 38,
    "start_time": "2023-02-23T07:13:19.988Z"
   },
   {
    "duration": 10,
    "start_time": "2023-02-23T07:13:21.749Z"
   },
   {
    "duration": 37,
    "start_time": "2023-02-23T07:13:23.430Z"
   },
   {
    "duration": 41,
    "start_time": "2023-02-23T07:13:25.400Z"
   },
   {
    "duration": 42,
    "start_time": "2023-02-23T07:13:27.103Z"
   },
   {
    "duration": 3,
    "start_time": "2023-02-23T07:13:27.473Z"
   },
   {
    "duration": 21,
    "start_time": "2023-02-23T07:13:27.992Z"
   },
   {
    "duration": 25,
    "start_time": "2023-02-23T07:13:28.159Z"
   },
   {
    "duration": 39,
    "start_time": "2023-02-23T07:13:28.520Z"
   },
   {
    "duration": 6,
    "start_time": "2023-02-23T07:13:28.869Z"
   },
   {
    "duration": 24,
    "start_time": "2023-02-23T07:13:29.034Z"
   },
   {
    "duration": 10,
    "start_time": "2023-02-23T07:13:29.675Z"
   },
   {
    "duration": 9,
    "start_time": "2023-02-23T07:13:30.289Z"
   },
   {
    "duration": 12,
    "start_time": "2023-02-23T07:13:30.453Z"
   },
   {
    "duration": 15,
    "start_time": "2023-02-23T07:13:30.811Z"
   },
   {
    "duration": 7,
    "start_time": "2023-02-23T07:13:30.976Z"
   },
   {
    "duration": 15,
    "start_time": "2023-02-23T07:13:31.306Z"
   },
   {
    "duration": 29,
    "start_time": "2023-02-23T07:13:31.653Z"
   },
   {
    "duration": 25,
    "start_time": "2023-02-23T07:13:32.497Z"
   },
   {
    "duration": 73,
    "start_time": "2023-02-23T07:13:33.819Z"
   },
   {
    "duration": 24,
    "start_time": "2023-02-23T07:14:05.857Z"
   },
   {
    "duration": 24,
    "start_time": "2023-02-23T07:21:58.437Z"
   },
   {
    "duration": 28,
    "start_time": "2023-02-23T07:22:07.671Z"
   },
   {
    "duration": 80,
    "start_time": "2023-02-23T07:22:17.980Z"
   },
   {
    "duration": 125,
    "start_time": "2023-02-23T07:27:11.397Z"
   },
   {
    "duration": 608,
    "start_time": "2023-02-23T07:27:37.267Z"
   },
   {
    "duration": 131,
    "start_time": "2023-02-23T07:27:46.293Z"
   },
   {
    "duration": 308,
    "start_time": "2023-02-23T07:28:04.069Z"
   },
   {
    "duration": 117,
    "start_time": "2023-02-23T07:28:10.099Z"
   },
   {
    "duration": 43,
    "start_time": "2023-02-23T07:29:27.030Z"
   },
   {
    "duration": 44,
    "start_time": "2023-02-23T07:29:38.957Z"
   },
   {
    "duration": 126,
    "start_time": "2023-02-23T07:29:49.357Z"
   },
   {
    "duration": 144,
    "start_time": "2023-02-23T07:29:55.914Z"
   },
   {
    "duration": 151,
    "start_time": "2023-02-23T07:30:05.596Z"
   },
   {
    "duration": 151,
    "start_time": "2023-02-23T07:32:31.359Z"
   },
   {
    "duration": 136,
    "start_time": "2023-02-23T07:32:55.986Z"
   },
   {
    "duration": 143,
    "start_time": "2023-02-23T07:33:10.239Z"
   },
   {
    "duration": 176,
    "start_time": "2023-02-23T07:40:14.148Z"
   },
   {
    "duration": 149,
    "start_time": "2023-02-23T07:40:42.616Z"
   },
   {
    "duration": 137,
    "start_time": "2023-02-23T07:42:05.498Z"
   },
   {
    "duration": 128,
    "start_time": "2023-02-23T07:42:38.683Z"
   },
   {
    "duration": 129,
    "start_time": "2023-02-23T07:42:45.324Z"
   },
   {
    "duration": 130,
    "start_time": "2023-02-23T07:42:53.099Z"
   },
   {
    "duration": 147,
    "start_time": "2023-02-23T07:43:00.192Z"
   },
   {
    "duration": 146,
    "start_time": "2023-02-23T07:43:57.258Z"
   },
   {
    "duration": 138,
    "start_time": "2023-02-23T07:44:15.038Z"
   },
   {
    "duration": 932,
    "start_time": "2023-02-23T07:44:50.990Z"
   },
   {
    "duration": 137,
    "start_time": "2023-02-23T07:44:57.168Z"
   },
   {
    "duration": 154,
    "start_time": "2023-02-23T07:45:12.700Z"
   },
   {
    "duration": 158,
    "start_time": "2023-02-23T07:45:21.701Z"
   },
   {
    "duration": 132,
    "start_time": "2023-02-23T07:46:36.740Z"
   },
   {
    "duration": 122,
    "start_time": "2023-02-23T07:47:10.117Z"
   },
   {
    "duration": 297,
    "start_time": "2023-02-23T07:49:06.529Z"
   },
   {
    "duration": 148,
    "start_time": "2023-02-23T07:49:24.526Z"
   },
   {
    "duration": 155,
    "start_time": "2023-02-23T07:49:31.901Z"
   },
   {
    "duration": 151,
    "start_time": "2023-02-23T07:49:37.830Z"
   },
   {
    "duration": 152,
    "start_time": "2023-02-23T07:49:45.578Z"
   },
   {
    "duration": 224,
    "start_time": "2023-02-23T07:50:26.080Z"
   },
   {
    "duration": 46,
    "start_time": "2023-02-23T08:02:21.464Z"
   },
   {
    "duration": 217,
    "start_time": "2023-02-23T08:02:27.265Z"
   },
   {
    "duration": 207,
    "start_time": "2023-02-23T08:02:55.379Z"
   },
   {
    "duration": 653,
    "start_time": "2023-02-23T08:04:24.316Z"
   },
   {
    "duration": 116,
    "start_time": "2023-02-23T08:05:08.222Z"
   },
   {
    "duration": 8,
    "start_time": "2023-02-23T08:07:49.766Z"
   },
   {
    "duration": 539,
    "start_time": "2023-02-23T08:08:07.337Z"
   },
   {
    "duration": 140,
    "start_time": "2023-02-23T08:08:21.818Z"
   },
   {
    "duration": 443,
    "start_time": "2023-02-23T10:54:26.200Z"
   },
   {
    "duration": 362,
    "start_time": "2023-02-23T10:54:28.945Z"
   },
   {
    "duration": 59,
    "start_time": "2023-02-23T10:55:05.032Z"
   },
   {
    "duration": 2377,
    "start_time": "2023-02-23T10:55:22.720Z"
   },
   {
    "duration": 2044,
    "start_time": "2023-02-23T10:56:20.441Z"
   },
   {
    "duration": 2012,
    "start_time": "2023-02-23T10:56:34.350Z"
   },
   {
    "duration": 9,
    "start_time": "2023-02-23T11:15:12.616Z"
   },
   {
    "duration": 13,
    "start_time": "2023-02-23T11:16:23.092Z"
   },
   {
    "duration": 41,
    "start_time": "2023-02-23T11:16:30.134Z"
   },
   {
    "duration": 12,
    "start_time": "2023-02-23T11:20:12.619Z"
   },
   {
    "duration": 39,
    "start_time": "2023-02-23T11:20:19.155Z"
   },
   {
    "duration": 39,
    "start_time": "2023-02-23T11:20:28.184Z"
   },
   {
    "duration": 13,
    "start_time": "2023-02-23T11:50:10.465Z"
   },
   {
    "duration": 80,
    "start_time": "2023-02-23T11:56:49.832Z"
   },
   {
    "duration": 13,
    "start_time": "2023-02-23T12:01:07.965Z"
   },
   {
    "duration": 22,
    "start_time": "2023-02-23T12:15:33.860Z"
   },
   {
    "duration": 121,
    "start_time": "2023-02-23T12:30:38.464Z"
   },
   {
    "duration": 20,
    "start_time": "2023-02-23T12:34:05.386Z"
   },
   {
    "duration": 25,
    "start_time": "2023-02-23T12:37:46.937Z"
   },
   {
    "duration": 18,
    "start_time": "2023-02-23T12:38:28.813Z"
   },
   {
    "duration": 13,
    "start_time": "2023-02-23T12:38:50.521Z"
   },
   {
    "duration": 16,
    "start_time": "2023-02-23T12:39:05.359Z"
   },
   {
    "duration": 6,
    "start_time": "2023-02-23T12:40:25.513Z"
   },
   {
    "duration": 20,
    "start_time": "2023-02-23T12:42:34.686Z"
   },
   {
    "duration": 20,
    "start_time": "2023-02-23T12:44:38.283Z"
   },
   {
    "duration": 342,
    "start_time": "2023-02-23T12:44:46.033Z"
   },
   {
    "duration": 6,
    "start_time": "2023-02-23T12:45:13.861Z"
   },
   {
    "duration": 23,
    "start_time": "2023-02-23T12:45:34.393Z"
   },
   {
    "duration": 380,
    "start_time": "2023-02-23T12:47:09.463Z"
   },
   {
    "duration": 321,
    "start_time": "2023-02-23T12:47:18.818Z"
   },
   {
    "duration": 16,
    "start_time": "2023-02-23T12:49:56.894Z"
   },
   {
    "duration": 16,
    "start_time": "2023-02-23T12:50:03.290Z"
   },
   {
    "duration": 18,
    "start_time": "2023-02-23T12:50:08.761Z"
   },
   {
    "duration": 370,
    "start_time": "2023-02-23T12:50:36.502Z"
   },
   {
    "duration": 19,
    "start_time": "2023-02-23T12:52:58.998Z"
   },
   {
    "duration": 24,
    "start_time": "2023-02-23T12:54:19.787Z"
   },
   {
    "duration": 18,
    "start_time": "2023-02-23T12:55:27.215Z"
   },
   {
    "duration": 24,
    "start_time": "2023-02-23T12:56:37.728Z"
   },
   {
    "duration": 15,
    "start_time": "2023-02-23T12:57:23.970Z"
   },
   {
    "duration": 17,
    "start_time": "2023-02-23T12:57:31.970Z"
   },
   {
    "duration": 8,
    "start_time": "2023-02-23T13:03:37.064Z"
   },
   {
    "duration": 11,
    "start_time": "2023-02-23T13:03:49.343Z"
   },
   {
    "duration": 7,
    "start_time": "2023-02-23T13:06:04.093Z"
   },
   {
    "duration": 20,
    "start_time": "2023-02-23T13:07:15.338Z"
   },
   {
    "duration": 642,
    "start_time": "2023-02-23T13:07:41.132Z"
   },
   {
    "duration": 21,
    "start_time": "2023-02-23T13:17:28.398Z"
   },
   {
    "duration": 19,
    "start_time": "2023-02-23T13:17:47.802Z"
   },
   {
    "duration": 18,
    "start_time": "2023-02-23T13:19:11.960Z"
   },
   {
    "duration": 23,
    "start_time": "2023-02-23T13:22:25.254Z"
   },
   {
    "duration": 19,
    "start_time": "2023-02-23T13:25:39.892Z"
   },
   {
    "duration": 6,
    "start_time": "2023-02-23T13:27:26.189Z"
   },
   {
    "duration": 8,
    "start_time": "2023-02-23T13:27:49.542Z"
   },
   {
    "duration": 7,
    "start_time": "2023-02-23T13:29:26.482Z"
   },
   {
    "duration": 15,
    "start_time": "2023-02-23T13:30:12.226Z"
   },
   {
    "duration": 7,
    "start_time": "2023-02-23T13:30:59.328Z"
   },
   {
    "duration": 6,
    "start_time": "2023-02-23T13:33:03.315Z"
   },
   {
    "duration": 10,
    "start_time": "2023-02-23T13:38:28.508Z"
   },
   {
    "duration": 11,
    "start_time": "2023-02-23T13:39:02.711Z"
   },
   {
    "duration": 27,
    "start_time": "2023-02-23T13:58:02.298Z"
   },
   {
    "duration": 6,
    "start_time": "2023-02-23T14:01:09.223Z"
   },
   {
    "duration": 10,
    "start_time": "2023-02-23T14:01:22.781Z"
   },
   {
    "duration": 28,
    "start_time": "2023-02-23T14:01:26.161Z"
   },
   {
    "duration": 28,
    "start_time": "2023-02-23T14:04:38.993Z"
   },
   {
    "duration": 28,
    "start_time": "2023-02-23T14:07:31.508Z"
   },
   {
    "duration": 31,
    "start_time": "2023-02-23T14:08:36.751Z"
   },
   {
    "duration": 26,
    "start_time": "2023-02-23T14:10:12.043Z"
   },
   {
    "duration": 17,
    "start_time": "2023-02-23T14:11:02.497Z"
   },
   {
    "duration": 26,
    "start_time": "2023-02-23T14:12:42.667Z"
   },
   {
    "duration": 34,
    "start_time": "2023-02-23T14:16:49.935Z"
   },
   {
    "duration": 144,
    "start_time": "2023-02-23T14:20:03.999Z"
   },
   {
    "duration": 171,
    "start_time": "2023-02-23T14:22:18.026Z"
   },
   {
    "duration": 157,
    "start_time": "2023-02-23T14:22:42.540Z"
   },
   {
    "duration": 179,
    "start_time": "2023-02-23T14:22:53.438Z"
   },
   {
    "duration": 145,
    "start_time": "2023-02-23T14:24:34.474Z"
   },
   {
    "duration": 157,
    "start_time": "2023-02-23T14:25:32.445Z"
   },
   {
    "duration": 160,
    "start_time": "2023-02-23T14:31:19.072Z"
   },
   {
    "duration": 138,
    "start_time": "2023-02-23T14:31:29.973Z"
   },
   {
    "duration": 250,
    "start_time": "2023-02-23T14:31:36.962Z"
   },
   {
    "duration": 138,
    "start_time": "2023-02-23T14:33:45.465Z"
   },
   {
    "duration": 203,
    "start_time": "2023-02-23T14:33:56.430Z"
   },
   {
    "duration": 158,
    "start_time": "2023-02-23T14:34:05.229Z"
   },
   {
    "duration": 170,
    "start_time": "2023-02-23T14:34:21.874Z"
   },
   {
    "duration": 158,
    "start_time": "2023-02-23T14:34:29.603Z"
   },
   {
    "duration": 134,
    "start_time": "2023-02-23T14:34:38.582Z"
   },
   {
    "duration": 159,
    "start_time": "2023-02-23T14:38:08.712Z"
   },
   {
    "duration": 136,
    "start_time": "2023-02-23T14:38:22.166Z"
   },
   {
    "duration": 152,
    "start_time": "2023-02-23T14:38:43.480Z"
   },
   {
    "duration": 137,
    "start_time": "2023-02-23T14:39:28.264Z"
   },
   {
    "duration": 193,
    "start_time": "2023-02-23T14:43:32.273Z"
   },
   {
    "duration": 128,
    "start_time": "2023-02-23T14:43:42.702Z"
   },
   {
    "duration": 146,
    "start_time": "2023-02-23T14:43:49.777Z"
   },
   {
    "duration": 139,
    "start_time": "2023-02-23T14:43:57.877Z"
   },
   {
    "duration": 121,
    "start_time": "2023-02-23T14:47:12.680Z"
   },
   {
    "duration": 149,
    "start_time": "2023-02-23T14:47:31.159Z"
   },
   {
    "duration": 137,
    "start_time": "2023-02-23T14:47:40.283Z"
   },
   {
    "duration": 268,
    "start_time": "2023-02-23T14:49:44.828Z"
   },
   {
    "duration": 126,
    "start_time": "2023-02-23T14:49:55.234Z"
   },
   {
    "duration": 127,
    "start_time": "2023-02-23T14:50:11.948Z"
   },
   {
    "duration": 139,
    "start_time": "2023-02-23T14:50:37.790Z"
   },
   {
    "duration": 150,
    "start_time": "2023-02-23T14:58:38.937Z"
   },
   {
    "duration": 134,
    "start_time": "2023-02-23T14:58:52.972Z"
   },
   {
    "duration": 16,
    "start_time": "2023-02-23T14:59:26.921Z"
   },
   {
    "duration": 14,
    "start_time": "2023-02-23T14:59:41.782Z"
   },
   {
    "duration": 9,
    "start_time": "2023-02-23T15:03:05.621Z"
   },
   {
    "duration": 30,
    "start_time": "2023-02-23T15:03:21.291Z"
   },
   {
    "duration": 132,
    "start_time": "2023-02-23T15:03:41.965Z"
   },
   {
    "duration": 148,
    "start_time": "2023-02-23T15:06:52.161Z"
   },
   {
    "duration": 150,
    "start_time": "2023-02-23T15:07:00.426Z"
   },
   {
    "duration": 143,
    "start_time": "2023-02-23T15:09:47.282Z"
   },
   {
    "duration": 161,
    "start_time": "2023-02-23T15:10:14.358Z"
   },
   {
    "duration": 119,
    "start_time": "2023-02-23T15:22:14.208Z"
   },
   {
    "duration": 142,
    "start_time": "2023-02-23T15:22:43.191Z"
   },
   {
    "duration": 126,
    "start_time": "2023-02-23T15:22:54.890Z"
   },
   {
    "duration": 130,
    "start_time": "2023-02-23T15:23:02.682Z"
   },
   {
    "duration": 154,
    "start_time": "2023-02-23T15:23:15.090Z"
   },
   {
    "duration": 117,
    "start_time": "2023-02-23T15:23:23.206Z"
   },
   {
    "duration": 7,
    "start_time": "2023-02-23T15:23:23.436Z"
   },
   {
    "duration": 174,
    "start_time": "2023-02-23T15:28:56.325Z"
   },
   {
    "duration": 135,
    "start_time": "2023-02-23T15:29:59.505Z"
   },
   {
    "duration": 131,
    "start_time": "2023-02-23T15:35:42.407Z"
   },
   {
    "duration": 127,
    "start_time": "2023-02-23T15:36:27.557Z"
   },
   {
    "duration": 139,
    "start_time": "2023-02-23T15:38:28.464Z"
   },
   {
    "duration": 289,
    "start_time": "2023-02-23T15:38:41.021Z"
   },
   {
    "duration": 128,
    "start_time": "2023-02-23T15:38:47.911Z"
   },
   {
    "duration": 130,
    "start_time": "2023-02-23T15:38:51.892Z"
   },
   {
    "duration": 157,
    "start_time": "2023-02-23T15:43:30.737Z"
   },
   {
    "duration": 6,
    "start_time": "2023-02-23T15:53:16.874Z"
   },
   {
    "duration": 443,
    "start_time": "2023-02-24T11:13:46.633Z"
   },
   {
    "duration": 325,
    "start_time": "2023-02-24T11:13:48.136Z"
   },
   {
    "duration": 53,
    "start_time": "2023-02-24T11:13:49.642Z"
   },
   {
    "duration": 2560,
    "start_time": "2023-02-24T11:13:50.668Z"
   },
   {
    "duration": 12,
    "start_time": "2023-02-24T11:13:53.551Z"
   },
   {
    "duration": 11,
    "start_time": "2023-02-24T11:13:53.888Z"
   },
   {
    "duration": 38,
    "start_time": "2023-02-24T11:13:54.256Z"
   },
   {
    "duration": 12,
    "start_time": "2023-02-24T11:13:55.166Z"
   },
   {
    "duration": 41,
    "start_time": "2023-02-24T11:13:55.537Z"
   },
   {
    "duration": 41,
    "start_time": "2023-02-24T11:13:55.847Z"
   },
   {
    "duration": 13,
    "start_time": "2023-02-24T11:13:56.177Z"
   },
   {
    "duration": 26,
    "start_time": "2023-02-24T11:13:56.533Z"
   },
   {
    "duration": 17,
    "start_time": "2023-02-24T11:13:57.001Z"
   },
   {
    "duration": 21,
    "start_time": "2023-02-24T11:13:57.357Z"
   },
   {
    "duration": 24,
    "start_time": "2023-02-24T11:13:57.690Z"
   },
   {
    "duration": 22,
    "start_time": "2023-02-24T11:13:57.859Z"
   },
   {
    "duration": 7,
    "start_time": "2023-02-24T11:13:58.188Z"
   },
   {
    "duration": 18,
    "start_time": "2023-02-24T11:13:58.535Z"
   },
   {
    "duration": 8,
    "start_time": "2023-02-24T11:13:58.699Z"
   },
   {
    "duration": 7,
    "start_time": "2023-02-24T11:14:00.277Z"
   },
   {
    "duration": 9,
    "start_time": "2023-02-24T11:14:02.074Z"
   },
   {
    "duration": 13,
    "start_time": "2023-02-24T11:14:03.656Z"
   },
   {
    "duration": 6,
    "start_time": "2023-02-24T11:14:04.475Z"
   },
   {
    "duration": 10,
    "start_time": "2023-02-24T11:14:05.996Z"
   },
   {
    "duration": 41,
    "start_time": "2023-02-24T11:14:07.834Z"
   },
   {
    "duration": 30,
    "start_time": "2023-02-24T11:14:11.604Z"
   },
   {
    "duration": 29,
    "start_time": "2023-02-24T11:14:13.274Z"
   },
   {
    "duration": 27,
    "start_time": "2023-02-24T11:14:14.673Z"
   },
   {
    "duration": 28,
    "start_time": "2023-02-24T11:14:15.043Z"
   },
   {
    "duration": 34,
    "start_time": "2023-02-24T11:14:15.375Z"
   },
   {
    "duration": 26,
    "start_time": "2023-02-24T11:14:15.730Z"
   },
   {
    "duration": 78,
    "start_time": "2023-02-24T11:14:15.881Z"
   },
   {
    "duration": 144,
    "start_time": "2023-02-24T11:14:16.593Z"
   },
   {
    "duration": 159,
    "start_time": "2023-02-24T11:14:19.333Z"
   },
   {
    "duration": 143,
    "start_time": "2023-02-24T11:14:20.572Z"
   },
   {
    "duration": 157,
    "start_time": "2023-02-24T11:14:21.125Z"
   },
   {
    "duration": 252,
    "start_time": "2023-02-24T11:14:22.539Z"
   },
   {
    "duration": 146,
    "start_time": "2023-02-24T11:14:23.548Z"
   },
   {
    "duration": 154,
    "start_time": "2023-02-24T11:14:24.969Z"
   },
   {
    "duration": 140,
    "start_time": "2023-02-24T11:14:27.242Z"
   },
   {
    "duration": 151,
    "start_time": "2023-02-24T11:14:29.373Z"
   },
   {
    "duration": 158,
    "start_time": "2023-02-24T11:14:31.433Z"
   },
   {
    "duration": 125,
    "start_time": "2023-02-24T11:14:33.339Z"
   },
   {
    "duration": 161,
    "start_time": "2023-02-24T11:14:34.735Z"
   },
   {
    "duration": 125,
    "start_time": "2023-02-24T11:14:35.830Z"
   },
   {
    "duration": 154,
    "start_time": "2023-02-24T11:14:36.036Z"
   },
   {
    "duration": 160,
    "start_time": "2023-02-24T11:14:37.919Z"
   },
   {
    "duration": 6,
    "start_time": "2023-02-24T11:14:38.962Z"
   },
   {
    "duration": 23,
    "start_time": "2023-02-24T11:14:56.252Z"
   },
   {
    "duration": 26,
    "start_time": "2023-02-24T11:19:40.600Z"
   },
   {
    "duration": 26,
    "start_time": "2023-02-24T11:20:52.080Z"
   },
   {
    "duration": 207,
    "start_time": "2023-02-24T11:21:55.960Z"
   },
   {
    "duration": 215,
    "start_time": "2023-02-24T11:22:19.674Z"
   },
   {
    "duration": 290,
    "start_time": "2023-02-24T11:22:37.554Z"
   },
   {
    "duration": 206,
    "start_time": "2023-02-24T11:22:56.470Z"
   },
   {
    "duration": 218,
    "start_time": "2023-02-24T11:30:58.343Z"
   },
   {
    "duration": 215,
    "start_time": "2023-02-24T11:37:53.032Z"
   },
   {
    "duration": 209,
    "start_time": "2023-02-24T11:40:51.994Z"
   },
   {
    "duration": 471,
    "start_time": "2023-02-24T11:42:54.811Z"
   },
   {
    "duration": 370,
    "start_time": "2023-02-24T11:46:37.911Z"
   },
   {
    "duration": 1113,
    "start_time": "2023-02-24T11:53:58.133Z"
   },
   {
    "duration": 8,
    "start_time": "2023-02-24T11:54:50.097Z"
   },
   {
    "duration": 35804,
    "start_time": "2023-02-24T11:55:01.364Z"
   },
   {
    "duration": 42128,
    "start_time": "2023-02-24T11:57:08.165Z"
   },
   {
    "duration": 0,
    "start_time": "2023-02-24T11:58:36.077Z"
   },
   {
    "duration": 43187,
    "start_time": "2023-02-24T11:59:35.620Z"
   },
   {
    "duration": 115038,
    "start_time": "2023-02-24T12:05:36.448Z"
   },
   {
    "duration": 49095,
    "start_time": "2023-02-24T12:08:06.510Z"
   },
   {
    "duration": 45725,
    "start_time": "2023-02-24T12:11:03.703Z"
   },
   {
    "duration": 44468,
    "start_time": "2023-02-24T12:14:09.070Z"
   },
   {
    "duration": 11,
    "start_time": "2023-02-24T12:24:10.693Z"
   },
   {
    "duration": 10,
    "start_time": "2023-02-24T12:26:00.730Z"
   },
   {
    "duration": 11,
    "start_time": "2023-02-24T12:26:15.775Z"
   },
   {
    "duration": 25,
    "start_time": "2023-02-24T12:28:49.412Z"
   },
   {
    "duration": 33,
    "start_time": "2023-02-24T12:37:22.007Z"
   },
   {
    "duration": 31,
    "start_time": "2023-02-24T12:39:48.729Z"
   },
   {
    "duration": 39,
    "start_time": "2023-02-24T12:40:30.490Z"
   },
   {
    "duration": 9276,
    "start_time": "2023-02-24T12:45:09.295Z"
   },
   {
    "duration": 30,
    "start_time": "2023-02-24T12:45:27.956Z"
   },
   {
    "duration": 8,
    "start_time": "2023-02-24T13:02:26.340Z"
   },
   {
    "duration": 9,
    "start_time": "2023-02-24T13:05:47.051Z"
   },
   {
    "duration": 29,
    "start_time": "2023-02-24T13:08:16.903Z"
   },
   {
    "duration": 81,
    "start_time": "2023-02-24T13:19:13.068Z"
   },
   {
    "duration": 387,
    "start_time": "2023-02-24T21:57:58.681Z"
   },
   {
    "duration": 99,
    "start_time": "2023-02-24T21:57:59.069Z"
   },
   {
    "duration": 48,
    "start_time": "2023-02-24T21:57:59.169Z"
   },
   {
    "duration": 2297,
    "start_time": "2023-02-24T21:57:59.219Z"
   },
   {
    "duration": 10,
    "start_time": "2023-02-24T21:58:01.518Z"
   },
   {
    "duration": 37,
    "start_time": "2023-02-24T21:58:01.530Z"
   },
   {
    "duration": 46,
    "start_time": "2023-02-24T21:58:01.568Z"
   },
   {
    "duration": 17,
    "start_time": "2023-02-24T21:58:01.616Z"
   },
   {
    "duration": 56,
    "start_time": "2023-02-24T21:58:01.634Z"
   },
   {
    "duration": 42,
    "start_time": "2023-02-24T21:58:01.693Z"
   },
   {
    "duration": 18,
    "start_time": "2023-02-24T21:58:01.737Z"
   },
   {
    "duration": 30,
    "start_time": "2023-02-24T21:58:01.757Z"
   },
   {
    "duration": 20,
    "start_time": "2023-02-24T21:58:01.789Z"
   },
   {
    "duration": 51,
    "start_time": "2023-02-24T21:58:01.811Z"
   },
   {
    "duration": 27,
    "start_time": "2023-02-24T21:58:01.864Z"
   },
   {
    "duration": 22,
    "start_time": "2023-02-24T21:58:01.893Z"
   },
   {
    "duration": 30,
    "start_time": "2023-02-24T21:58:01.917Z"
   },
   {
    "duration": 17,
    "start_time": "2023-02-24T21:58:01.949Z"
   },
   {
    "duration": 32,
    "start_time": "2023-02-24T21:58:01.968Z"
   },
   {
    "duration": 25,
    "start_time": "2023-02-24T21:58:02.002Z"
   },
   {
    "duration": 16,
    "start_time": "2023-02-24T21:58:02.029Z"
   },
   {
    "duration": 51,
    "start_time": "2023-02-24T21:58:02.047Z"
   },
   {
    "duration": 22,
    "start_time": "2023-02-24T21:58:02.100Z"
   },
   {
    "duration": 44,
    "start_time": "2023-02-24T21:58:02.123Z"
   },
   {
    "duration": 40,
    "start_time": "2023-02-24T21:58:02.168Z"
   },
   {
    "duration": 39,
    "start_time": "2023-02-24T21:58:02.209Z"
   },
   {
    "duration": 25,
    "start_time": "2023-02-24T21:58:02.250Z"
   },
   {
    "duration": 25,
    "start_time": "2023-02-24T21:58:02.278Z"
   },
   {
    "duration": 43,
    "start_time": "2023-02-24T21:58:02.304Z"
   },
   {
    "duration": 27,
    "start_time": "2023-02-24T21:58:02.349Z"
   },
   {
    "duration": 25,
    "start_time": "2023-02-24T21:58:02.378Z"
   },
   {
    "duration": 155,
    "start_time": "2023-02-24T21:58:02.404Z"
   },
   {
    "duration": 150,
    "start_time": "2023-02-24T21:58:02.560Z"
   },
   {
    "duration": 150,
    "start_time": "2023-02-24T21:58:02.712Z"
   },
   {
    "duration": 144,
    "start_time": "2023-02-24T21:58:02.864Z"
   },
   {
    "duration": 170,
    "start_time": "2023-02-24T21:58:03.010Z"
   },
   {
    "duration": 227,
    "start_time": "2023-02-24T21:58:03.182Z"
   },
   {
    "duration": 161,
    "start_time": "2023-02-24T21:58:03.410Z"
   },
   {
    "duration": 138,
    "start_time": "2023-02-24T21:58:03.573Z"
   },
   {
    "duration": 156,
    "start_time": "2023-02-24T21:58:03.712Z"
   },
   {
    "duration": 158,
    "start_time": "2023-02-24T21:58:03.870Z"
   },
   {
    "duration": 135,
    "start_time": "2023-02-24T21:58:04.030Z"
   },
   {
    "duration": 160,
    "start_time": "2023-02-24T21:58:04.167Z"
   },
   {
    "duration": 136,
    "start_time": "2023-02-24T21:58:04.329Z"
   },
   {
    "duration": 171,
    "start_time": "2023-02-24T21:58:04.466Z"
   },
   {
    "duration": 163,
    "start_time": "2023-02-24T21:58:04.638Z"
   },
   {
    "duration": 6,
    "start_time": "2023-02-24T21:58:04.803Z"
   },
   {
    "duration": 235,
    "start_time": "2023-02-24T21:58:04.810Z"
   },
   {
    "duration": 217,
    "start_time": "2023-02-24T21:58:05.046Z"
   },
   {
    "duration": 207,
    "start_time": "2023-02-24T21:58:05.265Z"
   },
   {
    "duration": 216,
    "start_time": "2023-02-24T21:58:05.473Z"
   },
   {
    "duration": 34705,
    "start_time": "2023-02-24T21:58:05.691Z"
   },
   {
    "duration": 40425,
    "start_time": "2023-02-24T21:58:40.399Z"
   },
   {
    "duration": 42765,
    "start_time": "2023-02-24T21:59:20.826Z"
   },
   {
    "duration": 42395,
    "start_time": "2023-02-24T22:00:03.593Z"
   },
   {
    "duration": 23,
    "start_time": "2023-02-24T22:00:45.990Z"
   },
   {
    "duration": 8,
    "start_time": "2023-02-24T22:00:46.014Z"
   },
   {
    "duration": 30,
    "start_time": "2023-02-24T22:00:46.024Z"
   },
   {
    "duration": 31,
    "start_time": "2023-02-24T22:00:46.056Z"
   },
   {
    "duration": 5,
    "start_time": "2023-02-24T22:08:19.955Z"
   },
   {
    "duration": 7,
    "start_time": "2023-02-24T22:08:26.818Z"
   },
   {
    "duration": 6,
    "start_time": "2023-02-24T22:08:35.636Z"
   },
   {
    "duration": 404,
    "start_time": "2023-02-25T09:11:54.564Z"
   },
   {
    "duration": 161,
    "start_time": "2023-02-25T09:11:57.594Z"
   },
   {
    "duration": 58,
    "start_time": "2023-02-25T09:11:59.165Z"
   },
   {
    "duration": 2574,
    "start_time": "2023-02-25T09:12:00.375Z"
   },
   {
    "duration": 10,
    "start_time": "2023-02-25T09:12:11.468Z"
   },
   {
    "duration": 10,
    "start_time": "2023-02-25T09:12:13.863Z"
   },
   {
    "duration": 38,
    "start_time": "2023-02-25T09:12:17.462Z"
   },
   {
    "duration": 18,
    "start_time": "2023-02-25T09:12:23.165Z"
   },
   {
    "duration": 43,
    "start_time": "2023-02-25T09:12:28.370Z"
   },
   {
    "duration": 46,
    "start_time": "2023-02-25T09:12:31.177Z"
   },
   {
    "duration": 2,
    "start_time": "2023-02-25T09:12:33.935Z"
   },
   {
    "duration": 23,
    "start_time": "2023-02-25T09:12:42.162Z"
   },
   {
    "duration": 17,
    "start_time": "2023-02-25T09:12:56.832Z"
   },
   {
    "duration": 95,
    "start_time": "2023-02-25T09:13:00.587Z"
   },
   {
    "duration": 12,
    "start_time": "2023-02-25T09:21:14.972Z"
   },
   {
    "duration": 27,
    "start_time": "2023-02-25T09:21:24.152Z"
   },
   {
    "duration": 17,
    "start_time": "2023-02-25T09:21:31.521Z"
   },
   {
    "duration": 30,
    "start_time": "2023-02-25T09:21:33.670Z"
   },
   {
    "duration": 10,
    "start_time": "2023-02-25T09:22:39.204Z"
   },
   {
    "duration": 10,
    "start_time": "2023-02-25T09:23:04.058Z"
   },
   {
    "duration": 24,
    "start_time": "2023-02-25T09:24:11.956Z"
   },
   {
    "duration": 9,
    "start_time": "2023-02-25T09:29:46.208Z"
   },
   {
    "duration": 9,
    "start_time": "2023-02-25T09:32:44.340Z"
   },
   {
    "duration": 15,
    "start_time": "2023-02-25T09:48:02.675Z"
   },
   {
    "duration": 8,
    "start_time": "2023-02-25T09:48:11.870Z"
   },
   {
    "duration": 44,
    "start_time": "2023-02-25T09:51:44.622Z"
   },
   {
    "duration": 17,
    "start_time": "2023-02-25T09:51:54.787Z"
   },
   {
    "duration": 15,
    "start_time": "2023-02-25T09:52:14.703Z"
   },
   {
    "duration": 15,
    "start_time": "2023-02-25T09:53:29.725Z"
   },
   {
    "duration": 14,
    "start_time": "2023-02-25T09:53:38.232Z"
   },
   {
    "duration": 13,
    "start_time": "2023-02-25T09:57:15.696Z"
   },
   {
    "duration": 21,
    "start_time": "2023-02-25T09:57:40.676Z"
   },
   {
    "duration": 26,
    "start_time": "2023-02-25T09:58:01.093Z"
   },
   {
    "duration": 10,
    "start_time": "2023-02-25T09:58:08.739Z"
   },
   {
    "duration": 9,
    "start_time": "2023-02-25T09:59:10.168Z"
   },
   {
    "duration": 10,
    "start_time": "2023-02-25T10:04:50.482Z"
   },
   {
    "duration": 6,
    "start_time": "2023-02-25T10:05:45.450Z"
   },
   {
    "duration": 9,
    "start_time": "2023-02-25T10:05:54.870Z"
   },
   {
    "duration": 11,
    "start_time": "2023-02-25T10:05:56.933Z"
   },
   {
    "duration": 6,
    "start_time": "2023-02-25T10:05:57.915Z"
   },
   {
    "duration": 11,
    "start_time": "2023-02-25T10:12:57.294Z"
   },
   {
    "duration": 35,
    "start_time": "2023-02-25T10:13:04.778Z"
   },
   {
    "duration": 12,
    "start_time": "2023-02-25T10:27:28.765Z"
   },
   {
    "duration": 3,
    "start_time": "2023-02-25T10:27:35.702Z"
   },
   {
    "duration": 9,
    "start_time": "2023-02-25T10:27:38.696Z"
   },
   {
    "duration": 3,
    "start_time": "2023-02-25T10:29:11.011Z"
   },
   {
    "duration": 608,
    "start_time": "2023-02-25T10:29:19.076Z"
   },
   {
    "duration": 162,
    "start_time": "2023-02-25T10:36:19.098Z"
   },
   {
    "duration": 113,
    "start_time": "2023-02-25T10:37:13.209Z"
   },
   {
    "duration": 199,
    "start_time": "2023-02-25T10:37:38.861Z"
   },
   {
    "duration": 106,
    "start_time": "2023-02-25T10:39:23.620Z"
   },
   {
    "duration": 105,
    "start_time": "2023-02-25T10:39:31.166Z"
   },
   {
    "duration": 103,
    "start_time": "2023-02-25T10:40:45.765Z"
   },
   {
    "duration": 113,
    "start_time": "2023-02-25T10:52:48.644Z"
   },
   {
    "duration": 95,
    "start_time": "2023-02-25T10:53:12.897Z"
   },
   {
    "duration": 110,
    "start_time": "2023-02-25T10:53:24.499Z"
   },
   {
    "duration": 119,
    "start_time": "2023-02-25T10:53:32.895Z"
   },
   {
    "duration": 112,
    "start_time": "2023-02-25T10:53:39.687Z"
   },
   {
    "duration": 135,
    "start_time": "2023-02-25T10:53:47.106Z"
   },
   {
    "duration": 99,
    "start_time": "2023-02-25T10:53:53.279Z"
   },
   {
    "duration": 112,
    "start_time": "2023-02-25T10:54:03.019Z"
   },
   {
    "duration": 98,
    "start_time": "2023-02-25T10:54:10.097Z"
   },
   {
    "duration": 100,
    "start_time": "2023-02-25T10:56:41.221Z"
   },
   {
    "duration": 121,
    "start_time": "2023-02-25T10:56:51.950Z"
   },
   {
    "duration": 231,
    "start_time": "2023-02-25T10:57:29.213Z"
   },
   {
    "duration": 114,
    "start_time": "2023-02-25T10:57:39.743Z"
   },
   {
    "duration": 118,
    "start_time": "2023-02-25T10:58:02.226Z"
   },
   {
    "duration": 29,
    "start_time": "2023-02-25T11:05:11.715Z"
   },
   {
    "duration": 29,
    "start_time": "2023-02-25T11:05:14.110Z"
   },
   {
    "duration": 28,
    "start_time": "2023-02-25T11:05:15.906Z"
   },
   {
    "duration": 29,
    "start_time": "2023-02-25T11:05:17.788Z"
   },
   {
    "duration": 29,
    "start_time": "2023-02-25T11:05:19.607Z"
   },
   {
    "duration": 27,
    "start_time": "2023-02-25T11:05:22.187Z"
   },
   {
    "duration": 240,
    "start_time": "2023-02-25T11:05:53.280Z"
   },
   {
    "duration": 245,
    "start_time": "2023-02-25T11:06:25.210Z"
   },
   {
    "duration": 235,
    "start_time": "2023-02-25T11:06:33.444Z"
   },
   {
    "duration": 346,
    "start_time": "2023-02-25T11:06:44.126Z"
   },
   {
    "duration": 355,
    "start_time": "2023-02-25T11:06:50.243Z"
   },
   {
    "duration": 148,
    "start_time": "2023-02-25T11:08:23.278Z"
   },
   {
    "duration": 52,
    "start_time": "2023-02-25T11:09:01.940Z"
   },
   {
    "duration": 56,
    "start_time": "2023-02-25T11:09:12.224Z"
   },
   {
    "duration": 44,
    "start_time": "2023-02-25T11:09:35.880Z"
   },
   {
    "duration": 46,
    "start_time": "2023-02-25T11:09:42.885Z"
   },
   {
    "duration": 159,
    "start_time": "2023-02-25T11:09:51.682Z"
   },
   {
    "duration": 54,
    "start_time": "2023-02-25T11:10:11.774Z"
   },
   {
    "duration": 406,
    "start_time": "2023-02-25T11:10:20.640Z"
   },
   {
    "duration": 294,
    "start_time": "2023-02-25T11:10:29.379Z"
   },
   {
    "duration": 160,
    "start_time": "2023-02-25T11:10:40.488Z"
   },
   {
    "duration": 149,
    "start_time": "2023-02-25T11:11:20.800Z"
   },
   {
    "duration": 251,
    "start_time": "2023-02-25T11:11:28.935Z"
   },
   {
    "duration": 153,
    "start_time": "2023-02-25T11:11:45.379Z"
   },
   {
    "duration": 184,
    "start_time": "2023-02-25T11:11:55.951Z"
   },
   {
    "duration": 147,
    "start_time": "2023-02-25T11:12:59.482Z"
   },
   {
    "duration": 61,
    "start_time": "2023-02-25T11:22:33.472Z"
   },
   {
    "duration": 187,
    "start_time": "2023-02-25T11:22:39.867Z"
   },
   {
    "duration": 142,
    "start_time": "2023-02-25T11:23:26.436Z"
   },
   {
    "duration": 155,
    "start_time": "2023-02-25T11:23:38.297Z"
   },
   {
    "duration": 179,
    "start_time": "2023-02-25T11:23:50.253Z"
   },
   {
    "duration": 159,
    "start_time": "2023-02-25T11:24:15.391Z"
   },
   {
    "duration": 162,
    "start_time": "2023-02-25T11:24:44.409Z"
   },
   {
    "duration": 126,
    "start_time": "2023-02-25T11:25:22.218Z"
   },
   {
    "duration": 59,
    "start_time": "2023-02-25T11:25:39.107Z"
   },
   {
    "duration": 177,
    "start_time": "2023-02-25T11:25:46.069Z"
   },
   {
    "duration": 151,
    "start_time": "2023-02-25T11:26:02.250Z"
   },
   {
    "duration": 168,
    "start_time": "2023-02-25T11:28:16.633Z"
   },
   {
    "duration": 211,
    "start_time": "2023-02-25T11:28:24.134Z"
   },
   {
    "duration": 175,
    "start_time": "2023-02-25T11:28:34.573Z"
   },
   {
    "duration": 102,
    "start_time": "2023-02-25T11:30:03.234Z"
   },
   {
    "duration": 58,
    "start_time": "2023-02-25T11:30:10.423Z"
   },
   {
    "duration": 163,
    "start_time": "2023-02-25T11:31:31.035Z"
   },
   {
    "duration": 213,
    "start_time": "2023-02-25T11:31:55.574Z"
   },
   {
    "duration": 343,
    "start_time": "2023-02-25T11:32:11.277Z"
   },
   {
    "duration": 179,
    "start_time": "2023-02-25T11:32:56.899Z"
   },
   {
    "duration": 501,
    "start_time": "2023-02-25T11:42:55.309Z"
   },
   {
    "duration": 14,
    "start_time": "2023-02-25T11:43:17.837Z"
   },
   {
    "duration": 455,
    "start_time": "2023-02-25T13:58:45.406Z"
   },
   {
    "duration": 180,
    "start_time": "2023-02-25T13:58:47.081Z"
   },
   {
    "duration": 77,
    "start_time": "2023-02-25T13:58:47.970Z"
   },
   {
    "duration": 2684,
    "start_time": "2023-02-25T13:58:48.817Z"
   },
   {
    "duration": 15,
    "start_time": "2023-02-25T13:58:53.360Z"
   },
   {
    "duration": 10,
    "start_time": "2023-02-25T13:58:55.010Z"
   },
   {
    "duration": 32,
    "start_time": "2023-02-25T13:58:55.657Z"
   },
   {
    "duration": 17,
    "start_time": "2023-02-25T13:58:56.066Z"
   },
   {
    "duration": 37,
    "start_time": "2023-02-25T13:58:56.393Z"
   },
   {
    "duration": 42,
    "start_time": "2023-02-25T13:58:56.758Z"
   },
   {
    "duration": 16,
    "start_time": "2023-02-25T13:58:57.119Z"
   },
   {
    "duration": 26,
    "start_time": "2023-02-25T13:58:57.466Z"
   },
   {
    "duration": 22,
    "start_time": "2023-02-25T13:58:58.769Z"
   },
   {
    "duration": 35,
    "start_time": "2023-02-25T13:58:59.158Z"
   },
   {
    "duration": 15,
    "start_time": "2023-02-25T13:58:59.856Z"
   },
   {
    "duration": 25,
    "start_time": "2023-02-25T13:59:00.566Z"
   },
   {
    "duration": 11,
    "start_time": "2023-02-25T13:59:00.731Z"
   },
   {
    "duration": 8,
    "start_time": "2023-02-25T13:59:01.490Z"
   },
   {
    "duration": 9,
    "start_time": "2023-02-25T13:59:01.878Z"
   },
   {
    "duration": 16,
    "start_time": "2023-02-25T13:59:02.256Z"
   },
   {
    "duration": 7,
    "start_time": "2023-02-25T13:59:02.463Z"
   },
   {
    "duration": 10,
    "start_time": "2023-02-25T13:59:03.192Z"
   },
   {
    "duration": 30,
    "start_time": "2023-02-25T13:59:03.571Z"
   },
   {
    "duration": 3,
    "start_time": "2023-02-25T13:59:03.975Z"
   },
   {
    "duration": 97,
    "start_time": "2023-02-25T13:59:04.207Z"
   },
   {
    "duration": 148,
    "start_time": "2023-02-25T13:59:06.364Z"
   },
   {
    "duration": 129,
    "start_time": "2023-02-25T13:59:07.872Z"
   },
   {
    "duration": 29,
    "start_time": "2023-02-25T13:59:14.971Z"
   },
   {
    "duration": 37,
    "start_time": "2023-02-25T13:59:15.518Z"
   },
   {
    "duration": 38,
    "start_time": "2023-02-25T13:59:15.862Z"
   },
   {
    "duration": 29,
    "start_time": "2023-02-25T13:59:16.190Z"
   },
   {
    "duration": 38,
    "start_time": "2023-02-25T13:59:17.182Z"
   },
   {
    "duration": 36,
    "start_time": "2023-02-25T13:59:19.114Z"
   },
   {
    "duration": 149,
    "start_time": "2023-02-25T13:59:23.477Z"
   },
   {
    "duration": 196,
    "start_time": "2023-02-25T13:59:24.038Z"
   },
   {
    "duration": 236,
    "start_time": "2023-02-25T13:59:24.582Z"
   },
   {
    "duration": 154,
    "start_time": "2023-02-25T13:59:25.132Z"
   },
   {
    "duration": 153,
    "start_time": "2023-02-25T13:59:25.729Z"
   },
   {
    "duration": 194,
    "start_time": "2023-02-25T13:59:26.272Z"
   },
   {
    "duration": 143,
    "start_time": "2023-02-25T13:59:26.868Z"
   },
   {
    "duration": 123,
    "start_time": "2023-02-25T13:59:28.130Z"
   },
   {
    "duration": 159,
    "start_time": "2023-02-25T13:59:29.724Z"
   },
   {
    "duration": 143,
    "start_time": "2023-02-25T13:59:30.864Z"
   },
   {
    "duration": 120,
    "start_time": "2023-02-25T13:59:32.891Z"
   },
   {
    "duration": 152,
    "start_time": "2023-02-25T13:59:35.556Z"
   },
   {
    "duration": 155,
    "start_time": "2023-02-25T13:59:38.430Z"
   },
   {
    "duration": 145,
    "start_time": "2023-02-25T13:59:39.595Z"
   },
   {
    "duration": 180,
    "start_time": "2023-02-25T13:59:48.875Z"
   },
   {
    "duration": 8,
    "start_time": "2023-02-25T13:59:51.602Z"
   },
   {
    "duration": 332,
    "start_time": "2023-02-25T13:59:59.967Z"
   },
   {
    "duration": 221,
    "start_time": "2023-02-25T14:00:12.798Z"
   },
   {
    "duration": 229,
    "start_time": "2023-02-25T14:00:15.403Z"
   },
   {
    "duration": 783,
    "start_time": "2023-02-25T14:00:19.932Z"
   },
   {
    "duration": 246,
    "start_time": "2023-02-25T14:00:54.462Z"
   },
   {
    "duration": 35215,
    "start_time": "2023-02-25T14:30:39.829Z"
   },
   {
    "duration": 40812,
    "start_time": "2023-02-25T14:31:28.617Z"
   },
   {
    "duration": 45075,
    "start_time": "2023-02-25T14:32:09.432Z"
   },
   {
    "duration": 44610,
    "start_time": "2023-02-25T14:32:54.508Z"
   },
   {
    "duration": 4,
    "start_time": "2023-02-25T14:36:37.647Z"
   },
   {
    "duration": 257,
    "start_time": "2023-02-25T14:45:59.256Z"
   },
   {
    "duration": 830,
    "start_time": "2023-02-25T14:47:38.105Z"
   },
   {
    "duration": 238,
    "start_time": "2023-02-25T14:47:51.785Z"
   },
   {
    "duration": 293,
    "start_time": "2023-02-25T14:52:10.905Z"
   },
   {
    "duration": 664,
    "start_time": "2023-02-25T14:52:27.313Z"
   },
   {
    "duration": 689,
    "start_time": "2023-02-25T14:53:32.121Z"
   },
   {
    "duration": 3733,
    "start_time": "2023-02-25T14:54:46.860Z"
   },
   {
    "duration": 699,
    "start_time": "2023-02-25T14:55:05.439Z"
   },
   {
    "duration": 549,
    "start_time": "2023-02-25T14:59:12.969Z"
   },
   {
    "duration": 723,
    "start_time": "2023-02-25T14:59:43.655Z"
   },
   {
    "duration": 16,
    "start_time": "2023-02-25T15:05:42.698Z"
   },
   {
    "duration": 47,
    "start_time": "2023-02-25T15:07:07.497Z"
   },
   {
    "duration": 23,
    "start_time": "2023-02-25T15:07:35.512Z"
   },
   {
    "duration": 753,
    "start_time": "2023-02-25T15:08:24.290Z"
   },
   {
    "duration": 762,
    "start_time": "2023-02-25T15:08:39.489Z"
   },
   {
    "duration": 703,
    "start_time": "2023-02-25T15:10:38.779Z"
   },
   {
    "duration": 338,
    "start_time": "2023-02-25T15:11:25.576Z"
   },
   {
    "duration": 296,
    "start_time": "2023-02-25T15:12:08.897Z"
   },
   {
    "duration": 393,
    "start_time": "2023-02-25T15:12:23.431Z"
   },
   {
    "duration": 289,
    "start_time": "2023-02-25T15:14:04.772Z"
   },
   {
    "duration": 334,
    "start_time": "2023-02-25T15:15:07.834Z"
   },
   {
    "duration": 183,
    "start_time": "2023-02-25T15:20:35.712Z"
   },
   {
    "duration": 264,
    "start_time": "2023-02-25T15:24:10.996Z"
   },
   {
    "duration": 214,
    "start_time": "2023-02-25T15:26:33.905Z"
   },
   {
    "duration": 25,
    "start_time": "2023-02-25T15:40:27.504Z"
   },
   {
    "duration": 9,
    "start_time": "2023-02-25T15:44:03.578Z"
   },
   {
    "duration": 8,
    "start_time": "2023-02-25T15:44:06.666Z"
   },
   {
    "duration": 293,
    "start_time": "2023-02-25T15:44:11.665Z"
   },
   {
    "duration": 401,
    "start_time": "2023-02-25T15:44:43.696Z"
   },
   {
    "duration": 44,
    "start_time": "2023-02-25T15:51:25.109Z"
   },
   {
    "duration": 1363,
    "start_time": "2023-02-25T15:51:31.357Z"
   },
   {
    "duration": 280,
    "start_time": "2023-02-25T15:51:40.569Z"
   },
   {
    "duration": 219,
    "start_time": "2023-02-25T15:51:48.992Z"
   },
   {
    "duration": 167,
    "start_time": "2023-02-25T15:52:24.293Z"
   },
   {
    "duration": 189,
    "start_time": "2023-02-25T15:52:31.378Z"
   },
   {
    "duration": 192,
    "start_time": "2023-02-25T15:52:37.652Z"
   },
   {
    "duration": 99,
    "start_time": "2023-02-25T16:07:29.613Z"
   },
   {
    "duration": 118,
    "start_time": "2023-02-25T16:07:58.989Z"
   },
   {
    "duration": 118,
    "start_time": "2023-02-25T16:08:06.345Z"
   },
   {
    "duration": 102,
    "start_time": "2023-02-25T16:16:21.318Z"
   },
   {
    "duration": 106,
    "start_time": "2023-02-25T16:18:14.932Z"
   },
   {
    "duration": 114,
    "start_time": "2023-02-25T16:18:23.731Z"
   },
   {
    "duration": 97,
    "start_time": "2023-02-25T16:40:23.590Z"
   },
   {
    "duration": 120,
    "start_time": "2023-02-25T16:44:08.881Z"
   },
   {
    "duration": 115,
    "start_time": "2023-02-25T16:44:19.696Z"
   },
   {
    "duration": 109,
    "start_time": "2023-02-25T16:44:31.436Z"
   },
   {
    "duration": 125,
    "start_time": "2023-02-25T16:44:47.030Z"
   },
   {
    "duration": 9,
    "start_time": "2023-02-25T17:00:09.643Z"
   },
   {
    "duration": 10,
    "start_time": "2023-02-25T17:00:55.798Z"
   },
   {
    "duration": 11,
    "start_time": "2023-02-25T17:01:16.780Z"
   },
   {
    "duration": 106,
    "start_time": "2023-02-25T17:16:32.710Z"
   },
   {
    "duration": 112,
    "start_time": "2023-02-25T17:16:48.849Z"
   },
   {
    "duration": 110,
    "start_time": "2023-02-25T17:43:02.035Z"
   },
   {
    "duration": 107,
    "start_time": "2023-02-25T17:52:20.193Z"
   },
   {
    "duration": 105,
    "start_time": "2023-02-25T17:52:44.322Z"
   },
   {
    "duration": 98,
    "start_time": "2023-02-25T17:53:10.847Z"
   },
   {
    "duration": 96,
    "start_time": "2023-02-25T17:53:23.412Z"
   },
   {
    "duration": 94,
    "start_time": "2023-02-25T17:53:30.930Z"
   },
   {
    "duration": 98,
    "start_time": "2023-02-25T17:53:59.350Z"
   },
   {
    "duration": 95,
    "start_time": "2023-02-25T17:54:12.105Z"
   },
   {
    "duration": 94,
    "start_time": "2023-02-25T17:54:36.217Z"
   },
   {
    "duration": 95,
    "start_time": "2023-02-25T17:54:55.420Z"
   },
   {
    "duration": 86,
    "start_time": "2023-02-25T17:56:10.662Z"
   },
   {
    "duration": 121,
    "start_time": "2023-02-25T17:57:03.880Z"
   },
   {
    "duration": 111,
    "start_time": "2023-02-25T18:02:38.475Z"
   },
   {
    "duration": 119,
    "start_time": "2023-02-25T18:02:47.485Z"
   },
   {
    "duration": 411,
    "start_time": "2023-02-26T05:20:06.662Z"
   },
   {
    "duration": 323,
    "start_time": "2023-02-26T05:20:08.902Z"
   },
   {
    "duration": 48,
    "start_time": "2023-02-26T05:20:09.818Z"
   },
   {
    "duration": 2235,
    "start_time": "2023-02-26T05:20:10.777Z"
   },
   {
    "duration": 11,
    "start_time": "2023-02-26T05:23:42.579Z"
   },
   {
    "duration": 11,
    "start_time": "2023-02-26T05:23:44.477Z"
   },
   {
    "duration": 45,
    "start_time": "2023-02-26T05:23:46.324Z"
   },
   {
    "duration": 28,
    "start_time": "2023-02-26T05:23:48.496Z"
   },
   {
    "duration": 49,
    "start_time": "2023-02-26T05:23:50.742Z"
   },
   {
    "duration": 45,
    "start_time": "2023-02-26T05:23:52.851Z"
   },
   {
    "duration": 11,
    "start_time": "2023-02-26T05:23:55.043Z"
   },
   {
    "duration": 23,
    "start_time": "2023-02-26T05:23:56.934Z"
   },
   {
    "duration": 17,
    "start_time": "2023-02-26T05:24:23.377Z"
   },
   {
    "duration": 30,
    "start_time": "2023-02-26T05:24:25.174Z"
   },
   {
    "duration": 10,
    "start_time": "2023-02-26T05:24:32.082Z"
   },
   {
    "duration": 26,
    "start_time": "2023-02-26T05:24:36.756Z"
   },
   {
    "duration": 11,
    "start_time": "2023-02-26T05:24:38.233Z"
   },
   {
    "duration": 6,
    "start_time": "2023-02-26T05:24:52.474Z"
   },
   {
    "duration": 8,
    "start_time": "2023-02-26T05:24:57.372Z"
   },
   {
    "duration": 12,
    "start_time": "2023-02-26T05:24:59.253Z"
   },
   {
    "duration": 6,
    "start_time": "2023-02-26T05:25:00.190Z"
   },
   {
    "duration": 11,
    "start_time": "2023-02-26T05:25:05.756Z"
   },
   {
    "duration": 32,
    "start_time": "2023-02-26T05:25:07.550Z"
   },
   {
    "duration": 3,
    "start_time": "2023-02-26T05:25:09.392Z"
   },
   {
    "duration": 118,
    "start_time": "2023-02-26T05:25:10.416Z"
   },
   {
    "duration": 113,
    "start_time": "2023-02-26T05:25:12.885Z"
   },
   {
    "duration": 107,
    "start_time": "2023-02-26T05:26:34.476Z"
   },
   {
    "duration": 87,
    "start_time": "2023-02-26T05:29:07.455Z"
   },
   {
    "duration": 85,
    "start_time": "2023-02-26T05:29:55.022Z"
   },
   {
    "duration": 144,
    "start_time": "2023-02-26T05:30:21.416Z"
   },
   {
    "duration": 81,
    "start_time": "2023-02-26T05:30:24.222Z"
   },
   {
    "duration": 86,
    "start_time": "2023-02-26T05:30:33.789Z"
   },
   {
    "duration": 88,
    "start_time": "2023-02-26T05:30:41.794Z"
   },
   {
    "duration": 84,
    "start_time": "2023-02-26T05:32:17.761Z"
   },
   {
    "duration": 96,
    "start_time": "2023-02-26T05:34:48.953Z"
   },
   {
    "duration": 21,
    "start_time": "2023-02-26T05:36:19.648Z"
   },
   {
    "duration": 3,
    "start_time": "2023-02-26T05:36:21.635Z"
   },
   {
    "duration": 103,
    "start_time": "2023-02-26T05:36:23.035Z"
   },
   {
    "duration": 90,
    "start_time": "2023-02-26T05:36:27.804Z"
   },
   {
    "duration": 85,
    "start_time": "2023-02-26T05:36:29.992Z"
   },
   {
    "duration": 15,
    "start_time": "2023-02-26T05:36:45.248Z"
   },
   {
    "duration": 16,
    "start_time": "2023-02-26T05:36:47.700Z"
   },
   {
    "duration": 15,
    "start_time": "2023-02-26T05:36:52.548Z"
   },
   {
    "duration": 2,
    "start_time": "2023-02-26T06:55:37.695Z"
   },
   {
    "duration": 103,
    "start_time": "2023-02-26T06:55:38.091Z"
   },
   {
    "duration": 37,
    "start_time": "2023-02-26T06:55:38.259Z"
   },
   {
    "duration": 1865,
    "start_time": "2023-02-26T06:55:38.428Z"
   },
   {
    "duration": 9,
    "start_time": "2023-02-26T06:55:42.410Z"
   },
   {
    "duration": 14,
    "start_time": "2023-02-26T06:55:44.159Z"
   },
   {
    "duration": 31,
    "start_time": "2023-02-26T06:55:46.060Z"
   },
   {
    "duration": 38,
    "start_time": "2023-02-26T06:55:54.949Z"
   },
   {
    "duration": 13,
    "start_time": "2023-02-26T06:55:56.517Z"
   },
   {
    "duration": 38,
    "start_time": "2023-02-26T06:55:58.080Z"
   },
   {
    "duration": 37,
    "start_time": "2023-02-26T06:55:59.967Z"
   },
   {
    "duration": 13,
    "start_time": "2023-02-26T06:56:01.913Z"
   },
   {
    "duration": 20,
    "start_time": "2023-02-26T06:56:04.179Z"
   },
   {
    "duration": 17,
    "start_time": "2023-02-26T06:56:10.959Z"
   },
   {
    "duration": 30,
    "start_time": "2023-02-26T06:56:12.858Z"
   },
   {
    "duration": 10,
    "start_time": "2023-02-26T06:56:16.836Z"
   },
   {
    "duration": 16,
    "start_time": "2023-02-26T06:56:19.911Z"
   },
   {
    "duration": 10,
    "start_time": "2023-02-26T06:56:20.814Z"
   },
   {
    "duration": 8,
    "start_time": "2023-02-26T06:57:30.092Z"
   },
   {
    "duration": 8,
    "start_time": "2023-02-26T06:57:31.805Z"
   },
   {
    "duration": 11,
    "start_time": "2023-02-26T06:57:33.568Z"
   },
   {
    "duration": 6,
    "start_time": "2023-02-26T06:57:34.405Z"
   },
   {
    "duration": 10,
    "start_time": "2023-02-26T06:57:39.460Z"
   },
   {
    "duration": 25,
    "start_time": "2023-02-26T06:57:41.139Z"
   },
   {
    "duration": 3,
    "start_time": "2023-02-26T06:59:00.847Z"
   },
   {
    "duration": 112,
    "start_time": "2023-02-26T06:59:04.020Z"
   },
   {
    "duration": 174,
    "start_time": "2023-02-26T07:03:27.589Z"
   },
   {
    "duration": 123,
    "start_time": "2023-02-26T07:04:22.618Z"
   },
   {
    "duration": 180,
    "start_time": "2023-02-26T07:05:27.068Z"
   },
   {
    "duration": 198,
    "start_time": "2023-02-26T07:05:50.696Z"
   },
   {
    "duration": 101,
    "start_time": "2023-02-26T07:08:08.352Z"
   },
   {
    "duration": 95,
    "start_time": "2023-02-26T07:08:52.228Z"
   },
   {
    "duration": 87,
    "start_time": "2023-02-26T07:09:04.445Z"
   },
   {
    "duration": 94,
    "start_time": "2023-02-26T07:10:00.048Z"
   },
   {
    "duration": 88,
    "start_time": "2023-02-26T07:10:01.724Z"
   },
   {
    "duration": 136,
    "start_time": "2023-02-26T07:10:14.748Z"
   },
   {
    "duration": 3,
    "start_time": "2023-02-26T07:54:33.480Z"
   },
   {
    "duration": 364,
    "start_time": "2023-02-26T15:00:55.859Z"
   },
   {
    "duration": 207,
    "start_time": "2023-02-26T15:00:58.388Z"
   },
   {
    "duration": 46,
    "start_time": "2023-02-26T15:00:59.309Z"
   },
   {
    "duration": 2209,
    "start_time": "2023-02-26T15:01:00.467Z"
   },
   {
    "duration": 11,
    "start_time": "2023-02-26T15:01:07.621Z"
   },
   {
    "duration": 10,
    "start_time": "2023-02-26T15:01:10.621Z"
   },
   {
    "duration": 34,
    "start_time": "2023-02-26T15:01:12.408Z"
   },
   {
    "duration": 15,
    "start_time": "2023-02-26T15:01:14.267Z"
   },
   {
    "duration": 31,
    "start_time": "2023-02-26T15:01:15.847Z"
   },
   {
    "duration": 39,
    "start_time": "2023-02-26T15:01:17.485Z"
   },
   {
    "duration": 10,
    "start_time": "2023-02-26T15:01:19.078Z"
   },
   {
    "duration": 21,
    "start_time": "2023-02-26T15:01:21.035Z"
   },
   {
    "duration": 16,
    "start_time": "2023-02-26T15:01:50.546Z"
   },
   {
    "duration": 28,
    "start_time": "2023-02-26T15:01:52.767Z"
   },
   {
    "duration": 10,
    "start_time": "2023-02-26T15:02:01.174Z"
   },
   {
    "duration": 17,
    "start_time": "2023-02-26T15:02:07.564Z"
   },
   {
    "duration": 10,
    "start_time": "2023-02-26T15:02:08.760Z"
   },
   {
    "duration": 6,
    "start_time": "2023-02-26T15:02:47.829Z"
   },
   {
    "duration": 12,
    "start_time": "2023-02-26T15:02:49.903Z"
   },
   {
    "duration": 12,
    "start_time": "2023-02-26T15:02:52.006Z"
   },
   {
    "duration": 5,
    "start_time": "2023-02-26T15:02:54.888Z"
   },
   {
    "duration": 8,
    "start_time": "2023-02-26T15:03:12.450Z"
   },
   {
    "duration": 33,
    "start_time": "2023-02-26T15:03:17.888Z"
   },
   {
    "duration": 3,
    "start_time": "2023-02-26T15:03:23.439Z"
   },
   {
    "duration": 142,
    "start_time": "2023-02-26T15:03:45.321Z"
   },
   {
    "duration": 101,
    "start_time": "2023-02-26T15:05:20.586Z"
   },
   {
    "duration": 109,
    "start_time": "2023-02-26T15:05:51.672Z"
   },
   {
    "duration": 98,
    "start_time": "2023-02-26T15:06:06.039Z"
   },
   {
    "duration": 106,
    "start_time": "2023-02-26T15:06:25.083Z"
   },
   {
    "duration": 161,
    "start_time": "2023-02-26T15:07:00.964Z"
   },
   {
    "duration": 108,
    "start_time": "2023-02-26T15:08:35.041Z"
   },
   {
    "duration": 111,
    "start_time": "2023-02-26T15:09:07.954Z"
   },
   {
    "duration": 151,
    "start_time": "2023-02-26T15:09:28.511Z"
   },
   {
    "duration": 147,
    "start_time": "2023-02-26T15:13:46.122Z"
   },
   {
    "duration": 6,
    "start_time": "2023-02-26T15:15:43.738Z"
   },
   {
    "duration": 7,
    "start_time": "2023-02-26T15:17:43.525Z"
   },
   {
    "duration": 9,
    "start_time": "2023-02-26T15:18:08.776Z"
   },
   {
    "duration": 8,
    "start_time": "2023-02-26T15:18:28.276Z"
   },
   {
    "duration": 9,
    "start_time": "2023-02-26T15:18:42.878Z"
   },
   {
    "duration": 105,
    "start_time": "2023-02-26T15:20:22.863Z"
   },
   {
    "duration": 146,
    "start_time": "2023-02-26T15:23:53.212Z"
   },
   {
    "duration": 122,
    "start_time": "2023-02-26T15:27:15.150Z"
   },
   {
    "duration": 136,
    "start_time": "2023-02-26T15:27:34.766Z"
   },
   {
    "duration": 5,
    "start_time": "2023-02-26T15:33:08.581Z"
   },
   {
    "duration": 9,
    "start_time": "2023-02-26T15:37:09.350Z"
   },
   {
    "duration": 84,
    "start_time": "2023-02-26T15:37:23.382Z"
   },
   {
    "duration": 11,
    "start_time": "2023-02-26T15:38:04.884Z"
   },
   {
    "duration": 83,
    "start_time": "2023-02-26T15:38:08.902Z"
   },
   {
    "duration": 9,
    "start_time": "2023-02-26T15:38:24.889Z"
   },
   {
    "duration": 82,
    "start_time": "2023-02-26T15:38:27.351Z"
   },
   {
    "duration": 10,
    "start_time": "2023-02-26T15:38:53.176Z"
   },
   {
    "duration": 87,
    "start_time": "2023-02-26T15:38:55.069Z"
   },
   {
    "duration": 9,
    "start_time": "2023-02-26T15:40:40.961Z"
   },
   {
    "duration": 78,
    "start_time": "2023-02-26T15:40:42.722Z"
   },
   {
    "duration": 24,
    "start_time": "2023-02-26T15:46:49.053Z"
   },
   {
    "duration": 22,
    "start_time": "2023-02-26T15:47:10.596Z"
   },
   {
    "duration": 26,
    "start_time": "2023-02-26T15:47:17.918Z"
   },
   {
    "duration": 22,
    "start_time": "2023-02-26T15:47:23.737Z"
   },
   {
    "duration": 28,
    "start_time": "2023-02-26T15:47:32.958Z"
   },
   {
    "duration": 30,
    "start_time": "2023-02-26T15:47:42.826Z"
   },
   {
    "duration": 127,
    "start_time": "2023-02-26T15:47:50.055Z"
   },
   {
    "duration": 184,
    "start_time": "2023-02-26T15:47:53.373Z"
   },
   {
    "duration": 123,
    "start_time": "2023-02-26T15:47:57.447Z"
   },
   {
    "duration": 129,
    "start_time": "2023-02-26T15:48:01.606Z"
   },
   {
    "duration": 124,
    "start_time": "2023-02-26T15:48:16.333Z"
   },
   {
    "duration": 128,
    "start_time": "2023-02-26T15:48:48.930Z"
   },
   {
    "duration": 140,
    "start_time": "2023-02-26T15:48:52.260Z"
   },
   {
    "duration": 129,
    "start_time": "2023-02-26T15:48:54.760Z"
   },
   {
    "duration": 126,
    "start_time": "2023-02-26T15:48:57.139Z"
   },
   {
    "duration": 126,
    "start_time": "2023-02-26T15:48:59.473Z"
   },
   {
    "duration": 136,
    "start_time": "2023-02-26T15:49:02.117Z"
   },
   {
    "duration": 132,
    "start_time": "2023-02-26T15:49:04.507Z"
   },
   {
    "duration": 127,
    "start_time": "2023-02-26T15:49:06.864Z"
   },
   {
    "duration": 128,
    "start_time": "2023-02-26T15:49:07.802Z"
   },
   {
    "duration": 236,
    "start_time": "2023-02-26T15:49:16.228Z"
   },
   {
    "duration": 5,
    "start_time": "2023-02-26T15:49:19.894Z"
   },
   {
    "duration": 6,
    "start_time": "2023-02-26T15:49:36.561Z"
   },
   {
    "duration": 258,
    "start_time": "2023-02-26T15:49:46.256Z"
   },
   {
    "duration": 188,
    "start_time": "2023-02-26T15:49:49.286Z"
   },
   {
    "duration": 180,
    "start_time": "2023-02-26T15:49:53.910Z"
   },
   {
    "duration": 138,
    "start_time": "2023-02-26T15:50:17.454Z"
   },
   {
    "duration": 268,
    "start_time": "2023-02-26T15:51:55.628Z"
   },
   {
    "duration": 163,
    "start_time": "2023-02-26T15:51:59.334Z"
   },
   {
    "duration": 172,
    "start_time": "2023-02-26T15:52:00.912Z"
   },
   {
    "duration": 158,
    "start_time": "2023-02-26T15:52:03.402Z"
   },
   {
    "duration": 19,
    "start_time": "2023-02-26T15:52:27.869Z"
   },
   {
    "duration": 7,
    "start_time": "2023-02-26T15:52:32.736Z"
   },
   {
    "duration": 8,
    "start_time": "2023-02-26T15:52:44.743Z"
   },
   {
    "duration": 266,
    "start_time": "2023-02-26T15:52:57.530Z"
   },
   {
    "duration": 410,
    "start_time": "2023-02-27T14:31:24.756Z"
   },
   {
    "duration": 206,
    "start_time": "2023-02-27T14:31:25.169Z"
   },
   {
    "duration": 59,
    "start_time": "2023-02-27T14:31:25.377Z"
   },
   {
    "duration": 2558,
    "start_time": "2023-02-27T14:31:25.437Z"
   },
   {
    "duration": 15,
    "start_time": "2023-02-27T14:31:28.004Z"
   },
   {
    "duration": 16,
    "start_time": "2023-02-27T14:31:28.021Z"
   },
   {
    "duration": 35,
    "start_time": "2023-02-27T14:31:28.038Z"
   },
   {
    "duration": 46,
    "start_time": "2023-02-27T14:31:28.075Z"
   },
   {
    "duration": 36,
    "start_time": "2023-02-27T14:31:28.123Z"
   },
   {
    "duration": 52,
    "start_time": "2023-02-27T14:31:28.161Z"
   },
   {
    "duration": 20,
    "start_time": "2023-02-27T14:31:28.215Z"
   },
   {
    "duration": 23,
    "start_time": "2023-02-27T14:31:28.237Z"
   },
   {
    "duration": 32,
    "start_time": "2023-02-27T14:31:28.261Z"
   },
   {
    "duration": 40,
    "start_time": "2023-02-27T14:31:28.296Z"
   },
   {
    "duration": 10,
    "start_time": "2023-02-27T14:31:28.337Z"
   },
   {
    "duration": 47,
    "start_time": "2023-02-27T14:31:28.350Z"
   },
   {
    "duration": 17,
    "start_time": "2023-02-27T14:31:28.398Z"
   },
   {
    "duration": 23,
    "start_time": "2023-02-27T14:31:28.416Z"
   },
   {
    "duration": 13,
    "start_time": "2023-02-27T14:31:28.440Z"
   },
   {
    "duration": 12,
    "start_time": "2023-02-27T14:31:28.455Z"
   },
   {
    "duration": 6,
    "start_time": "2023-02-27T14:31:28.468Z"
   },
   {
    "duration": 15,
    "start_time": "2023-02-27T14:31:28.487Z"
   },
   {
    "duration": 57,
    "start_time": "2023-02-27T14:31:28.504Z"
   },
   {
    "duration": 3,
    "start_time": "2023-02-27T14:31:28.563Z"
   },
   {
    "duration": 262,
    "start_time": "2023-02-27T14:31:28.567Z"
   },
   {
    "duration": 6,
    "start_time": "2023-02-27T14:31:28.831Z"
   },
   {
    "duration": 16,
    "start_time": "2023-02-27T14:31:28.839Z"
   },
   {
    "duration": 145,
    "start_time": "2023-02-27T14:31:28.857Z"
   },
   {
    "duration": 193,
    "start_time": "2023-02-27T14:31:29.004Z"
   },
   {
    "duration": 161,
    "start_time": "2023-02-27T14:31:29.201Z"
   },
   {
    "duration": 18,
    "start_time": "2023-02-27T14:31:29.365Z"
   },
   {
    "duration": 43,
    "start_time": "2023-02-27T14:31:29.384Z"
   },
   {
    "duration": 101,
    "start_time": "2023-02-27T14:31:29.429Z"
   },
   {
    "duration": 25,
    "start_time": "2023-02-27T14:31:29.532Z"
   },
   {
    "duration": 38,
    "start_time": "2023-02-27T14:31:29.559Z"
   },
   {
    "duration": 35,
    "start_time": "2023-02-27T14:31:29.601Z"
   },
   {
    "duration": 121,
    "start_time": "2023-02-27T14:31:29.637Z"
   },
   {
    "duration": 51,
    "start_time": "2023-02-27T14:31:29.760Z"
   },
   {
    "duration": 30,
    "start_time": "2023-02-27T14:31:29.815Z"
   },
   {
    "duration": 136,
    "start_time": "2023-02-27T14:31:29.847Z"
   },
   {
    "duration": 185,
    "start_time": "2023-02-27T14:31:29.989Z"
   },
   {
    "duration": 171,
    "start_time": "2023-02-27T14:31:30.176Z"
   },
   {
    "duration": 165,
    "start_time": "2023-02-27T14:31:30.349Z"
   },
   {
    "duration": 169,
    "start_time": "2023-02-27T14:31:30.516Z"
   },
   {
    "duration": 172,
    "start_time": "2023-02-27T14:31:30.687Z"
   },
   {
    "duration": 182,
    "start_time": "2023-02-27T14:31:30.861Z"
   },
   {
    "duration": 135,
    "start_time": "2023-02-27T14:31:31.045Z"
   },
   {
    "duration": 176,
    "start_time": "2023-02-27T14:31:31.182Z"
   },
   {
    "duration": 158,
    "start_time": "2023-02-27T14:31:31.360Z"
   },
   {
    "duration": 132,
    "start_time": "2023-02-27T14:31:31.520Z"
   },
   {
    "duration": 176,
    "start_time": "2023-02-27T14:31:31.653Z"
   },
   {
    "duration": 294,
    "start_time": "2023-02-27T14:31:31.831Z"
   },
   {
    "duration": 181,
    "start_time": "2023-02-27T14:31:32.127Z"
   },
   {
    "duration": 216,
    "start_time": "2023-02-27T14:31:32.310Z"
   },
   {
    "duration": 6,
    "start_time": "2023-02-27T14:31:32.527Z"
   },
   {
    "duration": 216,
    "start_time": "2023-02-27T14:31:32.534Z"
   },
   {
    "duration": 249,
    "start_time": "2023-02-27T14:31:32.752Z"
   },
   {
    "duration": 234,
    "start_time": "2023-02-27T14:31:33.002Z"
   },
   {
    "duration": 187,
    "start_time": "2023-02-27T14:31:33.238Z"
   },
   {
    "duration": 345,
    "start_time": "2023-02-27T14:31:33.427Z"
   },
   {
    "duration": 194,
    "start_time": "2023-02-27T14:31:33.774Z"
   },
   {
    "duration": 214,
    "start_time": "2023-02-27T14:31:33.969Z"
   },
   {
    "duration": 188,
    "start_time": "2023-02-27T14:31:34.187Z"
   },
   {
    "duration": 44,
    "start_time": "2023-02-27T14:31:34.377Z"
   },
   {
    "duration": 9,
    "start_time": "2023-02-27T14:31:34.424Z"
   },
   {
    "duration": 15,
    "start_time": "2023-02-27T14:31:34.435Z"
   },
   {
    "duration": 338,
    "start_time": "2023-02-27T14:31:34.452Z"
   },
   {
    "duration": 13,
    "start_time": "2023-02-27T14:38:40.985Z"
   },
   {
    "duration": 49,
    "start_time": "2023-02-27T14:38:51.857Z"
   },
   {
    "duration": 504,
    "start_time": "2023-08-17T14:14:46.706Z"
   },
   {
    "duration": 372,
    "start_time": "2023-08-17T14:14:50.344Z"
   },
   {
    "duration": 82,
    "start_time": "2023-08-17T14:14:50.968Z"
   },
   {
    "duration": 3792,
    "start_time": "2023-08-17T14:14:52.261Z"
   },
   {
    "duration": 2724,
    "start_time": "2023-08-17T14:15:11.644Z"
   },
   {
    "duration": 11,
    "start_time": "2023-08-17T14:15:44.502Z"
   },
   {
    "duration": 11,
    "start_time": "2023-08-17T14:15:46.710Z"
   },
   {
    "duration": 55,
    "start_time": "2023-08-17T14:15:48.520Z"
   },
   {
    "duration": 22,
    "start_time": "2023-08-17T14:15:50.299Z"
   },
   {
    "duration": 44,
    "start_time": "2023-08-17T14:15:51.956Z"
   },
   {
    "duration": 51,
    "start_time": "2023-08-17T14:15:53.699Z"
   },
   {
    "duration": 18,
    "start_time": "2023-08-17T14:15:57.985Z"
   },
   {
    "duration": 31,
    "start_time": "2023-08-17T14:16:14.902Z"
   },
   {
    "duration": 22,
    "start_time": "2023-08-17T14:16:24.899Z"
   },
   {
    "duration": 50,
    "start_time": "2023-08-17T14:16:27.170Z"
   },
   {
    "duration": 13,
    "start_time": "2023-08-17T14:16:33.592Z"
   },
   {
    "duration": 32,
    "start_time": "2023-08-17T14:16:45.265Z"
   },
   {
    "duration": 14,
    "start_time": "2023-08-17T14:16:46.046Z"
   },
   {
    "duration": 9,
    "start_time": "2023-08-17T14:16:51.699Z"
   },
   {
    "duration": 12,
    "start_time": "2023-08-17T14:16:53.572Z"
   },
   {
    "duration": 16,
    "start_time": "2023-08-17T14:16:55.512Z"
   },
   {
    "duration": 6,
    "start_time": "2023-08-17T14:16:56.439Z"
   },
   {
    "duration": 12,
    "start_time": "2023-08-17T14:17:02.501Z"
   },
   {
    "duration": 35,
    "start_time": "2023-08-17T14:17:03.719Z"
   },
   {
    "duration": 3,
    "start_time": "2023-08-17T14:17:05.585Z"
   },
   {
    "duration": 171,
    "start_time": "2023-08-17T14:17:06.228Z"
   },
   {
    "duration": 6,
    "start_time": "2023-08-17T14:17:08.127Z"
   },
   {
    "duration": 13,
    "start_time": "2023-08-17T14:17:09.041Z"
   },
   {
    "duration": 121,
    "start_time": "2023-08-17T14:17:09.957Z"
   },
   {
    "duration": 166,
    "start_time": "2023-08-17T14:17:11.644Z"
   },
   {
    "duration": 144,
    "start_time": "2023-08-17T14:17:13.209Z"
   },
   {
    "duration": 6,
    "start_time": "2023-08-17T14:17:14.207Z"
   },
   {
    "duration": 13,
    "start_time": "2023-08-17T14:17:15.145Z"
   },
   {
    "duration": 95,
    "start_time": "2023-08-17T14:17:16.072Z"
   },
   {
    "duration": 28,
    "start_time": "2023-08-17T14:17:24.220Z"
   },
   {
    "duration": 44,
    "start_time": "2023-08-17T14:17:26.281Z"
   },
   {
    "duration": 27,
    "start_time": "2023-08-17T14:17:27.803Z"
   },
   {
    "duration": 28,
    "start_time": "2023-08-17T14:17:29.153Z"
   },
   {
    "duration": 32,
    "start_time": "2023-08-17T14:17:30.575Z"
   },
   {
    "duration": 34,
    "start_time": "2023-08-17T14:17:33.039Z"
   },
   {
    "duration": 132,
    "start_time": "2023-08-17T14:17:42.911Z"
   },
   {
    "duration": 154,
    "start_time": "2023-08-17T14:17:44.829Z"
   },
   {
    "duration": 316,
    "start_time": "2023-08-17T14:17:45.838Z"
   },
   {
    "duration": 164,
    "start_time": "2023-08-17T14:17:46.758Z"
   },
   {
    "duration": 153,
    "start_time": "2023-08-17T14:17:47.748Z"
   },
   {
    "duration": 192,
    "start_time": "2023-08-17T14:17:49.160Z"
   },
   {
    "duration": 156,
    "start_time": "2023-08-17T14:17:50.199Z"
   },
   {
    "duration": 125,
    "start_time": "2023-08-17T14:17:51.172Z"
   },
   {
    "duration": 151,
    "start_time": "2023-08-17T14:17:52.341Z"
   },
   {
    "duration": 139,
    "start_time": "2023-08-17T14:17:52.903Z"
   },
   {
    "duration": 150,
    "start_time": "2023-08-17T14:17:53.835Z"
   },
   {
    "duration": 159,
    "start_time": "2023-08-17T14:17:54.400Z"
   },
   {
    "duration": 154,
    "start_time": "2023-08-17T14:17:55.633Z"
   },
   {
    "duration": 182,
    "start_time": "2023-08-17T14:17:56.475Z"
   },
   {
    "duration": 202,
    "start_time": "2023-08-17T14:18:03.564Z"
   },
   {
    "duration": 7,
    "start_time": "2023-08-17T14:18:05.404Z"
   },
   {
    "duration": 321,
    "start_time": "2023-08-17T14:18:11.153Z"
   },
   {
    "duration": 217,
    "start_time": "2023-08-17T14:18:13.556Z"
   },
   {
    "duration": 196,
    "start_time": "2023-08-17T14:18:15.862Z"
   },
   {
    "duration": 165,
    "start_time": "2023-08-17T14:18:18.601Z"
   },
   {
    "duration": 344,
    "start_time": "2023-08-17T14:18:26.216Z"
   },
   {
    "duration": 225,
    "start_time": "2023-08-17T14:18:27.956Z"
   },
   {
    "duration": 198,
    "start_time": "2023-08-17T14:18:29.422Z"
   },
   {
    "duration": 170,
    "start_time": "2023-08-17T14:18:30.670Z"
   },
   {
    "duration": 24,
    "start_time": "2023-08-17T14:18:37.583Z"
   },
   {
    "duration": 9,
    "start_time": "2023-08-17T14:18:46.398Z"
   },
   {
    "duration": 12,
    "start_time": "2023-08-17T14:18:47.727Z"
   },
   {
    "duration": 331,
    "start_time": "2023-08-17T14:18:56.129Z"
   }
  ],
  "kernelspec": {
   "display_name": "Python 3 (ipykernel)",
   "language": "python",
   "name": "python3"
  },
  "language_info": {
   "codemirror_mode": {
    "name": "ipython",
    "version": 3
   },
   "file_extension": ".py",
   "mimetype": "text/x-python",
   "name": "python",
   "nbconvert_exporter": "python",
   "pygments_lexer": "ipython3",
   "version": "3.9.5"
  },
  "toc": {
   "base_numbering": 1,
   "nav_menu": {},
   "number_sections": false,
   "sideBar": true,
   "skip_h1_title": false,
   "title_cell": "Table of Contents",
   "title_sidebar": "Contents",
   "toc_cell": false,
   "toc_position": {
    "height": "calc(100% - 180px)",
    "left": "10px",
    "top": "150px",
    "width": "298.778px"
   },
   "toc_section_display": true,
   "toc_window_display": true
  }
 },
 "nbformat": 4,
 "nbformat_minor": 2
}
