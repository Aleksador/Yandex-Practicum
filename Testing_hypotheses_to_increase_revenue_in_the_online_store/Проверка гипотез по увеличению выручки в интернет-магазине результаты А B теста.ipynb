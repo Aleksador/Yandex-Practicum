{
 "cells": [
  {
   "cell_type": "markdown",
   "metadata": {},
   "source": [
    "# Исследование крупного интернет-магазина \n",
    "Есть данные с гипотезами по увеличению выручки интернет-магазина, два файла с результатами A/B-теста."
   ]
  },
  {
   "cell_type": "markdown",
   "metadata": {},
   "source": [
    "# Цель исследования\n",
    "Подготовим к анализу и изучим данные. Приоритизируем гипотезы, запустим A/B-тест и проанализируем результаты чтобы увеличить выручку интернет-магазина.\n"
   ]
  },
  {
   "cell_type": "markdown",
   "metadata": {},
   "source": [
    "### Загрузим данные и подготовим их к анализу\n"
   ]
  },
  {
   "cell_type": "code",
   "execution_count": 2,
   "metadata": {},
   "outputs": [],
   "source": [
    "import pandas as pd #импорт необходимых библиотек\n",
    "import numpy as np\n",
    "import datetime as dt\n",
    "from matplotlib import pyplot as plt\n",
    "from scipy import stats"
   ]
  },
  {
   "cell_type": "code",
   "execution_count": 3,
   "metadata": {},
   "outputs": [],
   "source": [
    "try:\n",
    "    hypothesis = pd.read_csv('hypothesis.csv')\n",
    "    orders = pd.read_csv('orders.csv')\n",
    "    visitors = pd.read_csv('visitors.csv')\n",
    "except:\n",
    "    hypothesis = pd.read_csv('/datasets/hypothesis.csv')\n",
    "    orders = pd.read_csv('/datasets/orders.csv')\n",
    "    visitors = pd.read_csv('/datasets/visitors.csv')\n",
    "# Откроем файлы"
   ]
  },
  {
   "cell_type": "code",
   "execution_count": 4,
   "metadata": {},
   "outputs": [
    {
     "name": "stdout",
     "output_type": "stream",
     "text": [
      "<class 'pandas.core.frame.DataFrame'>\n",
      "RangeIndex: 9 entries, 0 to 8\n",
      "Data columns (total 5 columns):\n",
      " #   Column      Non-Null Count  Dtype \n",
      "---  ------      --------------  ----- \n",
      " 0   Hypothesis  9 non-null      object\n",
      " 1   Reach       9 non-null      int64 \n",
      " 2   Impact      9 non-null      int64 \n",
      " 3   Confidence  9 non-null      int64 \n",
      " 4   Efforts     9 non-null      int64 \n",
      "dtypes: int64(4), object(1)\n",
      "memory usage: 488.0+ bytes\n"
     ]
    },
    {
     "data": {
      "text/plain": [
       "None"
      ]
     },
     "metadata": {},
     "output_type": "display_data"
    },
    {
     "data": {
      "text/html": [
       "<div>\n",
       "<style scoped>\n",
       "    .dataframe tbody tr th:only-of-type {\n",
       "        vertical-align: middle;\n",
       "    }\n",
       "\n",
       "    .dataframe tbody tr th {\n",
       "        vertical-align: top;\n",
       "    }\n",
       "\n",
       "    .dataframe thead th {\n",
       "        text-align: right;\n",
       "    }\n",
       "</style>\n",
       "<table border=\"1\" class=\"dataframe\">\n",
       "  <thead>\n",
       "    <tr style=\"text-align: right;\">\n",
       "      <th></th>\n",
       "      <th>Hypothesis</th>\n",
       "      <th>Reach</th>\n",
       "      <th>Impact</th>\n",
       "      <th>Confidence</th>\n",
       "      <th>Efforts</th>\n",
       "    </tr>\n",
       "  </thead>\n",
       "  <tbody>\n",
       "    <tr>\n",
       "      <th>0</th>\n",
       "      <td>Добавить два новых канала привлечения трафика,...</td>\n",
       "      <td>3</td>\n",
       "      <td>10</td>\n",
       "      <td>8</td>\n",
       "      <td>6</td>\n",
       "    </tr>\n",
       "    <tr>\n",
       "      <th>1</th>\n",
       "      <td>Запустить собственную службу доставки, что сок...</td>\n",
       "      <td>2</td>\n",
       "      <td>5</td>\n",
       "      <td>4</td>\n",
       "      <td>10</td>\n",
       "    </tr>\n",
       "    <tr>\n",
       "      <th>2</th>\n",
       "      <td>Добавить блоки рекомендаций товаров на сайт ин...</td>\n",
       "      <td>8</td>\n",
       "      <td>3</td>\n",
       "      <td>7</td>\n",
       "      <td>3</td>\n",
       "    </tr>\n",
       "    <tr>\n",
       "      <th>3</th>\n",
       "      <td>Изменить структура категорий, что увеличит кон...</td>\n",
       "      <td>8</td>\n",
       "      <td>3</td>\n",
       "      <td>3</td>\n",
       "      <td>8</td>\n",
       "    </tr>\n",
       "    <tr>\n",
       "      <th>4</th>\n",
       "      <td>Изменить цвет фона главной страницы, чтобы уве...</td>\n",
       "      <td>3</td>\n",
       "      <td>1</td>\n",
       "      <td>1</td>\n",
       "      <td>1</td>\n",
       "    </tr>\n",
       "  </tbody>\n",
       "</table>\n",
       "</div>"
      ],
      "text/plain": [
       "                                          Hypothesis  Reach  Impact  \\\n",
       "0  Добавить два новых канала привлечения трафика,...      3      10   \n",
       "1  Запустить собственную службу доставки, что сок...      2       5   \n",
       "2  Добавить блоки рекомендаций товаров на сайт ин...      8       3   \n",
       "3  Изменить структура категорий, что увеличит кон...      8       3   \n",
       "4  Изменить цвет фона главной страницы, чтобы уве...      3       1   \n",
       "\n",
       "   Confidence  Efforts  \n",
       "0           8        6  \n",
       "1           4       10  \n",
       "2           7        3  \n",
       "3           3        8  \n",
       "4           1        1  "
      ]
     },
     "metadata": {},
     "output_type": "display_data"
    },
    {
     "data": {
      "text/plain": [
       "0"
      ]
     },
     "metadata": {},
     "output_type": "display_data"
    },
    {
     "data": {
      "text/plain": [
       "Hypothesis    0\n",
       "Reach         0\n",
       "Impact        0\n",
       "Confidence    0\n",
       "Efforts       0\n",
       "dtype: int64"
      ]
     },
     "execution_count": 4,
     "metadata": {},
     "output_type": "execute_result"
    }
   ],
   "source": [
    "display(hypothesis.info())\n",
    "display(hypothesis.head())\n",
    "display(hypothesis.duplicated().sum())#проверка дубликатов\n",
    "hypothesis.isna().sum() # проверка пропусков"
   ]
  },
  {
   "cell_type": "markdown",
   "metadata": {},
   "source": [
    "**Вывод** Нужно сменить на нижний регистр всех названий таблицы"
   ]
  },
  {
   "cell_type": "code",
   "execution_count": 5,
   "metadata": {},
   "outputs": [
    {
     "name": "stdout",
     "output_type": "stream",
     "text": [
      "<class 'pandas.core.frame.DataFrame'>\n",
      "RangeIndex: 1197 entries, 0 to 1196\n",
      "Data columns (total 5 columns):\n",
      " #   Column         Non-Null Count  Dtype \n",
      "---  ------         --------------  ----- \n",
      " 0   transactionId  1197 non-null   int64 \n",
      " 1   visitorId      1197 non-null   int64 \n",
      " 2   date           1197 non-null   object\n",
      " 3   revenue        1197 non-null   int64 \n",
      " 4   group          1197 non-null   object\n",
      "dtypes: int64(3), object(2)\n",
      "memory usage: 46.9+ KB\n"
     ]
    },
    {
     "data": {
      "text/plain": [
       "None"
      ]
     },
     "metadata": {},
     "output_type": "display_data"
    },
    {
     "data": {
      "text/html": [
       "<div>\n",
       "<style scoped>\n",
       "    .dataframe tbody tr th:only-of-type {\n",
       "        vertical-align: middle;\n",
       "    }\n",
       "\n",
       "    .dataframe tbody tr th {\n",
       "        vertical-align: top;\n",
       "    }\n",
       "\n",
       "    .dataframe thead th {\n",
       "        text-align: right;\n",
       "    }\n",
       "</style>\n",
       "<table border=\"1\" class=\"dataframe\">\n",
       "  <thead>\n",
       "    <tr style=\"text-align: right;\">\n",
       "      <th></th>\n",
       "      <th>transactionId</th>\n",
       "      <th>visitorId</th>\n",
       "      <th>date</th>\n",
       "      <th>revenue</th>\n",
       "      <th>group</th>\n",
       "    </tr>\n",
       "  </thead>\n",
       "  <tbody>\n",
       "    <tr>\n",
       "      <th>0</th>\n",
       "      <td>3667963787</td>\n",
       "      <td>3312258926</td>\n",
       "      <td>2019-08-15</td>\n",
       "      <td>1650</td>\n",
       "      <td>B</td>\n",
       "    </tr>\n",
       "    <tr>\n",
       "      <th>1</th>\n",
       "      <td>2804400009</td>\n",
       "      <td>3642806036</td>\n",
       "      <td>2019-08-15</td>\n",
       "      <td>730</td>\n",
       "      <td>B</td>\n",
       "    </tr>\n",
       "    <tr>\n",
       "      <th>2</th>\n",
       "      <td>2961555356</td>\n",
       "      <td>4069496402</td>\n",
       "      <td>2019-08-15</td>\n",
       "      <td>400</td>\n",
       "      <td>A</td>\n",
       "    </tr>\n",
       "    <tr>\n",
       "      <th>3</th>\n",
       "      <td>3797467345</td>\n",
       "      <td>1196621759</td>\n",
       "      <td>2019-08-15</td>\n",
       "      <td>9759</td>\n",
       "      <td>B</td>\n",
       "    </tr>\n",
       "    <tr>\n",
       "      <th>4</th>\n",
       "      <td>2282983706</td>\n",
       "      <td>2322279887</td>\n",
       "      <td>2019-08-15</td>\n",
       "      <td>2308</td>\n",
       "      <td>B</td>\n",
       "    </tr>\n",
       "  </tbody>\n",
       "</table>\n",
       "</div>"
      ],
      "text/plain": [
       "   transactionId   visitorId        date  revenue group\n",
       "0     3667963787  3312258926  2019-08-15     1650     B\n",
       "1     2804400009  3642806036  2019-08-15      730     B\n",
       "2     2961555356  4069496402  2019-08-15      400     A\n",
       "3     3797467345  1196621759  2019-08-15     9759     B\n",
       "4     2282983706  2322279887  2019-08-15     2308     B"
      ]
     },
     "metadata": {},
     "output_type": "display_data"
    },
    {
     "data": {
      "text/plain": [
       "0"
      ]
     },
     "metadata": {},
     "output_type": "display_data"
    },
    {
     "data": {
      "text/plain": [
       "transactionId    0\n",
       "visitorId        0\n",
       "date             0\n",
       "revenue          0\n",
       "group            0\n",
       "dtype: int64"
      ]
     },
     "execution_count": 5,
     "metadata": {},
     "output_type": "execute_result"
    }
   ],
   "source": [
    "display(orders.info())\n",
    "display(orders.head())\n",
    "display(orders.duplicated().sum())#проверка дубликатов\n",
    "orders.isna().sum() # проверка пропусков"
   ]
  },
  {
   "cell_type": "markdown",
   "metadata": {},
   "source": [
    "**Вывод** Нужно поменять тип данных для date на подходящий для даты и привести к нижнему регистру названия"
   ]
  },
  {
   "cell_type": "code",
   "execution_count": 6,
   "metadata": {},
   "outputs": [
    {
     "name": "stdout",
     "output_type": "stream",
     "text": [
      "<class 'pandas.core.frame.DataFrame'>\n",
      "RangeIndex: 62 entries, 0 to 61\n",
      "Data columns (total 3 columns):\n",
      " #   Column    Non-Null Count  Dtype \n",
      "---  ------    --------------  ----- \n",
      " 0   date      62 non-null     object\n",
      " 1   group     62 non-null     object\n",
      " 2   visitors  62 non-null     int64 \n",
      "dtypes: int64(1), object(2)\n",
      "memory usage: 1.6+ KB\n"
     ]
    },
    {
     "data": {
      "text/plain": [
       "None"
      ]
     },
     "metadata": {},
     "output_type": "display_data"
    },
    {
     "data": {
      "text/html": [
       "<div>\n",
       "<style scoped>\n",
       "    .dataframe tbody tr th:only-of-type {\n",
       "        vertical-align: middle;\n",
       "    }\n",
       "\n",
       "    .dataframe tbody tr th {\n",
       "        vertical-align: top;\n",
       "    }\n",
       "\n",
       "    .dataframe thead th {\n",
       "        text-align: right;\n",
       "    }\n",
       "</style>\n",
       "<table border=\"1\" class=\"dataframe\">\n",
       "  <thead>\n",
       "    <tr style=\"text-align: right;\">\n",
       "      <th></th>\n",
       "      <th>date</th>\n",
       "      <th>group</th>\n",
       "      <th>visitors</th>\n",
       "    </tr>\n",
       "  </thead>\n",
       "  <tbody>\n",
       "    <tr>\n",
       "      <th>0</th>\n",
       "      <td>2019-08-01</td>\n",
       "      <td>A</td>\n",
       "      <td>719</td>\n",
       "    </tr>\n",
       "    <tr>\n",
       "      <th>1</th>\n",
       "      <td>2019-08-02</td>\n",
       "      <td>A</td>\n",
       "      <td>619</td>\n",
       "    </tr>\n",
       "    <tr>\n",
       "      <th>2</th>\n",
       "      <td>2019-08-03</td>\n",
       "      <td>A</td>\n",
       "      <td>507</td>\n",
       "    </tr>\n",
       "    <tr>\n",
       "      <th>3</th>\n",
       "      <td>2019-08-04</td>\n",
       "      <td>A</td>\n",
       "      <td>717</td>\n",
       "    </tr>\n",
       "    <tr>\n",
       "      <th>4</th>\n",
       "      <td>2019-08-05</td>\n",
       "      <td>A</td>\n",
       "      <td>756</td>\n",
       "    </tr>\n",
       "  </tbody>\n",
       "</table>\n",
       "</div>"
      ],
      "text/plain": [
       "         date group  visitors\n",
       "0  2019-08-01     A       719\n",
       "1  2019-08-02     A       619\n",
       "2  2019-08-03     A       507\n",
       "3  2019-08-04     A       717\n",
       "4  2019-08-05     A       756"
      ]
     },
     "metadata": {},
     "output_type": "display_data"
    },
    {
     "data": {
      "text/plain": [
       "0"
      ]
     },
     "metadata": {},
     "output_type": "display_data"
    },
    {
     "data": {
      "text/plain": [
       "date        0\n",
       "group       0\n",
       "visitors    0\n",
       "dtype: int64"
      ]
     },
     "execution_count": 6,
     "metadata": {},
     "output_type": "execute_result"
    }
   ],
   "source": [
    "display(visitors.info())\n",
    "display(visitors.head())\n",
    "display(visitors.duplicated().sum())#проверка дубликатов\n",
    "visitors.isna().sum() # проверка пропусков"
   ]
  },
  {
   "cell_type": "markdown",
   "metadata": {},
   "source": [
    "**Вывод** Здесь тоже нужно поменять тип данных для date на подходящий для даты тип."
   ]
  },
  {
   "cell_type": "code",
   "execution_count": 7,
   "metadata": {},
   "outputs": [],
   "source": [
    "#смена регистра названий \n",
    "hypothesis.columns = hypothesis.columns.str.lower()\n",
    "orders.columns = orders.columns.str.lower()"
   ]
  },
  {
   "cell_type": "code",
   "execution_count": 8,
   "metadata": {},
   "outputs": [],
   "source": [
    "# преобразование столбцов с датой и временем\n",
    "orders['date'] = pd.to_datetime(orders['date'],format='%Y-%m-%d') \n",
    "visitors['date'] = pd.to_datetime(visitors['date'],format='%Y-%m-%d')"
   ]
  },
  {
   "cell_type": "code",
   "execution_count": 9,
   "metadata": {},
   "outputs": [
    {
     "name": "stdout",
     "output_type": "stream",
     "text": [
      "<class 'pandas.core.frame.DataFrame'>\n",
      "RangeIndex: 9 entries, 0 to 8\n",
      "Data columns (total 5 columns):\n",
      " #   Column      Non-Null Count  Dtype \n",
      "---  ------      --------------  ----- \n",
      " 0   hypothesis  9 non-null      object\n",
      " 1   reach       9 non-null      int64 \n",
      " 2   impact      9 non-null      int64 \n",
      " 3   confidence  9 non-null      int64 \n",
      " 4   efforts     9 non-null      int64 \n",
      "dtypes: int64(4), object(1)\n",
      "memory usage: 488.0+ bytes\n"
     ]
    },
    {
     "data": {
      "text/plain": [
       "None"
      ]
     },
     "metadata": {},
     "output_type": "display_data"
    },
    {
     "name": "stdout",
     "output_type": "stream",
     "text": [
      "<class 'pandas.core.frame.DataFrame'>\n",
      "RangeIndex: 1197 entries, 0 to 1196\n",
      "Data columns (total 5 columns):\n",
      " #   Column         Non-Null Count  Dtype         \n",
      "---  ------         --------------  -----         \n",
      " 0   transactionid  1197 non-null   int64         \n",
      " 1   visitorid      1197 non-null   int64         \n",
      " 2   date           1197 non-null   datetime64[ns]\n",
      " 3   revenue        1197 non-null   int64         \n",
      " 4   group          1197 non-null   object        \n",
      "dtypes: datetime64[ns](1), int64(3), object(1)\n",
      "memory usage: 46.9+ KB\n"
     ]
    },
    {
     "data": {
      "text/plain": [
       "None"
      ]
     },
     "metadata": {},
     "output_type": "display_data"
    },
    {
     "name": "stdout",
     "output_type": "stream",
     "text": [
      "<class 'pandas.core.frame.DataFrame'>\n",
      "RangeIndex: 62 entries, 0 to 61\n",
      "Data columns (total 3 columns):\n",
      " #   Column    Non-Null Count  Dtype         \n",
      "---  ------    --------------  -----         \n",
      " 0   date      62 non-null     datetime64[ns]\n",
      " 1   group     62 non-null     object        \n",
      " 2   visitors  62 non-null     int64         \n",
      "dtypes: datetime64[ns](1), int64(1), object(1)\n",
      "memory usage: 1.6+ KB\n"
     ]
    },
    {
     "data": {
      "text/plain": [
       "None"
      ]
     },
     "metadata": {},
     "output_type": "display_data"
    }
   ],
   "source": [
    "# проверим, что получилось\n",
    "for i in [hypothesis, orders, visitors]:\n",
    "    display(i.info())"
   ]
  },
  {
   "cell_type": "markdown",
   "metadata": {},
   "source": [
    "**Вывод** Данные приведены к нижнему регистру и нужному типу данных. Дубликатов и пропусков нет, основная информация проверена."
   ]
  },
  {
   "cell_type": "markdown",
   "metadata": {},
   "source": [
    "## Приоритизация гипотез"
   ]
  },
  {
   "cell_type": "markdown",
   "metadata": {},
   "source": [
    "### Применим фреймворк ICE для приоритизации гипотез. Отсортируем их по убыванию приоритета."
   ]
  },
  {
   "cell_type": "code",
   "execution_count": 11,
   "metadata": {},
   "outputs": [
    {
     "data": {
      "text/html": [
       "<div>\n",
       "<style scoped>\n",
       "    .dataframe tbody tr th:only-of-type {\n",
       "        vertical-align: middle;\n",
       "    }\n",
       "\n",
       "    .dataframe tbody tr th {\n",
       "        vertical-align: top;\n",
       "    }\n",
       "\n",
       "    .dataframe thead th {\n",
       "        text-align: right;\n",
       "    }\n",
       "</style>\n",
       "<table border=\"1\" class=\"dataframe\">\n",
       "  <thead>\n",
       "    <tr style=\"text-align: right;\">\n",
       "      <th></th>\n",
       "      <th>hypothesis</th>\n",
       "      <th>reach</th>\n",
       "      <th>impact</th>\n",
       "      <th>confidence</th>\n",
       "      <th>efforts</th>\n",
       "      <th>ICE</th>\n",
       "    </tr>\n",
       "  </thead>\n",
       "  <tbody>\n",
       "    <tr>\n",
       "      <th>8</th>\n",
       "      <td>Запустить акцию, дающую скидку на товар в день...</td>\n",
       "      <td>1</td>\n",
       "      <td>9</td>\n",
       "      <td>9</td>\n",
       "      <td>5</td>\n",
       "      <td>16.20</td>\n",
       "    </tr>\n",
       "    <tr>\n",
       "      <th>0</th>\n",
       "      <td>Добавить два новых канала привлечения трафика,...</td>\n",
       "      <td>3</td>\n",
       "      <td>10</td>\n",
       "      <td>8</td>\n",
       "      <td>6</td>\n",
       "      <td>13.33</td>\n",
       "    </tr>\n",
       "    <tr>\n",
       "      <th>7</th>\n",
       "      <td>Добавить форму подписки на все основные страни...</td>\n",
       "      <td>10</td>\n",
       "      <td>7</td>\n",
       "      <td>8</td>\n",
       "      <td>5</td>\n",
       "      <td>11.20</td>\n",
       "    </tr>\n",
       "    <tr>\n",
       "      <th>6</th>\n",
       "      <td>Показать на главной странице баннеры с актуаль...</td>\n",
       "      <td>5</td>\n",
       "      <td>3</td>\n",
       "      <td>8</td>\n",
       "      <td>3</td>\n",
       "      <td>8.00</td>\n",
       "    </tr>\n",
       "    <tr>\n",
       "      <th>2</th>\n",
       "      <td>Добавить блоки рекомендаций товаров на сайт ин...</td>\n",
       "      <td>8</td>\n",
       "      <td>3</td>\n",
       "      <td>7</td>\n",
       "      <td>3</td>\n",
       "      <td>7.00</td>\n",
       "    </tr>\n",
       "    <tr>\n",
       "      <th>1</th>\n",
       "      <td>Запустить собственную службу доставки, что сок...</td>\n",
       "      <td>2</td>\n",
       "      <td>5</td>\n",
       "      <td>4</td>\n",
       "      <td>10</td>\n",
       "      <td>2.00</td>\n",
       "    </tr>\n",
       "    <tr>\n",
       "      <th>5</th>\n",
       "      <td>Добавить страницу отзывов клиентов о магазине,...</td>\n",
       "      <td>3</td>\n",
       "      <td>2</td>\n",
       "      <td>2</td>\n",
       "      <td>3</td>\n",
       "      <td>1.33</td>\n",
       "    </tr>\n",
       "    <tr>\n",
       "      <th>3</th>\n",
       "      <td>Изменить структура категорий, что увеличит кон...</td>\n",
       "      <td>8</td>\n",
       "      <td>3</td>\n",
       "      <td>3</td>\n",
       "      <td>8</td>\n",
       "      <td>1.12</td>\n",
       "    </tr>\n",
       "    <tr>\n",
       "      <th>4</th>\n",
       "      <td>Изменить цвет фона главной страницы, чтобы уве...</td>\n",
       "      <td>3</td>\n",
       "      <td>1</td>\n",
       "      <td>1</td>\n",
       "      <td>1</td>\n",
       "      <td>1.00</td>\n",
       "    </tr>\n",
       "  </tbody>\n",
       "</table>\n",
       "</div>"
      ],
      "text/plain": [
       "                                          hypothesis  reach  impact  \\\n",
       "8  Запустить акцию, дающую скидку на товар в день...      1       9   \n",
       "0  Добавить два новых канала привлечения трафика,...      3      10   \n",
       "7  Добавить форму подписки на все основные страни...     10       7   \n",
       "6  Показать на главной странице баннеры с актуаль...      5       3   \n",
       "2  Добавить блоки рекомендаций товаров на сайт ин...      8       3   \n",
       "1  Запустить собственную службу доставки, что сок...      2       5   \n",
       "5  Добавить страницу отзывов клиентов о магазине,...      3       2   \n",
       "3  Изменить структура категорий, что увеличит кон...      8       3   \n",
       "4  Изменить цвет фона главной страницы, чтобы уве...      3       1   \n",
       "\n",
       "   confidence  efforts    ICE  \n",
       "8           9        5  16.20  \n",
       "0           8        6  13.33  \n",
       "7           8        5  11.20  \n",
       "6           8        3   8.00  \n",
       "2           7        3   7.00  \n",
       "1           4       10   2.00  \n",
       "5           2        3   1.33  \n",
       "3           3        8   1.12  \n",
       "4           1        1   1.00  "
      ]
     },
     "execution_count": 11,
     "metadata": {},
     "output_type": "execute_result"
    }
   ],
   "source": [
    "hypothesis['ICE'] = hypothesis['impact']*hypothesis['confidence']/hypothesis['efforts'] #считаем ICE\n",
    "round(hypothesis.sort_values(by='ICE', ascending=False), 2) #сортируем по убыванию"
   ]
  },
  {
   "cell_type": "markdown",
   "metadata": {},
   "source": [
    "### Применим фреймворк RICE для приоритизации гипотез. Отсортируем их по убыванию приоритета."
   ]
  },
  {
   "cell_type": "code",
   "execution_count": 12,
   "metadata": {},
   "outputs": [
    {
     "data": {
      "text/html": [
       "<div>\n",
       "<style scoped>\n",
       "    .dataframe tbody tr th:only-of-type {\n",
       "        vertical-align: middle;\n",
       "    }\n",
       "\n",
       "    .dataframe tbody tr th {\n",
       "        vertical-align: top;\n",
       "    }\n",
       "\n",
       "    .dataframe thead th {\n",
       "        text-align: right;\n",
       "    }\n",
       "</style>\n",
       "<table border=\"1\" class=\"dataframe\">\n",
       "  <thead>\n",
       "    <tr style=\"text-align: right;\">\n",
       "      <th></th>\n",
       "      <th>hypothesis</th>\n",
       "      <th>reach</th>\n",
       "      <th>impact</th>\n",
       "      <th>confidence</th>\n",
       "      <th>efforts</th>\n",
       "      <th>ICE</th>\n",
       "      <th>RICE</th>\n",
       "    </tr>\n",
       "  </thead>\n",
       "  <tbody>\n",
       "    <tr>\n",
       "      <th>7</th>\n",
       "      <td>Добавить форму подписки на все основные страни...</td>\n",
       "      <td>10</td>\n",
       "      <td>7</td>\n",
       "      <td>8</td>\n",
       "      <td>5</td>\n",
       "      <td>11.200000</td>\n",
       "      <td>112.0</td>\n",
       "    </tr>\n",
       "    <tr>\n",
       "      <th>2</th>\n",
       "      <td>Добавить блоки рекомендаций товаров на сайт ин...</td>\n",
       "      <td>8</td>\n",
       "      <td>3</td>\n",
       "      <td>7</td>\n",
       "      <td>3</td>\n",
       "      <td>7.000000</td>\n",
       "      <td>56.0</td>\n",
       "    </tr>\n",
       "    <tr>\n",
       "      <th>0</th>\n",
       "      <td>Добавить два новых канала привлечения трафика,...</td>\n",
       "      <td>3</td>\n",
       "      <td>10</td>\n",
       "      <td>8</td>\n",
       "      <td>6</td>\n",
       "      <td>13.333333</td>\n",
       "      <td>40.0</td>\n",
       "    </tr>\n",
       "    <tr>\n",
       "      <th>6</th>\n",
       "      <td>Показать на главной странице баннеры с актуаль...</td>\n",
       "      <td>5</td>\n",
       "      <td>3</td>\n",
       "      <td>8</td>\n",
       "      <td>3</td>\n",
       "      <td>8.000000</td>\n",
       "      <td>40.0</td>\n",
       "    </tr>\n",
       "    <tr>\n",
       "      <th>8</th>\n",
       "      <td>Запустить акцию, дающую скидку на товар в день...</td>\n",
       "      <td>1</td>\n",
       "      <td>9</td>\n",
       "      <td>9</td>\n",
       "      <td>5</td>\n",
       "      <td>16.200000</td>\n",
       "      <td>16.2</td>\n",
       "    </tr>\n",
       "    <tr>\n",
       "      <th>3</th>\n",
       "      <td>Изменить структура категорий, что увеличит кон...</td>\n",
       "      <td>8</td>\n",
       "      <td>3</td>\n",
       "      <td>3</td>\n",
       "      <td>8</td>\n",
       "      <td>1.125000</td>\n",
       "      <td>9.0</td>\n",
       "    </tr>\n",
       "    <tr>\n",
       "      <th>1</th>\n",
       "      <td>Запустить собственную службу доставки, что сок...</td>\n",
       "      <td>2</td>\n",
       "      <td>5</td>\n",
       "      <td>4</td>\n",
       "      <td>10</td>\n",
       "      <td>2.000000</td>\n",
       "      <td>4.0</td>\n",
       "    </tr>\n",
       "    <tr>\n",
       "      <th>5</th>\n",
       "      <td>Добавить страницу отзывов клиентов о магазине,...</td>\n",
       "      <td>3</td>\n",
       "      <td>2</td>\n",
       "      <td>2</td>\n",
       "      <td>3</td>\n",
       "      <td>1.333333</td>\n",
       "      <td>4.0</td>\n",
       "    </tr>\n",
       "    <tr>\n",
       "      <th>4</th>\n",
       "      <td>Изменить цвет фона главной страницы, чтобы уве...</td>\n",
       "      <td>3</td>\n",
       "      <td>1</td>\n",
       "      <td>1</td>\n",
       "      <td>1</td>\n",
       "      <td>1.000000</td>\n",
       "      <td>3.0</td>\n",
       "    </tr>\n",
       "  </tbody>\n",
       "</table>\n",
       "</div>"
      ],
      "text/plain": [
       "                                          hypothesis  reach  impact  \\\n",
       "7  Добавить форму подписки на все основные страни...     10       7   \n",
       "2  Добавить блоки рекомендаций товаров на сайт ин...      8       3   \n",
       "0  Добавить два новых канала привлечения трафика,...      3      10   \n",
       "6  Показать на главной странице баннеры с актуаль...      5       3   \n",
       "8  Запустить акцию, дающую скидку на товар в день...      1       9   \n",
       "3  Изменить структура категорий, что увеличит кон...      8       3   \n",
       "1  Запустить собственную службу доставки, что сок...      2       5   \n",
       "5  Добавить страницу отзывов клиентов о магазине,...      3       2   \n",
       "4  Изменить цвет фона главной страницы, чтобы уве...      3       1   \n",
       "\n",
       "   confidence  efforts        ICE   RICE  \n",
       "7           8        5  11.200000  112.0  \n",
       "2           7        3   7.000000   56.0  \n",
       "0           8        6  13.333333   40.0  \n",
       "6           8        3   8.000000   40.0  \n",
       "8           9        5  16.200000   16.2  \n",
       "3           3        8   1.125000    9.0  \n",
       "1           4       10   2.000000    4.0  \n",
       "5           2        3   1.333333    4.0  \n",
       "4           1        1   1.000000    3.0  "
      ]
     },
     "execution_count": 12,
     "metadata": {},
     "output_type": "execute_result"
    }
   ],
   "source": [
    "hypothesis['RICE'] = hypothesis['reach']*hypothesis['impact']*hypothesis['confidence']/hypothesis['efforts'] #считаем RICE\n",
    "hypothesis.sort_values(by='RICE', ascending=False) #сортируем по убыванию"
   ]
  },
  {
   "cell_type": "markdown",
   "metadata": {},
   "source": [
    "### Как изменилась приоритизация гипотез при применении RICE вместо ICE. Объясните, почему так произошло."
   ]
  },
  {
   "cell_type": "markdown",
   "metadata": {},
   "source": [
    "**Вывод** При применении ICE на первых местах были гипотезы: \"Запустить акцию\", \"добавить два канала привлечения тарфика\", \"Добавить форму подписки\" . При применении RICE - \"Добавить форму подписки\", \"добавить блоки рекомендаций товаров\", \"добавить два канала привлечения трафика\". При расчете RICE добавился пункт reach - количество пользователей, которых затронет изменения, которые хотим внести. При определении наиболее важных гипотез 'reach' тоже необходимо учитывать, гипотеза \"Добавить форму подписки\" выглядит наиболее приоритетной, высокие показатели reach, impact и confidence. 5 наиболее популярных гипотез в ICE и в RICE по составу одинаков."
   ]
  },
  {
   "cell_type": "markdown",
   "metadata": {},
   "source": [
    "## Анализ A/B-теста\n"
   ]
  },
  {
   "cell_type": "markdown",
   "metadata": {},
   "source": [
    "### Построим график кумулятивной выручки по группам. Сделайте выводы и предположения.\n"
   ]
  },
  {
   "cell_type": "code",
   "execution_count": 13,
   "metadata": {},
   "outputs": [
    {
     "data": {
      "text/html": [
       "<div>\n",
       "<style scoped>\n",
       "    .dataframe tbody tr th:only-of-type {\n",
       "        vertical-align: middle;\n",
       "    }\n",
       "\n",
       "    .dataframe tbody tr th {\n",
       "        vertical-align: top;\n",
       "    }\n",
       "\n",
       "    .dataframe thead th {\n",
       "        text-align: right;\n",
       "    }\n",
       "</style>\n",
       "<table border=\"1\" class=\"dataframe\">\n",
       "  <thead>\n",
       "    <tr style=\"text-align: right;\">\n",
       "      <th></th>\n",
       "      <th>date</th>\n",
       "      <th>group</th>\n",
       "      <th>transactionid</th>\n",
       "      <th>visitorid</th>\n",
       "      <th>revenue</th>\n",
       "    </tr>\n",
       "  </thead>\n",
       "  <tbody>\n",
       "    <tr>\n",
       "      <th>55</th>\n",
       "      <td>2019-08-01</td>\n",
       "      <td>A</td>\n",
       "      <td>24</td>\n",
       "      <td>20</td>\n",
       "      <td>148579</td>\n",
       "    </tr>\n",
       "    <tr>\n",
       "      <th>66</th>\n",
       "      <td>2019-08-01</td>\n",
       "      <td>B</td>\n",
       "      <td>21</td>\n",
       "      <td>20</td>\n",
       "      <td>101217</td>\n",
       "    </tr>\n",
       "    <tr>\n",
       "      <th>175</th>\n",
       "      <td>2019-08-02</td>\n",
       "      <td>A</td>\n",
       "      <td>44</td>\n",
       "      <td>38</td>\n",
       "      <td>242401</td>\n",
       "    </tr>\n",
       "    <tr>\n",
       "      <th>173</th>\n",
       "      <td>2019-08-02</td>\n",
       "      <td>B</td>\n",
       "      <td>45</td>\n",
       "      <td>43</td>\n",
       "      <td>266748</td>\n",
       "    </tr>\n",
       "    <tr>\n",
       "      <th>291</th>\n",
       "      <td>2019-08-03</td>\n",
       "      <td>A</td>\n",
       "      <td>68</td>\n",
       "      <td>62</td>\n",
       "      <td>354874</td>\n",
       "    </tr>\n",
       "    <tr>\n",
       "      <th>...</th>\n",
       "      <td>...</td>\n",
       "      <td>...</td>\n",
       "      <td>...</td>\n",
       "      <td>...</td>\n",
       "      <td>...</td>\n",
       "    </tr>\n",
       "    <tr>\n",
       "      <th>496</th>\n",
       "      <td>2019-08-29</td>\n",
       "      <td>B</td>\n",
       "      <td>596</td>\n",
       "      <td>544</td>\n",
       "      <td>5559398</td>\n",
       "    </tr>\n",
       "    <tr>\n",
       "      <th>730</th>\n",
       "      <td>2019-08-30</td>\n",
       "      <td>A</td>\n",
       "      <td>545</td>\n",
       "      <td>493</td>\n",
       "      <td>4022970</td>\n",
       "    </tr>\n",
       "    <tr>\n",
       "      <th>690</th>\n",
       "      <td>2019-08-30</td>\n",
       "      <td>B</td>\n",
       "      <td>620</td>\n",
       "      <td>567</td>\n",
       "      <td>5774631</td>\n",
       "    </tr>\n",
       "    <tr>\n",
       "      <th>958</th>\n",
       "      <td>2019-08-31</td>\n",
       "      <td>A</td>\n",
       "      <td>557</td>\n",
       "      <td>503</td>\n",
       "      <td>4084803</td>\n",
       "    </tr>\n",
       "    <tr>\n",
       "      <th>930</th>\n",
       "      <td>2019-08-31</td>\n",
       "      <td>B</td>\n",
       "      <td>640</td>\n",
       "      <td>586</td>\n",
       "      <td>5907760</td>\n",
       "    </tr>\n",
       "  </tbody>\n",
       "</table>\n",
       "<p>62 rows × 5 columns</p>\n",
       "</div>"
      ],
      "text/plain": [
       "          date group  transactionid  visitorid  revenue\n",
       "55  2019-08-01     A             24         20   148579\n",
       "66  2019-08-01     B             21         20   101217\n",
       "175 2019-08-02     A             44         38   242401\n",
       "173 2019-08-02     B             45         43   266748\n",
       "291 2019-08-03     A             68         62   354874\n",
       "..         ...   ...            ...        ...      ...\n",
       "496 2019-08-29     B            596        544  5559398\n",
       "730 2019-08-30     A            545        493  4022970\n",
       "690 2019-08-30     B            620        567  5774631\n",
       "958 2019-08-31     A            557        503  4084803\n",
       "930 2019-08-31     B            640        586  5907760\n",
       "\n",
       "[62 rows x 5 columns]"
      ]
     },
     "execution_count": 13,
     "metadata": {},
     "output_type": "execute_result"
    }
   ],
   "source": [
    "# Создадим датафрейм с уникальными парами значений дат и групп, дубли удаляем\n",
    "datesGroups = orders[['date', 'group']].drop_duplicates()\n",
    "# Соберем данные в переменную по файлу orders\n",
    "ordersAggregated = (datesGroups\n",
    "                    .apply(lambda x: orders[(orders['date'] <= x['date']) & (orders['group'] == x['group'])]\n",
    "                        .agg({'date':'max', 'group':'max', 'transactionid':pd.Series.nunique, 'visitorid':pd.Series.nunique, 'revenue':'sum'}), axis=1)\n",
    "                    .sort_values(by=['date','group']) \n",
    "                   )\n",
    "ordersAggregated"
   ]
  },
  {
   "cell_type": "code",
   "execution_count": 14,
   "metadata": {},
   "outputs": [
    {
     "data": {
      "text/html": [
       "<div>\n",
       "<style scoped>\n",
       "    .dataframe tbody tr th:only-of-type {\n",
       "        vertical-align: middle;\n",
       "    }\n",
       "\n",
       "    .dataframe tbody tr th {\n",
       "        vertical-align: top;\n",
       "    }\n",
       "\n",
       "    .dataframe thead th {\n",
       "        text-align: right;\n",
       "    }\n",
       "</style>\n",
       "<table border=\"1\" class=\"dataframe\">\n",
       "  <thead>\n",
       "    <tr style=\"text-align: right;\">\n",
       "      <th></th>\n",
       "      <th>date</th>\n",
       "      <th>group</th>\n",
       "      <th>visitors</th>\n",
       "    </tr>\n",
       "  </thead>\n",
       "  <tbody>\n",
       "    <tr>\n",
       "      <th>55</th>\n",
       "      <td>2019-08-01</td>\n",
       "      <td>A</td>\n",
       "      <td>719</td>\n",
       "    </tr>\n",
       "    <tr>\n",
       "      <th>66</th>\n",
       "      <td>2019-08-01</td>\n",
       "      <td>B</td>\n",
       "      <td>713</td>\n",
       "    </tr>\n",
       "    <tr>\n",
       "      <th>175</th>\n",
       "      <td>2019-08-02</td>\n",
       "      <td>A</td>\n",
       "      <td>1338</td>\n",
       "    </tr>\n",
       "    <tr>\n",
       "      <th>173</th>\n",
       "      <td>2019-08-02</td>\n",
       "      <td>B</td>\n",
       "      <td>1294</td>\n",
       "    </tr>\n",
       "    <tr>\n",
       "      <th>291</th>\n",
       "      <td>2019-08-03</td>\n",
       "      <td>A</td>\n",
       "      <td>1845</td>\n",
       "    </tr>\n",
       "    <tr>\n",
       "      <th>...</th>\n",
       "      <td>...</td>\n",
       "      <td>...</td>\n",
       "      <td>...</td>\n",
       "    </tr>\n",
       "    <tr>\n",
       "      <th>496</th>\n",
       "      <td>2019-08-29</td>\n",
       "      <td>B</td>\n",
       "      <td>17708</td>\n",
       "    </tr>\n",
       "    <tr>\n",
       "      <th>730</th>\n",
       "      <td>2019-08-30</td>\n",
       "      <td>A</td>\n",
       "      <td>18037</td>\n",
       "    </tr>\n",
       "    <tr>\n",
       "      <th>690</th>\n",
       "      <td>2019-08-30</td>\n",
       "      <td>B</td>\n",
       "      <td>18198</td>\n",
       "    </tr>\n",
       "    <tr>\n",
       "      <th>958</th>\n",
       "      <td>2019-08-31</td>\n",
       "      <td>A</td>\n",
       "      <td>18736</td>\n",
       "    </tr>\n",
       "    <tr>\n",
       "      <th>930</th>\n",
       "      <td>2019-08-31</td>\n",
       "      <td>B</td>\n",
       "      <td>18916</td>\n",
       "    </tr>\n",
       "  </tbody>\n",
       "</table>\n",
       "<p>62 rows × 3 columns</p>\n",
       "</div>"
      ],
      "text/plain": [
       "          date group  visitors\n",
       "55  2019-08-01     A       719\n",
       "66  2019-08-01     B       713\n",
       "175 2019-08-02     A      1338\n",
       "173 2019-08-02     B      1294\n",
       "291 2019-08-03     A      1845\n",
       "..         ...   ...       ...\n",
       "496 2019-08-29     B     17708\n",
       "730 2019-08-30     A     18037\n",
       "690 2019-08-30     B     18198\n",
       "958 2019-08-31     A     18736\n",
       "930 2019-08-31     B     18916\n",
       "\n",
       "[62 rows x 3 columns]"
      ]
     },
     "execution_count": 14,
     "metadata": {},
     "output_type": "execute_result"
    }
   ],
   "source": [
    "# создадим датафрейм с уникальными парами значений дат и групп, дубли удаляем по файлу visitors\n",
    "visitorsAggregated = (datesGroups\n",
    "                      .apply(lambda x: visitors[(visitors['date'] <= x['date']) & (visitors['group'] == x['group'])]\n",
    "                          .agg({'date' : 'max', 'group' : 'max', 'visitors' : 'sum'}), axis=1)\n",
    "                      .sort_values(by=['date','group'])\n",
    "                     )\n",
    "visitorsAggregated"
   ]
  },
  {
   "cell_type": "code",
   "execution_count": 15,
   "metadata": {},
   "outputs": [
    {
     "data": {
      "text/html": [
       "<div>\n",
       "<style scoped>\n",
       "    .dataframe tbody tr th:only-of-type {\n",
       "        vertical-align: middle;\n",
       "    }\n",
       "\n",
       "    .dataframe tbody tr th {\n",
       "        vertical-align: top;\n",
       "    }\n",
       "\n",
       "    .dataframe thead th {\n",
       "        text-align: right;\n",
       "    }\n",
       "</style>\n",
       "<table border=\"1\" class=\"dataframe\">\n",
       "  <thead>\n",
       "    <tr style=\"text-align: right;\">\n",
       "      <th></th>\n",
       "      <th>date</th>\n",
       "      <th>group</th>\n",
       "      <th>orders</th>\n",
       "      <th>buyers</th>\n",
       "      <th>revenue</th>\n",
       "      <th>visitors</th>\n",
       "    </tr>\n",
       "  </thead>\n",
       "  <tbody>\n",
       "    <tr>\n",
       "      <th>0</th>\n",
       "      <td>2019-08-01</td>\n",
       "      <td>A</td>\n",
       "      <td>24</td>\n",
       "      <td>20</td>\n",
       "      <td>148579</td>\n",
       "      <td>719</td>\n",
       "    </tr>\n",
       "    <tr>\n",
       "      <th>1</th>\n",
       "      <td>2019-08-01</td>\n",
       "      <td>B</td>\n",
       "      <td>21</td>\n",
       "      <td>20</td>\n",
       "      <td>101217</td>\n",
       "      <td>713</td>\n",
       "    </tr>\n",
       "    <tr>\n",
       "      <th>2</th>\n",
       "      <td>2019-08-02</td>\n",
       "      <td>A</td>\n",
       "      <td>44</td>\n",
       "      <td>38</td>\n",
       "      <td>242401</td>\n",
       "      <td>1338</td>\n",
       "    </tr>\n",
       "    <tr>\n",
       "      <th>3</th>\n",
       "      <td>2019-08-02</td>\n",
       "      <td>B</td>\n",
       "      <td>45</td>\n",
       "      <td>43</td>\n",
       "      <td>266748</td>\n",
       "      <td>1294</td>\n",
       "    </tr>\n",
       "    <tr>\n",
       "      <th>4</th>\n",
       "      <td>2019-08-03</td>\n",
       "      <td>A</td>\n",
       "      <td>68</td>\n",
       "      <td>62</td>\n",
       "      <td>354874</td>\n",
       "      <td>1845</td>\n",
       "    </tr>\n",
       "    <tr>\n",
       "      <th>...</th>\n",
       "      <td>...</td>\n",
       "      <td>...</td>\n",
       "      <td>...</td>\n",
       "      <td>...</td>\n",
       "      <td>...</td>\n",
       "      <td>...</td>\n",
       "    </tr>\n",
       "    <tr>\n",
       "      <th>57</th>\n",
       "      <td>2019-08-29</td>\n",
       "      <td>B</td>\n",
       "      <td>596</td>\n",
       "      <td>544</td>\n",
       "      <td>5559398</td>\n",
       "      <td>17708</td>\n",
       "    </tr>\n",
       "    <tr>\n",
       "      <th>58</th>\n",
       "      <td>2019-08-30</td>\n",
       "      <td>A</td>\n",
       "      <td>545</td>\n",
       "      <td>493</td>\n",
       "      <td>4022970</td>\n",
       "      <td>18037</td>\n",
       "    </tr>\n",
       "    <tr>\n",
       "      <th>59</th>\n",
       "      <td>2019-08-30</td>\n",
       "      <td>B</td>\n",
       "      <td>620</td>\n",
       "      <td>567</td>\n",
       "      <td>5774631</td>\n",
       "      <td>18198</td>\n",
       "    </tr>\n",
       "    <tr>\n",
       "      <th>60</th>\n",
       "      <td>2019-08-31</td>\n",
       "      <td>A</td>\n",
       "      <td>557</td>\n",
       "      <td>503</td>\n",
       "      <td>4084803</td>\n",
       "      <td>18736</td>\n",
       "    </tr>\n",
       "    <tr>\n",
       "      <th>61</th>\n",
       "      <td>2019-08-31</td>\n",
       "      <td>B</td>\n",
       "      <td>640</td>\n",
       "      <td>586</td>\n",
       "      <td>5907760</td>\n",
       "      <td>18916</td>\n",
       "    </tr>\n",
       "  </tbody>\n",
       "</table>\n",
       "<p>62 rows × 6 columns</p>\n",
       "</div>"
      ],
      "text/plain": [
       "         date group  orders  buyers  revenue  visitors\n",
       "0  2019-08-01     A      24      20   148579       719\n",
       "1  2019-08-01     B      21      20   101217       713\n",
       "2  2019-08-02     A      44      38   242401      1338\n",
       "3  2019-08-02     B      45      43   266748      1294\n",
       "4  2019-08-03     A      68      62   354874      1845\n",
       "..        ...   ...     ...     ...      ...       ...\n",
       "57 2019-08-29     B     596     544  5559398     17708\n",
       "58 2019-08-30     A     545     493  4022970     18037\n",
       "59 2019-08-30     B     620     567  5774631     18198\n",
       "60 2019-08-31     A     557     503  4084803     18736\n",
       "61 2019-08-31     B     640     586  5907760     18916\n",
       "\n",
       "[62 rows x 6 columns]"
      ]
     },
     "execution_count": 15,
     "metadata": {},
     "output_type": "execute_result"
    }
   ],
   "source": [
    "# объединим таблицы по колонкам в одну\n",
    "cumulativeData = ordersAggregated.merge(visitorsAggregated, left_on=['date', 'group'], right_on=['date', 'group'])\n",
    "cumulativeData.columns = ['date', 'group', 'orders', 'buyers', 'revenue', 'visitors']\n",
    "cumulativeData"
   ]
  },
  {
   "cell_type": "code",
   "execution_count": 16,
   "metadata": {},
   "outputs": [
    {
     "data": {
      "text/plain": [
       "True"
      ]
     },
     "execution_count": 16,
     "metadata": {},
     "output_type": "execute_result"
    }
   ],
   "source": [
    "# проверим, совпадают ли минимальные даты:\n",
    "cumulativeData['date'].min() == orders['date'].min() == visitors['date'].min()"
   ]
  },
  {
   "cell_type": "code",
   "execution_count": 17,
   "metadata": {},
   "outputs": [
    {
     "data": {
      "text/plain": [
       "True"
      ]
     },
     "execution_count": 17,
     "metadata": {},
     "output_type": "execute_result"
    }
   ],
   "source": [
    "# проверим, совпадают ли максимальные даты:\n",
    "cumulativeData['date'].max() == orders['date'].max() == visitors['date'].max()"
   ]
  },
  {
   "cell_type": "code",
   "execution_count": 18,
   "metadata": {},
   "outputs": [
    {
     "data": {
      "image/png": "[encoded data removed]",
      "text/plain": [
       "<Figure size 1080x360 with 1 Axes>"
      ]
     },
     "metadata": {
      "needs_background": "light"
     },
     "output_type": "display_data"
    }
   ],
   "source": [
    "# датафрейм с кумулятивным количеством заказов и кумулятивной выручкой по дням в группе А\n",
    "cumulativeRevenueA = cumulativeData[cumulativeData['group']=='A'][['date', 'revenue', 'orders']]\n",
    "\n",
    "# датафрейм с кумулятивным количеством заказов и кумулятивной выручкой по дням в группе B\n",
    "cumulativeRevenueB =cumulativeData[cumulativeData['group']=='B'][['date', 'revenue', 'orders']]\n",
    "# построим график\n",
    "plt.figure(figsize=(15,5))\n",
    "plt.plot(cumulativeRevenueA['date'], cumulativeRevenueA['revenue'], label='A')\n",
    "plt.plot(cumulativeRevenueB['date'], cumulativeRevenueB['revenue'], label='B')\n",
    "plt.title('Кумулятивная выручка в группах А и В', fontsize=12)\n",
    "plt.xlabel('Дата', fontsize=15)\n",
    "plt.ylabel('Выручка', fontsize=15)\n",
    "plt.xticks(rotation=30)\n",
    "plt.legend() \n",
    "plt.show()"
   ]
  },
  {
   "cell_type": "markdown",
   "metadata": {},
   "source": [
    "**Вывод** На графике видно, что выручка обоих груп плавно росла примерно в одинаковом темпе до 13 августа, далее у группы А был небольшой резкий подъем 12-13 августа. Выручка группы В с 13 августа прорывается вверх относительно группы А, был резкий подъем выручки с 18 августа по 19 августа и далее выручка группы В росла вверх, выручка группы А тоже росла, но без таких резких подъемов. Возможно в группу В попали какие-то очень крупные заказы, мог увеличится средний чек или увеличилось количество заказов. "
   ]
  },
  {
   "cell_type": "markdown",
   "metadata": {},
   "source": [
    "### Построим график кумулятивного среднего чека по группам. Сделайте выводы и предположения.\n"
   ]
  },
  {
   "cell_type": "code",
   "execution_count": 25,
   "metadata": {},
   "outputs": [
    {
     "data": {
      "image/png": "[encoded data removed]",
      "text/plain": [
       "<Figure size 1080x360 with 1 Axes>"
      ]
     },
     "metadata": {
      "needs_background": "light"
     },
     "output_type": "display_data"
    }
   ],
   "source": [
    "plt.figure(figsize=(15,5))\n",
    "plt.plot(cumulativeRevenueA['date'], cumulativeRevenueA['revenue']/cumulativeRevenueA['orders'], label='A')\n",
    "plt.plot(cumulativeRevenueB['date'], cumulativeRevenueB['revenue']/cumulativeRevenueB['orders'], label='B')\n",
    "plt.title('Кумулятивный средний чек по группам', fontsize=12)\n",
    "plt.xlabel('Дата', fontsize=12)\n",
    "plt.ylabel('Кумулятивный средний чек', fontsize=12)\n",
    "plt.xticks(rotation=30)\n",
    "plt.legend() \n",
    "plt.show()"
   ]
  },
  {
   "cell_type": "markdown",
   "metadata": {},
   "source": [
    "**Вывод** По графику среднего чека видим, что у группы В он поднимался и немного падал в начале месяца, далее резко возрос с 18 августа, значит была крупная продажа. У группы А сначала месяца средний чек упал, после 5 августа начал подниматься и с 13 числа стабильно был на своем уровне, к концу месяца немного рос вверх. О разнице средних чеков в группе пока сложно говорить."
   ]
  },
  {
   "cell_type": "markdown",
   "metadata": {},
   "source": [
    "### Построим график относительного изменения кумулятивного среднего чека группы B к группе A. \n"
   ]
  },
  {
   "cell_type": "code",
   "execution_count": 26,
   "metadata": {},
   "outputs": [
    {
     "data": {
      "image/png": "[encoded data removed]",
      "text/plain": [
       "<Figure size 1080x360 with 1 Axes>"
      ]
     },
     "metadata": {
      "needs_background": "light"
     },
     "output_type": "display_data"
    }
   ],
   "source": [
    "# собираем данные в один датафрейм и строим график\n",
    "mergedCumulativeRevenue = cumulativeRevenueA.merge(cumulativeRevenueB, left_on='date', right_on='date', how='left', suffixes=['A', 'B'])\n",
    "\n",
    "plt.figure(figsize=(15,5))\n",
    "plt.plot(mergedCumulativeRevenue['date'], (mergedCumulativeRevenue['revenueB']/mergedCumulativeRevenue['ordersB'])/(mergedCumulativeRevenue['revenueA']/mergedCumulativeRevenue['ordersA'])-1)\n",
    "plt.axhline(y=0, color='black', linestyle='--') \n",
    "plt.title('Относительное изменение кумулятивного среднего чека группы B к группе A', fontsize=12, fontweight='bold')\n",
    "plt.xlabel('Дата', fontsize=12)\n",
    "plt.ylabel('(средний чек В/средний чек А) - 1', fontsize=12)\n",
    "plt.xticks(rotation=30)\n",
    "plt.show()"
   ]
  },
  {
   "cell_type": "markdown",
   "metadata": {},
   "source": [
    "**Вывод** Видно, что в течении месяца было два больших пика у показателей среднего чека, после взлета показатели падали, возможно на это повлияли аномально большие заказы, оформленные в этот период времени."
   ]
  },
  {
   "cell_type": "markdown",
   "metadata": {},
   "source": [
    "### Постройте график кумулятивного среднего количества заказов на посетителя по группам. "
   ]
  },
  {
   "cell_type": "code",
   "execution_count": 27,
   "metadata": {},
   "outputs": [
    {
     "data": {
      "image/png": "[encoded data removed]",
      "text/plain": [
       "<Figure size 1080x360 with 1 Axes>"
      ]
     },
     "metadata": {
      "needs_background": "light"
     },
     "output_type": "display_data"
    }
   ],
   "source": [
    "# считаем кумулятивную конверсию\n",
    "cumulativeData['conversion'] = cumulativeData['orders']/cumulativeData['visitors']\n",
    "\n",
    "# отделяем данные по группе A\n",
    "cumulativeDataA = cumulativeData[cumulativeData['group']=='A']\n",
    "\n",
    "# отделяем данные по группе В\n",
    "cumulativeDataB = cumulativeData[cumulativeData['group']=='B']\n",
    "\n",
    "plt.figure(figsize=(15,5))\n",
    "plt.plot(cumulativeDataA['date'], cumulativeDataA['conversion'], label='A')\n",
    "plt.plot(cumulativeDataB['date'], cumulativeDataB['conversion'], label='B')\n",
    "plt.legend()\n",
    "plt.title('Кумулятивная конверсия по группам', fontsize=12, fontweight='bold')\n",
    "plt.xlabel('Дата', fontsize=12)\n",
    "plt.ylabel('Конверсия', fontsize=12)\n",
    "plt.xticks(rotation=30)\n",
    "plt.show()"
   ]
  },
  {
   "cell_type": "markdown",
   "metadata": {},
   "source": [
    "**Вывод** В первую неделю теста в обеих группах происходит скачок конверсии, после чего группы расходятся. В группе А просиходит снижение конверсии с 0.037 до уровня 0.030, далее на конверсия остается на уровне 0.030. В группе B после скачка до 0.035 происходит резкое снижение значения конверсии до 0.031 с последующим постепенным ростом до 0.036 и далее конверсия стабильна, примерно в диапозоне 0.034-0.035.\n",
    "\n",
    "В начале месяца конверсии групп колебались, но довольно быстро выровнялись и результат группы В оказался стабильно лучше, чем в группе А."
   ]
  },
  {
   "cell_type": "markdown",
   "metadata": {},
   "source": [
    "### Построим график относительного изменения кумулятивного среднего количества заказов на посетителя группы B к группе A. Сделайте выводы и предположения.\n"
   ]
  },
  {
   "cell_type": "code",
   "execution_count": 28,
   "metadata": {},
   "outputs": [
    {
     "data": {
      "image/png": "[encoded data removed]",
      "text/plain": [
       "<Figure size 1080x360 with 1 Axes>"
      ]
     },
     "metadata": {
      "needs_background": "light"
     },
     "output_type": "display_data"
    }
   ],
   "source": [
    "mergedCumulativeConversions = cumulativeDataA[['date','conversion']].merge(cumulativeDataB[['date','conversion']], left_on='date', right_on='date', how='left', suffixes=['A', 'B'])\n",
    "\n",
    "plt.figure(figsize=(15,5))\n",
    "plt.plot(mergedCumulativeConversions['date'], mergedCumulativeConversions['conversionB']/mergedCumulativeConversions['conversionA']-1)\n",
    "plt.axhline(y=0, color='black', linestyle='--')\n",
    "plt.axhline(y=0.15, color='grey', linestyle='--')\n",
    "plt.title('Относительное изменение кумулятивной конверсии В к А', fontsize=12, fontweight='bold')\n",
    "plt.xlabel('Дата', fontsize=12)\n",
    "plt.ylabel('(Конверсия В/Конверсия А) -1', fontsize=12)\n",
    "plt.xticks(rotation=30)\n",
    "plt.show()"
   ]
  },
  {
   "cell_type": "markdown",
   "metadata": {},
   "source": [
    "**Вывод** После начала теста конверсия группы В взлетела по отношению к группе А и до конца теста оставалась выше. Рост не плавный, скорее всего из-за неравномерности стоимости и количества заказов в интернет-магазине."
   ]
  },
  {
   "cell_type": "markdown",
   "metadata": {},
   "source": [
    "### Построим точечный график количества заказов по пользователям. \n"
   ]
  },
  {
   "cell_type": "code",
   "execution_count": 29,
   "metadata": {},
   "outputs": [
    {
     "data": {
      "image/png": "[encoded data removed]",
      "text/plain": [
       "<Figure size 1080x360 with 1 Axes>"
      ]
     },
     "metadata": {
      "needs_background": "light"
     },
     "output_type": "display_data"
    }
   ],
   "source": [
    "# создадим датафрейм с количеством заказов по пользователям\n",
    "ordersByUsers = orders.drop(['group', 'revenue', 'date'], axis=1).groupby('visitorid', as_index=False).agg({'transactionid' : pd.Series.nunique})\n",
    "ordersByUsers.columns = ['visitorid','orders']\n",
    "#display(ordersByUsers.sort_values(by='orders',ascending=False).head(10)) \n",
    "\n",
    "# построим точечный график количества заказов по пользователям, серия из чисел от 0 до количества наблюдений в ordersByUsers\n",
    "\n",
    "x_values = pd.Series(range(0,len(ordersByUsers)))\n",
    "\n",
    "plt.figure(figsize=(15,5))\n",
    "plt.title('Количество заказов по пользователям', fontsize=12, fontweight='bold')\n",
    "plt.scatter(x_values, ordersByUsers['orders']) \n",
    "plt.show()"
   ]
  },
  {
   "cell_type": "markdown",
   "metadata": {},
   "source": [
    "**Вывод** По графику видно, что в основном пользователи делают 1-2 заказа, 3 заказа еще меньше. Большее количество заказов на пользователля скорее всего являются аномальными значениями, выбросами."
   ]
  },
  {
   "cell_type": "markdown",
   "metadata": {},
   "source": [
    "### Посчитаем 95-й и 99-й перцентили количества заказов на пользователя. Выберим границу для определения аномальных пользователей."
   ]
  },
  {
   "cell_type": "code",
   "execution_count": 30,
   "metadata": {},
   "outputs": [
    {
     "data": {
      "text/plain": [
       "array([2., 4.])"
      ]
     },
     "execution_count": 30,
     "metadata": {},
     "output_type": "execute_result"
    }
   ],
   "source": [
    "np.percentile(ordersByUsers['orders'], [95, 99]) #считаем перцентили количества заказов на пользователя"
   ]
  },
  {
   "cell_type": "markdown",
   "metadata": {},
   "source": [
    "**Вывод** Видно, что не более 5% пользователей оформили 2 заказа, 1% - 4 заказа. Аномальным пользователем будем считать того, кто сделал более 3 заказов."
   ]
  },
  {
   "cell_type": "markdown",
   "metadata": {},
   "source": [
    "### Построим точечный график стоимостей заказов. Сделайте выводы и предположения."
   ]
  },
  {
   "cell_type": "code",
   "execution_count": 31,
   "metadata": {},
   "outputs": [
    {
     "data": {
      "image/png": "[encoded data removed]",
      "text/plain": [
       "<Figure size 1080x360 with 1 Axes>"
      ]
     },
     "metadata": {
      "needs_background": "light"
     },
     "output_type": "display_data"
    }
   ],
   "source": [
    "# Построим точечный график стоимостей заказов\n",
    "x_values = pd.Series(range(0,len(orders['revenue'])))\n",
    "plt.figure(figsize=(15,5))\n",
    "plt.scatter(x_values, orders['revenue']) \n",
    "plt.title('Стоимость заказов', fontsize=12, fontweight='bold')\n",
    "plt.show()"
   ]
  },
  {
   "cell_type": "markdown",
   "metadata": {},
   "source": [
    "**Вывод** На графике видим заказы, которые вибиваются из общей канвы. Посчитаем перцентили 95 и 99й."
   ]
  },
  {
   "cell_type": "markdown",
   "metadata": {},
   "source": [
    "### Посчитаем 95-й и 99-й перцентили стоимости заказов. Выберим границу для определения аномальных заказов.\n"
   ]
  },
  {
   "cell_type": "code",
   "execution_count": 32,
   "metadata": {},
   "outputs": [
    {
     "data": {
      "text/plain": [
       "array([28000. , 58233.2])"
      ]
     },
     "execution_count": 32,
     "metadata": {},
     "output_type": "execute_result"
    }
   ],
   "source": [
    "np.percentile(orders['revenue'], [95, 99]) #считаем перцентили"
   ]
  },
  {
   "cell_type": "markdown",
   "metadata": {},
   "source": [
    "**Вывод** 95 перцентиль - значит не более 5% заказов на сумму более 28000 и 1% заказов дороже 58233.2 . Границей для определения аномальных заказов будут заказы свыше 28000 рублей."
   ]
  },
  {
   "cell_type": "markdown",
   "metadata": {},
   "source": [
    "### Посчитаем статистическую значимость различий в среднем количестве заказов на посетителя между группами по «сырым» данным.\n"
   ]
  },
  {
   "cell_type": "code",
   "execution_count": 33,
   "metadata": {},
   "outputs": [
    {
     "data": {
      "text/html": [
       "<div>\n",
       "<style scoped>\n",
       "    .dataframe tbody tr th:only-of-type {\n",
       "        vertical-align: middle;\n",
       "    }\n",
       "\n",
       "    .dataframe tbody tr th {\n",
       "        vertical-align: top;\n",
       "    }\n",
       "\n",
       "    .dataframe thead th {\n",
       "        text-align: right;\n",
       "    }\n",
       "</style>\n",
       "<table border=\"1\" class=\"dataframe\">\n",
       "  <thead>\n",
       "    <tr style=\"text-align: right;\">\n",
       "      <th></th>\n",
       "      <th>date</th>\n",
       "      <th>ordersPerDateA</th>\n",
       "      <th>revenuePerDateA</th>\n",
       "      <th>ordersPerDateB</th>\n",
       "      <th>revenuePerDateB</th>\n",
       "      <th>ordersCummulativeA</th>\n",
       "      <th>revenueCummulativeA</th>\n",
       "      <th>ordersCummulativeB</th>\n",
       "      <th>revenueCummulativeB</th>\n",
       "      <th>visitorsPerDateA</th>\n",
       "      <th>visitorsPerDateB</th>\n",
       "      <th>visitorsCummulativeA</th>\n",
       "      <th>visitorsCummulativeB</th>\n",
       "    </tr>\n",
       "  </thead>\n",
       "  <tbody>\n",
       "    <tr>\n",
       "      <th>0</th>\n",
       "      <td>2019-08-01</td>\n",
       "      <td>24</td>\n",
       "      <td>148579</td>\n",
       "      <td>21</td>\n",
       "      <td>101217</td>\n",
       "      <td>24</td>\n",
       "      <td>148579</td>\n",
       "      <td>21</td>\n",
       "      <td>101217</td>\n",
       "      <td>719</td>\n",
       "      <td>713</td>\n",
       "      <td>719</td>\n",
       "      <td>713</td>\n",
       "    </tr>\n",
       "    <tr>\n",
       "      <th>1</th>\n",
       "      <td>2019-08-02</td>\n",
       "      <td>20</td>\n",
       "      <td>93822</td>\n",
       "      <td>24</td>\n",
       "      <td>165531</td>\n",
       "      <td>44</td>\n",
       "      <td>242401</td>\n",
       "      <td>45</td>\n",
       "      <td>266748</td>\n",
       "      <td>619</td>\n",
       "      <td>581</td>\n",
       "      <td>1338</td>\n",
       "      <td>1294</td>\n",
       "    </tr>\n",
       "    <tr>\n",
       "      <th>2</th>\n",
       "      <td>2019-08-03</td>\n",
       "      <td>24</td>\n",
       "      <td>112473</td>\n",
       "      <td>16</td>\n",
       "      <td>114248</td>\n",
       "      <td>68</td>\n",
       "      <td>354874</td>\n",
       "      <td>61</td>\n",
       "      <td>380996</td>\n",
       "      <td>507</td>\n",
       "      <td>509</td>\n",
       "      <td>1845</td>\n",
       "      <td>1803</td>\n",
       "    </tr>\n",
       "    <tr>\n",
       "      <th>3</th>\n",
       "      <td>2019-08-04</td>\n",
       "      <td>16</td>\n",
       "      <td>70825</td>\n",
       "      <td>17</td>\n",
       "      <td>108571</td>\n",
       "      <td>84</td>\n",
       "      <td>425699</td>\n",
       "      <td>78</td>\n",
       "      <td>489567</td>\n",
       "      <td>717</td>\n",
       "      <td>770</td>\n",
       "      <td>2562</td>\n",
       "      <td>2573</td>\n",
       "    </tr>\n",
       "    <tr>\n",
       "      <th>4</th>\n",
       "      <td>2019-08-05</td>\n",
       "      <td>25</td>\n",
       "      <td>124218</td>\n",
       "      <td>23</td>\n",
       "      <td>92428</td>\n",
       "      <td>109</td>\n",
       "      <td>549917</td>\n",
       "      <td>101</td>\n",
       "      <td>581995</td>\n",
       "      <td>756</td>\n",
       "      <td>707</td>\n",
       "      <td>3318</td>\n",
       "      <td>3280</td>\n",
       "    </tr>\n",
       "  </tbody>\n",
       "</table>\n",
       "</div>"
      ],
      "text/plain": [
       "        date  ordersPerDateA  revenuePerDateA  ordersPerDateB  \\\n",
       "0 2019-08-01              24           148579              21   \n",
       "1 2019-08-02              20            93822              24   \n",
       "2 2019-08-03              24           112473              16   \n",
       "3 2019-08-04              16            70825              17   \n",
       "4 2019-08-05              25           124218              23   \n",
       "\n",
       "   revenuePerDateB  ordersCummulativeA  revenueCummulativeA  \\\n",
       "0           101217                  24               148579   \n",
       "1           165531                  44               242401   \n",
       "2           114248                  68               354874   \n",
       "3           108571                  84               425699   \n",
       "4            92428                 109               549917   \n",
       "\n",
       "   ordersCummulativeB  revenueCummulativeB  visitorsPerDateA  \\\n",
       "0                  21               101217               719   \n",
       "1                  45               266748               619   \n",
       "2                  61               380996               507   \n",
       "3                  78               489567               717   \n",
       "4                 101               581995               756   \n",
       "\n",
       "   visitorsPerDateB  visitorsCummulativeA  visitorsCummulativeB  \n",
       "0               713                   719                   713  \n",
       "1               581                  1338                  1294  \n",
       "2               509                  1845                  1803  \n",
       "3               770                  2562                  2573  \n",
       "4               707                  3318                  3280  "
      ]
     },
     "execution_count": 33,
     "metadata": {},
     "output_type": "execute_result"
    }
   ],
   "source": [
    "# подготовим датафрейм с фактическими и кумулятивными данными по дням:\n",
    "\n",
    "visitorsADaily = visitors[visitors['group']=='A'][['date', 'visitors']]\n",
    "visitorsADaily.columns = ['date', 'visitorsPerDateA']\n",
    "\n",
    "visitorsACummulative = (visitorsADaily\n",
    "                        .apply(lambda x: visitorsADaily[visitorsADaily['date'] <= x['date']]\n",
    "                               .agg({'date':'max', 'visitorsPerDateA':'sum'}), axis=1)\n",
    "                       )\n",
    "visitorsACummulative.columns = ['date', 'visitorsCummulativeA']\n",
    "\n",
    "visitorsBDaily = visitors[visitors['group']=='B'][['date', 'visitors']]\n",
    "visitorsBDaily.columns = ['date', 'visitorsPerDateB']\n",
    "\n",
    "visitorsBCummulative = (visitorsBDaily\n",
    "                        .apply(lambda x: visitorsBDaily[visitorsBDaily['date'] <= x['date']]\n",
    "                               .agg({'date':'max', 'visitorsPerDateB':'sum'}), axis=1)\n",
    "                       )\n",
    "visitorsBCummulative.columns = ['date', 'visitorsCummulativeB']\n",
    "\n",
    "ordersADaily = (orders[orders['group']=='A'][['date', 'transactionid', 'visitorid', 'revenue']]\n",
    "                .groupby('date', as_index=False)\n",
    "                .agg({'transactionid':pd.Series.nunique, 'revenue':'sum'})\n",
    "               )\n",
    "ordersADaily.columns = ['date', 'ordersPerDateA', 'revenuePerDateA']\n",
    "\n",
    "ordersACummulative = (ordersADaily\n",
    "                      .apply(lambda x:ordersADaily[ordersADaily['date'] <= x['date']]\n",
    "                             .agg({\n",
    "                                    'date':'max',\n",
    "                                    'ordersPerDateA':'sum',\n",
    "                                    'revenuePerDateA':'sum'}), axis=1)\n",
    "                      .sort_values(by=['date'])\n",
    "                     )\n",
    "ordersACummulative.columns = ['date', 'ordersCummulativeA', 'revenueCummulativeA']\n",
    "\n",
    "ordersBDaily = (orders[orders['group']=='B'][['date', 'transactionid', 'visitorid', 'revenue']]\n",
    "                .groupby('date', as_index=False)\n",
    "                .agg({'transactionid':pd.Series.nunique, 'revenue':'sum'})\n",
    "               )\n",
    "ordersBDaily.columns = ['date', 'ordersPerDateB', 'revenuePerDateB']\n",
    "\n",
    "ordersBCummulative = (ordersBDaily\n",
    "                      .apply(lambda x: ordersBDaily[ordersBDaily['date'] <= x['date']]\n",
    "                             .agg({\n",
    "                                    'date':'max',\n",
    "                                    'ordersPerDateB':'sum',\n",
    "                                    'revenuePerDateB' : 'sum'}), axis=1)\n",
    "                      .sort_values(by=['date'])\n",
    "                     )\n",
    "ordersBCummulative.columns = ['date', 'ordersCummulativeB', 'revenueCummulativeB']\n",
    "\n",
    "data = (ordersADaily\n",
    "        .merge(ordersBDaily, left_on='date', right_on='date', how='left')\n",
    "        .merge(ordersACummulative, left_on='date', right_on='date', how='left')\n",
    "        .merge(ordersBCummulative, left_on='date', right_on='date', how='left')\n",
    "        .merge(visitorsADaily, left_on='date', right_on='date', how='left')\n",
    "        .merge(visitorsBDaily, left_on='date', right_on='date', how='left')\n",
    "        .merge(visitorsACummulative, left_on='date', right_on='date', how='left')\n",
    "        .merge(visitorsBCummulative, left_on='date', right_on='date', how='left')\n",
    "       )\n",
    "\n",
    "data.head(5)"
   ]
  },
  {
   "cell_type": "code",
   "execution_count": 34,
   "metadata": {},
   "outputs": [],
   "source": [
    "# создадим для каждой группы датафрейм с количеством заказов на пользователя\n",
    "\n",
    "ordersByUsersA = orders[orders['group']=='A'].groupby('visitorid', as_index=False).agg({'transactionid':pd.Series.nunique})\n",
    "ordersByUsersA.columns = ['visitorid', 'orders']\n",
    "\n",
    "ordersByUsersB = orders[orders['group']=='B'].groupby('visitorid', as_index=False).agg({'transactionid':pd.Series.nunique})\n",
    "ordersByUsersB.columns = ['visitorid', 'orders']\n",
    "\n",
    "# создадим списки с числом заказов каждого пользователя, включая нули\n",
    "\n",
    "sampleA = pd.concat([ordersByUsersA['orders'],\n",
    "                     pd.Series(0, index=np.arange(data['visitorsPerDateA'].sum() - len(ordersByUsersA['orders'])), name='orders')],axis=0)\n",
    "sampleB = pd.concat([ordersByUsersB['orders'],\n",
    "                     pd.Series(0, index=np.arange(data['visitorsPerDateB'].sum() - len(ordersByUsersB['orders'])), name='orders')],axis=0)"
   ]
  },
  {
   "cell_type": "code",
   "execution_count": 47,
   "metadata": {},
   "outputs": [],
   "source": [
    "# функция для проверки гипотезы о равенстве групп dataA и dataB\n",
    "def stat_hypothesis(dataA, dataB):\n",
    "    # Нулевая гипотеза H0: между группами dataA и dataB нет статистически значимой разницы\n",
    "    alpha = 0.05\n",
    "    p_value = stats.mannwhitneyu(dataA, dataB)[1]\n",
    "\n",
    "    print(\"P-value: {0:.3f}\".format(p_value))\n",
    "\n",
    "    if (p_value < alpha):\n",
    "        print(\"Отвергаем нулевую гипотезу: между группами разница есть\")\n",
    "    else:\n",
    "        print(\"Не получилось отвергнуть нулевую гипотезу: разницы между группами нет\")\n",
    "    print(\"Относительное различие в средних группы В к группе А: {0:.1%}\".format(dataB.mean()/dataA.mean()-1))"
   ]
  },
  {
   "cell_type": "markdown",
   "metadata": {},
   "source": [
    "**Нулевая гипотеза H0 - \"Cтатистически значимых различий в конверсии между группами нет\"**\n",
    "**Альтернативная гипотеза H1 - \"Статистически значимые различия в конверсии между группами есть\"**"
   ]
  },
  {
   "cell_type": "code",
   "execution_count": 48,
   "metadata": {},
   "outputs": [
    {
     "name": "stdout",
     "output_type": "stream",
     "text": [
      "P-value: 0.017\n",
      "Отвергаем нулевую гипотезу: между группами разница есть\n",
      "Относительное различие в средних группы В к группе А: 13.8%\n"
     ]
    }
   ],
   "source": [
    "stat_hypothesis(sampleA, sampleB)"
   ]
  },
  {
   "cell_type": "markdown",
   "metadata": {},
   "source": [
    "**Вывод** Р-value равен 0.017 это меньше, чем 0.05. Значит, нулевую гипотезу о том, что статистически значимых различий в конверсии между группами нет, отвергаем, значит между группами есть разница. Относительный прирост конверсии группы B к группе А составляет 13.8%."
   ]
  },
  {
   "cell_type": "markdown",
   "metadata": {},
   "source": [
    "### Посчитаем статистическую значимость различий в среднем чеке заказа между группами по «сырым» данным.\n"
   ]
  },
  {
   "cell_type": "code",
   "execution_count": 49,
   "metadata": {},
   "outputs": [
    {
     "name": "stdout",
     "output_type": "stream",
     "text": [
      "P-value: 0.729\n",
      "Не получилось отвергнуть нулевую гипотезу: разницы между группами нет\n",
      "Относительное различие в средних группы В к группе А: 25.9%\n"
     ]
    }
   ],
   "source": [
    "stat_hypothesis(orders[orders['group']=='A']['revenue'], orders[orders['group']=='B']['revenue'])"
   ]
  },
  {
   "cell_type": "markdown",
   "metadata": {},
   "source": [
    "**Вывод** p-value 0.7 это больше, чем 0.5, значит по среднему чеку нулевую гипотезу отвергать нельзя. По очищенным данным результат возможно будет другим. Относительно различие средних здесь 25.9%, выше у группы В."
   ]
  },
  {
   "cell_type": "markdown",
   "metadata": {},
   "source": [
    "### Посчитаем статистическую значимость различий в среднем количестве заказов на посетителя между группами по «очищенным» данным. "
   ]
  },
  {
   "cell_type": "code",
   "execution_count": 42,
   "metadata": {},
   "outputs": [
    {
     "data": {
      "text/plain": [
       "'Количество \"аномальных\" пользователей:'"
      ]
     },
     "metadata": {},
     "output_type": "display_data"
    },
    {
     "data": {
      "text/plain": [
       "63"
      ]
     },
     "metadata": {},
     "output_type": "display_data"
    }
   ],
   "source": [
    "# Выделим из базы \"аномальных\" пользователей (совершивших более 3-го заказов или сумма заказа которых более 28000):\n",
    "\n",
    "usersWithManyOrders = pd.concat([ordersByUsersA[ordersByUsersA['orders'] > (np.percentile(ordersByUsers['orders'], [95, 99])[0]+1)]['visitorid'], ordersByUsersB[ordersByUsersB['orders'] > (np.percentile(ordersByUsers['orders'], [95, 99])[0]+1)]['visitorid']], axis = 0)\n",
    "usersWithExpensiveOrders = orders[orders['revenue'] > np.percentile(orders['revenue'], [95, 99])[0]]['visitorid']\n",
    "abnormalUsers = pd.concat([usersWithManyOrders, usersWithExpensiveOrders], axis = 0).drop_duplicates().sort_values()\n",
    "display('Количество \"аномальных\" пользователей:', abnormalUsers.shape[0])"
   ]
  },
  {
   "cell_type": "code",
   "execution_count": 43,
   "metadata": {},
   "outputs": [],
   "source": [
    "# создадим списки с числом заказов каждого пользователя, включая нули, но уже по очищенным данным:\n",
    "\n",
    "sampleAFiltered = pd.concat([ordersByUsersA[~(ordersByUsersA['visitorid'].isin(abnormalUsers))]['orders'],pd.Series(0, index=np.arange(data['visitorsPerDateA'].sum() - len(ordersByUsersA['orders'])),name='orders')],axis=0)\n",
    "sampleBFiltered = pd.concat([ordersByUsersB[~(ordersByUsersB['visitorid'].isin(abnormalUsers))]['orders'],pd.Series(0, index=np.arange(data['visitorsPerDateB'].sum() - len(ordersByUsersB['orders'])),name='orders')],axis=0)"
   ]
  },
  {
   "cell_type": "code",
   "execution_count": 44,
   "metadata": {},
   "outputs": [
    {
     "name": "stdout",
     "output_type": "stream",
     "text": [
      "P-value: 0.018\n",
      "Отвергаем нулевую гипотезу: между группами разница есть\n",
      "Относительное различие в средних: 14.8%\n"
     ]
    }
   ],
   "source": [
    "stat_hypothesis(sampleAFiltered, sampleBFiltered)"
   ]
  },
  {
   "cell_type": "markdown",
   "metadata": {},
   "source": [
    "**Вывод** По очищенным данным результат не сильно изменился, P-value равен 0.018, нулевую гипотезу отвергаем, разница есть. Относительное различие средних 14.8%, немного выше, чем по сырым данным на 1%. Конверсия группы В на почти 15% выше, чем группы А."
   ]
  },
  {
   "cell_type": "markdown",
   "metadata": {},
   "source": [
    "### Посчитаем статистическую значимость различий в среднем чеке заказа между группами по «очищенным» данным. Сделайте выводы и предположения.\n"
   ]
  },
  {
   "cell_type": "code",
   "execution_count": 50,
   "metadata": {},
   "outputs": [
    {
     "name": "stdout",
     "output_type": "stream",
     "text": [
      "P-value: 0.977\n",
      "Не получилось отвергнуть нулевую гипотезу: разницы между группами нет\n",
      "Относительное различие в средних группы В к группе А: -1.7%\n"
     ]
    }
   ],
   "source": [
    "(stat_hypothesis(\n",
    "    orders[(orders['group']=='A') & ~(orders['visitorid'].isin(abnormalUsers))]['revenue'], \n",
    "    orders[(orders['group']=='B') & ~(orders['visitorid'].isin(abnormalUsers))]['revenue'])\n",
    ")"
   ]
  },
  {
   "cell_type": "markdown",
   "metadata": {},
   "source": [
    "**Вывод** По сырым данным результат был 0.7, по очищенным p-value 0.977, почти 10. Отвергнуть нулевую гипотезу нельзя, разницы между группами по среднему чеку нет. Относительное различие в средних группы В к группе А равен -1.7%, т.е., это значит, что результаты группы А лучше, чем у группы В на 1.7%."
   ]
  },
  {
   "cell_type": "markdown",
   "metadata": {},
   "source": [
    "**Решение** \n",
    "\n",
    "1. Между конверсией в группах есть статистически важные различия, конверсия в групе B относительно группы A выше, по сырым и очищенным данным. По среднему чеку различий нет. Конверсия значительно выше у группы B. Цель исследования увеличить выручку интернет-магазина, конверсия влияет на выручку.\n",
    "\n",
    "2. По анализу результатов A/B-теста принято решение остановить тест, зафиксировав победу тестовой группы."
   ]
  }
 ],
 "metadata": {
  "ExecuteTimeLog": [
   {
    "duration": 742,
    "start_time": "2023-05-10T13:25:04.741Z"
   },
   {
    "duration": 202,
    "start_time": "2023-05-10T13:25:05.507Z"
   },
   {
    "duration": 24,
    "start_time": "2023-05-10T13:26:14.265Z"
   },
   {
    "duration": 19,
    "start_time": "2023-05-10T13:29:11.137Z"
   },
   {
    "duration": 19,
    "start_time": "2023-05-10T13:33:37.283Z"
   },
   {
    "duration": 56,
    "start_time": "2023-05-10T13:37:36.137Z"
   },
   {
    "duration": 6,
    "start_time": "2023-05-10T13:37:43.878Z"
   },
   {
    "duration": 25,
    "start_time": "2023-05-10T13:38:39.221Z"
   },
   {
    "duration": 5,
    "start_time": "2023-05-10T13:39:51.137Z"
   },
   {
    "duration": 27,
    "start_time": "2023-05-10T13:39:53.944Z"
   },
   {
    "duration": 73,
    "start_time": "2023-05-10T13:42:58.208Z"
   },
   {
    "duration": 9,
    "start_time": "2023-05-10T13:44:55.631Z"
   },
   {
    "duration": 9,
    "start_time": "2023-05-10T13:45:26.268Z"
   },
   {
    "duration": 878,
    "start_time": "2023-05-10T13:48:02.974Z"
   },
   {
    "duration": 9,
    "start_time": "2023-05-10T13:48:15.997Z"
   },
   {
    "duration": 8,
    "start_time": "2023-05-10T13:48:28.381Z"
   },
   {
    "duration": 3,
    "start_time": "2023-05-10T13:52:53.244Z"
   },
   {
    "duration": 7,
    "start_time": "2023-05-10T13:52:55.478Z"
   },
   {
    "duration": 28,
    "start_time": "2023-05-10T13:52:56.891Z"
   },
   {
    "duration": 30,
    "start_time": "2023-05-10T13:53:51.919Z"
   },
   {
    "duration": 764,
    "start_time": "2023-05-10T16:18:55.854Z"
   },
   {
    "duration": 377,
    "start_time": "2023-05-10T16:18:57.407Z"
   },
   {
    "duration": 28,
    "start_time": "2023-05-10T16:18:58.557Z"
   },
   {
    "duration": 21,
    "start_time": "2023-05-10T16:19:00.207Z"
   },
   {
    "duration": 22,
    "start_time": "2023-05-10T16:19:01.711Z"
   },
   {
    "duration": 4,
    "start_time": "2023-05-10T16:19:03.229Z"
   },
   {
    "duration": 7,
    "start_time": "2023-05-10T16:19:04.073Z"
   },
   {
    "duration": 27,
    "start_time": "2023-05-10T16:19:05.096Z"
   },
   {
    "duration": 3776,
    "start_time": "2023-05-10T16:19:09.148Z"
   },
   {
    "duration": 5,
    "start_time": "2023-05-10T16:19:33.776Z"
   },
   {
    "duration": 6,
    "start_time": "2023-05-10T16:19:51.844Z"
   },
   {
    "duration": 10,
    "start_time": "2023-05-10T16:21:26.250Z"
   },
   {
    "duration": 12,
    "start_time": "2023-05-10T16:21:35.924Z"
   },
   {
    "duration": 11,
    "start_time": "2023-05-10T16:24:57.995Z"
   },
   {
    "duration": 15,
    "start_time": "2023-05-10T16:25:08.324Z"
   },
   {
    "duration": 14,
    "start_time": "2023-05-10T16:25:17.461Z"
   },
   {
    "duration": 12,
    "start_time": "2023-05-10T16:25:27.325Z"
   },
   {
    "duration": 17,
    "start_time": "2023-05-10T16:25:34.768Z"
   },
   {
    "duration": 17,
    "start_time": "2023-05-10T16:26:11.622Z"
   },
   {
    "duration": 1269,
    "start_time": "2023-05-11T15:57:50.946Z"
   },
   {
    "duration": 326,
    "start_time": "2023-05-11T15:57:52.217Z"
   },
   {
    "duration": 37,
    "start_time": "2023-05-11T15:57:52.607Z"
   },
   {
    "duration": 22,
    "start_time": "2023-05-11T15:57:54.174Z"
   },
   {
    "duration": 22,
    "start_time": "2023-05-11T15:57:55.793Z"
   },
   {
    "duration": 5,
    "start_time": "2023-05-11T15:57:59.429Z"
   },
   {
    "duration": 7,
    "start_time": "2023-05-11T15:58:00.330Z"
   },
   {
    "duration": 27,
    "start_time": "2023-05-11T15:58:01.332Z"
   },
   {
    "duration": 12,
    "start_time": "2023-05-11T15:58:24.089Z"
   },
   {
    "duration": 13,
    "start_time": "2023-05-11T15:58:26.037Z"
   },
   {
    "duration": 196,
    "start_time": "2023-05-11T15:58:33.563Z"
   },
   {
    "duration": 115,
    "start_time": "2023-05-11T15:58:35.752Z"
   },
   {
    "duration": 17,
    "start_time": "2023-05-11T15:58:37.298Z"
   },
   {
    "duration": 302,
    "start_time": "2023-05-11T15:58:40.109Z"
   },
   {
    "duration": 200,
    "start_time": "2023-05-11T15:58:44.136Z"
   },
   {
    "duration": 411,
    "start_time": "2023-05-11T15:58:47.187Z"
   },
   {
    "duration": 220,
    "start_time": "2023-05-11T15:58:50.511Z"
   },
   {
    "duration": 307,
    "start_time": "2023-05-11T15:58:53.947Z"
   },
   {
    "duration": 287,
    "start_time": "2023-05-11T15:58:57.033Z"
   },
   {
    "duration": 6,
    "start_time": "2023-05-11T15:58:59.993Z"
   },
   {
    "duration": 5,
    "start_time": "2023-05-11T15:59:45.754Z"
   },
   {
    "duration": 143,
    "start_time": "2023-05-11T15:59:48.902Z"
   },
   {
    "duration": 6,
    "start_time": "2023-05-11T15:59:52.149Z"
   },
   {
    "duration": 239,
    "start_time": "2023-05-11T15:59:54.281Z"
   },
   {
    "duration": 150,
    "start_time": "2023-05-11T15:59:56.390Z"
   },
   {
    "duration": 5,
    "start_time": "2023-05-11T15:59:57.343Z"
   },
   {
    "duration": 107,
    "start_time": "2023-05-11T15:59:58.413Z"
   },
   {
    "duration": 16,
    "start_time": "2023-05-11T16:01:20.917Z"
   },
   {
    "duration": 14,
    "start_time": "2023-05-11T16:01:23.727Z"
   },
   {
    "duration": 103,
    "start_time": "2023-05-11T16:01:31.654Z"
   },
   {
    "duration": 97,
    "start_time": "2023-05-11T16:02:10.827Z"
   },
   {
    "duration": 188,
    "start_time": "2023-05-11T16:02:26.601Z"
   },
   {
    "duration": 1803,
    "start_time": "2023-05-11T16:03:56.354Z"
   },
   {
    "duration": 1962,
    "start_time": "2023-05-11T16:04:29.289Z"
   },
   {
    "duration": 8,
    "start_time": "2023-05-11T16:04:40.987Z"
   },
   {
    "duration": 8,
    "start_time": "2023-05-11T16:04:46.511Z"
   },
   {
    "duration": 12,
    "start_time": "2023-05-11T16:04:49.185Z"
   },
   {
    "duration": 14,
    "start_time": "2023-05-11T16:05:02.377Z"
   },
   {
    "duration": 5,
    "start_time": "2023-05-11T16:07:04.622Z"
   },
   {
    "duration": 11,
    "start_time": "2023-05-11T16:07:05.977Z"
   },
   {
    "duration": 3,
    "start_time": "2023-05-11T16:07:43.810Z"
   },
   {
    "duration": 5,
    "start_time": "2023-05-11T16:07:54.930Z"
   },
   {
    "duration": 21,
    "start_time": "2023-05-11T16:07:55.792Z"
   },
   {
    "duration": 9,
    "start_time": "2023-05-11T16:08:00.081Z"
   },
   {
    "duration": 13,
    "start_time": "2023-05-11T16:08:02.502Z"
   },
   {
    "duration": 7,
    "start_time": "2023-05-11T16:08:03.558Z"
   },
   {
    "duration": 22,
    "start_time": "2023-05-11T16:08:05.355Z"
   },
   {
    "duration": 10,
    "start_time": "2023-05-11T16:08:07.899Z"
   },
   {
    "duration": 1205,
    "start_time": "2023-05-12T06:44:51.730Z"
   },
   {
    "duration": 199,
    "start_time": "2023-05-12T06:44:59.772Z"
   },
   {
    "duration": 29,
    "start_time": "2023-05-12T06:45:35.208Z"
   },
   {
    "duration": 87,
    "start_time": "2023-05-12T06:45:39.578Z"
   },
   {
    "duration": 24,
    "start_time": "2023-05-12T06:45:40.434Z"
   },
   {
    "duration": 24,
    "start_time": "2023-05-12T06:45:43.009Z"
   },
   {
    "duration": 21,
    "start_time": "2023-05-12T06:45:46.692Z"
   },
   {
    "duration": 20,
    "start_time": "2023-05-12T06:46:23.162Z"
   },
   {
    "duration": 21,
    "start_time": "2023-05-12T06:46:38.039Z"
   },
   {
    "duration": 4,
    "start_time": "2023-05-12T06:47:06.670Z"
   },
   {
    "duration": 7,
    "start_time": "2023-05-12T06:47:07.431Z"
   },
   {
    "duration": 25,
    "start_time": "2023-05-12T06:47:08.861Z"
   },
   {
    "duration": 13,
    "start_time": "2023-05-12T06:47:50.846Z"
   },
   {
    "duration": 13,
    "start_time": "2023-05-12T06:47:52.827Z"
   },
   {
    "duration": 179,
    "start_time": "2023-05-12T07:00:37.901Z"
   },
   {
    "duration": 120,
    "start_time": "2023-05-12T07:00:40.227Z"
   },
   {
    "duration": 17,
    "start_time": "2023-05-12T07:00:42.377Z"
   },
   {
    "duration": 271,
    "start_time": "2023-05-12T07:00:44.754Z"
   },
   {
    "duration": 329,
    "start_time": "2023-05-12T07:03:31.445Z"
   },
   {
    "duration": 208,
    "start_time": "2023-05-12T07:03:55.903Z"
   },
   {
    "duration": 223,
    "start_time": "2023-05-12T07:05:23.279Z"
   },
   {
    "duration": 189,
    "start_time": "2023-05-12T07:12:06.771Z"
   },
   {
    "duration": 219,
    "start_time": "2023-05-12T07:12:17.128Z"
   },
   {
    "duration": 389,
    "start_time": "2023-05-12T07:17:20.070Z"
   },
   {
    "duration": 363,
    "start_time": "2023-05-12T07:18:44.155Z"
   },
   {
    "duration": 331,
    "start_time": "2023-05-12T07:21:19.142Z"
   },
   {
    "duration": 241,
    "start_time": "2023-05-12T07:21:53.920Z"
   },
   {
    "duration": 19,
    "start_time": "2023-05-12T07:22:02.245Z"
   },
   {
    "duration": 140,
    "start_time": "2023-05-12T07:22:09.482Z"
   },
   {
    "duration": 334,
    "start_time": "2023-05-12T07:28:02.246Z"
   },
   {
    "duration": 334,
    "start_time": "2023-05-12T07:28:33.875Z"
   },
   {
    "duration": 253,
    "start_time": "2023-05-12T07:30:58.744Z"
   },
   {
    "duration": 242,
    "start_time": "2023-05-12T07:31:44.667Z"
   },
   {
    "duration": 6,
    "start_time": "2023-05-12T07:34:08.545Z"
   },
   {
    "duration": 138,
    "start_time": "2023-05-12T07:35:58.299Z"
   },
   {
    "duration": 140,
    "start_time": "2023-05-12T07:38:17.196Z"
   },
   {
    "duration": 189,
    "start_time": "2023-05-12T07:38:35.505Z"
   },
   {
    "duration": 6,
    "start_time": "2023-05-12T07:40:53.258Z"
   },
   {
    "duration": 236,
    "start_time": "2023-05-12T07:44:20.110Z"
   },
   {
    "duration": 150,
    "start_time": "2023-05-12T07:44:21.362Z"
   },
   {
    "duration": 7,
    "start_time": "2023-05-12T07:44:22.284Z"
   },
   {
    "duration": 20,
    "start_time": "2023-05-12T07:44:23.920Z"
   },
   {
    "duration": 253,
    "start_time": "2023-05-12T07:44:47.747Z"
   },
   {
    "duration": 170,
    "start_time": "2023-05-12T07:44:57.966Z"
   },
   {
    "duration": 4,
    "start_time": "2023-05-12T07:45:18.955Z"
   },
   {
    "duration": 22,
    "start_time": "2023-05-12T07:47:56.287Z"
   },
   {
    "duration": 3,
    "start_time": "2023-05-12T07:48:52.027Z"
   },
   {
    "duration": 20,
    "start_time": "2023-05-12T07:48:53.528Z"
   },
   {
    "duration": 12,
    "start_time": "2023-05-12T07:50:58.434Z"
   },
   {
    "duration": 16,
    "start_time": "2023-05-12T07:56:47.918Z"
   },
   {
    "duration": 14,
    "start_time": "2023-05-12T07:57:18.847Z"
   },
   {
    "duration": 12,
    "start_time": "2023-05-12T07:57:39.024Z"
   },
   {
    "duration": 7,
    "start_time": "2023-05-12T07:57:39.787Z"
   },
   {
    "duration": 9,
    "start_time": "2023-05-12T07:58:22.287Z"
   },
   {
    "duration": 35,
    "start_time": "2023-05-12T07:58:24.140Z"
   },
   {
    "duration": 10,
    "start_time": "2023-05-12T08:00:29.020Z"
   },
   {
    "duration": 3,
    "start_time": "2023-05-12T08:02:14.551Z"
   },
   {
    "duration": 22,
    "start_time": "2023-05-12T08:02:20.495Z"
   },
   {
    "duration": 8,
    "start_time": "2023-05-12T08:02:23.370Z"
   },
   {
    "duration": 13,
    "start_time": "2023-05-12T08:02:26.212Z"
   },
   {
    "duration": 7,
    "start_time": "2023-05-12T08:02:27.219Z"
   },
   {
    "duration": 21,
    "start_time": "2023-05-12T08:02:28.240Z"
   },
   {
    "duration": 10,
    "start_time": "2023-05-12T08:02:30.915Z"
   },
   {
    "duration": 1193,
    "start_time": "2023-05-12T10:19:01.140Z"
   },
   {
    "duration": 118,
    "start_time": "2023-05-12T10:19:02.336Z"
   },
   {
    "duration": 32,
    "start_time": "2023-05-12T10:19:02.456Z"
   },
   {
    "duration": 23,
    "start_time": "2023-05-12T10:19:02.490Z"
   },
   {
    "duration": 59,
    "start_time": "2023-05-12T10:19:02.514Z"
   },
   {
    "duration": 4,
    "start_time": "2023-05-12T10:19:02.575Z"
   },
   {
    "duration": 19,
    "start_time": "2023-05-12T10:19:02.581Z"
   },
   {
    "duration": 34,
    "start_time": "2023-05-12T10:19:02.602Z"
   },
   {
    "duration": 40,
    "start_time": "2023-05-12T10:19:02.638Z"
   },
   {
    "duration": 19,
    "start_time": "2023-05-12T10:19:02.682Z"
   },
   {
    "duration": 249,
    "start_time": "2023-05-12T10:19:02.703Z"
   },
   {
    "duration": 131,
    "start_time": "2023-05-12T10:19:02.955Z"
   },
   {
    "duration": 14,
    "start_time": "2023-05-12T10:19:03.088Z"
   },
   {
    "duration": 318,
    "start_time": "2023-05-12T10:19:03.104Z"
   },
   {
    "duration": 263,
    "start_time": "2023-05-12T10:19:03.424Z"
   },
   {
    "duration": 348,
    "start_time": "2023-05-12T10:19:03.689Z"
   },
   {
    "duration": 349,
    "start_time": "2023-05-12T10:19:04.039Z"
   },
   {
    "duration": 323,
    "start_time": "2023-05-12T10:19:04.390Z"
   },
   {
    "duration": 281,
    "start_time": "2023-05-12T10:19:04.715Z"
   },
   {
    "duration": 5,
    "start_time": "2023-05-12T10:19:04.998Z"
   },
   {
    "duration": 168,
    "start_time": "2023-05-12T10:19:05.004Z"
   },
   {
    "duration": 5,
    "start_time": "2023-05-12T10:19:05.174Z"
   },
   {
    "duration": 245,
    "start_time": "2023-05-12T10:19:05.181Z"
   },
   {
    "duration": 146,
    "start_time": "2023-05-12T10:19:05.427Z"
   },
   {
    "duration": 3,
    "start_time": "2023-05-12T10:19:05.576Z"
   },
   {
    "duration": 33,
    "start_time": "2023-05-12T10:19:05.581Z"
   },
   {
    "duration": 8,
    "start_time": "2023-05-12T10:19:05.616Z"
   },
   {
    "duration": 15,
    "start_time": "2023-05-12T10:19:05.629Z"
   },
   {
    "duration": 17,
    "start_time": "2023-05-12T10:19:05.656Z"
   },
   {
    "duration": 28,
    "start_time": "2023-05-12T10:19:05.676Z"
   },
   {
    "duration": 8,
    "start_time": "2023-05-12T10:19:05.705Z"
   },
   {
    "duration": 123,
    "start_time": "2023-05-12T12:16:09.349Z"
   },
   {
    "duration": 1330,
    "start_time": "2023-05-12T12:29:52.056Z"
   },
   {
    "duration": 313,
    "start_time": "2023-05-12T12:29:57.296Z"
   },
   {
    "duration": 30,
    "start_time": "2023-05-12T12:30:00.881Z"
   },
   {
    "duration": 24,
    "start_time": "2023-05-12T12:30:03.513Z"
   },
   {
    "duration": 21,
    "start_time": "2023-05-12T12:30:05.122Z"
   },
   {
    "duration": 4,
    "start_time": "2023-05-12T12:30:06.744Z"
   },
   {
    "duration": 6,
    "start_time": "2023-05-12T12:30:07.583Z"
   },
   {
    "duration": 25,
    "start_time": "2023-05-12T12:30:08.578Z"
   },
   {
    "duration": 298,
    "start_time": "2023-05-12T12:30:13.308Z"
   },
   {
    "duration": 19,
    "start_time": "2023-05-12T12:30:30.478Z"
   },
   {
    "duration": 14,
    "start_time": "2023-05-12T12:31:24.992Z"
   },
   {
    "duration": 181,
    "start_time": "2023-05-12T12:31:32.570Z"
   },
   {
    "duration": 125,
    "start_time": "2023-05-12T12:31:33.978Z"
   },
   {
    "duration": 25,
    "start_time": "2023-05-12T12:31:34.840Z"
   },
   {
    "duration": 4,
    "start_time": "2023-05-12T12:31:37.183Z"
   },
   {
    "duration": 6,
    "start_time": "2023-05-12T12:31:39.442Z"
   },
   {
    "duration": 391,
    "start_time": "2023-05-12T12:32:16.595Z"
   },
   {
    "duration": 123,
    "start_time": "2023-05-12T12:32:35.926Z"
   },
   {
    "duration": 137,
    "start_time": "2023-05-12T12:33:09.890Z"
   },
   {
    "duration": 132,
    "start_time": "2023-05-12T12:33:27.738Z"
   },
   {
    "duration": 430,
    "start_time": "2023-05-12T12:33:34.314Z"
   },
   {
    "duration": 104,
    "start_time": "2023-05-12T12:33:55.879Z"
   },
   {
    "duration": 107,
    "start_time": "2023-05-12T12:34:00.856Z"
   },
   {
    "duration": 234,
    "start_time": "2023-05-12T12:34:52.340Z"
   },
   {
    "duration": 356,
    "start_time": "2023-05-12T12:34:57.950Z"
   },
   {
    "duration": 243,
    "start_time": "2023-05-12T12:35:01.412Z"
   },
   {
    "duration": 321,
    "start_time": "2023-05-12T12:35:04.354Z"
   },
   {
    "duration": 235,
    "start_time": "2023-05-12T12:35:08.405Z"
   },
   {
    "duration": 5,
    "start_time": "2023-05-12T12:35:11.434Z"
   },
   {
    "duration": 158,
    "start_time": "2023-05-12T12:35:16.882Z"
   },
   {
    "duration": 6,
    "start_time": "2023-05-12T12:35:21.588Z"
   },
   {
    "duration": 294,
    "start_time": "2023-05-12T12:35:38.087Z"
   },
   {
    "duration": 165,
    "start_time": "2023-05-12T12:35:39.614Z"
   },
   {
    "duration": 5,
    "start_time": "2023-05-12T12:35:40.790Z"
   },
   {
    "duration": 37,
    "start_time": "2023-05-12T12:36:00.988Z"
   },
   {
    "duration": 37,
    "start_time": "2023-05-12T12:36:18.106Z"
   },
   {
    "duration": 3,
    "start_time": "2023-05-12T12:36:32.142Z"
   },
   {
    "duration": 25,
    "start_time": "2023-05-12T12:36:33.754Z"
   },
   {
    "duration": 102,
    "start_time": "2023-05-12T12:39:05.851Z"
   },
   {
    "duration": 10,
    "start_time": "2023-05-12T12:39:23.335Z"
   },
   {
    "duration": 10,
    "start_time": "2023-05-12T12:41:20.826Z"
   },
   {
    "duration": 8,
    "start_time": "2023-05-12T12:41:25.087Z"
   },
   {
    "duration": 22,
    "start_time": "2023-05-12T12:41:28.305Z"
   },
   {
    "duration": 8,
    "start_time": "2023-05-12T12:43:39.593Z"
   },
   {
    "duration": 309,
    "start_time": "2023-05-12T12:53:24.004Z"
   },
   {
    "duration": 6,
    "start_time": "2023-05-12T12:57:01.005Z"
   },
   {
    "duration": 24,
    "start_time": "2023-05-12T12:57:03.740Z"
   },
   {
    "duration": 9,
    "start_time": "2023-05-12T12:57:32.247Z"
   },
   {
    "duration": 9,
    "start_time": "2023-05-12T12:59:57.004Z"
   }
  ],
  "kernelspec": {
   "display_name": "Python 3 (ipykernel)",
   "language": "python",
   "name": "python3"
  },
  "language_info": {
   "codemirror_mode": {
    "name": "ipython",
    "version": 3
   },
   "file_extension": ".py",
   "mimetype": "text/x-python",
   "name": "python",
   "nbconvert_exporter": "python",
   "pygments_lexer": "ipython3",
   "version": "3.9.5"
  },
  "toc": {
   "base_numbering": 1,
   "nav_menu": {},
   "number_sections": true,
   "sideBar": true,
   "skip_h1_title": true,
   "title_cell": "Table of Contents",
   "title_sidebar": "Contents",
   "toc_cell": false,
   "toc_position": {},
   "toc_section_display": true,
   "toc_window_display": false
  }
 },
 "nbformat": 4,
 "nbformat_minor": 2
}
