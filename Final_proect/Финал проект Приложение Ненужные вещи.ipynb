{
 "cells": [
  {
   "cell_type": "markdown",
   "metadata": {},
   "source": [
    "# Исследование мобильного приложения \"Ненужные вещи\".\n",
    "В нашем распоряжении датасет, который содержит данные пользователей, впервые совершивших действия в\n",
    "приложении после 7 октября 2019 года."
   ]
  },
  {
   "cell_type": "markdown",
   "metadata": {},
   "source": [
    "# Цель исследования\n",
    "Подготовить исследование, выделить группы пользователей на основе поведения, проанализировать данные, чтобы приложение для продажи ненужных вещей стало лучшим приложением.\n"
   ]
  },
  {
   "cell_type": "markdown",
   "metadata": {},
   "source": [
    "# ДЕКОМПОЗИЦИЯ\n",
    "\n",
    "1. Загрузка данных, импорт библиотек\n",
    "2. Предобработка данных:\n",
    "* Исследовать пропущенные значения;\n",
    "* Исследовать соответствие типов;\n",
    "* Исследовать дубликаты;\n",
    "* Проверить корректность наименований колонок;\n",
    "* Переименовать колонки;\n",
    "* Удалить дубликаты;\n",
    "* Привести типы;\n",
    "* Заменить пропущенные значения.\n",
    "3. Исследовательский анализ данных - Анализ общего поведения пользователей и выделение групп EDA:\n",
    "- Retention rate \n",
    "- Время проведенное в приложении (делаем сессии, и смотрим эту метрику)\n",
    "- Частота действий\n",
    "- Конверсия в целевое действие — просмотр контактов);\n",
    "* Просмотр выбросов и аномалий в данных, визуализация;\n",
    "4. Сегментирование пользователей на основе действий на 3-4 группы:\n",
    "- Определить пользователи какой группы склонны часто возвращаться в мобильное приложение (для каждой группы считаем Retention rate);\n",
    "- Определить пользователи какой группы часто делают целевое событие (для каждой группы считаем конверсию в целевое действие);\n",
    "- Получить гипотезы как можно было бы улучшить приложения с точки зрения пользовательского опыта;\n",
    "5. Проверить статистические гипотезы:\n",
    "* Некоторые пользователи установили приложение по ссылке из yandex, другие — из google. Проверить гипотезу: две эти группы демонстрируют разную конверсию в просмотры контактов.\n",
    "*  Моя гипотеза - конверсия в целевое действие у пользователей в будние дни и в выходные различается у этих двух групп.\n",
    "6. Выводы"
   ]
  },
  {
   "cell_type": "markdown",
   "metadata": {},
   "source": [
    "### Импортируем библиотеки и загрузим данные"
   ]
  },
  {
   "cell_type": "code",
   "execution_count": 1,
   "metadata": {},
   "outputs": [],
   "source": [
    "import pandas as pd\n",
    "import numpy as np\n",
    "import scipy.stats as stats\n",
    "import seaborn as sns\n",
    "import matplotlib.pyplot as plt\n",
    "import datetime as dt\n",
    "import plotly.graph_objs as go\n",
    "import plotly.express as px\n",
    "import plotly.figure_factory as ff\n",
    "import math as mth\n",
    "from scipy import stats as st\n",
    "import time\n",
    "from datetime import datetime\n",
    "from datetime import date, timedelta as td"
   ]
  },
  {
   "cell_type": "code",
   "execution_count": 2,
   "metadata": {},
   "outputs": [],
   "source": [
    "mobile_sourсes = pd.read_csv('https://code.s3.yandex.net/datasets/mobile_soures.csv')\n",
    "mobile_dataset = pd.read_csv('https://code.s3.yandex.net/datasets/mobile_dataset.csv')"
   ]
  },
  {
   "cell_type": "code",
   "execution_count": 3,
   "metadata": {},
   "outputs": [
    {
     "name": "stdout",
     "output_type": "stream",
     "text": [
      "<class 'pandas.core.frame.DataFrame'>\n",
      "RangeIndex: 4293 entries, 0 to 4292\n",
      "Data columns (total 2 columns):\n",
      " #   Column  Non-Null Count  Dtype \n",
      "---  ------  --------------  ----- \n",
      " 0   userId  4293 non-null   object\n",
      " 1   source  4293 non-null   object\n",
      "dtypes: object(2)\n",
      "memory usage: 67.2+ KB\n"
     ]
    },
    {
     "data": {
      "text/plain": [
       "None"
      ]
     },
     "metadata": {},
     "output_type": "display_data"
    },
    {
     "name": "stdout",
     "output_type": "stream",
     "text": [
      "<class 'pandas.core.frame.DataFrame'>\n",
      "RangeIndex: 74197 entries, 0 to 74196\n",
      "Data columns (total 3 columns):\n",
      " #   Column      Non-Null Count  Dtype \n",
      "---  ------      --------------  ----- \n",
      " 0   event.time  74197 non-null  object\n",
      " 1   event.name  74197 non-null  object\n",
      " 2   user.id     74197 non-null  object\n",
      "dtypes: object(3)\n",
      "memory usage: 1.7+ MB\n"
     ]
    }
   ],
   "source": [
    "display(mobile_sourсes.info())\n",
    "mobile_dataset.info()"
   ]
  },
  {
   "cell_type": "markdown",
   "metadata": {},
   "source": [
    "**Вывод** Нужно переименовать названия колонок, чтобы потом объединить датасеты."
   ]
  },
  {
   "cell_type": "markdown",
   "metadata": {},
   "source": [
    "### Выполним предобработку данных"
   ]
  },
  {
   "cell_type": "code",
   "execution_count": 4,
   "metadata": {},
   "outputs": [
    {
     "name": "stdout",
     "output_type": "stream",
     "text": [
      "<class 'pandas.core.frame.DataFrame'>\n",
      "RangeIndex: 4293 entries, 0 to 4292\n",
      "Data columns (total 2 columns):\n",
      " #   Column   Non-Null Count  Dtype \n",
      "---  ------   --------------  ----- \n",
      " 0   user_id  4293 non-null   object\n",
      " 1   source   4293 non-null   object\n",
      "dtypes: object(2)\n",
      "memory usage: 67.2+ KB\n"
     ]
    },
    {
     "data": {
      "text/plain": [
       "None"
      ]
     },
     "metadata": {},
     "output_type": "display_data"
    },
    {
     "name": "stdout",
     "output_type": "stream",
     "text": [
      "<class 'pandas.core.frame.DataFrame'>\n",
      "RangeIndex: 74197 entries, 0 to 74196\n",
      "Data columns (total 3 columns):\n",
      " #   Column      Non-Null Count  Dtype \n",
      "---  ------      --------------  ----- \n",
      " 0   date        74197 non-null  object\n",
      " 1   event_name  74197 non-null  object\n",
      " 2   user_id     74197 non-null  object\n",
      "dtypes: object(3)\n",
      "memory usage: 1.7+ MB\n"
     ]
    }
   ],
   "source": [
    "# Переименовываем столбцы, смотрим результат\n",
    "mobile_sourсes.columns = ['user_id', 'source']\n",
    "mobile_dataset.columns =['date', 'event_name', 'user_id']\n",
    "display(mobile_sourсes.info())\n",
    "mobile_dataset.info()"
   ]
  },
  {
   "cell_type": "markdown",
   "metadata": {},
   "source": [
    "**Вывод** Все переименовано и в нижнем регистре, далее объединим датасеты, проверим пропуски, дубликаты и приведем данные к нужному типу."
   ]
  },
  {
   "cell_type": "code",
   "execution_count": 5,
   "metadata": {},
   "outputs": [
    {
     "data": {
      "text/html": [
       "<div>\n",
       "<style scoped>\n",
       "    .dataframe tbody tr th:only-of-type {\n",
       "        vertical-align: middle;\n",
       "    }\n",
       "\n",
       "    .dataframe tbody tr th {\n",
       "        vertical-align: top;\n",
       "    }\n",
       "\n",
       "    .dataframe thead th {\n",
       "        text-align: right;\n",
       "    }\n",
       "</style>\n",
       "<table border=\"1\" class=\"dataframe\">\n",
       "  <thead>\n",
       "    <tr style=\"text-align: right;\">\n",
       "      <th></th>\n",
       "      <th>date</th>\n",
       "      <th>event_name</th>\n",
       "      <th>user_id</th>\n",
       "      <th>source</th>\n",
       "    </tr>\n",
       "  </thead>\n",
       "  <tbody>\n",
       "    <tr>\n",
       "      <th>0</th>\n",
       "      <td>2019-10-07 00:00:00.431357</td>\n",
       "      <td>advert_open</td>\n",
       "      <td>020292ab-89bc-4156-9acf-68bc2783f894</td>\n",
       "      <td>other</td>\n",
       "    </tr>\n",
       "    <tr>\n",
       "      <th>1</th>\n",
       "      <td>2019-10-07 00:00:01.236320</td>\n",
       "      <td>tips_show</td>\n",
       "      <td>020292ab-89bc-4156-9acf-68bc2783f894</td>\n",
       "      <td>other</td>\n",
       "    </tr>\n",
       "    <tr>\n",
       "      <th>2</th>\n",
       "      <td>2019-10-07 00:00:02.245341</td>\n",
       "      <td>tips_show</td>\n",
       "      <td>cf7eda61-9349-469f-ac27-e5b6f5ec475c</td>\n",
       "      <td>yandex</td>\n",
       "    </tr>\n",
       "    <tr>\n",
       "      <th>3</th>\n",
       "      <td>2019-10-07 00:00:07.039334</td>\n",
       "      <td>tips_show</td>\n",
       "      <td>020292ab-89bc-4156-9acf-68bc2783f894</td>\n",
       "      <td>other</td>\n",
       "    </tr>\n",
       "    <tr>\n",
       "      <th>4</th>\n",
       "      <td>2019-10-07 00:00:56.319813</td>\n",
       "      <td>advert_open</td>\n",
       "      <td>cf7eda61-9349-469f-ac27-e5b6f5ec475c</td>\n",
       "      <td>yandex</td>\n",
       "    </tr>\n",
       "    <tr>\n",
       "      <th>5</th>\n",
       "      <td>2019-10-07 00:01:19.993624</td>\n",
       "      <td>tips_show</td>\n",
       "      <td>cf7eda61-9349-469f-ac27-e5b6f5ec475c</td>\n",
       "      <td>yandex</td>\n",
       "    </tr>\n",
       "    <tr>\n",
       "      <th>6</th>\n",
       "      <td>2019-10-07 00:01:27.770232</td>\n",
       "      <td>advert_open</td>\n",
       "      <td>020292ab-89bc-4156-9acf-68bc2783f894</td>\n",
       "      <td>other</td>\n",
       "    </tr>\n",
       "    <tr>\n",
       "      <th>7</th>\n",
       "      <td>2019-10-07 00:01:34.804591</td>\n",
       "      <td>tips_show</td>\n",
       "      <td>020292ab-89bc-4156-9acf-68bc2783f894</td>\n",
       "      <td>other</td>\n",
       "    </tr>\n",
       "    <tr>\n",
       "      <th>8</th>\n",
       "      <td>2019-10-07 00:01:49.732803</td>\n",
       "      <td>advert_open</td>\n",
       "      <td>cf7eda61-9349-469f-ac27-e5b6f5ec475c</td>\n",
       "      <td>yandex</td>\n",
       "    </tr>\n",
       "    <tr>\n",
       "      <th>9</th>\n",
       "      <td>2019-10-07 00:01:54.958298</td>\n",
       "      <td>advert_open</td>\n",
       "      <td>020292ab-89bc-4156-9acf-68bc2783f894</td>\n",
       "      <td>other</td>\n",
       "    </tr>\n",
       "  </tbody>\n",
       "</table>\n",
       "</div>"
      ],
      "text/plain": [
       "                         date   event_name  \\\n",
       "0  2019-10-07 00:00:00.431357  advert_open   \n",
       "1  2019-10-07 00:00:01.236320    tips_show   \n",
       "2  2019-10-07 00:00:02.245341    tips_show   \n",
       "3  2019-10-07 00:00:07.039334    tips_show   \n",
       "4  2019-10-07 00:00:56.319813  advert_open   \n",
       "5  2019-10-07 00:01:19.993624    tips_show   \n",
       "6  2019-10-07 00:01:27.770232  advert_open   \n",
       "7  2019-10-07 00:01:34.804591    tips_show   \n",
       "8  2019-10-07 00:01:49.732803  advert_open   \n",
       "9  2019-10-07 00:01:54.958298  advert_open   \n",
       "\n",
       "                                user_id  source  \n",
       "0  020292ab-89bc-4156-9acf-68bc2783f894   other  \n",
       "1  020292ab-89bc-4156-9acf-68bc2783f894   other  \n",
       "2  cf7eda61-9349-469f-ac27-e5b6f5ec475c  yandex  \n",
       "3  020292ab-89bc-4156-9acf-68bc2783f894   other  \n",
       "4  cf7eda61-9349-469f-ac27-e5b6f5ec475c  yandex  \n",
       "5  cf7eda61-9349-469f-ac27-e5b6f5ec475c  yandex  \n",
       "6  020292ab-89bc-4156-9acf-68bc2783f894   other  \n",
       "7  020292ab-89bc-4156-9acf-68bc2783f894   other  \n",
       "8  cf7eda61-9349-469f-ac27-e5b6f5ec475c  yandex  \n",
       "9  020292ab-89bc-4156-9acf-68bc2783f894   other  "
      ]
     },
     "execution_count": 5,
     "metadata": {},
     "output_type": "execute_result"
    }
   ],
   "source": [
    "df = mobile_dataset.merge(mobile_sourсes, on='user_id', how='left') # объединяем датасеты, проверяем результат\n",
    "df.head(10)"
   ]
  },
  {
   "cell_type": "code",
   "execution_count": 6,
   "metadata": {},
   "outputs": [
    {
     "data": {
      "text/plain": [
       "'Количество дубликатов 0'"
      ]
     },
     "metadata": {},
     "output_type": "display_data"
    },
    {
     "data": {
      "text/plain": [
       "date          0\n",
       "event_name    0\n",
       "user_id       0\n",
       "source        0\n",
       "dtype: int64"
      ]
     },
     "execution_count": 6,
     "metadata": {},
     "output_type": "execute_result"
    }
   ],
   "source": [
    "display(f'Количество дубликатов {df.duplicated().sum()}')#проверка дубликатов\n",
    "df.isna().sum() # проверка пропусков"
   ]
  },
  {
   "cell_type": "markdown",
   "metadata": {},
   "source": [
    "**Вывод** Пропусков и дубликатов не обнаружено. Далее добавим столбец только с датой и изменим тип данных столбцов с датами."
   ]
  },
  {
   "cell_type": "code",
   "execution_count": 7,
   "metadata": {},
   "outputs": [
    {
     "data": {
      "text/html": [
       "<div>\n",
       "<style scoped>\n",
       "    .dataframe tbody tr th:only-of-type {\n",
       "        vertical-align: middle;\n",
       "    }\n",
       "\n",
       "    .dataframe tbody tr th {\n",
       "        vertical-align: top;\n",
       "    }\n",
       "\n",
       "    .dataframe thead th {\n",
       "        text-align: right;\n",
       "    }\n",
       "</style>\n",
       "<table border=\"1\" class=\"dataframe\">\n",
       "  <thead>\n",
       "    <tr style=\"text-align: right;\">\n",
       "      <th></th>\n",
       "      <th>date</th>\n",
       "      <th>event_name</th>\n",
       "      <th>user_id</th>\n",
       "      <th>source</th>\n",
       "      <th>only_date</th>\n",
       "    </tr>\n",
       "  </thead>\n",
       "  <tbody>\n",
       "    <tr>\n",
       "      <th>0</th>\n",
       "      <td>2019-10-07 00:00:00</td>\n",
       "      <td>advert_open</td>\n",
       "      <td>020292ab-89bc-4156-9acf-68bc2783f894</td>\n",
       "      <td>other</td>\n",
       "      <td>2019-10-07</td>\n",
       "    </tr>\n",
       "    <tr>\n",
       "      <th>1</th>\n",
       "      <td>2019-10-07 00:00:01</td>\n",
       "      <td>tips_show</td>\n",
       "      <td>020292ab-89bc-4156-9acf-68bc2783f894</td>\n",
       "      <td>other</td>\n",
       "      <td>2019-10-07</td>\n",
       "    </tr>\n",
       "    <tr>\n",
       "      <th>2</th>\n",
       "      <td>2019-10-07 00:00:02</td>\n",
       "      <td>tips_show</td>\n",
       "      <td>cf7eda61-9349-469f-ac27-e5b6f5ec475c</td>\n",
       "      <td>yandex</td>\n",
       "      <td>2019-10-07</td>\n",
       "    </tr>\n",
       "    <tr>\n",
       "      <th>3</th>\n",
       "      <td>2019-10-07 00:00:07</td>\n",
       "      <td>tips_show</td>\n",
       "      <td>020292ab-89bc-4156-9acf-68bc2783f894</td>\n",
       "      <td>other</td>\n",
       "      <td>2019-10-07</td>\n",
       "    </tr>\n",
       "    <tr>\n",
       "      <th>4</th>\n",
       "      <td>2019-10-07 00:00:56</td>\n",
       "      <td>advert_open</td>\n",
       "      <td>cf7eda61-9349-469f-ac27-e5b6f5ec475c</td>\n",
       "      <td>yandex</td>\n",
       "      <td>2019-10-07</td>\n",
       "    </tr>\n",
       "  </tbody>\n",
       "</table>\n",
       "</div>"
      ],
      "text/plain": [
       "                 date   event_name                               user_id  \\\n",
       "0 2019-10-07 00:00:00  advert_open  020292ab-89bc-4156-9acf-68bc2783f894   \n",
       "1 2019-10-07 00:00:01    tips_show  020292ab-89bc-4156-9acf-68bc2783f894   \n",
       "2 2019-10-07 00:00:02    tips_show  cf7eda61-9349-469f-ac27-e5b6f5ec475c   \n",
       "3 2019-10-07 00:00:07    tips_show  020292ab-89bc-4156-9acf-68bc2783f894   \n",
       "4 2019-10-07 00:00:56  advert_open  cf7eda61-9349-469f-ac27-e5b6f5ec475c   \n",
       "\n",
       "   source  only_date  \n",
       "0   other 2019-10-07  \n",
       "1   other 2019-10-07  \n",
       "2  yandex 2019-10-07  \n",
       "3   other 2019-10-07  \n",
       "4  yandex 2019-10-07  "
      ]
     },
     "metadata": {},
     "output_type": "display_data"
    },
    {
     "name": "stdout",
     "output_type": "stream",
     "text": [
      "<class 'pandas.core.frame.DataFrame'>\n",
      "Int64Index: 74197 entries, 0 to 74196\n",
      "Data columns (total 5 columns):\n",
      " #   Column      Non-Null Count  Dtype         \n",
      "---  ------      --------------  -----         \n",
      " 0   date        74197 non-null  datetime64[ns]\n",
      " 1   event_name  74197 non-null  object        \n",
      " 2   user_id     74197 non-null  object        \n",
      " 3   source      74197 non-null  object        \n",
      " 4   only_date   74197 non-null  datetime64[ns]\n",
      "dtypes: datetime64[ns](2), object(3)\n",
      "memory usage: 3.4+ MB\n"
     ]
    }
   ],
   "source": [
    "df['date'] = pd.to_datetime(df['date'], format='%Y-%m-%d %H:%M:%S').dt.round('1S') # округлим время до секунды\n",
    "df['only_date'] = df['date']\n",
    "df['only_date'] = df['only_date'].dt.strftime(\"%Y-%m-%d\")\n",
    "df['only_date'] = pd.to_datetime(df['only_date'], format='%Y-%m-%d')\n",
    "display(df.head(5))\n",
    "df.info()"
   ]
  },
  {
   "cell_type": "markdown",
   "metadata": {},
   "source": [
    "**Вывод** Тип изменен, столбец с датой добавлен."
   ]
  },
  {
   "cell_type": "code",
   "execution_count": 8,
   "metadata": {},
   "outputs": [
    {
     "data": {
      "text/html": [
       "<div>\n",
       "<style scoped>\n",
       "    .dataframe tbody tr th:only-of-type {\n",
       "        vertical-align: middle;\n",
       "    }\n",
       "\n",
       "    .dataframe tbody tr th {\n",
       "        vertical-align: top;\n",
       "    }\n",
       "\n",
       "    .dataframe thead th {\n",
       "        text-align: right;\n",
       "    }\n",
       "</style>\n",
       "<table border=\"1\" class=\"dataframe\">\n",
       "  <thead>\n",
       "    <tr style=\"text-align: right;\">\n",
       "      <th></th>\n",
       "      <th>date</th>\n",
       "      <th>event_name</th>\n",
       "      <th>user_id</th>\n",
       "      <th>source</th>\n",
       "      <th>only_date</th>\n",
       "      <th>num_day_week</th>\n",
       "    </tr>\n",
       "  </thead>\n",
       "  <tbody>\n",
       "    <tr>\n",
       "      <th>0</th>\n",
       "      <td>2019-10-07 00:00:00</td>\n",
       "      <td>advert_open</td>\n",
       "      <td>020292ab-89bc-4156-9acf-68bc2783f894</td>\n",
       "      <td>other</td>\n",
       "      <td>2019-10-07</td>\n",
       "      <td>0</td>\n",
       "    </tr>\n",
       "    <tr>\n",
       "      <th>1</th>\n",
       "      <td>2019-10-07 00:00:01</td>\n",
       "      <td>tips_show</td>\n",
       "      <td>020292ab-89bc-4156-9acf-68bc2783f894</td>\n",
       "      <td>other</td>\n",
       "      <td>2019-10-07</td>\n",
       "      <td>0</td>\n",
       "    </tr>\n",
       "    <tr>\n",
       "      <th>2</th>\n",
       "      <td>2019-10-07 00:00:02</td>\n",
       "      <td>tips_show</td>\n",
       "      <td>cf7eda61-9349-469f-ac27-e5b6f5ec475c</td>\n",
       "      <td>yandex</td>\n",
       "      <td>2019-10-07</td>\n",
       "      <td>0</td>\n",
       "    </tr>\n",
       "    <tr>\n",
       "      <th>3</th>\n",
       "      <td>2019-10-07 00:00:07</td>\n",
       "      <td>tips_show</td>\n",
       "      <td>020292ab-89bc-4156-9acf-68bc2783f894</td>\n",
       "      <td>other</td>\n",
       "      <td>2019-10-07</td>\n",
       "      <td>0</td>\n",
       "    </tr>\n",
       "    <tr>\n",
       "      <th>4</th>\n",
       "      <td>2019-10-07 00:00:56</td>\n",
       "      <td>advert_open</td>\n",
       "      <td>cf7eda61-9349-469f-ac27-e5b6f5ec475c</td>\n",
       "      <td>yandex</td>\n",
       "      <td>2019-10-07</td>\n",
       "      <td>0</td>\n",
       "    </tr>\n",
       "  </tbody>\n",
       "</table>\n",
       "</div>"
      ],
      "text/plain": [
       "                 date   event_name                               user_id  \\\n",
       "0 2019-10-07 00:00:00  advert_open  020292ab-89bc-4156-9acf-68bc2783f894   \n",
       "1 2019-10-07 00:00:01    tips_show  020292ab-89bc-4156-9acf-68bc2783f894   \n",
       "2 2019-10-07 00:00:02    tips_show  cf7eda61-9349-469f-ac27-e5b6f5ec475c   \n",
       "3 2019-10-07 00:00:07    tips_show  020292ab-89bc-4156-9acf-68bc2783f894   \n",
       "4 2019-10-07 00:00:56  advert_open  cf7eda61-9349-469f-ac27-e5b6f5ec475c   \n",
       "\n",
       "   source  only_date  num_day_week  \n",
       "0   other 2019-10-07             0  \n",
       "1   other 2019-10-07             0  \n",
       "2  yandex 2019-10-07             0  \n",
       "3   other 2019-10-07             0  \n",
       "4  yandex 2019-10-07             0  "
      ]
     },
     "execution_count": 8,
     "metadata": {},
     "output_type": "execute_result"
    }
   ],
   "source": [
    "# добавлю столбец с номер дня недели для будущей сегментации, 0 - понедельник и тд.\n",
    "df['num_day_week'] = df['only_date'].dt.weekday\n",
    "df.head(5)"
   ]
  },
  {
   "cell_type": "code",
   "execution_count": 9,
   "metadata": {},
   "outputs": [
    {
     "data": {
      "text/plain": [
       "tips_show        40055\n",
       "photos_show      10012\n",
       "advert_open       6164\n",
       "contacts_show     4450\n",
       "map               3881\n",
       "search_1          3506\n",
       "favorites_add     1417\n",
       "search_5          1049\n",
       "tips_click         814\n",
       "search_4           701\n",
       "contacts_call      541\n",
       "search_3           522\n",
       "search_6           460\n",
       "search_2           324\n",
       "search_7           222\n",
       "show_contacts       79\n",
       "Name: event_name, dtype: int64"
      ]
     },
     "execution_count": 9,
     "metadata": {},
     "output_type": "execute_result"
    }
   ],
   "source": [
    "df['event_name'].value_counts() # посмотрим какие есть события и сколько их"
   ]
  },
  {
   "cell_type": "markdown",
   "metadata": {},
   "source": [
    "**Вывод** Самое популярное событие - tips_show. А contacts_show  и show_contacts одинаковые, нужно переименовать, чтобы объединить данные."
   ]
  },
  {
   "cell_type": "code",
   "execution_count": 10,
   "metadata": {},
   "outputs": [
    {
     "data": {
      "text/plain": [
       "tips_show        40055\n",
       "photos_show      10012\n",
       "advert_open       6164\n",
       "contacts_show     4529\n",
       "map               3881\n",
       "search_1          3506\n",
       "favorites_add     1417\n",
       "search_5          1049\n",
       "tips_click         814\n",
       "search_4           701\n",
       "contacts_call      541\n",
       "search_3           522\n",
       "search_6           460\n",
       "search_2           324\n",
       "search_7           222\n",
       "Name: event_name, dtype: int64"
      ]
     },
     "execution_count": 10,
     "metadata": {},
     "output_type": "execute_result"
    }
   ],
   "source": [
    "df.loc[(df.query('event_name == \"show_contacts\"').index),'event_name'] = \"contacts_show\"\n",
    "df['event_name'].value_counts()"
   ]
  },
  {
   "cell_type": "markdown",
   "metadata": {},
   "source": [
    "**Вывод** Повторяющихся событий теперь нет"
   ]
  },
  {
   "cell_type": "code",
   "execution_count": 11,
   "metadata": {},
   "outputs": [
    {
     "data": {
      "text/plain": [
       "yandex    34286\n",
       "google    20445\n",
       "other     19466\n",
       "Name: source, dtype: int64"
      ]
     },
     "execution_count": 11,
     "metadata": {},
     "output_type": "execute_result"
    }
   ],
   "source": [
    "# посмотрим какие есть ресурсы в датасете\n",
    "df['source'].value_counts()"
   ]
  },
  {
   "cell_type": "code",
   "execution_count": 12,
   "metadata": {},
   "outputs": [
    {
     "data": {
      "text/plain": [
       "4293"
      ]
     },
     "execution_count": 12,
     "metadata": {},
     "output_type": "execute_result"
    }
   ],
   "source": [
    "df['user_id'].nunique() # посмотрим количество уникальных пользователей"
   ]
  },
  {
   "cell_type": "markdown",
   "metadata": {},
   "source": [
    "**Вывод** Датасеты объеденины, дубликатов и пропусков нет, всё приведено в нужный тип и вид. Можно приступать к дальнейшему анализу."
   ]
  },
  {
   "cell_type": "markdown",
   "metadata": {},
   "source": [
    "### Выделение групп EDA"
   ]
  },
  {
   "cell_type": "markdown",
   "metadata": {},
   "source": [
    "#### Retention Rate"
   ]
  },
  {
   "cell_type": "code",
   "execution_count": 13,
   "metadata": {},
   "outputs": [
    {
     "data": {
      "text/plain": [
       "Timestamp('2019-11-03 23:58:13')"
      ]
     },
     "metadata": {},
     "output_type": "display_data"
    },
    {
     "data": {
      "text/plain": [
       "Timestamp('2019-10-07 00:00:00')"
      ]
     },
     "metadata": {},
     "output_type": "display_data"
    },
    {
     "data": {
      "text/plain": [
       "('Период =', Timedelta('27 days 23:58:13'))"
      ]
     },
     "execution_count": 13,
     "metadata": {},
     "output_type": "execute_result"
    }
   ],
   "source": [
    "# посмотрим какой период даннных в датасете, из описания известно только, что после 07/10/2019\n",
    "display(df['date'].max())\n",
    "display(df['date'].min())\n",
    "'Период =', (df['date'].max() - df['date'].min())"
   ]
  },
  {
   "cell_type": "markdown",
   "metadata": {},
   "source": [
    "**Вывод** Данные в датасете с 7 октября 2019 года по 3 ноября 2019 всего 28 дней - 3 недели."
   ]
  },
  {
   "cell_type": "code",
   "execution_count": 14,
   "metadata": {},
   "outputs": [
    {
     "data": {
      "text/html": [
       "<div>\n",
       "<style scoped>\n",
       "    .dataframe tbody tr th:only-of-type {\n",
       "        vertical-align: middle;\n",
       "    }\n",
       "\n",
       "    .dataframe tbody tr th {\n",
       "        vertical-align: top;\n",
       "    }\n",
       "\n",
       "    .dataframe thead th {\n",
       "        text-align: right;\n",
       "    }\n",
       "</style>\n",
       "<table border=\"1\" class=\"dataframe\">\n",
       "  <thead>\n",
       "    <tr style=\"text-align: right;\">\n",
       "      <th></th>\n",
       "      <th>date</th>\n",
       "      <th>event_name</th>\n",
       "      <th>user_id</th>\n",
       "      <th>source</th>\n",
       "      <th>only_date</th>\n",
       "      <th>num_day_week</th>\n",
       "      <th>start</th>\n",
       "    </tr>\n",
       "  </thead>\n",
       "  <tbody>\n",
       "    <tr>\n",
       "      <th>0</th>\n",
       "      <td>2019-10-07 00:00:00</td>\n",
       "      <td>advert_open</td>\n",
       "      <td>020292ab-89bc-4156-9acf-68bc2783f894</td>\n",
       "      <td>other</td>\n",
       "      <td>2019-10-07</td>\n",
       "      <td>0</td>\n",
       "      <td>2019-10-07</td>\n",
       "    </tr>\n",
       "    <tr>\n",
       "      <th>1</th>\n",
       "      <td>2019-10-07 00:00:01</td>\n",
       "      <td>tips_show</td>\n",
       "      <td>020292ab-89bc-4156-9acf-68bc2783f894</td>\n",
       "      <td>other</td>\n",
       "      <td>2019-10-07</td>\n",
       "      <td>0</td>\n",
       "      <td>2019-10-07</td>\n",
       "    </tr>\n",
       "    <tr>\n",
       "      <th>2</th>\n",
       "      <td>2019-10-07 00:00:02</td>\n",
       "      <td>tips_show</td>\n",
       "      <td>cf7eda61-9349-469f-ac27-e5b6f5ec475c</td>\n",
       "      <td>yandex</td>\n",
       "      <td>2019-10-07</td>\n",
       "      <td>0</td>\n",
       "      <td>2019-10-07</td>\n",
       "    </tr>\n",
       "    <tr>\n",
       "      <th>3</th>\n",
       "      <td>2019-10-07 00:00:07</td>\n",
       "      <td>tips_show</td>\n",
       "      <td>020292ab-89bc-4156-9acf-68bc2783f894</td>\n",
       "      <td>other</td>\n",
       "      <td>2019-10-07</td>\n",
       "      <td>0</td>\n",
       "      <td>2019-10-07</td>\n",
       "    </tr>\n",
       "    <tr>\n",
       "      <th>4</th>\n",
       "      <td>2019-10-07 00:00:56</td>\n",
       "      <td>advert_open</td>\n",
       "      <td>cf7eda61-9349-469f-ac27-e5b6f5ec475c</td>\n",
       "      <td>yandex</td>\n",
       "      <td>2019-10-07</td>\n",
       "      <td>0</td>\n",
       "      <td>2019-10-07</td>\n",
       "    </tr>\n",
       "  </tbody>\n",
       "</table>\n",
       "</div>"
      ],
      "text/plain": [
       "                 date   event_name                               user_id  \\\n",
       "0 2019-10-07 00:00:00  advert_open  020292ab-89bc-4156-9acf-68bc2783f894   \n",
       "1 2019-10-07 00:00:01    tips_show  020292ab-89bc-4156-9acf-68bc2783f894   \n",
       "2 2019-10-07 00:00:02    tips_show  cf7eda61-9349-469f-ac27-e5b6f5ec475c   \n",
       "3 2019-10-07 00:00:07    tips_show  020292ab-89bc-4156-9acf-68bc2783f894   \n",
       "4 2019-10-07 00:00:56  advert_open  cf7eda61-9349-469f-ac27-e5b6f5ec475c   \n",
       "\n",
       "   source  only_date  num_day_week      start  \n",
       "0   other 2019-10-07             0 2019-10-07  \n",
       "1   other 2019-10-07             0 2019-10-07  \n",
       "2  yandex 2019-10-07             0 2019-10-07  \n",
       "3   other 2019-10-07             0 2019-10-07  \n",
       "4  yandex 2019-10-07             0 2019-10-07  "
      ]
     },
     "execution_count": 14,
     "metadata": {},
     "output_type": "execute_result"
    }
   ],
   "source": [
    "# cоздадим столбец с датой первой активности пользователя в приложении\n",
    "\n",
    "activ_first = df.groupby(['user_id'])['only_date'].min() # берем минимальную дату\n",
    "activ_first.name = 'start'\n",
    "df = df.merge(activ_first, on = 'user_id',  how = 'left') # присоединяем эти данные к основному датасету\n",
    "df['start'] = df['start'].astype('datetime64[D]')\n",
    "df.head(5)"
   ]
  },
  {
   "cell_type": "markdown",
   "metadata": {},
   "source": [
    "**Вывод** В датасете теперь есть столбец с датой первой активности пользователя"
   ]
  },
  {
   "cell_type": "code",
   "execution_count": 15,
   "metadata": {},
   "outputs": [],
   "source": [
    "# находим кагорту\n",
    "df['activ_w'] = pd.to_datetime(df['only_date'], unit='d') - pd.to_timedelta(df['only_date'].dt.dayofweek, unit='d')\n",
    "df['start_w'] = pd.to_datetime(df['start'], unit='d') - pd.to_timedelta(df['start'].dt.dayofweek, unit='d')"
   ]
  },
  {
   "cell_type": "code",
   "execution_count": 16,
   "metadata": {},
   "outputs": [
    {
     "data": {
      "text/html": [
       "<div>\n",
       "<style scoped>\n",
       "    .dataframe tbody tr th:only-of-type {\n",
       "        vertical-align: middle;\n",
       "    }\n",
       "\n",
       "    .dataframe tbody tr th {\n",
       "        vertical-align: top;\n",
       "    }\n",
       "\n",
       "    .dataframe thead th {\n",
       "        text-align: right;\n",
       "    }\n",
       "</style>\n",
       "<table border=\"1\" class=\"dataframe\">\n",
       "  <thead>\n",
       "    <tr style=\"text-align: right;\">\n",
       "      <th></th>\n",
       "      <th>date</th>\n",
       "      <th>event_name</th>\n",
       "      <th>user_id</th>\n",
       "      <th>source</th>\n",
       "      <th>only_date</th>\n",
       "      <th>num_day_week</th>\n",
       "      <th>start</th>\n",
       "      <th>activ_w</th>\n",
       "      <th>start_w</th>\n",
       "      <th>lifetime</th>\n",
       "    </tr>\n",
       "  </thead>\n",
       "  <tbody>\n",
       "    <tr>\n",
       "      <th>0</th>\n",
       "      <td>2019-10-07 00:00:00</td>\n",
       "      <td>advert_open</td>\n",
       "      <td>020292ab-89bc-4156-9acf-68bc2783f894</td>\n",
       "      <td>other</td>\n",
       "      <td>2019-10-07</td>\n",
       "      <td>0</td>\n",
       "      <td>2019-10-07</td>\n",
       "      <td>2019-10-07</td>\n",
       "      <td>2019-10-07</td>\n",
       "      <td>0</td>\n",
       "    </tr>\n",
       "    <tr>\n",
       "      <th>1</th>\n",
       "      <td>2019-10-07 00:00:01</td>\n",
       "      <td>tips_show</td>\n",
       "      <td>020292ab-89bc-4156-9acf-68bc2783f894</td>\n",
       "      <td>other</td>\n",
       "      <td>2019-10-07</td>\n",
       "      <td>0</td>\n",
       "      <td>2019-10-07</td>\n",
       "      <td>2019-10-07</td>\n",
       "      <td>2019-10-07</td>\n",
       "      <td>0</td>\n",
       "    </tr>\n",
       "    <tr>\n",
       "      <th>2</th>\n",
       "      <td>2019-10-07 00:00:02</td>\n",
       "      <td>tips_show</td>\n",
       "      <td>cf7eda61-9349-469f-ac27-e5b6f5ec475c</td>\n",
       "      <td>yandex</td>\n",
       "      <td>2019-10-07</td>\n",
       "      <td>0</td>\n",
       "      <td>2019-10-07</td>\n",
       "      <td>2019-10-07</td>\n",
       "      <td>2019-10-07</td>\n",
       "      <td>0</td>\n",
       "    </tr>\n",
       "    <tr>\n",
       "      <th>3</th>\n",
       "      <td>2019-10-07 00:00:07</td>\n",
       "      <td>tips_show</td>\n",
       "      <td>020292ab-89bc-4156-9acf-68bc2783f894</td>\n",
       "      <td>other</td>\n",
       "      <td>2019-10-07</td>\n",
       "      <td>0</td>\n",
       "      <td>2019-10-07</td>\n",
       "      <td>2019-10-07</td>\n",
       "      <td>2019-10-07</td>\n",
       "      <td>0</td>\n",
       "    </tr>\n",
       "    <tr>\n",
       "      <th>4</th>\n",
       "      <td>2019-10-07 00:00:56</td>\n",
       "      <td>advert_open</td>\n",
       "      <td>cf7eda61-9349-469f-ac27-e5b6f5ec475c</td>\n",
       "      <td>yandex</td>\n",
       "      <td>2019-10-07</td>\n",
       "      <td>0</td>\n",
       "      <td>2019-10-07</td>\n",
       "      <td>2019-10-07</td>\n",
       "      <td>2019-10-07</td>\n",
       "      <td>0</td>\n",
       "    </tr>\n",
       "  </tbody>\n",
       "</table>\n",
       "</div>"
      ],
      "text/plain": [
       "                 date   event_name                               user_id  \\\n",
       "0 2019-10-07 00:00:00  advert_open  020292ab-89bc-4156-9acf-68bc2783f894   \n",
       "1 2019-10-07 00:00:01    tips_show  020292ab-89bc-4156-9acf-68bc2783f894   \n",
       "2 2019-10-07 00:00:02    tips_show  cf7eda61-9349-469f-ac27-e5b6f5ec475c   \n",
       "3 2019-10-07 00:00:07    tips_show  020292ab-89bc-4156-9acf-68bc2783f894   \n",
       "4 2019-10-07 00:00:56  advert_open  cf7eda61-9349-469f-ac27-e5b6f5ec475c   \n",
       "\n",
       "   source  only_date  num_day_week      start    activ_w    start_w  lifetime  \n",
       "0   other 2019-10-07             0 2019-10-07 2019-10-07 2019-10-07         0  \n",
       "1   other 2019-10-07             0 2019-10-07 2019-10-07 2019-10-07         0  \n",
       "2  yandex 2019-10-07             0 2019-10-07 2019-10-07 2019-10-07         0  \n",
       "3   other 2019-10-07             0 2019-10-07 2019-10-07 2019-10-07         0  \n",
       "4  yandex 2019-10-07             0 2019-10-07 2019-10-07 2019-10-07         0  "
      ]
     },
     "execution_count": 16,
     "metadata": {},
     "output_type": "execute_result"
    }
   ],
   "source": [
    "# рассчитаем лайфтайм\n",
    "df['lifetime'] = df['activ_w'] - df['start_w']\n",
    "df['lifetime'] = df['lifetime'] / np.timedelta64(1,'W')\n",
    "df['lifetime'] = df['lifetime'].astype(int)\n",
    "df.head(5)"
   ]
  },
  {
   "cell_type": "markdown",
   "metadata": {},
   "source": [
    "**Вывод** Лайфтай рассчитали, теперь сделаем отдельную таблицу с данными для рассчета retention rate и посчитаем его."
   ]
  },
  {
   "cell_type": "code",
   "execution_count": 17,
   "metadata": {},
   "outputs": [
    {
     "data": {
      "text/html": [
       "<div>\n",
       "<style scoped>\n",
       "    .dataframe tbody tr th:only-of-type {\n",
       "        vertical-align: middle;\n",
       "    }\n",
       "\n",
       "    .dataframe tbody tr th {\n",
       "        vertical-align: top;\n",
       "    }\n",
       "\n",
       "    .dataframe thead th {\n",
       "        text-align: right;\n",
       "    }\n",
       "</style>\n",
       "<table border=\"1\" class=\"dataframe\">\n",
       "  <thead>\n",
       "    <tr style=\"text-align: right;\">\n",
       "      <th></th>\n",
       "      <th>start_w</th>\n",
       "      <th>lifetime</th>\n",
       "      <th>user_id</th>\n",
       "      <th>cohort_user</th>\n",
       "    </tr>\n",
       "  </thead>\n",
       "  <tbody>\n",
       "    <tr>\n",
       "      <th>0</th>\n",
       "      <td>2019-10-07</td>\n",
       "      <td>0</td>\n",
       "      <td>1130</td>\n",
       "      <td>1130</td>\n",
       "    </tr>\n",
       "    <tr>\n",
       "      <th>1</th>\n",
       "      <td>2019-10-07</td>\n",
       "      <td>1</td>\n",
       "      <td>272</td>\n",
       "      <td>1130</td>\n",
       "    </tr>\n",
       "    <tr>\n",
       "      <th>2</th>\n",
       "      <td>2019-10-07</td>\n",
       "      <td>2</td>\n",
       "      <td>170</td>\n",
       "      <td>1130</td>\n",
       "    </tr>\n",
       "    <tr>\n",
       "      <th>3</th>\n",
       "      <td>2019-10-07</td>\n",
       "      <td>3</td>\n",
       "      <td>119</td>\n",
       "      <td>1130</td>\n",
       "    </tr>\n",
       "    <tr>\n",
       "      <th>4</th>\n",
       "      <td>2019-10-14</td>\n",
       "      <td>0</td>\n",
       "      <td>1166</td>\n",
       "      <td>1166</td>\n",
       "    </tr>\n",
       "  </tbody>\n",
       "</table>\n",
       "</div>"
      ],
      "text/plain": [
       "     start_w  lifetime  user_id  cohort_user\n",
       "0 2019-10-07         0     1130         1130\n",
       "1 2019-10-07         1      272         1130\n",
       "2 2019-10-07         2      170         1130\n",
       "3 2019-10-07         3      119         1130\n",
       "4 2019-10-14         0     1166         1166"
      ]
     },
     "execution_count": 17,
     "metadata": {},
     "output_type": "execute_result"
    }
   ],
   "source": [
    "cohorts_lifetime = df.groupby(['start_w','lifetime']).agg({'user_id':'nunique'}).reset_index() # сгруппируем данные по лайфтайму и кагорте\n",
    "user_count = cohorts_lifetime[cohorts_lifetime['lifetime'] == 0][['start_w','user_id']] # посчитаем количество пользователей на нулевую неделю\n",
    "user_count = user_count.rename(columns={'user_id':'cohort_user'})\n",
    "cohorts_lifetime = cohorts_lifetime.merge(user_count,on='start_w')\n",
    "cohorts_lifetime.head(5)"
   ]
  },
  {
   "cell_type": "code",
   "execution_count": 18,
   "metadata": {},
   "outputs": [],
   "source": [
    "# посчитаем retention rate\n",
    "cohorts_lifetime['retention_rate'] = cohorts_lifetime['user_id']/cohorts_lifetime['cohort_user']\n",
    "cohorts_lifetime['start_w'] = cohorts_lifetime['start_w'].astype('datetime64[D]') "
   ]
  },
  {
   "cell_type": "code",
   "execution_count": 20,
   "metadata": {},
   "outputs": [
    {
     "data": {
      "image/png": "[encoded data removed]",
      "text/plain": [
       "<Figure size 1080x576 with 2 Axes>"
      ]
     },
     "metadata": {
      "needs_background": "light"
     },
     "output_type": "display_data"
    }
   ],
   "source": [
    "# избавляемся от миллисекунд\n",
    "cohorts_lifetime['start_w'] = cohorts_lifetime['start_w'].dt.strftime('%Y-%m-%d')\n",
    "\n",
    "retention_rate = cohorts_lifetime.pivot_table(index='start_w',columns='lifetime',values='retention_rate',aggfunc='sum') # сводная таблица\n",
    "plt.figure(figsize=(15, 8))\n",
    "plt.title('Кагорты и Retention Rate')\n",
    "sns.heatmap(retention_rate, annot=True, fmt='.1%', linewidths=1, linecolor='gray');"
   ]
  },
  {
   "cell_type": "markdown",
   "metadata": {},
   "source": [
    "**Вывод** Пользователи убывают, кагорта первой недели - осталось только 24% и со временем показатель RR только уменьшается со временем. Такая же ситуация и у остальных кагорт, с течением времени пользователь уходит и не возвращается в приложение."
   ]
  },
  {
   "cell_type": "markdown",
   "metadata": {},
   "source": [
    "#### Время, проведенное в приложении"
   ]
  },
  {
   "cell_type": "code",
   "execution_count": 20,
   "metadata": {},
   "outputs": [
    {
     "data": {
      "text/html": [
       "<div>\n",
       "<style scoped>\n",
       "    .dataframe tbody tr th:only-of-type {\n",
       "        vertical-align: middle;\n",
       "    }\n",
       "\n",
       "    .dataframe tbody tr th {\n",
       "        vertical-align: top;\n",
       "    }\n",
       "\n",
       "    .dataframe thead th {\n",
       "        text-align: right;\n",
       "    }\n",
       "</style>\n",
       "<table border=\"1\" class=\"dataframe\">\n",
       "  <thead>\n",
       "    <tr style=\"text-align: right;\">\n",
       "      <th></th>\n",
       "      <th>date</th>\n",
       "      <th>event_name</th>\n",
       "      <th>user_id</th>\n",
       "      <th>source</th>\n",
       "      <th>only_date</th>\n",
       "      <th>num_day_week</th>\n",
       "      <th>start</th>\n",
       "      <th>activ_w</th>\n",
       "      <th>start_w</th>\n",
       "      <th>lifetime</th>\n",
       "      <th>pred_time</th>\n",
       "      <th>time_session</th>\n",
       "    </tr>\n",
       "  </thead>\n",
       "  <tbody>\n",
       "    <tr>\n",
       "      <th>0</th>\n",
       "      <td>2019-10-07 00:00:00</td>\n",
       "      <td>advert_open</td>\n",
       "      <td>020292ab-89bc-4156-9acf-68bc2783f894</td>\n",
       "      <td>other</td>\n",
       "      <td>2019-10-07</td>\n",
       "      <td>0</td>\n",
       "      <td>2019-10-07</td>\n",
       "      <td>2019-10-07</td>\n",
       "      <td>2019-10-07</td>\n",
       "      <td>0</td>\n",
       "      <td>NaT</td>\n",
       "      <td>NaT</td>\n",
       "    </tr>\n",
       "    <tr>\n",
       "      <th>1</th>\n",
       "      <td>2019-10-07 00:00:01</td>\n",
       "      <td>tips_show</td>\n",
       "      <td>020292ab-89bc-4156-9acf-68bc2783f894</td>\n",
       "      <td>other</td>\n",
       "      <td>2019-10-07</td>\n",
       "      <td>0</td>\n",
       "      <td>2019-10-07</td>\n",
       "      <td>2019-10-07</td>\n",
       "      <td>2019-10-07</td>\n",
       "      <td>0</td>\n",
       "      <td>2019-10-07 00:00:00</td>\n",
       "      <td>0 days 00:00:01</td>\n",
       "    </tr>\n",
       "    <tr>\n",
       "      <th>2</th>\n",
       "      <td>2019-10-07 00:00:02</td>\n",
       "      <td>tips_show</td>\n",
       "      <td>cf7eda61-9349-469f-ac27-e5b6f5ec475c</td>\n",
       "      <td>yandex</td>\n",
       "      <td>2019-10-07</td>\n",
       "      <td>0</td>\n",
       "      <td>2019-10-07</td>\n",
       "      <td>2019-10-07</td>\n",
       "      <td>2019-10-07</td>\n",
       "      <td>0</td>\n",
       "      <td>NaT</td>\n",
       "      <td>NaT</td>\n",
       "    </tr>\n",
       "    <tr>\n",
       "      <th>3</th>\n",
       "      <td>2019-10-07 00:00:07</td>\n",
       "      <td>tips_show</td>\n",
       "      <td>020292ab-89bc-4156-9acf-68bc2783f894</td>\n",
       "      <td>other</td>\n",
       "      <td>2019-10-07</td>\n",
       "      <td>0</td>\n",
       "      <td>2019-10-07</td>\n",
       "      <td>2019-10-07</td>\n",
       "      <td>2019-10-07</td>\n",
       "      <td>0</td>\n",
       "      <td>2019-10-07 00:00:01</td>\n",
       "      <td>0 days 00:00:06</td>\n",
       "    </tr>\n",
       "    <tr>\n",
       "      <th>4</th>\n",
       "      <td>2019-10-07 00:00:56</td>\n",
       "      <td>advert_open</td>\n",
       "      <td>cf7eda61-9349-469f-ac27-e5b6f5ec475c</td>\n",
       "      <td>yandex</td>\n",
       "      <td>2019-10-07</td>\n",
       "      <td>0</td>\n",
       "      <td>2019-10-07</td>\n",
       "      <td>2019-10-07</td>\n",
       "      <td>2019-10-07</td>\n",
       "      <td>0</td>\n",
       "      <td>2019-10-07 00:00:02</td>\n",
       "      <td>0 days 00:00:54</td>\n",
       "    </tr>\n",
       "  </tbody>\n",
       "</table>\n",
       "</div>"
      ],
      "text/plain": [
       "                 date   event_name                               user_id  \\\n",
       "0 2019-10-07 00:00:00  advert_open  020292ab-89bc-4156-9acf-68bc2783f894   \n",
       "1 2019-10-07 00:00:01    tips_show  020292ab-89bc-4156-9acf-68bc2783f894   \n",
       "2 2019-10-07 00:00:02    tips_show  cf7eda61-9349-469f-ac27-e5b6f5ec475c   \n",
       "3 2019-10-07 00:00:07    tips_show  020292ab-89bc-4156-9acf-68bc2783f894   \n",
       "4 2019-10-07 00:00:56  advert_open  cf7eda61-9349-469f-ac27-e5b6f5ec475c   \n",
       "\n",
       "   source  only_date  num_day_week      start    activ_w    start_w  lifetime  \\\n",
       "0   other 2019-10-07             0 2019-10-07 2019-10-07 2019-10-07         0   \n",
       "1   other 2019-10-07             0 2019-10-07 2019-10-07 2019-10-07         0   \n",
       "2  yandex 2019-10-07             0 2019-10-07 2019-10-07 2019-10-07         0   \n",
       "3   other 2019-10-07             0 2019-10-07 2019-10-07 2019-10-07         0   \n",
       "4  yandex 2019-10-07             0 2019-10-07 2019-10-07 2019-10-07         0   \n",
       "\n",
       "            pred_time    time_session  \n",
       "0                 NaT             NaT  \n",
       "1 2019-10-07 00:00:00 0 days 00:00:01  \n",
       "2                 NaT             NaT  \n",
       "3 2019-10-07 00:00:01 0 days 00:00:06  \n",
       "4 2019-10-07 00:00:02 0 days 00:00:54  "
      ]
     },
     "execution_count": 20,
     "metadata": {},
     "output_type": "execute_result"
    }
   ],
   "source": [
    "df.sort_values(['user_id', 'date']) # сортируем датасет перед тем как начать выделять сессии\n",
    "# чтобы определить какую временную метку взять за сессию, сделаем новый столбец с датой предыдущего действия пользователя\n",
    "df['pred_time'] = df.groupby('user_id')['date'].shift()\n",
    "# сделаем столбец с промежутком времени между событиями\n",
    "df['time_session'] = df['date'] - df['pred_time']\n",
    "df.head(5)"
   ]
  },
  {
   "cell_type": "code",
   "execution_count": 21,
   "metadata": {},
   "outputs": [
    {
     "data": {
      "text/plain": [
       "count                        69904\n",
       "mean     0 days 03:53:01.169246395\n",
       "std      1 days 01:32:57.260287392\n",
       "min                0 days 00:00:00\n",
       "25%                0 days 00:00:24\n",
       "50%                0 days 00:01:11\n",
       "75%                0 days 00:03:00\n",
       "max               26 days 13:49:55\n",
       "Name: time_session, dtype: object"
      ]
     },
     "metadata": {},
     "output_type": "display_data"
    }
   ],
   "source": [
    "display(df['time_session'].describe())\n",
    "#df.groupby('user_id', 'date')['time_session'].describe()"
   ]
  },
  {
   "cell_type": "markdown",
   "metadata": {},
   "source": [
    "**Вывод** Очень большой разброс в длительности сессий от нуля до 26 дней, среднее вообще 3,53 часа, а минимальное значение ноль. Переведем данные времени в минуты и посмотрим данные по графику."
   ]
  },
  {
   "cell_type": "code",
   "execution_count": 22,
   "metadata": {
    "scrolled": true
   },
   "outputs": [
    {
     "data": {
      "text/html": [
       "<div>\n",
       "<style scoped>\n",
       "    .dataframe tbody tr th:only-of-type {\n",
       "        vertical-align: middle;\n",
       "    }\n",
       "\n",
       "    .dataframe tbody tr th {\n",
       "        vertical-align: top;\n",
       "    }\n",
       "\n",
       "    .dataframe thead th {\n",
       "        text-align: right;\n",
       "    }\n",
       "</style>\n",
       "<table border=\"1\" class=\"dataframe\">\n",
       "  <thead>\n",
       "    <tr style=\"text-align: right;\">\n",
       "      <th></th>\n",
       "      <th>date</th>\n",
       "      <th>event_name</th>\n",
       "      <th>user_id</th>\n",
       "      <th>source</th>\n",
       "      <th>only_date</th>\n",
       "      <th>num_day_week</th>\n",
       "      <th>start</th>\n",
       "      <th>activ_w</th>\n",
       "      <th>start_w</th>\n",
       "      <th>lifetime</th>\n",
       "      <th>pred_time</th>\n",
       "      <th>time_session</th>\n",
       "      <th>session_dlit</th>\n",
       "    </tr>\n",
       "  </thead>\n",
       "  <tbody>\n",
       "    <tr>\n",
       "      <th>0</th>\n",
       "      <td>2019-10-07 00:00:00</td>\n",
       "      <td>advert_open</td>\n",
       "      <td>020292ab-89bc-4156-9acf-68bc2783f894</td>\n",
       "      <td>other</td>\n",
       "      <td>2019-10-07</td>\n",
       "      <td>0</td>\n",
       "      <td>2019-10-07</td>\n",
       "      <td>2019-10-07</td>\n",
       "      <td>2019-10-07</td>\n",
       "      <td>0</td>\n",
       "      <td>NaT</td>\n",
       "      <td>NaT</td>\n",
       "      <td>NaN</td>\n",
       "    </tr>\n",
       "    <tr>\n",
       "      <th>1</th>\n",
       "      <td>2019-10-07 00:00:01</td>\n",
       "      <td>tips_show</td>\n",
       "      <td>020292ab-89bc-4156-9acf-68bc2783f894</td>\n",
       "      <td>other</td>\n",
       "      <td>2019-10-07</td>\n",
       "      <td>0</td>\n",
       "      <td>2019-10-07</td>\n",
       "      <td>2019-10-07</td>\n",
       "      <td>2019-10-07</td>\n",
       "      <td>0</td>\n",
       "      <td>2019-10-07 00:00:00</td>\n",
       "      <td>0 days 00:00:01</td>\n",
       "      <td>0.02</td>\n",
       "    </tr>\n",
       "    <tr>\n",
       "      <th>2</th>\n",
       "      <td>2019-10-07 00:00:02</td>\n",
       "      <td>tips_show</td>\n",
       "      <td>cf7eda61-9349-469f-ac27-e5b6f5ec475c</td>\n",
       "      <td>yandex</td>\n",
       "      <td>2019-10-07</td>\n",
       "      <td>0</td>\n",
       "      <td>2019-10-07</td>\n",
       "      <td>2019-10-07</td>\n",
       "      <td>2019-10-07</td>\n",
       "      <td>0</td>\n",
       "      <td>NaT</td>\n",
       "      <td>NaT</td>\n",
       "      <td>NaN</td>\n",
       "    </tr>\n",
       "    <tr>\n",
       "      <th>3</th>\n",
       "      <td>2019-10-07 00:00:07</td>\n",
       "      <td>tips_show</td>\n",
       "      <td>020292ab-89bc-4156-9acf-68bc2783f894</td>\n",
       "      <td>other</td>\n",
       "      <td>2019-10-07</td>\n",
       "      <td>0</td>\n",
       "      <td>2019-10-07</td>\n",
       "      <td>2019-10-07</td>\n",
       "      <td>2019-10-07</td>\n",
       "      <td>0</td>\n",
       "      <td>2019-10-07 00:00:01</td>\n",
       "      <td>0 days 00:00:06</td>\n",
       "      <td>0.10</td>\n",
       "    </tr>\n",
       "    <tr>\n",
       "      <th>4</th>\n",
       "      <td>2019-10-07 00:00:56</td>\n",
       "      <td>advert_open</td>\n",
       "      <td>cf7eda61-9349-469f-ac27-e5b6f5ec475c</td>\n",
       "      <td>yandex</td>\n",
       "      <td>2019-10-07</td>\n",
       "      <td>0</td>\n",
       "      <td>2019-10-07</td>\n",
       "      <td>2019-10-07</td>\n",
       "      <td>2019-10-07</td>\n",
       "      <td>0</td>\n",
       "      <td>2019-10-07 00:00:02</td>\n",
       "      <td>0 days 00:00:54</td>\n",
       "      <td>0.90</td>\n",
       "    </tr>\n",
       "  </tbody>\n",
       "</table>\n",
       "</div>"
      ],
      "text/plain": [
       "                 date   event_name                               user_id  \\\n",
       "0 2019-10-07 00:00:00  advert_open  020292ab-89bc-4156-9acf-68bc2783f894   \n",
       "1 2019-10-07 00:00:01    tips_show  020292ab-89bc-4156-9acf-68bc2783f894   \n",
       "2 2019-10-07 00:00:02    tips_show  cf7eda61-9349-469f-ac27-e5b6f5ec475c   \n",
       "3 2019-10-07 00:00:07    tips_show  020292ab-89bc-4156-9acf-68bc2783f894   \n",
       "4 2019-10-07 00:00:56  advert_open  cf7eda61-9349-469f-ac27-e5b6f5ec475c   \n",
       "\n",
       "   source  only_date  num_day_week      start    activ_w    start_w  lifetime  \\\n",
       "0   other 2019-10-07             0 2019-10-07 2019-10-07 2019-10-07         0   \n",
       "1   other 2019-10-07             0 2019-10-07 2019-10-07 2019-10-07         0   \n",
       "2  yandex 2019-10-07             0 2019-10-07 2019-10-07 2019-10-07         0   \n",
       "3   other 2019-10-07             0 2019-10-07 2019-10-07 2019-10-07         0   \n",
       "4  yandex 2019-10-07             0 2019-10-07 2019-10-07 2019-10-07         0   \n",
       "\n",
       "            pred_time    time_session  session_dlit  \n",
       "0                 NaT             NaT           NaN  \n",
       "1 2019-10-07 00:00:00 0 days 00:00:01          0.02  \n",
       "2                 NaT             NaT           NaN  \n",
       "3 2019-10-07 00:00:01 0 days 00:00:06          0.10  \n",
       "4 2019-10-07 00:00:02 0 days 00:00:54          0.90  "
      ]
     },
     "metadata": {},
     "output_type": "display_data"
    },
    {
     "data": {
      "image/png": "[encoded data removed]",
      "text/plain": [
       "<Figure size 864x360 with 1 Axes>"
      ]
     },
     "metadata": {
      "needs_background": "light"
     },
     "output_type": "display_data"
    }
   ],
   "source": [
    "df['session_dlit'] = round((df['time_session'].astype('timedelta64[s]')/60),2) # переведем длительность сессии в минуты\n",
    "display(df.head(5))\n",
    "\n",
    "dfh = df.groupby(['user_id'])['session_dlit'].count()\n",
    "plt.figure(figsize=(12,5))\n",
    "plt.hist(dfh, bins=100, range=(100,400)) \n",
    "plt.xlabel('Количество пользователей')\n",
    "plt.grid()\n",
    "plt.ylabel('Длительность сессий')\n",
    "plt.title('Длительность сессий на пользователя');"
   ]
  },
  {
   "cell_type": "markdown",
   "metadata": {},
   "source": [
    "**Вывод** По графику видно, что длительность сессий на пользователя в основном 1-2 минуты, но есть и большие показатели на 4 и 7 минут."
   ]
  },
  {
   "cell_type": "code",
   "execution_count": 23,
   "metadata": {},
   "outputs": [
    {
     "name": "stderr",
     "output_type": "stream",
     "text": [
      "No handles with labels found to put in legend.\n"
     ]
    },
    {
     "data": {
      "image/png": "[encoded data removed]",
      "text/plain": [
       "<Figure size 1080x360 with 1 Axes>"
      ]
     },
     "metadata": {
      "needs_background": "light"
     },
     "output_type": "display_data"
    }
   ],
   "source": [
    "plt.figure(figsize=(15,5))\n",
    "plt.plot(df.groupby(['event_name'])['session_dlit'].count(), label='')\n",
    "plt.legend()\n",
    "plt.title('Распределение длительности сессий по событиям', fontsize=13)\n",
    "plt.xlabel('Название события')\n",
    "plt.ylabel('Длительность сессий')\n",
    "plt.show()"
   ]
  },
  {
   "cell_type": "markdown",
   "metadata": {},
   "source": [
    "**Вывод** Самое популярное событие по длительности сессий у пользователей это tips_show - 40055. Еще photos_show - 10012, аdvert_open - 6164 и contacts_show - 4529. "
   ]
  },
  {
   "cell_type": "markdown",
   "metadata": {},
   "source": [
    "За размер сессиий возьму 75% это 3 минуты, считаю в приложении как авито быстро не получится найти/продать, а за 3 минуты возможно сделать что-то результативное."
   ]
  },
  {
   "cell_type": "code",
   "execution_count": 24,
   "metadata": {},
   "outputs": [
    {
     "data": {
      "text/html": [
       "<div>\n",
       "<style scoped>\n",
       "    .dataframe tbody tr th:only-of-type {\n",
       "        vertical-align: middle;\n",
       "    }\n",
       "\n",
       "    .dataframe tbody tr th {\n",
       "        vertical-align: top;\n",
       "    }\n",
       "\n",
       "    .dataframe thead th {\n",
       "        text-align: right;\n",
       "    }\n",
       "</style>\n",
       "<table border=\"1\" class=\"dataframe\">\n",
       "  <thead>\n",
       "    <tr style=\"text-align: right;\">\n",
       "      <th></th>\n",
       "      <th>date</th>\n",
       "      <th>event_name</th>\n",
       "      <th>user_id</th>\n",
       "      <th>source</th>\n",
       "      <th>only_date</th>\n",
       "      <th>num_day_week</th>\n",
       "      <th>start</th>\n",
       "      <th>activ_w</th>\n",
       "      <th>start_w</th>\n",
       "      <th>lifetime</th>\n",
       "      <th>pred_time</th>\n",
       "      <th>time_session</th>\n",
       "      <th>session_dlit</th>\n",
       "      <th>session_id</th>\n",
       "    </tr>\n",
       "  </thead>\n",
       "  <tbody>\n",
       "    <tr>\n",
       "      <th>0</th>\n",
       "      <td>2019-10-07 00:00:00</td>\n",
       "      <td>advert_open</td>\n",
       "      <td>020292ab-89bc-4156-9acf-68bc2783f894</td>\n",
       "      <td>other</td>\n",
       "      <td>2019-10-07</td>\n",
       "      <td>0</td>\n",
       "      <td>2019-10-07</td>\n",
       "      <td>2019-10-07</td>\n",
       "      <td>2019-10-07</td>\n",
       "      <td>0</td>\n",
       "      <td>NaT</td>\n",
       "      <td>NaT</td>\n",
       "      <td>NaN</td>\n",
       "      <td>1</td>\n",
       "    </tr>\n",
       "    <tr>\n",
       "      <th>1</th>\n",
       "      <td>2019-10-07 00:00:01</td>\n",
       "      <td>tips_show</td>\n",
       "      <td>020292ab-89bc-4156-9acf-68bc2783f894</td>\n",
       "      <td>other</td>\n",
       "      <td>2019-10-07</td>\n",
       "      <td>0</td>\n",
       "      <td>2019-10-07</td>\n",
       "      <td>2019-10-07</td>\n",
       "      <td>2019-10-07</td>\n",
       "      <td>0</td>\n",
       "      <td>2019-10-07</td>\n",
       "      <td>0 days 00:00:01</td>\n",
       "      <td>0.02</td>\n",
       "      <td>1</td>\n",
       "    </tr>\n",
       "    <tr>\n",
       "      <th>2</th>\n",
       "      <td>2019-10-07 00:00:02</td>\n",
       "      <td>tips_show</td>\n",
       "      <td>cf7eda61-9349-469f-ac27-e5b6f5ec475c</td>\n",
       "      <td>yandex</td>\n",
       "      <td>2019-10-07</td>\n",
       "      <td>0</td>\n",
       "      <td>2019-10-07</td>\n",
       "      <td>2019-10-07</td>\n",
       "      <td>2019-10-07</td>\n",
       "      <td>0</td>\n",
       "      <td>NaT</td>\n",
       "      <td>NaT</td>\n",
       "      <td>NaN</td>\n",
       "      <td>2</td>\n",
       "    </tr>\n",
       "  </tbody>\n",
       "</table>\n",
       "</div>"
      ],
      "text/plain": [
       "                 date   event_name                               user_id  \\\n",
       "0 2019-10-07 00:00:00  advert_open  020292ab-89bc-4156-9acf-68bc2783f894   \n",
       "1 2019-10-07 00:00:01    tips_show  020292ab-89bc-4156-9acf-68bc2783f894   \n",
       "2 2019-10-07 00:00:02    tips_show  cf7eda61-9349-469f-ac27-e5b6f5ec475c   \n",
       "\n",
       "   source  only_date  num_day_week      start    activ_w    start_w  lifetime  \\\n",
       "0   other 2019-10-07             0 2019-10-07 2019-10-07 2019-10-07         0   \n",
       "1   other 2019-10-07             0 2019-10-07 2019-10-07 2019-10-07         0   \n",
       "2  yandex 2019-10-07             0 2019-10-07 2019-10-07 2019-10-07         0   \n",
       "\n",
       "   pred_time    time_session  session_dlit  session_id  \n",
       "0        NaT             NaT           NaN           1  \n",
       "1 2019-10-07 0 days 00:00:01          0.02           1  \n",
       "2        NaT             NaT           NaN           2  "
      ]
     },
     "execution_count": 24,
     "metadata": {},
     "output_type": "execute_result"
    }
   ],
   "source": [
    "df.sort_values(['user_id', 'date']) # сортируем датасет перед тем как начать выделять сессии\n",
    "# использовала первую ссылку второго подхода из чата Пачки\n",
    "\n",
    "# Выделим сессии относительно  тайм-аута\n",
    "df['date'] = pd.to_datetime(df['date'])\n",
    "#identify difference Min for each group with cumulative sum\n",
    "g = (df.groupby('user_id')['date'].diff() > pd.Timedelta('30Min')).cumsum()\n",
    "#create counter of groups\n",
    "df['session_id'] = df.groupby(['user_id', g], sort=False).ngroup() + 1\n",
    "df.head(3)"
   ]
  },
  {
   "cell_type": "code",
   "execution_count": 25,
   "metadata": {},
   "outputs": [
    {
     "data": {
      "text/html": [
       "<div>\n",
       "<style scoped>\n",
       "    .dataframe tbody tr th:only-of-type {\n",
       "        vertical-align: middle;\n",
       "    }\n",
       "\n",
       "    .dataframe tbody tr th {\n",
       "        vertical-align: top;\n",
       "    }\n",
       "\n",
       "    .dataframe thead th {\n",
       "        text-align: right;\n",
       "    }\n",
       "</style>\n",
       "<table border=\"1\" class=\"dataframe\">\n",
       "  <thead>\n",
       "    <tr style=\"text-align: right;\">\n",
       "      <th></th>\n",
       "      <th>user_id</th>\n",
       "      <th>session_id</th>\n",
       "      <th>date</th>\n",
       "      <th>session_min</th>\n",
       "    </tr>\n",
       "  </thead>\n",
       "  <tbody>\n",
       "    <tr>\n",
       "      <th>0</th>\n",
       "      <td>0001b1d5-b74a-4cbf-aeb0-7df5947bf349</td>\n",
       "      <td>101</td>\n",
       "      <td>0 days 00:09:56</td>\n",
       "      <td>9.93</td>\n",
       "    </tr>\n",
       "    <tr>\n",
       "      <th>1</th>\n",
       "      <td>0001b1d5-b74a-4cbf-aeb0-7df5947bf349</td>\n",
       "      <td>1449</td>\n",
       "      <td>0 days 00:08:27</td>\n",
       "      <td>8.45</td>\n",
       "    </tr>\n",
       "    <tr>\n",
       "      <th>2</th>\n",
       "      <td>0001b1d5-b74a-4cbf-aeb0-7df5947bf349</td>\n",
       "      <td>11577</td>\n",
       "      <td>0 days 00:01:08</td>\n",
       "      <td>1.13</td>\n",
       "    </tr>\n",
       "    <tr>\n",
       "      <th>3</th>\n",
       "      <td>0001b1d5-b74a-4cbf-aeb0-7df5947bf349</td>\n",
       "      <td>11584</td>\n",
       "      <td>0 days 00:07:07</td>\n",
       "      <td>7.12</td>\n",
       "    </tr>\n",
       "    <tr>\n",
       "      <th>4</th>\n",
       "      <td>0001b1d5-b74a-4cbf-aeb0-7df5947bf349</td>\n",
       "      <td>11603</td>\n",
       "      <td>0 days 00:02:26</td>\n",
       "      <td>2.43</td>\n",
       "    </tr>\n",
       "    <tr>\n",
       "      <th>...</th>\n",
       "      <td>...</td>\n",
       "      <td>...</td>\n",
       "      <td>...</td>\n",
       "      <td>...</td>\n",
       "    </tr>\n",
       "    <tr>\n",
       "      <th>26834</th>\n",
       "      <td>fffb9e79-b927-4dbb-9b48-7fd09b23a62b</td>\n",
       "      <td>26162</td>\n",
       "      <td>0 days 00:00:26</td>\n",
       "      <td>0.43</td>\n",
       "    </tr>\n",
       "    <tr>\n",
       "      <th>26835</th>\n",
       "      <td>fffb9e79-b927-4dbb-9b48-7fd09b23a62b</td>\n",
       "      <td>26187</td>\n",
       "      <td>0 days 00:02:18</td>\n",
       "      <td>2.30</td>\n",
       "    </tr>\n",
       "    <tr>\n",
       "      <th>26836</th>\n",
       "      <td>fffb9e79-b927-4dbb-9b48-7fd09b23a62b</td>\n",
       "      <td>26199</td>\n",
       "      <td>0 days 00:00:49</td>\n",
       "      <td>0.82</td>\n",
       "    </tr>\n",
       "    <tr>\n",
       "      <th>26837</th>\n",
       "      <td>fffb9e79-b927-4dbb-9b48-7fd09b23a62b</td>\n",
       "      <td>26204</td>\n",
       "      <td>0 days 00:00:00</td>\n",
       "      <td>0.00</td>\n",
       "    </tr>\n",
       "    <tr>\n",
       "      <th>26838</th>\n",
       "      <td>fffb9e79-b927-4dbb-9b48-7fd09b23a62b</td>\n",
       "      <td>26248</td>\n",
       "      <td>0 days 00:00:44</td>\n",
       "      <td>0.73</td>\n",
       "    </tr>\n",
       "  </tbody>\n",
       "</table>\n",
       "<p>26839 rows × 4 columns</p>\n",
       "</div>"
      ],
      "text/plain": [
       "                                    user_id  session_id            date  \\\n",
       "0      0001b1d5-b74a-4cbf-aeb0-7df5947bf349         101 0 days 00:09:56   \n",
       "1      0001b1d5-b74a-4cbf-aeb0-7df5947bf349        1449 0 days 00:08:27   \n",
       "2      0001b1d5-b74a-4cbf-aeb0-7df5947bf349       11577 0 days 00:01:08   \n",
       "3      0001b1d5-b74a-4cbf-aeb0-7df5947bf349       11584 0 days 00:07:07   \n",
       "4      0001b1d5-b74a-4cbf-aeb0-7df5947bf349       11603 0 days 00:02:26   \n",
       "...                                     ...         ...             ...   \n",
       "26834  fffb9e79-b927-4dbb-9b48-7fd09b23a62b       26162 0 days 00:00:26   \n",
       "26835  fffb9e79-b927-4dbb-9b48-7fd09b23a62b       26187 0 days 00:02:18   \n",
       "26836  fffb9e79-b927-4dbb-9b48-7fd09b23a62b       26199 0 days 00:00:49   \n",
       "26837  fffb9e79-b927-4dbb-9b48-7fd09b23a62b       26204 0 days 00:00:00   \n",
       "26838  fffb9e79-b927-4dbb-9b48-7fd09b23a62b       26248 0 days 00:00:44   \n",
       "\n",
       "       session_min  \n",
       "0             9.93  \n",
       "1             8.45  \n",
       "2             1.13  \n",
       "3             7.12  \n",
       "4             2.43  \n",
       "...            ...  \n",
       "26834         0.43  \n",
       "26835         2.30  \n",
       "26836         0.82  \n",
       "26837         0.00  \n",
       "26838         0.73  \n",
       "\n",
       "[26839 rows x 4 columns]"
      ]
     },
     "execution_count": 25,
     "metadata": {},
     "output_type": "execute_result"
    }
   ],
   "source": [
    "#считаем длительность сессий\n",
    "session_time = pd.DataFrame(df.groupby(['user_id', 'session_id'])['date'].\n",
    "     max() - df.groupby(['user_id', 'session_id'])['date'].min()).reset_index()\n",
    "# переведем время в минуты\n",
    "session_time ['session_min'] = round((session_time['date'].astype('timedelta64[s]')/60),2)\n",
    "session_time"
   ]
  },
  {
   "cell_type": "code",
   "execution_count": 39,
   "metadata": {},
   "outputs": [
    {
     "data": {
      "text/html": [
       "<div>\n",
       "<style scoped>\n",
       "    .dataframe tbody tr th:only-of-type {\n",
       "        vertical-align: middle;\n",
       "    }\n",
       "\n",
       "    .dataframe tbody tr th {\n",
       "        vertical-align: top;\n",
       "    }\n",
       "\n",
       "    .dataframe thead th {\n",
       "        text-align: right;\n",
       "    }\n",
       "</style>\n",
       "<table border=\"1\" class=\"dataframe\">\n",
       "  <thead>\n",
       "    <tr style=\"text-align: right;\">\n",
       "      <th></th>\n",
       "      <th>user_id</th>\n",
       "      <th>mean</th>\n",
       "    </tr>\n",
       "  </thead>\n",
       "  <tbody>\n",
       "    <tr>\n",
       "      <th>12</th>\n",
       "      <td>009c0f37-8556-4c72-a007-100e28a37373</td>\n",
       "      <td>16.120000</td>\n",
       "    </tr>\n",
       "    <tr>\n",
       "      <th>9</th>\n",
       "      <td>006f6ced-225b-4f9c-9f17-23404bc6835f</td>\n",
       "      <td>9.070000</td>\n",
       "    </tr>\n",
       "    <tr>\n",
       "      <th>0</th>\n",
       "      <td>0001b1d5-b74a-4cbf-aeb0-7df5947bf349</td>\n",
       "      <td>4.830000</td>\n",
       "    </tr>\n",
       "    <tr>\n",
       "      <th>14</th>\n",
       "      <td>00aa4003-366b-4788-ad1f-506f2b51b8cb</td>\n",
       "      <td>3.280000</td>\n",
       "    </tr>\n",
       "    <tr>\n",
       "      <th>8</th>\n",
       "      <td>006a32d4-ee10-40dc-b237-11e0fde81cbc</td>\n",
       "      <td>3.026667</td>\n",
       "    </tr>\n",
       "    <tr>\n",
       "      <th>3</th>\n",
       "      <td>004690c3-5a84-4bb7-a8af-e0c8f8fca64e</td>\n",
       "      <td>2.792667</td>\n",
       "    </tr>\n",
       "    <tr>\n",
       "      <th>2</th>\n",
       "      <td>00463033-5717-4bf1-91b4-09183923b9df</td>\n",
       "      <td>2.737500</td>\n",
       "    </tr>\n",
       "    <tr>\n",
       "      <th>6</th>\n",
       "      <td>005fbea5-2678-406f-88a6-fbe9787e2268</td>\n",
       "      <td>2.415000</td>\n",
       "    </tr>\n",
       "    <tr>\n",
       "      <th>7</th>\n",
       "      <td>00653802-5ff1-4071-bc17-347fc4cef569</td>\n",
       "      <td>2.260000</td>\n",
       "    </tr>\n",
       "    <tr>\n",
       "      <th>5</th>\n",
       "      <td>00554293-7e00-4122-b898-4e892c4a7c53</td>\n",
       "      <td>1.976667</td>\n",
       "    </tr>\n",
       "    <tr>\n",
       "      <th>1</th>\n",
       "      <td>00157779-810c-4498-9e05-a1e9e3cedf93</td>\n",
       "      <td>1.815714</td>\n",
       "    </tr>\n",
       "    <tr>\n",
       "      <th>10</th>\n",
       "      <td>00753c79-ea81-4456-acd0-a47a23ca2fb9</td>\n",
       "      <td>1.060000</td>\n",
       "    </tr>\n",
       "    <tr>\n",
       "      <th>13</th>\n",
       "      <td>00a93a72-3bbc-4ee7-8a81-7134f45ae009</td>\n",
       "      <td>0.890000</td>\n",
       "    </tr>\n",
       "    <tr>\n",
       "      <th>4</th>\n",
       "      <td>00551e79-152e-4441-9cf7-565d7eb04090</td>\n",
       "      <td>0.717500</td>\n",
       "    </tr>\n",
       "    <tr>\n",
       "      <th>11</th>\n",
       "      <td>007d031d-5018-4e02-b7ee-72a30609173f</td>\n",
       "      <td>0.240000</td>\n",
       "    </tr>\n",
       "  </tbody>\n",
       "</table>\n",
       "</div>"
      ],
      "text/plain": [
       "                                 user_id       mean\n",
       "12  009c0f37-8556-4c72-a007-100e28a37373  16.120000\n",
       "9   006f6ced-225b-4f9c-9f17-23404bc6835f   9.070000\n",
       "0   0001b1d5-b74a-4cbf-aeb0-7df5947bf349   4.830000\n",
       "14  00aa4003-366b-4788-ad1f-506f2b51b8cb   3.280000\n",
       "8   006a32d4-ee10-40dc-b237-11e0fde81cbc   3.026667\n",
       "3   004690c3-5a84-4bb7-a8af-e0c8f8fca64e   2.792667\n",
       "2   00463033-5717-4bf1-91b4-09183923b9df   2.737500\n",
       "6   005fbea5-2678-406f-88a6-fbe9787e2268   2.415000\n",
       "7   00653802-5ff1-4071-bc17-347fc4cef569   2.260000\n",
       "5   00554293-7e00-4122-b898-4e892c4a7c53   1.976667\n",
       "1   00157779-810c-4498-9e05-a1e9e3cedf93   1.815714\n",
       "10  00753c79-ea81-4456-acd0-a47a23ca2fb9   1.060000\n",
       "13  00a93a72-3bbc-4ee7-8a81-7134f45ae009   0.890000\n",
       "4   00551e79-152e-4441-9cf7-565d7eb04090   0.717500\n",
       "11  007d031d-5018-4e02-b7ee-72a30609173f   0.240000"
      ]
     },
     "metadata": {},
     "output_type": "display_data"
    },
    {
     "data": {
      "text/html": [
       "<div>\n",
       "<style scoped>\n",
       "    .dataframe tbody tr th:only-of-type {\n",
       "        vertical-align: middle;\n",
       "    }\n",
       "\n",
       "    .dataframe tbody tr th {\n",
       "        vertical-align: top;\n",
       "    }\n",
       "\n",
       "    .dataframe thead th {\n",
       "        text-align: right;\n",
       "    }\n",
       "</style>\n",
       "<table border=\"1\" class=\"dataframe\">\n",
       "  <thead>\n",
       "    <tr style=\"text-align: right;\">\n",
       "      <th></th>\n",
       "      <th>user_id</th>\n",
       "      <th>mean</th>\n",
       "    </tr>\n",
       "  </thead>\n",
       "  <tbody>\n",
       "    <tr>\n",
       "      <th>11</th>\n",
       "      <td>007d031d-5018-4e02-b7ee-72a30609173f</td>\n",
       "      <td>0.240000</td>\n",
       "    </tr>\n",
       "    <tr>\n",
       "      <th>4</th>\n",
       "      <td>00551e79-152e-4441-9cf7-565d7eb04090</td>\n",
       "      <td>0.717500</td>\n",
       "    </tr>\n",
       "    <tr>\n",
       "      <th>13</th>\n",
       "      <td>00a93a72-3bbc-4ee7-8a81-7134f45ae009</td>\n",
       "      <td>0.890000</td>\n",
       "    </tr>\n",
       "    <tr>\n",
       "      <th>10</th>\n",
       "      <td>00753c79-ea81-4456-acd0-a47a23ca2fb9</td>\n",
       "      <td>1.060000</td>\n",
       "    </tr>\n",
       "    <tr>\n",
       "      <th>1</th>\n",
       "      <td>00157779-810c-4498-9e05-a1e9e3cedf93</td>\n",
       "      <td>1.815714</td>\n",
       "    </tr>\n",
       "    <tr>\n",
       "      <th>5</th>\n",
       "      <td>00554293-7e00-4122-b898-4e892c4a7c53</td>\n",
       "      <td>1.976667</td>\n",
       "    </tr>\n",
       "    <tr>\n",
       "      <th>7</th>\n",
       "      <td>00653802-5ff1-4071-bc17-347fc4cef569</td>\n",
       "      <td>2.260000</td>\n",
       "    </tr>\n",
       "    <tr>\n",
       "      <th>6</th>\n",
       "      <td>005fbea5-2678-406f-88a6-fbe9787e2268</td>\n",
       "      <td>2.415000</td>\n",
       "    </tr>\n",
       "    <tr>\n",
       "      <th>2</th>\n",
       "      <td>00463033-5717-4bf1-91b4-09183923b9df</td>\n",
       "      <td>2.737500</td>\n",
       "    </tr>\n",
       "    <tr>\n",
       "      <th>3</th>\n",
       "      <td>004690c3-5a84-4bb7-a8af-e0c8f8fca64e</td>\n",
       "      <td>2.792667</td>\n",
       "    </tr>\n",
       "    <tr>\n",
       "      <th>8</th>\n",
       "      <td>006a32d4-ee10-40dc-b237-11e0fde81cbc</td>\n",
       "      <td>3.026667</td>\n",
       "    </tr>\n",
       "    <tr>\n",
       "      <th>14</th>\n",
       "      <td>00aa4003-366b-4788-ad1f-506f2b51b8cb</td>\n",
       "      <td>3.280000</td>\n",
       "    </tr>\n",
       "    <tr>\n",
       "      <th>0</th>\n",
       "      <td>0001b1d5-b74a-4cbf-aeb0-7df5947bf349</td>\n",
       "      <td>4.830000</td>\n",
       "    </tr>\n",
       "    <tr>\n",
       "      <th>9</th>\n",
       "      <td>006f6ced-225b-4f9c-9f17-23404bc6835f</td>\n",
       "      <td>9.070000</td>\n",
       "    </tr>\n",
       "    <tr>\n",
       "      <th>12</th>\n",
       "      <td>009c0f37-8556-4c72-a007-100e28a37373</td>\n",
       "      <td>16.120000</td>\n",
       "    </tr>\n",
       "  </tbody>\n",
       "</table>\n",
       "</div>"
      ],
      "text/plain": [
       "                                 user_id       mean\n",
       "11  007d031d-5018-4e02-b7ee-72a30609173f   0.240000\n",
       "4   00551e79-152e-4441-9cf7-565d7eb04090   0.717500\n",
       "13  00a93a72-3bbc-4ee7-8a81-7134f45ae009   0.890000\n",
       "10  00753c79-ea81-4456-acd0-a47a23ca2fb9   1.060000\n",
       "1   00157779-810c-4498-9e05-a1e9e3cedf93   1.815714\n",
       "5   00554293-7e00-4122-b898-4e892c4a7c53   1.976667\n",
       "7   00653802-5ff1-4071-bc17-347fc4cef569   2.260000\n",
       "6   005fbea5-2678-406f-88a6-fbe9787e2268   2.415000\n",
       "2   00463033-5717-4bf1-91b4-09183923b9df   2.737500\n",
       "3   004690c3-5a84-4bb7-a8af-e0c8f8fca64e   2.792667\n",
       "8   006a32d4-ee10-40dc-b237-11e0fde81cbc   3.026667\n",
       "14  00aa4003-366b-4788-ad1f-506f2b51b8cb   3.280000\n",
       "0   0001b1d5-b74a-4cbf-aeb0-7df5947bf349   4.830000\n",
       "9   006f6ced-225b-4f9c-9f17-23404bc6835f   9.070000\n",
       "12  009c0f37-8556-4c72-a007-100e28a37373  16.120000"
      ]
     },
     "execution_count": 39,
     "metadata": {},
     "output_type": "execute_result"
    }
   ],
   "source": [
    "# среднее время всех сессий \n",
    "user_mean_time = (session_time.groupby(['user_id'])['session_min'].agg('mean').reset_index())\n",
    "user_mean_time.columns = ['user_id', 'mean']\n",
    "display(user_mean_time.head(15).sort_values(by='mean', ascending = False))\n",
    "user_mean_time.head(15).sort_values(by='mean', ascending = True)"
   ]
  },
  {
   "cell_type": "markdown",
   "metadata": {},
   "source": [
    "**Вывод** По таблицам видно, что среднее время сессий на пользователя максимум  16 минут и минимум 24 секунды, если не считать минимумом нулевую сессию."
   ]
  },
  {
   "cell_type": "code",
   "execution_count": 28,
   "metadata": {},
   "outputs": [
    {
     "data": {
      "text/html": [
       "<div>\n",
       "<style scoped>\n",
       "    .dataframe tbody tr th:only-of-type {\n",
       "        vertical-align: middle;\n",
       "    }\n",
       "\n",
       "    .dataframe tbody tr th {\n",
       "        vertical-align: top;\n",
       "    }\n",
       "\n",
       "    .dataframe thead th {\n",
       "        text-align: right;\n",
       "    }\n",
       "</style>\n",
       "<table border=\"1\" class=\"dataframe\">\n",
       "  <thead>\n",
       "    <tr style=\"text-align: right;\">\n",
       "      <th></th>\n",
       "      <th>date</th>\n",
       "      <th>event_name</th>\n",
       "      <th>user_id</th>\n",
       "      <th>source</th>\n",
       "      <th>only_date</th>\n",
       "      <th>num_day_week</th>\n",
       "      <th>start</th>\n",
       "      <th>activ_w</th>\n",
       "      <th>start_w</th>\n",
       "      <th>lifetime</th>\n",
       "      <th>pred_time</th>\n",
       "      <th>time_session</th>\n",
       "      <th>session_dlit</th>\n",
       "      <th>session_id</th>\n",
       "    </tr>\n",
       "  </thead>\n",
       "  <tbody>\n",
       "    <tr>\n",
       "      <th>0</th>\n",
       "      <td>2019-10-07 00:00:00</td>\n",
       "      <td>advert_open</td>\n",
       "      <td>020292ab-89bc-4156-9acf-68bc2783f894</td>\n",
       "      <td>other</td>\n",
       "      <td>2019-10-07</td>\n",
       "      <td>0</td>\n",
       "      <td>2019-10-07</td>\n",
       "      <td>2019-10-07</td>\n",
       "      <td>2019-10-07</td>\n",
       "      <td>0</td>\n",
       "      <td>NaT</td>\n",
       "      <td>NaT</td>\n",
       "      <td>0.00</td>\n",
       "      <td>1</td>\n",
       "    </tr>\n",
       "    <tr>\n",
       "      <th>1</th>\n",
       "      <td>2019-10-07 00:00:01</td>\n",
       "      <td>tips_show</td>\n",
       "      <td>020292ab-89bc-4156-9acf-68bc2783f894</td>\n",
       "      <td>other</td>\n",
       "      <td>2019-10-07</td>\n",
       "      <td>0</td>\n",
       "      <td>2019-10-07</td>\n",
       "      <td>2019-10-07</td>\n",
       "      <td>2019-10-07</td>\n",
       "      <td>0</td>\n",
       "      <td>2019-10-07</td>\n",
       "      <td>0 days 00:00:01</td>\n",
       "      <td>0.02</td>\n",
       "      <td>1</td>\n",
       "    </tr>\n",
       "    <tr>\n",
       "      <th>2</th>\n",
       "      <td>2019-10-07 00:00:02</td>\n",
       "      <td>tips_show</td>\n",
       "      <td>cf7eda61-9349-469f-ac27-e5b6f5ec475c</td>\n",
       "      <td>yandex</td>\n",
       "      <td>2019-10-07</td>\n",
       "      <td>0</td>\n",
       "      <td>2019-10-07</td>\n",
       "      <td>2019-10-07</td>\n",
       "      <td>2019-10-07</td>\n",
       "      <td>0</td>\n",
       "      <td>NaT</td>\n",
       "      <td>NaT</td>\n",
       "      <td>0.00</td>\n",
       "      <td>2</td>\n",
       "    </tr>\n",
       "  </tbody>\n",
       "</table>\n",
       "</div>"
      ],
      "text/plain": [
       "                 date   event_name                               user_id  \\\n",
       "0 2019-10-07 00:00:00  advert_open  020292ab-89bc-4156-9acf-68bc2783f894   \n",
       "1 2019-10-07 00:00:01    tips_show  020292ab-89bc-4156-9acf-68bc2783f894   \n",
       "2 2019-10-07 00:00:02    tips_show  cf7eda61-9349-469f-ac27-e5b6f5ec475c   \n",
       "\n",
       "   source  only_date  num_day_week      start    activ_w    start_w  lifetime  \\\n",
       "0   other 2019-10-07             0 2019-10-07 2019-10-07 2019-10-07         0   \n",
       "1   other 2019-10-07             0 2019-10-07 2019-10-07 2019-10-07         0   \n",
       "2  yandex 2019-10-07             0 2019-10-07 2019-10-07 2019-10-07         0   \n",
       "\n",
       "   pred_time    time_session  session_dlit  session_id  \n",
       "0        NaT             NaT          0.00           1  \n",
       "1 2019-10-07 0 days 00:00:01          0.02           1  \n",
       "2        NaT             NaT          0.00           2  "
      ]
     },
     "execution_count": 28,
     "metadata": {},
     "output_type": "execute_result"
    }
   ],
   "source": [
    "df['session_dlit'].fillna('0',inplace=True) #заменяю пропуски на ноль\n",
    "df['session_dlit'] = df['session_dlit'].astype(float)\n",
    "df.head(3)"
   ]
  },
  {
   "cell_type": "code",
   "execution_count": 26,
   "metadata": {},
   "outputs": [
    {
     "data": {
      "image/png": "[encoded data removed]",
      "text/plain": [
       "<Figure size 864x360 with 1 Axes>"
      ]
     },
     "metadata": {
      "needs_background": "light"
     },
     "output_type": "display_data"
    }
   ],
   "source": [
    "dfhz = df.groupby(['user_id'])['session_id'].count().sort_values(ascending=False)\n",
    "plt.figure(figsize=(12,5))\n",
    "plt.hist(dfhz, bins=100, range=(100,400)) \n",
    "plt.xlabel('Количество пользователей')\n",
    "plt.grid()\n",
    "plt.ylabel('Количество сессий')\n",
    "plt.title('Количество сессий на пользователя');"
   ]
  },
  {
   "cell_type": "markdown",
   "metadata": {},
   "source": [
    "**Вывод** по графику видно, что в основном по 1-2 сессии на пользователя, это получается где-то 3-6 минут."
   ]
  },
  {
   "cell_type": "code",
   "execution_count": 27,
   "metadata": {},
   "outputs": [
    {
     "data": {
      "text/html": [
       "<div>\n",
       "<style scoped>\n",
       "    .dataframe tbody tr th:only-of-type {\n",
       "        vertical-align: middle;\n",
       "    }\n",
       "\n",
       "    .dataframe tbody tr th {\n",
       "        vertical-align: top;\n",
       "    }\n",
       "\n",
       "    .dataframe thead th {\n",
       "        text-align: right;\n",
       "    }\n",
       "</style>\n",
       "<table border=\"1\" class=\"dataframe\">\n",
       "  <thead>\n",
       "    <tr style=\"text-align: right;\">\n",
       "      <th></th>\n",
       "      <th>user_id</th>\n",
       "      <th>sum</th>\n",
       "      <th>median</th>\n",
       "      <th>mean</th>\n",
       "    </tr>\n",
       "  </thead>\n",
       "  <tbody>\n",
       "    <tr>\n",
       "      <th>0</th>\n",
       "      <td>0001b1d5-b74a-4cbf-aeb0-7df5947bf349</td>\n",
       "      <td>1.280</td>\n",
       "      <td>613.460286</td>\n",
       "      <td>21471.11</td>\n",
       "    </tr>\n",
       "    <tr>\n",
       "      <th>1</th>\n",
       "      <td>00157779-810c-4498-9e05-a1e9e3cedf93</td>\n",
       "      <td>1.430</td>\n",
       "      <td>300.529859</td>\n",
       "      <td>21337.62</td>\n",
       "    </tr>\n",
       "    <tr>\n",
       "      <th>2</th>\n",
       "      <td>00463033-5717-4bf1-91b4-09183923b9df</td>\n",
       "      <td>1.380</td>\n",
       "      <td>2.471000</td>\n",
       "      <td>24.71</td>\n",
       "    </tr>\n",
       "    <tr>\n",
       "      <th>3</th>\n",
       "      <td>004690c3-5a84-4bb7-a8af-e0c8f8fca64e</td>\n",
       "      <td>1.195</td>\n",
       "      <td>584.005000</td>\n",
       "      <td>18688.16</td>\n",
       "    </tr>\n",
       "    <tr>\n",
       "      <th>4</th>\n",
       "      <td>00551e79-152e-4441-9cf7-565d7eb04090</td>\n",
       "      <td>1.325</td>\n",
       "      <td>611.566250</td>\n",
       "      <td>4892.53</td>\n",
       "    </tr>\n",
       "    <tr>\n",
       "      <th>5</th>\n",
       "      <td>00554293-7e00-4122-b898-4e892c4a7c53</td>\n",
       "      <td>0.670</td>\n",
       "      <td>7.997273</td>\n",
       "      <td>87.97</td>\n",
       "    </tr>\n",
       "    <tr>\n",
       "      <th>6</th>\n",
       "      <td>005fbea5-2678-406f-88a6-fbe9787e2268</td>\n",
       "      <td>0.180</td>\n",
       "      <td>2.162000</td>\n",
       "      <td>10.81</td>\n",
       "    </tr>\n",
       "    <tr>\n",
       "      <th>7</th>\n",
       "      <td>00653802-5ff1-4071-bc17-347fc4cef569</td>\n",
       "      <td>1.350</td>\n",
       "      <td>1.700000</td>\n",
       "      <td>8.50</td>\n",
       "    </tr>\n",
       "    <tr>\n",
       "      <th>8</th>\n",
       "      <td>006a32d4-ee10-40dc-b237-11e0fde81cbc</td>\n",
       "      <td>1.765</td>\n",
       "      <td>2.613333</td>\n",
       "      <td>15.68</td>\n",
       "    </tr>\n",
       "    <tr>\n",
       "      <th>9</th>\n",
       "      <td>006f6ced-225b-4f9c-9f17-23404bc6835f</td>\n",
       "      <td>1.180</td>\n",
       "      <td>1.814000</td>\n",
       "      <td>9.07</td>\n",
       "    </tr>\n",
       "  </tbody>\n",
       "</table>\n",
       "</div>"
      ],
      "text/plain": [
       "                                user_id    sum      median      mean\n",
       "0  0001b1d5-b74a-4cbf-aeb0-7df5947bf349  1.280  613.460286  21471.11\n",
       "1  00157779-810c-4498-9e05-a1e9e3cedf93  1.430  300.529859  21337.62\n",
       "2  00463033-5717-4bf1-91b4-09183923b9df  1.380    2.471000     24.71\n",
       "3  004690c3-5a84-4bb7-a8af-e0c8f8fca64e  1.195  584.005000  18688.16\n",
       "4  00551e79-152e-4441-9cf7-565d7eb04090  1.325  611.566250   4892.53\n",
       "5  00554293-7e00-4122-b898-4e892c4a7c53  0.670    7.997273     87.97\n",
       "6  005fbea5-2678-406f-88a6-fbe9787e2268  0.180    2.162000     10.81\n",
       "7  00653802-5ff1-4071-bc17-347fc4cef569  1.350    1.700000      8.50\n",
       "8  006a32d4-ee10-40dc-b237-11e0fde81cbc  1.765    2.613333     15.68\n",
       "9  006f6ced-225b-4f9c-9f17-23404bc6835f  1.180    1.814000      9.07"
      ]
     },
     "execution_count": 27,
     "metadata": {},
     "output_type": "execute_result"
    }
   ],
   "source": [
    "# группирую для дальнейшего графика\n",
    "user_time_app = (df.groupby(['user_id'])['session_dlit'].agg({'sum', 'median', 'mean'}).reset_index())\n",
    "user_time_app.columns = ['user_id','sum', 'median', 'mean']\n",
    "user_time_app.head(10)"
   ]
  },
  {
   "cell_type": "markdown",
   "metadata": {},
   "source": [
    "**Вывод** В данных есть большой разброс, среднее 1.280, а медиана 21471.11 слишком большая разница."
   ]
  },
  {
   "cell_type": "code",
   "execution_count": 28,
   "metadata": {},
   "outputs": [
    {
     "data": {
      "image/png": "[encoded data removed]",
      "text/plain": [
       "<Figure size 432x288 with 1 Axes>"
      ]
     },
     "metadata": {
      "needs_background": "light"
     },
     "output_type": "display_data"
    }
   ],
   "source": [
    "user_time_app.plot(x = 'user_id', y = ['sum', 'median', 'mean'], title = 'Время в приложении', kind='hist', range=(500,7000));"
   ]
  },
  {
   "cell_type": "markdown",
   "metadata": {},
   "source": [
    "**Вывод** В датасете есть аномалии и выбросы еще и нулевые значения."
   ]
  },
  {
   "cell_type": "code",
   "execution_count": 29,
   "metadata": {},
   "outputs": [
    {
     "data": {
      "text/plain": [
       "date            5550\n",
       "event_name      5550\n",
       "user_id         5550\n",
       "source          5550\n",
       "only_date       5550\n",
       "num_day_week    5550\n",
       "start           5550\n",
       "activ_w         5550\n",
       "start_w         5550\n",
       "lifetime        5550\n",
       "pred_time       1257\n",
       "time_session    1257\n",
       "session_dlit    5550\n",
       "session_id      5550\n",
       "dtype: int64"
      ]
     },
     "metadata": {},
     "output_type": "display_data"
    },
    {
     "data": {
      "text/plain": [
       "date            68647\n",
       "event_name      68647\n",
       "user_id         68647\n",
       "source          68647\n",
       "only_date       68647\n",
       "num_day_week    68647\n",
       "start           68647\n",
       "activ_w         68647\n",
       "start_w         68647\n",
       "lifetime        68647\n",
       "pred_time       68647\n",
       "time_session    68647\n",
       "session_dlit    68647\n",
       "session_id      68647\n",
       "dtype: int64"
      ]
     },
     "execution_count": 29,
     "metadata": {},
     "output_type": "execute_result"
    }
   ],
   "source": [
    "df_session_nol = df.query('session_dlit == 0').count() # смотрим количество нулевых сессий и в каких событиях они\n",
    "display(df_session_nol)\n",
    "df_session_no_nol = df.query('session_dlit != 0').count() # смотрим количество ненулевых сессий \n",
    "df_session_no_nol"
   ]
  },
  {
   "cell_type": "markdown",
   "metadata": {},
   "source": [
    "**Вывод** Из 68647 событий 5550 нулевых, это 8,1% нулевых сессий от общего числа, достаточно большой процент."
   ]
  },
  {
   "cell_type": "markdown",
   "metadata": {},
   "source": [
    "#### Частота действий"
   ]
  },
  {
   "cell_type": "code",
   "execution_count": 30,
   "metadata": {},
   "outputs": [
    {
     "data": {
      "text/html": [
       "<div>\n",
       "<style scoped>\n",
       "    .dataframe tbody tr th:only-of-type {\n",
       "        vertical-align: middle;\n",
       "    }\n",
       "\n",
       "    .dataframe tbody tr th {\n",
       "        vertical-align: top;\n",
       "    }\n",
       "\n",
       "    .dataframe thead th {\n",
       "        text-align: right;\n",
       "    }\n",
       "</style>\n",
       "<table border=\"1\" class=\"dataframe\">\n",
       "  <thead>\n",
       "    <tr style=\"text-align: right;\">\n",
       "      <th></th>\n",
       "      <th>event_name</th>\n",
       "      <th>event_na</th>\n",
       "      <th>prozent</th>\n",
       "    </tr>\n",
       "  </thead>\n",
       "  <tbody>\n",
       "    <tr>\n",
       "      <th>14</th>\n",
       "      <td>tips_show</td>\n",
       "      <td>40055</td>\n",
       "      <td>53.984662</td>\n",
       "    </tr>\n",
       "    <tr>\n",
       "      <th>5</th>\n",
       "      <td>photos_show</td>\n",
       "      <td>10012</td>\n",
       "      <td>13.493807</td>\n",
       "    </tr>\n",
       "    <tr>\n",
       "      <th>0</th>\n",
       "      <td>advert_open</td>\n",
       "      <td>6164</td>\n",
       "      <td>8.307614</td>\n",
       "    </tr>\n",
       "    <tr>\n",
       "      <th>2</th>\n",
       "      <td>contacts_show</td>\n",
       "      <td>4529</td>\n",
       "      <td>6.104020</td>\n",
       "    </tr>\n",
       "    <tr>\n",
       "      <th>4</th>\n",
       "      <td>map</td>\n",
       "      <td>3881</td>\n",
       "      <td>5.230670</td>\n",
       "    </tr>\n",
       "    <tr>\n",
       "      <th>6</th>\n",
       "      <td>search_1</td>\n",
       "      <td>3506</td>\n",
       "      <td>4.725258</td>\n",
       "    </tr>\n",
       "    <tr>\n",
       "      <th>3</th>\n",
       "      <td>favorites_add</td>\n",
       "      <td>1417</td>\n",
       "      <td>1.909781</td>\n",
       "    </tr>\n",
       "    <tr>\n",
       "      <th>10</th>\n",
       "      <td>search_5</td>\n",
       "      <td>1049</td>\n",
       "      <td>1.413804</td>\n",
       "    </tr>\n",
       "    <tr>\n",
       "      <th>13</th>\n",
       "      <td>tips_click</td>\n",
       "      <td>814</td>\n",
       "      <td>1.097079</td>\n",
       "    </tr>\n",
       "    <tr>\n",
       "      <th>9</th>\n",
       "      <td>search_4</td>\n",
       "      <td>701</td>\n",
       "      <td>0.944782</td>\n",
       "    </tr>\n",
       "    <tr>\n",
       "      <th>1</th>\n",
       "      <td>contacts_call</td>\n",
       "      <td>541</td>\n",
       "      <td>0.729140</td>\n",
       "    </tr>\n",
       "    <tr>\n",
       "      <th>8</th>\n",
       "      <td>search_3</td>\n",
       "      <td>522</td>\n",
       "      <td>0.703532</td>\n",
       "    </tr>\n",
       "    <tr>\n",
       "      <th>11</th>\n",
       "      <td>search_6</td>\n",
       "      <td>460</td>\n",
       "      <td>0.619971</td>\n",
       "    </tr>\n",
       "    <tr>\n",
       "      <th>7</th>\n",
       "      <td>search_2</td>\n",
       "      <td>324</td>\n",
       "      <td>0.436675</td>\n",
       "    </tr>\n",
       "    <tr>\n",
       "      <th>12</th>\n",
       "      <td>search_7</td>\n",
       "      <td>222</td>\n",
       "      <td>0.299203</td>\n",
       "    </tr>\n",
       "  </tbody>\n",
       "</table>\n",
       "</div>"
      ],
      "text/plain": [
       "       event_name  event_na    prozent\n",
       "14      tips_show     40055  53.984662\n",
       "5     photos_show     10012  13.493807\n",
       "0     advert_open      6164   8.307614\n",
       "2   contacts_show      4529   6.104020\n",
       "4             map      3881   5.230670\n",
       "6        search_1      3506   4.725258\n",
       "3   favorites_add      1417   1.909781\n",
       "10       search_5      1049   1.413804\n",
       "13     tips_click       814   1.097079\n",
       "9        search_4       701   0.944782\n",
       "1   contacts_call       541   0.729140\n",
       "8        search_3       522   0.703532\n",
       "11       search_6       460   0.619971\n",
       "7        search_2       324   0.436675\n",
       "12       search_7       222   0.299203"
      ]
     },
     "execution_count": 30,
     "metadata": {},
     "output_type": "execute_result"
    }
   ],
   "source": [
    "#Расчитаем частоту действий для пользователей\n",
    "chastota_d = df.groupby('event_name').agg({'event_name':'count'})# сгрупируем по типам действий \n",
    "chastota_d_sum = chastota_d['event_name'].sum() # общее количество событий \n",
    "chastota_d = chastota_d.rename(columns={'event_name':'event_na'}).reset_index()\n",
    "chastota_d['prozent'] = 100*(chastota_d['event_na']/chastota_d_sum) # рассчитаем в процентах\n",
    "chastota_d.sort_values(by='event_na', ascending=False)\n"
   ]
  },
  {
   "cell_type": "code",
   "execution_count": 31,
   "metadata": {},
   "outputs": [
    {
     "data": {
      "image/png": "[encoded data removed]",
      "text/plain": [
       "<Figure size 1008x576 with 1 Axes>"
      ]
     },
     "metadata": {
      "needs_background": "light"
     },
     "output_type": "display_data"
    }
   ],
   "source": [
    "ax = chastota_d.sort_values(by='event_na', ascending=False).plot(kind='bar', x= 'event_name', y= 'event_na',figsize=(14,8)) \n",
    "ax.set_title('Частота действий пользователей в приложении')\n",
    "ax.set_xlabel('Тип действия')\n",
    "ax.set_ylabel('Частота действий')\n",
    "plt.xticks(rotation=30)\n",
    "plt.show()"
   ]
  },
  {
   "cell_type": "markdown",
   "metadata": {},
   "source": [
    "**Вывод** По длительности ссесий и по частоте самое популярное событие - tips_show, далее photos_show, аdvert_open и contacts_show. "
   ]
  },
  {
   "cell_type": "code",
   "execution_count": 32,
   "metadata": {},
   "outputs": [
    {
     "data": {
      "text/plain": [
       "7"
      ]
     },
     "execution_count": 32,
     "metadata": {},
     "output_type": "execute_result"
    }
   ],
   "source": [
    "df['num_day_week'].nunique() # проверю все ли дни недели есть в столбце"
   ]
  },
  {
   "cell_type": "code",
   "execution_count": 33,
   "metadata": {},
   "outputs": [
    {
     "data": {
      "text/plain": [
       "num_day_week\n",
       "0    11671\n",
       "1    11145\n",
       "2    10994\n",
       "3    10763\n",
       "6    10501\n",
       "4     9969\n",
       "5     9154\n",
       "Name: event_name, dtype: int64"
      ]
     },
     "execution_count": 33,
     "metadata": {},
     "output_type": "execute_result"
    }
   ],
   "source": [
    "chastota_po_dnam_nedeli = df.groupby('num_day_week')['event_name'].count().sort_values(ascending=False)\n",
    "chastota_po_dnam_nedeli"
   ]
  },
  {
   "cell_type": "markdown",
   "metadata": {},
   "source": [
    "**Вывод** в пятницу и субботу немного меньше событий, чем в другие дни. Посмотрим наглядно на графике."
   ]
  },
  {
   "cell_type": "code",
   "execution_count": 34,
   "metadata": {},
   "outputs": [
    {
     "data": {
      "image/png": "[encoded data removed]",
      "text/plain": [
       "<Figure size 1080x360 with 1 Axes>"
      ]
     },
     "metadata": {
      "needs_background": "light"
     },
     "output_type": "display_data"
    }
   ],
   "source": [
    "# построим график\n",
    "plt.figure(figsize=(15,5))\n",
    "plt.plot(df.groupby(['num_day_week'])['event_name'].count(), label='Выпуск игр')\n",
    "plt.legend()\n",
    "plt.title('Распределение частоты действий по дням недели', fontsize=13)\n",
    "plt.xlabel('День недели')\n",
    "plt.ylabel('Количество событий')\n",
    "plt.show()"
   ]
  },
  {
   "cell_type": "markdown",
   "metadata": {},
   "source": [
    "**Вывод** Начиная с понедельника идет плавный спад, с четверга по субботу резкий спад, далее подъем. Возможно это связано с выходными, пользователи меньше пользуются приложением в пятницу и субботу."
   ]
  },
  {
   "cell_type": "code",
   "execution_count": 35,
   "metadata": {},
   "outputs": [
    {
     "data": {
      "text/html": [
       "<div>\n",
       "<style scoped>\n",
       "    .dataframe tbody tr th:only-of-type {\n",
       "        vertical-align: middle;\n",
       "    }\n",
       "\n",
       "    .dataframe tbody tr th {\n",
       "        vertical-align: top;\n",
       "    }\n",
       "\n",
       "    .dataframe thead th {\n",
       "        text-align: right;\n",
       "    }\n",
       "</style>\n",
       "<table border=\"1\" class=\"dataframe\">\n",
       "  <thead>\n",
       "    <tr style=\"text-align: right;\">\n",
       "      <th></th>\n",
       "      <th>only_date</th>\n",
       "      <th>event_name</th>\n",
       "      <th>7day_rolling_avg</th>\n",
       "    </tr>\n",
       "  </thead>\n",
       "  <tbody>\n",
       "    <tr>\n",
       "      <th>0</th>\n",
       "      <td>2019-10-23</td>\n",
       "      <td>3360</td>\n",
       "      <td>NaN</td>\n",
       "    </tr>\n",
       "    <tr>\n",
       "      <th>1</th>\n",
       "      <td>2019-10-29</td>\n",
       "      <td>3196</td>\n",
       "      <td>NaN</td>\n",
       "    </tr>\n",
       "    <tr>\n",
       "      <th>2</th>\n",
       "      <td>2019-10-28</td>\n",
       "      <td>3184</td>\n",
       "      <td>NaN</td>\n",
       "    </tr>\n",
       "    <tr>\n",
       "      <th>3</th>\n",
       "      <td>2019-10-26</td>\n",
       "      <td>3127</td>\n",
       "      <td>NaN</td>\n",
       "    </tr>\n",
       "    <tr>\n",
       "      <th>4</th>\n",
       "      <td>2019-10-14</td>\n",
       "      <td>3034</td>\n",
       "      <td>NaN</td>\n",
       "    </tr>\n",
       "    <tr>\n",
       "      <th>5</th>\n",
       "      <td>2019-10-24</td>\n",
       "      <td>3034</td>\n",
       "      <td>NaN</td>\n",
       "    </tr>\n",
       "    <tr>\n",
       "      <th>6</th>\n",
       "      <td>2019-10-21</td>\n",
       "      <td>2908</td>\n",
       "      <td>3120.428571</td>\n",
       "    </tr>\n",
       "    <tr>\n",
       "      <th>7</th>\n",
       "      <td>2019-10-30</td>\n",
       "      <td>2877</td>\n",
       "      <td>3051.428571</td>\n",
       "    </tr>\n",
       "    <tr>\n",
       "      <th>8</th>\n",
       "      <td>2019-10-31</td>\n",
       "      <td>2868</td>\n",
       "      <td>3004.571429</td>\n",
       "    </tr>\n",
       "    <tr>\n",
       "      <th>9</th>\n",
       "      <td>2019-10-27</td>\n",
       "      <td>2861</td>\n",
       "      <td>2958.428571</td>\n",
       "    </tr>\n",
       "    <tr>\n",
       "      <th>10</th>\n",
       "      <td>2019-11-03</td>\n",
       "      <td>2861</td>\n",
       "      <td>2920.428571</td>\n",
       "    </tr>\n",
       "    <tr>\n",
       "      <th>11</th>\n",
       "      <td>2019-10-18</td>\n",
       "      <td>2744</td>\n",
       "      <td>2879.000000</td>\n",
       "    </tr>\n",
       "    <tr>\n",
       "      <th>12</th>\n",
       "      <td>2019-10-16</td>\n",
       "      <td>2730</td>\n",
       "      <td>2835.571429</td>\n",
       "    </tr>\n",
       "    <tr>\n",
       "      <th>13</th>\n",
       "      <td>2019-10-22</td>\n",
       "      <td>2728</td>\n",
       "      <td>2809.857143</td>\n",
       "    </tr>\n",
       "    <tr>\n",
       "      <th>14</th>\n",
       "      <td>2019-10-15</td>\n",
       "      <td>2722</td>\n",
       "      <td>2787.714286</td>\n",
       "    </tr>\n",
       "    <tr>\n",
       "      <th>15</th>\n",
       "      <td>2019-10-13</td>\n",
       "      <td>2635</td>\n",
       "      <td>2754.428571</td>\n",
       "    </tr>\n",
       "    <tr>\n",
       "      <th>16</th>\n",
       "      <td>2019-10-17</td>\n",
       "      <td>2618</td>\n",
       "      <td>2719.714286</td>\n",
       "    </tr>\n",
       "    <tr>\n",
       "      <th>17</th>\n",
       "      <td>2019-10-25</td>\n",
       "      <td>2618</td>\n",
       "      <td>2685.000000</td>\n",
       "    </tr>\n",
       "    <tr>\n",
       "      <th>18</th>\n",
       "      <td>2019-11-01</td>\n",
       "      <td>2577</td>\n",
       "      <td>2661.142857</td>\n",
       "    </tr>\n",
       "    <tr>\n",
       "      <th>19</th>\n",
       "      <td>2019-10-07</td>\n",
       "      <td>2545</td>\n",
       "      <td>2634.714286</td>\n",
       "    </tr>\n",
       "    <tr>\n",
       "      <th>20</th>\n",
       "      <td>2019-10-08</td>\n",
       "      <td>2499</td>\n",
       "      <td>2602.000000</td>\n",
       "    </tr>\n",
       "    <tr>\n",
       "      <th>21</th>\n",
       "      <td>2019-10-19</td>\n",
       "      <td>2331</td>\n",
       "      <td>2546.142857</td>\n",
       "    </tr>\n",
       "    <tr>\n",
       "      <th>22</th>\n",
       "      <td>2019-10-10</td>\n",
       "      <td>2243</td>\n",
       "      <td>2490.142857</td>\n",
       "    </tr>\n",
       "    <tr>\n",
       "      <th>23</th>\n",
       "      <td>2019-10-20</td>\n",
       "      <td>2144</td>\n",
       "      <td>2422.428571</td>\n",
       "    </tr>\n",
       "    <tr>\n",
       "      <th>24</th>\n",
       "      <td>2019-10-11</td>\n",
       "      <td>2030</td>\n",
       "      <td>2338.428571</td>\n",
       "    </tr>\n",
       "    <tr>\n",
       "      <th>25</th>\n",
       "      <td>2019-10-09</td>\n",
       "      <td>2027</td>\n",
       "      <td>2259.857143</td>\n",
       "    </tr>\n",
       "    <tr>\n",
       "      <th>26</th>\n",
       "      <td>2019-11-02</td>\n",
       "      <td>1853</td>\n",
       "      <td>2161.000000</td>\n",
       "    </tr>\n",
       "    <tr>\n",
       "      <th>27</th>\n",
       "      <td>2019-10-12</td>\n",
       "      <td>1843</td>\n",
       "      <td>2067.285714</td>\n",
       "    </tr>\n",
       "  </tbody>\n",
       "</table>\n",
       "</div>"
      ],
      "text/plain": [
       "    only_date  event_name  7day_rolling_avg\n",
       "0  2019-10-23        3360               NaN\n",
       "1  2019-10-29        3196               NaN\n",
       "2  2019-10-28        3184               NaN\n",
       "3  2019-10-26        3127               NaN\n",
       "4  2019-10-14        3034               NaN\n",
       "5  2019-10-24        3034               NaN\n",
       "6  2019-10-21        2908       3120.428571\n",
       "7  2019-10-30        2877       3051.428571\n",
       "8  2019-10-31        2868       3004.571429\n",
       "9  2019-10-27        2861       2958.428571\n",
       "10 2019-11-03        2861       2920.428571\n",
       "11 2019-10-18        2744       2879.000000\n",
       "12 2019-10-16        2730       2835.571429\n",
       "13 2019-10-22        2728       2809.857143\n",
       "14 2019-10-15        2722       2787.714286\n",
       "15 2019-10-13        2635       2754.428571\n",
       "16 2019-10-17        2618       2719.714286\n",
       "17 2019-10-25        2618       2685.000000\n",
       "18 2019-11-01        2577       2661.142857\n",
       "19 2019-10-07        2545       2634.714286\n",
       "20 2019-10-08        2499       2602.000000\n",
       "21 2019-10-19        2331       2546.142857\n",
       "22 2019-10-10        2243       2490.142857\n",
       "23 2019-10-20        2144       2422.428571\n",
       "24 2019-10-11        2030       2338.428571\n",
       "25 2019-10-09        2027       2259.857143\n",
       "26 2019-11-02        1853       2161.000000\n",
       "27 2019-10-12        1843       2067.285714"
      ]
     },
     "execution_count": 35,
     "metadata": {},
     "output_type": "execute_result"
    }
   ],
   "source": [
    "chastota_po_dnam_nedeli_7 = df.pivot_table(index = 'only_date', values = 'event_name', aggfunc = 'count').sort_values(by = 'event_name', ascending=False)\n",
    "chastota_po_dnam_nedeli_7.reset_index()\n",
    "chastota_po_dnam_nedeli_7[ '7day_rolling_avg' ] = chastota_po_dnam_nedeli_7.event_name.rolling(7).mean()\n",
    "chastota_po_dnam_nedeli_7.reset_index()"
   ]
  },
  {
   "cell_type": "code",
   "execution_count": 36,
   "metadata": {},
   "outputs": [
    {
     "data": {
      "image/png": "[encoded data removed]",
      "text/plain": [
       "<Figure size 864x360 with 1 Axes>"
      ]
     },
     "metadata": {
      "needs_background": "light"
     },
     "output_type": "display_data"
    }
   ],
   "source": [
    "\n",
    "# set figure size\n",
    "plt.figure( figsize = ( 12, 5))\n",
    "  \n",
    "# plot a simple time series plot\n",
    "# using seaborn.lineplot()\n",
    "sns.lineplot( x = 'only_date',\n",
    "             y = 'event_name',\n",
    "             data = chastota_po_dnam_nedeli_7,\n",
    "             label = 'Частота по дням')\n",
    "  \n",
    "# plot using rolling average\n",
    "sns.lineplot( x = 'only_date',\n",
    "             y = '7day_rolling_avg',\n",
    "             data = chastota_po_dnam_nedeli_7,\n",
    "             label = 'Скользящее среднее')\n",
    "plt.title('Распределение частоты действий по дням недели со скользящим средним', fontsize=15)  \n",
    "plt.xlabel('Временной период')\n",
    "plt.ylabel('События');"
   ]
  },
  {
   "cell_type": "markdown",
   "metadata": {},
   "source": [
    "#### Конверсия в целевое действие - просмотр контакта"
   ]
  },
  {
   "cell_type": "code",
   "execution_count": 37,
   "metadata": {},
   "outputs": [
    {
     "data": {
      "text/plain": [
       "981"
      ]
     },
     "execution_count": 37,
     "metadata": {},
     "output_type": "execute_result"
    }
   ],
   "source": [
    "# для расчета конверсии в цд, сделаем срез по событию и посчитаем количество уникальных пользователей\n",
    "contact_show = df.query('event_name == \"contacts_show\"')\n",
    "contact_show['user_id'].nunique()"
   ]
  },
  {
   "cell_type": "code",
   "execution_count": 38,
   "metadata": {},
   "outputs": [
    {
     "data": {
      "text/plain": [
       "22.851153039832283"
      ]
     },
     "execution_count": 38,
     "metadata": {},
     "output_type": "execute_result"
    }
   ],
   "source": [
    "# посчитаем конверсию, разделим количество уникальных пользователей, совершивших целевое действие на общее количество уникальных пользователей\n",
    "conversion_contacts_show = (contact_show['user_id'].nunique() / df['user_id'].nunique()) * 100\n",
    "conversion_contacts_show"
   ]
  },
  {
   "cell_type": "markdown",
   "metadata": {},
   "source": [
    "**Вывод** Конверсия в целевое действие уникальных пользователей приложения - 22.85%. Почти 23% пользователей просматривают контакт."
   ]
  },
  {
   "cell_type": "markdown",
   "metadata": {},
   "source": [
    "**Вывод по разделу** Пользователей возвращается все меньше и меньше с каждой неделей использования приложения, от 100% на вторую неделю вернулось 24%, далее через неделю - 15%, на четвертой неделе осталось 10.5%. Дольше всего по времени пользователи просматривают рекомендованные объявления. Чаще всего приложением пользуются с понедельника по четверг, далее идет резкий спад и только в субботу начинается постепенный подъем активности. Коверсия пользователей, совершивших событие \"запрос контакта\" почти 23%."
   ]
  },
  {
   "cell_type": "markdown",
   "metadata": {},
   "source": [
    "### Сегментация пользователей"
   ]
  },
  {
   "cell_type": "markdown",
   "metadata": {},
   "source": [
    "Определить пользователи какой группы склонны часто возвращаться в мобильное приложение (для каждой группы считаем Retention rate);\n",
    "Определить пользователи какой группы часто делают целевое событие (для каждой группы считаем конверсию в целевое действие);\n",
    "Получить гипотезы как можно было бы улучшить приложения с точки зрения пользовательского опыта;"
   ]
  },
  {
   "cell_type": "markdown",
   "metadata": {},
   "source": [
    "Решила сегментировать пользователей по времени событий на утро, день, вечер и ночь. Чтобы посмотреть в какой период наиболее активен пользователь в приложение, а в какое время пользователь не использует приложение и это будет полезно для планирования дальнейшего развития приложения. Предположу, что в вечернее время больше пользователей, чем утром, так как после работы люди чаще используют свой смартфон."
   ]
  },
  {
   "cell_type": "code",
   "execution_count": 39,
   "metadata": {},
   "outputs": [
    {
     "data": {
      "text/plain": [
       "<bound method IndexOpsMixin.nunique of tips_show        40055\n",
       "photos_show      10012\n",
       "advert_open       6164\n",
       "contacts_show     4529\n",
       "map               3881\n",
       "search_1          3506\n",
       "favorites_add     1417\n",
       "search_5          1049\n",
       "tips_click         814\n",
       "search_4           701\n",
       "contacts_call      541\n",
       "search_3           522\n",
       "search_6           460\n",
       "search_2           324\n",
       "search_7           222\n",
       "Name: event_name, dtype: int64>"
      ]
     },
     "execution_count": 39,
     "metadata": {},
     "output_type": "execute_result"
    }
   ],
   "source": [
    "df['event_name'].value_counts().nunique"
   ]
  },
  {
   "cell_type": "code",
   "execution_count": 40,
   "metadata": {},
   "outputs": [
    {
     "data": {
      "text/html": [
       "<div>\n",
       "<style scoped>\n",
       "    .dataframe tbody tr th:only-of-type {\n",
       "        vertical-align: middle;\n",
       "    }\n",
       "\n",
       "    .dataframe tbody tr th {\n",
       "        vertical-align: top;\n",
       "    }\n",
       "\n",
       "    .dataframe thead th {\n",
       "        text-align: right;\n",
       "    }\n",
       "</style>\n",
       "<table border=\"1\" class=\"dataframe\">\n",
       "  <thead>\n",
       "    <tr style=\"text-align: right;\">\n",
       "      <th></th>\n",
       "      <th>date</th>\n",
       "      <th>event_name</th>\n",
       "      <th>user_id</th>\n",
       "      <th>source</th>\n",
       "      <th>only_date</th>\n",
       "      <th>num_day_week</th>\n",
       "      <th>start</th>\n",
       "      <th>activ_w</th>\n",
       "      <th>start_w</th>\n",
       "      <th>lifetime</th>\n",
       "      <th>pred_time</th>\n",
       "      <th>time_session</th>\n",
       "      <th>session_dlit</th>\n",
       "      <th>session_id</th>\n",
       "      <th>hour</th>\n",
       "    </tr>\n",
       "  </thead>\n",
       "  <tbody>\n",
       "    <tr>\n",
       "      <th>0</th>\n",
       "      <td>2019-10-07 00:00:00</td>\n",
       "      <td>advert_open</td>\n",
       "      <td>020292ab-89bc-4156-9acf-68bc2783f894</td>\n",
       "      <td>other</td>\n",
       "      <td>2019-10-07</td>\n",
       "      <td>0</td>\n",
       "      <td>2019-10-07</td>\n",
       "      <td>2019-10-07</td>\n",
       "      <td>2019-10-07</td>\n",
       "      <td>0</td>\n",
       "      <td>NaT</td>\n",
       "      <td>NaT</td>\n",
       "      <td>0.00</td>\n",
       "      <td>1</td>\n",
       "      <td>0</td>\n",
       "    </tr>\n",
       "    <tr>\n",
       "      <th>1</th>\n",
       "      <td>2019-10-07 00:00:01</td>\n",
       "      <td>tips_show</td>\n",
       "      <td>020292ab-89bc-4156-9acf-68bc2783f894</td>\n",
       "      <td>other</td>\n",
       "      <td>2019-10-07</td>\n",
       "      <td>0</td>\n",
       "      <td>2019-10-07</td>\n",
       "      <td>2019-10-07</td>\n",
       "      <td>2019-10-07</td>\n",
       "      <td>0</td>\n",
       "      <td>2019-10-07 00:00:00</td>\n",
       "      <td>0 days 00:00:01</td>\n",
       "      <td>0.02</td>\n",
       "      <td>1</td>\n",
       "      <td>0</td>\n",
       "    </tr>\n",
       "    <tr>\n",
       "      <th>2</th>\n",
       "      <td>2019-10-07 00:00:02</td>\n",
       "      <td>tips_show</td>\n",
       "      <td>cf7eda61-9349-469f-ac27-e5b6f5ec475c</td>\n",
       "      <td>yandex</td>\n",
       "      <td>2019-10-07</td>\n",
       "      <td>0</td>\n",
       "      <td>2019-10-07</td>\n",
       "      <td>2019-10-07</td>\n",
       "      <td>2019-10-07</td>\n",
       "      <td>0</td>\n",
       "      <td>NaT</td>\n",
       "      <td>NaT</td>\n",
       "      <td>0.00</td>\n",
       "      <td>2</td>\n",
       "      <td>0</td>\n",
       "    </tr>\n",
       "    <tr>\n",
       "      <th>3</th>\n",
       "      <td>2019-10-07 00:00:07</td>\n",
       "      <td>tips_show</td>\n",
       "      <td>020292ab-89bc-4156-9acf-68bc2783f894</td>\n",
       "      <td>other</td>\n",
       "      <td>2019-10-07</td>\n",
       "      <td>0</td>\n",
       "      <td>2019-10-07</td>\n",
       "      <td>2019-10-07</td>\n",
       "      <td>2019-10-07</td>\n",
       "      <td>0</td>\n",
       "      <td>2019-10-07 00:00:01</td>\n",
       "      <td>0 days 00:00:06</td>\n",
       "      <td>0.10</td>\n",
       "      <td>1</td>\n",
       "      <td>0</td>\n",
       "    </tr>\n",
       "    <tr>\n",
       "      <th>4</th>\n",
       "      <td>2019-10-07 00:00:56</td>\n",
       "      <td>advert_open</td>\n",
       "      <td>cf7eda61-9349-469f-ac27-e5b6f5ec475c</td>\n",
       "      <td>yandex</td>\n",
       "      <td>2019-10-07</td>\n",
       "      <td>0</td>\n",
       "      <td>2019-10-07</td>\n",
       "      <td>2019-10-07</td>\n",
       "      <td>2019-10-07</td>\n",
       "      <td>0</td>\n",
       "      <td>2019-10-07 00:00:02</td>\n",
       "      <td>0 days 00:00:54</td>\n",
       "      <td>0.90</td>\n",
       "      <td>2</td>\n",
       "      <td>0</td>\n",
       "    </tr>\n",
       "  </tbody>\n",
       "</table>\n",
       "</div>"
      ],
      "text/plain": [
       "                 date   event_name                               user_id  \\\n",
       "0 2019-10-07 00:00:00  advert_open  020292ab-89bc-4156-9acf-68bc2783f894   \n",
       "1 2019-10-07 00:00:01    tips_show  020292ab-89bc-4156-9acf-68bc2783f894   \n",
       "2 2019-10-07 00:00:02    tips_show  cf7eda61-9349-469f-ac27-e5b6f5ec475c   \n",
       "3 2019-10-07 00:00:07    tips_show  020292ab-89bc-4156-9acf-68bc2783f894   \n",
       "4 2019-10-07 00:00:56  advert_open  cf7eda61-9349-469f-ac27-e5b6f5ec475c   \n",
       "\n",
       "   source  only_date  num_day_week      start    activ_w    start_w  lifetime  \\\n",
       "0   other 2019-10-07             0 2019-10-07 2019-10-07 2019-10-07         0   \n",
       "1   other 2019-10-07             0 2019-10-07 2019-10-07 2019-10-07         0   \n",
       "2  yandex 2019-10-07             0 2019-10-07 2019-10-07 2019-10-07         0   \n",
       "3   other 2019-10-07             0 2019-10-07 2019-10-07 2019-10-07         0   \n",
       "4  yandex 2019-10-07             0 2019-10-07 2019-10-07 2019-10-07         0   \n",
       "\n",
       "            pred_time    time_session  session_dlit  session_id  hour  \n",
       "0                 NaT             NaT          0.00           1     0  \n",
       "1 2019-10-07 00:00:00 0 days 00:00:01          0.02           1     0  \n",
       "2                 NaT             NaT          0.00           2     0  \n",
       "3 2019-10-07 00:00:01 0 days 00:00:06          0.10           1     0  \n",
       "4 2019-10-07 00:00:02 0 days 00:00:54          0.90           2     0  "
      ]
     },
     "metadata": {},
     "output_type": "display_data"
    },
    {
     "data": {
      "text/plain": [
       "24"
      ]
     },
     "execution_count": 40,
     "metadata": {},
     "output_type": "execute_result"
    }
   ],
   "source": [
    "df['hour'] = df['date'].dt.hour #сделаю столбец ч временем отдельно, чтобы сегментировать пользователей по времени событий утро, день, вечер, ночь\n",
    "display(df.head(5))\n",
    "df['hour'].nunique()"
   ]
  },
  {
   "cell_type": "markdown",
   "metadata": {},
   "source": [
    "Сделаю группы пользователей:\n",
    "- Утро с 5 до 11 часов ГРУППА А\n",
    "- День с 11 до 15 часов ГРУППА B\n",
    "- Вечер с 15 до 23 часов ГРУППА C\n",
    "- Ночь с 23 до 5 часво ГРУППА D"
   ]
  },
  {
   "cell_type": "code",
   "execution_count": 41,
   "metadata": {},
   "outputs": [],
   "source": [
    "def categorize_time (hour): # создайте функцию categorize_income()\n",
    "    if hour >= 23 and hour < 5:\n",
    "        return 'D'\n",
    "    if hour >= 15 and hour < 23:\n",
    "        return 'C'\n",
    "    if hour >= 11 and hour < 15:\n",
    "        return 'B'\n",
    "    return 'A'"
   ]
  },
  {
   "cell_type": "code",
   "execution_count": 42,
   "metadata": {},
   "outputs": [
    {
     "data": {
      "text/html": [
       "<div>\n",
       "<style scoped>\n",
       "    .dataframe tbody tr th:only-of-type {\n",
       "        vertical-align: middle;\n",
       "    }\n",
       "\n",
       "    .dataframe tbody tr th {\n",
       "        vertical-align: top;\n",
       "    }\n",
       "\n",
       "    .dataframe thead th {\n",
       "        text-align: right;\n",
       "    }\n",
       "</style>\n",
       "<table border=\"1\" class=\"dataframe\">\n",
       "  <thead>\n",
       "    <tr style=\"text-align: right;\">\n",
       "      <th></th>\n",
       "      <th>date</th>\n",
       "      <th>event_name</th>\n",
       "      <th>user_id</th>\n",
       "      <th>source</th>\n",
       "      <th>only_date</th>\n",
       "      <th>num_day_week</th>\n",
       "      <th>start</th>\n",
       "      <th>activ_w</th>\n",
       "      <th>start_w</th>\n",
       "      <th>lifetime</th>\n",
       "      <th>pred_time</th>\n",
       "      <th>time_session</th>\n",
       "      <th>session_dlit</th>\n",
       "      <th>session_id</th>\n",
       "      <th>hour</th>\n",
       "      <th>time_category</th>\n",
       "    </tr>\n",
       "  </thead>\n",
       "  <tbody>\n",
       "    <tr>\n",
       "      <th>0</th>\n",
       "      <td>2019-10-07 00:00:00</td>\n",
       "      <td>advert_open</td>\n",
       "      <td>020292ab-89bc-4156-9acf-68bc2783f894</td>\n",
       "      <td>other</td>\n",
       "      <td>2019-10-07</td>\n",
       "      <td>0</td>\n",
       "      <td>2019-10-07</td>\n",
       "      <td>2019-10-07</td>\n",
       "      <td>2019-10-07</td>\n",
       "      <td>0</td>\n",
       "      <td>NaT</td>\n",
       "      <td>NaT</td>\n",
       "      <td>0.00</td>\n",
       "      <td>1</td>\n",
       "      <td>0</td>\n",
       "      <td>A</td>\n",
       "    </tr>\n",
       "    <tr>\n",
       "      <th>1</th>\n",
       "      <td>2019-10-07 00:00:01</td>\n",
       "      <td>tips_show</td>\n",
       "      <td>020292ab-89bc-4156-9acf-68bc2783f894</td>\n",
       "      <td>other</td>\n",
       "      <td>2019-10-07</td>\n",
       "      <td>0</td>\n",
       "      <td>2019-10-07</td>\n",
       "      <td>2019-10-07</td>\n",
       "      <td>2019-10-07</td>\n",
       "      <td>0</td>\n",
       "      <td>2019-10-07</td>\n",
       "      <td>0 days 00:00:01</td>\n",
       "      <td>0.02</td>\n",
       "      <td>1</td>\n",
       "      <td>0</td>\n",
       "      <td>A</td>\n",
       "    </tr>\n",
       "    <tr>\n",
       "      <th>2</th>\n",
       "      <td>2019-10-07 00:00:02</td>\n",
       "      <td>tips_show</td>\n",
       "      <td>cf7eda61-9349-469f-ac27-e5b6f5ec475c</td>\n",
       "      <td>yandex</td>\n",
       "      <td>2019-10-07</td>\n",
       "      <td>0</td>\n",
       "      <td>2019-10-07</td>\n",
       "      <td>2019-10-07</td>\n",
       "      <td>2019-10-07</td>\n",
       "      <td>0</td>\n",
       "      <td>NaT</td>\n",
       "      <td>NaT</td>\n",
       "      <td>0.00</td>\n",
       "      <td>2</td>\n",
       "      <td>0</td>\n",
       "      <td>A</td>\n",
       "    </tr>\n",
       "  </tbody>\n",
       "</table>\n",
       "</div>"
      ],
      "text/plain": [
       "                 date   event_name                               user_id  \\\n",
       "0 2019-10-07 00:00:00  advert_open  020292ab-89bc-4156-9acf-68bc2783f894   \n",
       "1 2019-10-07 00:00:01    tips_show  020292ab-89bc-4156-9acf-68bc2783f894   \n",
       "2 2019-10-07 00:00:02    tips_show  cf7eda61-9349-469f-ac27-e5b6f5ec475c   \n",
       "\n",
       "   source  only_date  num_day_week      start    activ_w    start_w  lifetime  \\\n",
       "0   other 2019-10-07             0 2019-10-07 2019-10-07 2019-10-07         0   \n",
       "1   other 2019-10-07             0 2019-10-07 2019-10-07 2019-10-07         0   \n",
       "2  yandex 2019-10-07             0 2019-10-07 2019-10-07 2019-10-07         0   \n",
       "\n",
       "   pred_time    time_session  session_dlit  session_id  hour time_category  \n",
       "0        NaT             NaT          0.00           1     0             A  \n",
       "1 2019-10-07 0 days 00:00:01          0.02           1     0             A  \n",
       "2        NaT             NaT          0.00           2     0             A  "
      ]
     },
     "execution_count": 42,
     "metadata": {},
     "output_type": "execute_result"
    }
   ],
   "source": [
    "df['time_category'] = df['hour'].apply(categorize_time) # добавляем в датасет данные категорий\n",
    "df.head(3)"
   ]
  },
  {
   "cell_type": "code",
   "execution_count": 43,
   "metadata": {},
   "outputs": [],
   "source": [
    "#сделаю отдельные датасеты по группам через срез данных\n",
    "df_group_a = df.query('time_category == \"A\"')\n",
    "df_group_b = df.query('time_category == \"B\"')\n",
    "df_group_c = df.query('time_category == \"C\"')\n",
    "df_group_d = df.query('time_category == \"D\"')"
   ]
  },
  {
   "cell_type": "code",
   "execution_count": 44,
   "metadata": {},
   "outputs": [
    {
     "data": {
      "text/plain": [
       "4293"
      ]
     },
     "metadata": {},
     "output_type": "display_data"
    },
    {
     "data": {
      "text/plain": [
       "267"
      ]
     },
     "execution_count": 44,
     "metadata": {},
     "output_type": "execute_result"
    }
   ],
   "source": [
    "display(df['user_id'].nunique()) # посмотрим количество уникальных пользователей\n",
    "df_contact_show = df_group_a.query('event_name == \"contacts_show\"')\n",
    "df_contact_show['user_id'].nunique() # посмотрим количество уникальных пользователей совершивших целевое действие"
   ]
  },
  {
   "cell_type": "code",
   "execution_count": 45,
   "metadata": {},
   "outputs": [
    {
     "data": {
      "text/plain": [
       "0"
      ]
     },
     "execution_count": 45,
     "metadata": {},
     "output_type": "execute_result"
    }
   ],
   "source": [
    "# для расчета конверсии в целевое действие, отфильтруем датасет по событию и посчитаем количество уникальных пользователей\n",
    "df_group_a_contact_show = df_group_a.query('event_name == \"contacts_show\"')\n",
    "df_group_a_contact_show['user_id'].nunique()\n",
    "# посчитаем конверсию, разделим количество уникальных пользователей, совершивших целевое действие на общее количество уникальных пользователей\n",
    "conversion_contacts_show_a = (df_group_a_contact_show['user_id'].nunique() / df_group_a['user_id'].nunique()) * 100\n",
    "\n",
    "df_group_b_contact_show = df_group_b.query('event_name == \"contacts_show\"')\n",
    "df_group_b_contact_show['user_id'].nunique()\n",
    "conversion_contacts_show_b = (df_group_b_contact_show['user_id'].nunique() / df_group_b['user_id'].nunique()) * 100\n",
    "\n",
    "df_group_c_contact_show = df_group_c.query('event_name == \"contacts_show\"')\n",
    "df_group_c_contact_show['user_id'].nunique()\n",
    "conversion_contacts_show_c = (df_group_c_contact_show['user_id'].nunique() / df_group_c['user_id'].nunique()) * 100\n",
    "\n",
    "df_group_d_contact_show = df_group_d.query('event_name == \"contacts_show\"')\n",
    "df_group_d_contact_show['user_id'].nunique() # посмотрим количество пользователей в группе D"
   ]
  },
  {
   "cell_type": "code",
   "execution_count": 46,
   "metadata": {},
   "outputs": [
    {
     "data": {
      "text/plain": [
       "267"
      ]
     },
     "metadata": {},
     "output_type": "display_data"
    },
    {
     "data": {
      "text/plain": [
       "395"
      ]
     },
     "metadata": {},
     "output_type": "display_data"
    },
    {
     "data": {
      "text/plain": [
       "600"
      ]
     },
     "metadata": {},
     "output_type": "display_data"
    },
    {
     "data": {
      "text/plain": [
       "0"
      ]
     },
     "execution_count": 46,
     "metadata": {},
     "output_type": "execute_result"
    }
   ],
   "source": [
    "# проверяю количество пользователей уникальных в каждой из групп для расчета конверсии\n",
    "display(df_group_a_contact_show['user_id'].nunique())\n",
    "display(df_group_b_contact_show['user_id'].nunique())\n",
    "display(df_group_c_contact_show['user_id'].nunique())\n",
    "df_group_d_contact_show['user_id'].nunique()"
   ]
  },
  {
   "cell_type": "markdown",
   "metadata": {},
   "source": [
    "**Вывод** В группе D нет уникальных пользователей, значит эту группу пользователей (ночь с 23 до 5 утра) проверять не буду."
   ]
  },
  {
   "cell_type": "code",
   "execution_count": 47,
   "metadata": {},
   "outputs": [
    {
     "data": {
      "text/plain": [
       "'Конверсия группы А составляет'"
      ]
     },
     "metadata": {},
     "output_type": "display_data"
    },
    {
     "data": {
      "text/plain": [
       "16.47131400370142"
      ]
     },
     "metadata": {},
     "output_type": "display_data"
    },
    {
     "data": {
      "text/plain": [
       "'Конверсия группы B составляет'"
      ]
     },
     "metadata": {},
     "output_type": "display_data"
    },
    {
     "data": {
      "text/plain": [
       "22.253521126760564"
      ]
     },
     "metadata": {},
     "output_type": "display_data"
    },
    {
     "data": {
      "text/plain": [
       "'Конверсия группы C составляет'"
      ]
     },
     "metadata": {},
     "output_type": "display_data"
    },
    {
     "data": {
      "text/plain": [
       "21.156558533145276"
      ]
     },
     "metadata": {},
     "output_type": "display_data"
    }
   ],
   "source": [
    "display(f'Конверсия группы А составляет', conversion_contacts_show_a)\n",
    "display(f'Конверсия группы B составляет', conversion_contacts_show_b)\n",
    "display(f'Конверсия группы C составляет', conversion_contacts_show_c)"
   ]
  },
  {
   "cell_type": "markdown",
   "metadata": {},
   "source": [
    "**Вывод** Конверсия группы А утро с 5 до 11 часов ниже, чем у остальных групп, 16,5%, группы день и вечер почти с одинаковым результатом - 22,25% и 21,16%. Значит пользователи группы день и вечер чаще совершают целевое действие в приложении."
   ]
  },
  {
   "cell_type": "markdown",
   "metadata": {},
   "source": [
    "**Посчитаем Retention Rate для наших групп**"
   ]
  },
  {
   "cell_type": "code",
   "execution_count": 48,
   "metadata": {},
   "outputs": [
    {
     "data": {
      "text/html": [
       "<div>\n",
       "<style scoped>\n",
       "    .dataframe tbody tr th:only-of-type {\n",
       "        vertical-align: middle;\n",
       "    }\n",
       "\n",
       "    .dataframe tbody tr th {\n",
       "        vertical-align: top;\n",
       "    }\n",
       "\n",
       "    .dataframe thead th {\n",
       "        text-align: right;\n",
       "    }\n",
       "</style>\n",
       "<table border=\"1\" class=\"dataframe\">\n",
       "  <thead>\n",
       "    <tr style=\"text-align: right;\">\n",
       "      <th></th>\n",
       "      <th>start_w</th>\n",
       "      <th>lifetime</th>\n",
       "      <th>time_category</th>\n",
       "      <th>user_id</th>\n",
       "      <th>cohort_user</th>\n",
       "    </tr>\n",
       "  </thead>\n",
       "  <tbody>\n",
       "    <tr>\n",
       "      <th>0</th>\n",
       "      <td>2019-10-07</td>\n",
       "      <td>0</td>\n",
       "      <td>A</td>\n",
       "      <td>353</td>\n",
       "      <td>1130</td>\n",
       "    </tr>\n",
       "    <tr>\n",
       "      <th>1</th>\n",
       "      <td>2019-10-07</td>\n",
       "      <td>0</td>\n",
       "      <td>B</td>\n",
       "      <td>414</td>\n",
       "      <td>1130</td>\n",
       "    </tr>\n",
       "    <tr>\n",
       "      <th>2</th>\n",
       "      <td>2019-10-07</td>\n",
       "      <td>0</td>\n",
       "      <td>C</td>\n",
       "      <td>687</td>\n",
       "      <td>1130</td>\n",
       "    </tr>\n",
       "    <tr>\n",
       "      <th>3</th>\n",
       "      <td>2019-10-07</td>\n",
       "      <td>1</td>\n",
       "      <td>A</td>\n",
       "      <td>115</td>\n",
       "      <td>1130</td>\n",
       "    </tr>\n",
       "    <tr>\n",
       "      <th>4</th>\n",
       "      <td>2019-10-07</td>\n",
       "      <td>1</td>\n",
       "      <td>B</td>\n",
       "      <td>109</td>\n",
       "      <td>1130</td>\n",
       "    </tr>\n",
       "  </tbody>\n",
       "</table>\n",
       "</div>"
      ],
      "text/plain": [
       "     start_w  lifetime time_category  user_id  cohort_user\n",
       "0 2019-10-07         0             A      353         1130\n",
       "1 2019-10-07         0             B      414         1130\n",
       "2 2019-10-07         0             C      687         1130\n",
       "3 2019-10-07         1             A      115         1130\n",
       "4 2019-10-07         1             B      109         1130"
      ]
     },
     "execution_count": 48,
     "metadata": {},
     "output_type": "execute_result"
    }
   ],
   "source": [
    "# сделаем новую таблицы для расчета RR, добавим столбец с категориями группы для дальнейшего среза\n",
    "cohorts_lifetime_group = df.groupby(['start_w','lifetime', 'time_category']).agg({'user_id':'nunique'}).reset_index() # сгруппируем данные по лайфтайму и кагорте\n",
    "user_count_group = cohorts_lifetime_group[cohorts_lifetime_group['lifetime'] == 0][['start_w','user_id']] # посчитаем количество пользователей на нулевую неделю\n",
    "user_count_group = user_count_group.rename(columns={'user_id':'cohort_user'})\n",
    "cohorts_lifetime_group = cohorts_lifetime_group.merge(user_count,on='start_w')\n",
    "cohorts_lifetime_group.head(5)"
   ]
  },
  {
   "cell_type": "code",
   "execution_count": 49,
   "metadata": {},
   "outputs": [
    {
     "data": {
      "text/html": [
       "<div>\n",
       "<style scoped>\n",
       "    .dataframe tbody tr th:only-of-type {\n",
       "        vertical-align: middle;\n",
       "    }\n",
       "\n",
       "    .dataframe tbody tr th {\n",
       "        vertical-align: top;\n",
       "    }\n",
       "\n",
       "    .dataframe thead th {\n",
       "        text-align: right;\n",
       "    }\n",
       "</style>\n",
       "<table border=\"1\" class=\"dataframe\">\n",
       "  <thead>\n",
       "    <tr style=\"text-align: right;\">\n",
       "      <th></th>\n",
       "      <th>start_w</th>\n",
       "      <th>lifetime</th>\n",
       "      <th>time_category</th>\n",
       "      <th>user_id</th>\n",
       "      <th>cohort_user</th>\n",
       "    </tr>\n",
       "  </thead>\n",
       "  <tbody>\n",
       "    <tr>\n",
       "      <th>0</th>\n",
       "      <td>2019-10-07</td>\n",
       "      <td>0</td>\n",
       "      <td>A</td>\n",
       "      <td>353</td>\n",
       "      <td>1130</td>\n",
       "    </tr>\n",
       "    <tr>\n",
       "      <th>3</th>\n",
       "      <td>2019-10-07</td>\n",
       "      <td>1</td>\n",
       "      <td>A</td>\n",
       "      <td>115</td>\n",
       "      <td>1130</td>\n",
       "    </tr>\n",
       "    <tr>\n",
       "      <th>6</th>\n",
       "      <td>2019-10-07</td>\n",
       "      <td>2</td>\n",
       "      <td>A</td>\n",
       "      <td>63</td>\n",
       "      <td>1130</td>\n",
       "    </tr>\n",
       "    <tr>\n",
       "      <th>9</th>\n",
       "      <td>2019-10-07</td>\n",
       "      <td>3</td>\n",
       "      <td>A</td>\n",
       "      <td>42</td>\n",
       "      <td>1130</td>\n",
       "    </tr>\n",
       "    <tr>\n",
       "      <th>12</th>\n",
       "      <td>2019-10-14</td>\n",
       "      <td>0</td>\n",
       "      <td>A</td>\n",
       "      <td>404</td>\n",
       "      <td>1166</td>\n",
       "    </tr>\n",
       "  </tbody>\n",
       "</table>\n",
       "</div>"
      ],
      "text/plain": [
       "      start_w  lifetime time_category  user_id  cohort_user\n",
       "0  2019-10-07         0             A      353         1130\n",
       "3  2019-10-07         1             A      115         1130\n",
       "6  2019-10-07         2             A       63         1130\n",
       "9  2019-10-07         3             A       42         1130\n",
       "12 2019-10-14         0             A      404         1166"
      ]
     },
     "execution_count": 49,
     "metadata": {},
     "output_type": "execute_result"
    }
   ],
   "source": [
    "# разделяю на группы\n",
    "cohorts_lifetime_group_a = cohorts_lifetime_group.query('time_category == \"A\"')\n",
    "cohorts_lifetime_group_b = cohorts_lifetime_group.query('time_category == \"B\"')\n",
    "cohorts_lifetime_group_c = cohorts_lifetime_group.query('time_category == \"C\"')\n",
    "cohorts_lifetime_group_a.head(5) #проверю результат"
   ]
  },
  {
   "cell_type": "code",
   "execution_count": 50,
   "metadata": {},
   "outputs": [],
   "source": [
    "# посчитаем retention rate группы А\n",
    "cohorts_lifetime_group_a['retention_rate'] = cohorts_lifetime_group_a['user_id']/cohorts_lifetime_group_a['cohort_user']\n",
    "cohorts_lifetime_group_a['start_w'] = cohorts_lifetime_group_a['start_w'].astype('datetime64[D]') \n",
    "\n",
    "# посчитаем retention rate группы В\n",
    "cohorts_lifetime_group_b['retention_rate'] = cohorts_lifetime_group_b['user_id']/cohorts_lifetime_group_b['cohort_user']\n",
    "cohorts_lifetime_group_b['start_w'] = cohorts_lifetime_group_b['start_w'].astype('datetime64[D]') \n",
    "\n",
    "# посчитаем retention rate группы С\n",
    "cohorts_lifetime_group_c['retention_rate'] = cohorts_lifetime_group_c['user_id']/cohorts_lifetime_group_c['cohort_user']\n",
    "cohorts_lifetime_group_c['start_w'] = cohorts_lifetime_group_c['start_w'].astype('datetime64[D]') "
   ]
  },
  {
   "cell_type": "code",
   "execution_count": 51,
   "metadata": {},
   "outputs": [
    {
     "data": {
      "image/png": "[encoded data removed]",
      "text/plain": [
       "<Figure size 1080x576 with 2 Axes>"
      ]
     },
     "metadata": {
      "needs_background": "light"
     },
     "output_type": "display_data"
    }
   ],
   "source": [
    "# избавляемся от миллисекунд\n",
    "cohorts_lifetime_group_a['start_w'] = cohorts_lifetime_group_a['start_w'].dt.strftime('%Y-%m-%d')\n",
    "# Построим тептовые карты для групп\n",
    "retention_rate_a = cohorts_lifetime_group_a.pivot_table(index='start_w',columns='lifetime',values='retention_rate',aggfunc='sum') # сводная таблица\n",
    "plt.figure(figsize=(15, 8))\n",
    "plt.title('Кагорты и Retention Rate группы А')\n",
    "sns.heatmap(retention_rate_a, annot=True, fmt='.1%', linewidths=1, linecolor='gray');"
   ]
  },
  {
   "cell_type": "code",
   "execution_count": 52,
   "metadata": {},
   "outputs": [
    {
     "data": {
      "image/png": "[encoded data removed]",
      "text/plain": [
       "<Figure size 1080x576 with 2 Axes>"
      ]
     },
     "metadata": {
      "needs_background": "light"
     },
     "output_type": "display_data"
    }
   ],
   "source": [
    "# избавляемся от миллисекунд\n",
    "cohorts_lifetime_group_b['start_w'] = cohorts_lifetime_group_b['start_w'].dt.strftime('%Y-%m-%d')\n",
    "retention_rate_b = cohorts_lifetime_group_b.pivot_table(index='start_w',columns='lifetime',values='retention_rate',aggfunc='sum') # сводная таблица\n",
    "plt.figure(figsize=(15, 8))\n",
    "plt.title('Кагорты и Retention Rate группы В')\n",
    "sns.heatmap(retention_rate_b, annot=True, fmt='.1%', linewidths=1, linecolor='gray');"
   ]
  },
  {
   "cell_type": "code",
   "execution_count": 53,
   "metadata": {},
   "outputs": [
    {
     "data": {
      "image/png": "[encoded data removed]",
      "text/plain": [
       "<Figure size 1080x576 with 2 Axes>"
      ]
     },
     "metadata": {
      "needs_background": "light"
     },
     "output_type": "display_data"
    }
   ],
   "source": [
    "# избавляемся от миллисекунд\n",
    "cohorts_lifetime_group_c['start_w'] = cohorts_lifetime_group_c['start_w'].dt.strftime('%Y-%m-%d')\n",
    "\n",
    "retention_rate_c = cohorts_lifetime_group_c.pivot_table(index='start_w',columns='lifetime',values='retention_rate',aggfunc='sum') # сводная таблица\n",
    "plt.figure(figsize=(15, 8))\n",
    "plt.title('Кагорты и Retention Rate группы С')\n",
    "sns.heatmap(retention_rate_c, annot=True, fmt='.1%', linewidths=1, linecolor='gray');"
   ]
  },
  {
   "cell_type": "markdown",
   "metadata": {},
   "source": [
    "**Вывод** у третьей группы пользователи вечер с 15 до 23 часов показатель удержания лучше, они чаще возвращаются в приложение, возможно потому что пользуются им в нерабочее время, когда более свободны и внимательны. Группы утро и день - результат хуже."
   ]
  },
  {
   "cell_type": "markdown",
   "metadata": {},
   "source": [
    "### Проверка статистических гипотез"
   ]
  },
  {
   "cell_type": "markdown",
   "metadata": {},
   "source": [
    "#### Некоторые пользователи установили приложение по ссылке из yandex, другие — из google. Проверить гипотезу: две эти группы демонстрируют разную конверсию в просмотры контактов."
   ]
  },
  {
   "cell_type": "markdown",
   "metadata": {},
   "source": [
    "Для проверки сформулируем гипотезы:\n",
    "* Нулевая гипотеза Н0 - конверсия в просмотры контактов пользователей yandex и google у двух групп одинакова.\n",
    "* Альтернативная гипотеза Н1 - пользователи yandex и google демонстируют разную конверсию в просмотры, в их долях есть значимая разница."
   ]
  },
  {
   "cell_type": "code",
   "execution_count": 54,
   "metadata": {},
   "outputs": [
    {
     "data": {
      "text/plain": [
       "source\n",
       "google    1129\n",
       "yandex    1934\n",
       "Name: user_id, dtype: int64"
      ]
     },
     "execution_count": 54,
     "metadata": {},
     "output_type": "execute_result"
    }
   ],
   "source": [
    "sourse_us = df.query('source !=\"other\"').groupby('source')['user_id'].nunique()\n",
    "sourse_us"
   ]
  },
  {
   "cell_type": "code",
   "execution_count": 55,
   "metadata": {},
   "outputs": [
    {
     "data": {
      "text/html": [
       "<div>\n",
       "<style scoped>\n",
       "    .dataframe tbody tr th:only-of-type {\n",
       "        vertical-align: middle;\n",
       "    }\n",
       "\n",
       "    .dataframe tbody tr th {\n",
       "        vertical-align: top;\n",
       "    }\n",
       "\n",
       "    .dataframe thead th {\n",
       "        text-align: right;\n",
       "    }\n",
       "</style>\n",
       "<table border=\"1\" class=\"dataframe\">\n",
       "  <thead>\n",
       "    <tr style=\"text-align: right;\">\n",
       "      <th></th>\n",
       "      <th>contacts_show</th>\n",
       "      <th>user_count</th>\n",
       "    </tr>\n",
       "    <tr>\n",
       "      <th>source</th>\n",
       "      <th></th>\n",
       "      <th></th>\n",
       "    </tr>\n",
       "  </thead>\n",
       "  <tbody>\n",
       "    <tr>\n",
       "      <th>google</th>\n",
       "      <td>275</td>\n",
       "      <td>1129</td>\n",
       "    </tr>\n",
       "    <tr>\n",
       "      <th>yandex</th>\n",
       "      <td>478</td>\n",
       "      <td>1934</td>\n",
       "    </tr>\n",
       "  </tbody>\n",
       "</table>\n",
       "</div>"
      ],
      "text/plain": [
       "        contacts_show  user_count\n",
       "source                           \n",
       "google            275        1129\n",
       "yandex            478        1934"
      ]
     },
     "execution_count": 55,
     "metadata": {},
     "output_type": "execute_result"
    }
   ],
   "source": [
    "# сделаем cрез\n",
    "users_gycontshow = df.query('event_name == \"contacts_show\" and source !=\"other\"')\n",
    "# сводную таблицу по нужным нам пользователям\n",
    "users_gycontshow = users_gycontshow.pivot_table(index='source', columns='event_name', values='user_id', aggfunc='nunique').reset_index()\n",
    "users_gycontshow['user_count'] = users_gycontshow['source'].apply(lambda x: sourse_us.loc[x])\n",
    "users_gycontshow = users_gycontshow.set_index('source')\n",
    "users_gycontshow.columns = ['contacts_show', 'user_count']\n",
    "users_gycontshow"
   ]
  },
  {
   "cell_type": "code",
   "execution_count": 56,
   "metadata": {},
   "outputs": [
    {
     "name": "stdout",
     "output_type": "stream",
     "text": [
      "p-значение:  0.8244316027993777\n",
      "Не получилось отвергнуть нулевую гипотезу, нет оснований считать доли разными\n"
     ]
    }
   ],
   "source": [
    "alpha = .05 # уровень статистической значимости\n",
    "\n",
    "successes = (np.array([users_gycontshow['contacts_show'].values[0], \n",
    "                     users_gycontshow['contacts_show'].values[1]]))\n",
    "\n",
    "trials = (np.array([users_gycontshow['user_count'].values[0],\n",
    "                  users_gycontshow['user_count'].values[1]]))\n",
    "# пропорция успехов в первой группе:\n",
    "p1 = successes[0] / trials[0]\n",
    "# пропорция успехов во второй группе:\n",
    "p2 = successes[1] / trials[1]\n",
    "# пропорция успехов в комбинированном датасете:\n",
    "p_combined = (successes[0] + successes[1]) / (trials[0] + trials[1])\n",
    "# разница пропорций в датасетах\n",
    "difference = p1 - p2\n",
    "# считаем статистику в ст.отклонениях стандартного нормального распределения\n",
    "z_value = difference / mth.sqrt(p_combined * (1 - p_combined) * (1/trials[0] + 1/trials[1]))\n",
    "# задаем стандартное нормальное распределение (среднее 0, ст.отклонение 1)\n",
    "distr = stats.norm(0, 1)\n",
    "p_value = (1 - distr.cdf(abs(z_value))) * 2\n",
    "print('p-значение: ', p_value)\n",
    "if p_value < alpha:\n",
    "    print('Отвергаем нулевую гипотезу: между долями есть значимая разница')\n",
    "else:\n",
    "    print('Не получилось отвергнуть нулевую гипотезу, нет оснований считать доли разными')"
   ]
  },
  {
   "cell_type": "markdown",
   "metadata": {},
   "source": [
    "**Вывод** p-value 0.82 подтверждается нулевая гипотеза о том, что конверсия в просмотры контактов пользователей yandex и google у двух групп одинакова."
   ]
  },
  {
   "cell_type": "markdown",
   "metadata": {},
   "source": [
    "#### Вторая гипотеза для проверки \"Конверсия в целевое действие у пользователей в будние дни и в выходные различается у этих двух групп\"."
   ]
  },
  {
   "cell_type": "markdown",
   "metadata": {},
   "source": [
    "Для проверки сформулируем гипотезы:\n",
    "* Нулевая гипотеза Н0 - конверсия в просмотры контактов у пользователей в будни и в выходные дни одинакова.\n",
    "* Альтернативная гипотеза Н1 - у пользователей разная конверсия в просмотры контактов в будни и в выходные дни, в их долях есть значимая разница."
   ]
  },
  {
   "cell_type": "code",
   "execution_count": 57,
   "metadata": {},
   "outputs": [],
   "source": [
    "# через функцию разделю пользователей на будни и выходные дни\n",
    "def seg_bud_vux (num_day_week): \n",
    "    if num_day_week >= 0 and num_day_week <= 4:\n",
    "        return 'BYD'\n",
    "    return 'VYX'"
   ]
  },
  {
   "cell_type": "code",
   "execution_count": 58,
   "metadata": {},
   "outputs": [
    {
     "data": {
      "text/html": [
       "<div>\n",
       "<style scoped>\n",
       "    .dataframe tbody tr th:only-of-type {\n",
       "        vertical-align: middle;\n",
       "    }\n",
       "\n",
       "    .dataframe tbody tr th {\n",
       "        vertical-align: top;\n",
       "    }\n",
       "\n",
       "    .dataframe thead th {\n",
       "        text-align: right;\n",
       "    }\n",
       "</style>\n",
       "<table border=\"1\" class=\"dataframe\">\n",
       "  <thead>\n",
       "    <tr style=\"text-align: right;\">\n",
       "      <th></th>\n",
       "      <th>date</th>\n",
       "      <th>event_name</th>\n",
       "      <th>user_id</th>\n",
       "      <th>source</th>\n",
       "      <th>only_date</th>\n",
       "      <th>num_day_week</th>\n",
       "      <th>start</th>\n",
       "      <th>activ_w</th>\n",
       "      <th>start_w</th>\n",
       "      <th>lifetime</th>\n",
       "      <th>pred_time</th>\n",
       "      <th>time_session</th>\n",
       "      <th>session_dlit</th>\n",
       "      <th>session_id</th>\n",
       "      <th>hour</th>\n",
       "      <th>time_category</th>\n",
       "      <th>test_category</th>\n",
       "    </tr>\n",
       "  </thead>\n",
       "  <tbody>\n",
       "    <tr>\n",
       "      <th>0</th>\n",
       "      <td>2019-10-07 00:00:00</td>\n",
       "      <td>advert_open</td>\n",
       "      <td>020292ab-89bc-4156-9acf-68bc2783f894</td>\n",
       "      <td>other</td>\n",
       "      <td>2019-10-07</td>\n",
       "      <td>0</td>\n",
       "      <td>2019-10-07</td>\n",
       "      <td>2019-10-07</td>\n",
       "      <td>2019-10-07</td>\n",
       "      <td>0</td>\n",
       "      <td>NaT</td>\n",
       "      <td>NaT</td>\n",
       "      <td>0.00</td>\n",
       "      <td>1</td>\n",
       "      <td>0</td>\n",
       "      <td>A</td>\n",
       "      <td>BYD</td>\n",
       "    </tr>\n",
       "    <tr>\n",
       "      <th>1</th>\n",
       "      <td>2019-10-07 00:00:01</td>\n",
       "      <td>tips_show</td>\n",
       "      <td>020292ab-89bc-4156-9acf-68bc2783f894</td>\n",
       "      <td>other</td>\n",
       "      <td>2019-10-07</td>\n",
       "      <td>0</td>\n",
       "      <td>2019-10-07</td>\n",
       "      <td>2019-10-07</td>\n",
       "      <td>2019-10-07</td>\n",
       "      <td>0</td>\n",
       "      <td>2019-10-07</td>\n",
       "      <td>0 days 00:00:01</td>\n",
       "      <td>0.02</td>\n",
       "      <td>1</td>\n",
       "      <td>0</td>\n",
       "      <td>A</td>\n",
       "      <td>BYD</td>\n",
       "    </tr>\n",
       "    <tr>\n",
       "      <th>2</th>\n",
       "      <td>2019-10-07 00:00:02</td>\n",
       "      <td>tips_show</td>\n",
       "      <td>cf7eda61-9349-469f-ac27-e5b6f5ec475c</td>\n",
       "      <td>yandex</td>\n",
       "      <td>2019-10-07</td>\n",
       "      <td>0</td>\n",
       "      <td>2019-10-07</td>\n",
       "      <td>2019-10-07</td>\n",
       "      <td>2019-10-07</td>\n",
       "      <td>0</td>\n",
       "      <td>NaT</td>\n",
       "      <td>NaT</td>\n",
       "      <td>0.00</td>\n",
       "      <td>2</td>\n",
       "      <td>0</td>\n",
       "      <td>A</td>\n",
       "      <td>BYD</td>\n",
       "    </tr>\n",
       "  </tbody>\n",
       "</table>\n",
       "</div>"
      ],
      "text/plain": [
       "                 date   event_name                               user_id  \\\n",
       "0 2019-10-07 00:00:00  advert_open  020292ab-89bc-4156-9acf-68bc2783f894   \n",
       "1 2019-10-07 00:00:01    tips_show  020292ab-89bc-4156-9acf-68bc2783f894   \n",
       "2 2019-10-07 00:00:02    tips_show  cf7eda61-9349-469f-ac27-e5b6f5ec475c   \n",
       "\n",
       "   source  only_date  num_day_week      start    activ_w    start_w  lifetime  \\\n",
       "0   other 2019-10-07             0 2019-10-07 2019-10-07 2019-10-07         0   \n",
       "1   other 2019-10-07             0 2019-10-07 2019-10-07 2019-10-07         0   \n",
       "2  yandex 2019-10-07             0 2019-10-07 2019-10-07 2019-10-07         0   \n",
       "\n",
       "   pred_time    time_session  session_dlit  session_id  hour time_category  \\\n",
       "0        NaT             NaT          0.00           1     0             A   \n",
       "1 2019-10-07 0 days 00:00:01          0.02           1     0             A   \n",
       "2        NaT             NaT          0.00           2     0             A   \n",
       "\n",
       "  test_category  \n",
       "0           BYD  \n",
       "1           BYD  \n",
       "2           BYD  "
      ]
     },
     "execution_count": 58,
     "metadata": {},
     "output_type": "execute_result"
    }
   ],
   "source": [
    "df['test_category'] = df['num_day_week'].apply(seg_bud_vux) # добавляем в датасет столбец с новыми категориями\n",
    "df.head(3)"
   ]
  },
  {
   "cell_type": "code",
   "execution_count": 59,
   "metadata": {},
   "outputs": [
    {
     "data": {
      "text/plain": [
       "test_category\n",
       "BYD    3465\n",
       "VYX    1562\n",
       "Name: user_id, dtype: int64"
      ]
     },
     "execution_count": 59,
     "metadata": {},
     "output_type": "execute_result"
    }
   ],
   "source": [
    "bud_vyx_us = df.groupby('test_category')['user_id'].nunique() # таблица с пользователями по новым категориям\n",
    "bud_vyx_us"
   ]
  },
  {
   "cell_type": "code",
   "execution_count": 60,
   "metadata": {},
   "outputs": [
    {
     "data": {
      "text/html": [
       "<div>\n",
       "<style scoped>\n",
       "    .dataframe tbody tr th:only-of-type {\n",
       "        vertical-align: middle;\n",
       "    }\n",
       "\n",
       "    .dataframe tbody tr th {\n",
       "        vertical-align: top;\n",
       "    }\n",
       "\n",
       "    .dataframe thead th {\n",
       "        text-align: right;\n",
       "    }\n",
       "</style>\n",
       "<table border=\"1\" class=\"dataframe\">\n",
       "  <thead>\n",
       "    <tr style=\"text-align: right;\">\n",
       "      <th></th>\n",
       "      <th>contacts_show</th>\n",
       "      <th>user_count</th>\n",
       "    </tr>\n",
       "    <tr>\n",
       "      <th>test_category</th>\n",
       "      <th></th>\n",
       "      <th></th>\n",
       "    </tr>\n",
       "  </thead>\n",
       "  <tbody>\n",
       "    <tr>\n",
       "      <th>BYD</th>\n",
       "      <td>768</td>\n",
       "      <td>3465</td>\n",
       "    </tr>\n",
       "    <tr>\n",
       "      <th>VYX</th>\n",
       "      <td>318</td>\n",
       "      <td>1562</td>\n",
       "    </tr>\n",
       "  </tbody>\n",
       "</table>\n",
       "</div>"
      ],
      "text/plain": [
       "               contacts_show  user_count\n",
       "test_category                           \n",
       "BYD                      768        3465\n",
       "VYX                      318        1562"
      ]
     },
     "execution_count": 60,
     "metadata": {},
     "output_type": "execute_result"
    }
   ],
   "source": [
    "# сделаем cрез\n",
    "users_b_v = df.query('event_name == \"contacts_show\"')\n",
    "# сводную таблицу по нужным нам пользователям\n",
    "users_b_v = users_b_v.pivot_table(index='test_category', columns='event_name', values='user_id', aggfunc='nunique').reset_index()\n",
    "users_b_v['user_count'] = users_b_v['test_category'].apply(lambda x: bud_vyx_us.loc[x])\n",
    "users_b_v = users_b_v.set_index('test_category')\n",
    "users_b_v.columns = ['contacts_show', 'user_count']\n",
    "users_b_v"
   ]
  },
  {
   "cell_type": "code",
   "execution_count": 61,
   "metadata": {},
   "outputs": [
    {
     "name": "stdout",
     "output_type": "stream",
     "text": [
      "p-значение:  0.14988552302320435\n",
      "Не получилось отвергнуть нулевую гипотезу, нет оснований считать доли разными\n"
     ]
    }
   ],
   "source": [
    "alpha = .05 # уровень статистической значимости\n",
    "\n",
    "successes = (np.array([users_b_v['contacts_show'].values[0], \n",
    "                     users_b_v['contacts_show'].values[1]]))\n",
    "trials = (np.array([users_b_v['user_count'].values[0],\n",
    "                  users_b_v['user_count'].values[1]]))\n",
    "# пропорция успехов в первой группе:\n",
    "p1 = successes[0] / trials[0]\n",
    "# пропорция успехов во второй группе:\n",
    "p2 = successes[1] / trials[1]\n",
    "# пропорция успехов в комбинированном датасете:\n",
    "p_combined = (successes[0] + successes[1]) / (trials[0] + trials[1])\n",
    "# разница пропорций в датасетах\n",
    "difference = p1 - p2\n",
    "# считаем статистику в ст.отклонениях стандартного нормального распределения\n",
    "z_value = difference / mth.sqrt(p_combined * (1 - p_combined) * (1/trials[0] + 1/trials[1]))\n",
    "# задаем стандартное нормальное распределение (среднее 0, ст.отклонение 1)\n",
    "distr = stats.norm(0, 1)\n",
    "p_value = (1 - distr.cdf(abs(z_value))) * 2\n",
    "print('p-значение: ', p_value)\n",
    "if p_value < alpha:\n",
    "    print('Отвергаем нулевую гипотезу: между долями есть значимая разница')\n",
    "else:\n",
    "    print('Не получилось отвергнуть нулевую гипотезу, нет оснований считать доли разными')"
   ]
  },
  {
   "cell_type": "markdown",
   "metadata": {},
   "source": [
    "**Вывод** P-value 0.15, значит подтверждается нулевая гипотеза о равенстве групп, получается в долях пользователей будни/выходные значимой разницы нет."
   ]
  },
  {
   "cell_type": "markdown",
   "metadata": {},
   "source": [
    "### Выводы"
   ]
  },
  {
   "cell_type": "markdown",
   "metadata": {},
   "source": [
    "1. С каждой неделей использования приложения всё меньеш пользователи возвращаются, надо поработать с удержанием пользователей, создавать ценность и мотивацию, чтоб пользователь хотел использовать приложение регулярно.\n",
    "2. Больше всего времени пользователи тратят на просмотр рекомендованных объявлений при этом целевое действие совершают в 8 раз реже, возможно рекомендации не очень отвечают интересам и запросам пользователей. Просматривают много, а запрашивают контакт редко. Следует проработать алгоритм  рекомендаций объявлений, чтобы они стали боллее целевыми для пользователя.\n",
    "3. Среднее время сессии пользователя в приложении составляет 16 минут. Чаще пользуются приложением в период с понедельника по четверг, далее идет спад активности пользователей в приложении, рост начинается только в субботу.\n",
    "4. При сегментации пользователей по времени событий на утро, день, вечер. Исследование показало, что пользователи наиболее активны с 11 до 23 часов (Группа В - 22.25%, группа С - 21.16%). До 11 часов конверсия не намного ниже (16.47%), а в ночное время с 23 до 5 утра активности вообще нет.\n",
    "5. Все действия по привлечению, удержанию пользователей возможно стоит устраивать в периоды активности: с 11 утра до 11 вечера с понедельника по четверг. \n",
    "6. При проверке гипотез, тест показал, что конверсия в просмотр контакта у групп с разными источниками Google и Яндекс одинакова и группы не имеют различий. Значит не стоит убирать какой-то из этих источников. В конверсии - будни/выходные, статистически значимых различий у групп не выявлено. \n"
   ]
  }
 ],
 "metadata": {
  "ExecuteTimeLog": [
   {
    "duration": 48,
    "start_time": "2023-07-09T07:49:21.242Z"
   },
   {
    "duration": 1861,
    "start_time": "2023-07-09T07:50:56.555Z"
   },
   {
    "duration": 420,
    "start_time": "2023-07-09T07:50:58.418Z"
   },
   {
    "duration": 218,
    "start_time": "2023-07-09T07:58:26.742Z"
   },
   {
    "duration": 31,
    "start_time": "2023-07-09T07:58:27.489Z"
   },
   {
    "duration": 3,
    "start_time": "2023-07-09T08:01:09.413Z"
   },
   {
    "duration": 29,
    "start_time": "2023-07-09T08:01:52.234Z"
   },
   {
    "duration": 30,
    "start_time": "2023-07-09T08:06:49.282Z"
   },
   {
    "duration": 51,
    "start_time": "2023-07-09T08:08:13.395Z"
   },
   {
    "duration": 31,
    "start_time": "2023-07-09T08:13:12.314Z"
   },
   {
    "duration": 34,
    "start_time": "2023-07-09T08:14:57.762Z"
   },
   {
    "duration": 40,
    "start_time": "2023-07-09T08:19:37.974Z"
   },
   {
    "duration": 51,
    "start_time": "2023-07-09T08:19:48.274Z"
   },
   {
    "duration": 402,
    "start_time": "2023-07-09T08:20:57.101Z"
   },
   {
    "duration": 321,
    "start_time": "2023-07-09T08:21:18.936Z"
   },
   {
    "duration": 646,
    "start_time": "2023-07-09T08:22:32.675Z"
   },
   {
    "duration": 36,
    "start_time": "2023-07-09T08:23:32.301Z"
   },
   {
    "duration": 1424,
    "start_time": "2023-07-09T08:26:57.292Z"
   },
   {
    "duration": 27,
    "start_time": "2023-07-09T08:27:32.196Z"
   },
   {
    "duration": 1316,
    "start_time": "2023-07-09T11:49:47.419Z"
   },
   {
    "duration": 451,
    "start_time": "2023-07-09T11:49:49.793Z"
   },
   {
    "duration": 29,
    "start_time": "2023-07-09T11:49:52.457Z"
   },
   {
    "duration": 33,
    "start_time": "2023-07-09T11:50:04.014Z"
   },
   {
    "duration": 23,
    "start_time": "2023-07-09T11:50:11.826Z"
   },
   {
    "duration": 54,
    "start_time": "2023-07-09T11:50:29.813Z"
   },
   {
    "duration": 40,
    "start_time": "2023-07-09T11:50:45.021Z"
   },
   {
    "duration": 109,
    "start_time": "2023-07-09T11:58:47.260Z"
   },
   {
    "duration": 10,
    "start_time": "2023-07-09T11:59:18.834Z"
   },
   {
    "duration": 10,
    "start_time": "2023-07-09T12:00:06.455Z"
   },
   {
    "duration": 31,
    "start_time": "2023-07-09T12:04:39.559Z"
   },
   {
    "duration": 9,
    "start_time": "2023-07-09T12:13:42.153Z"
   },
   {
    "duration": 15,
    "start_time": "2023-07-09T12:18:05.204Z"
   },
   {
    "duration": 1051,
    "start_time": "2023-07-09T12:19:31.741Z"
   },
   {
    "duration": 18,
    "start_time": "2023-07-09T12:19:45.021Z"
   },
   {
    "duration": 50,
    "start_time": "2023-07-09T12:24:54.841Z"
   },
   {
    "duration": 23,
    "start_time": "2023-07-09T12:37:11.499Z"
   },
   {
    "duration": 225,
    "start_time": "2023-07-09T12:37:27.172Z"
   },
   {
    "duration": 17,
    "start_time": "2023-07-09T12:38:46.804Z"
   },
   {
    "duration": 273,
    "start_time": "2023-07-09T12:48:50.148Z"
   },
   {
    "duration": 61,
    "start_time": "2023-07-09T12:49:32.436Z"
   },
   {
    "duration": 58,
    "start_time": "2023-07-09T12:50:16.021Z"
   },
   {
    "duration": 19,
    "start_time": "2023-07-09T12:51:13.505Z"
   },
   {
    "duration": 20,
    "start_time": "2023-07-09T12:51:29.124Z"
   },
   {
    "duration": 78,
    "start_time": "2023-07-09T12:51:44.444Z"
   },
   {
    "duration": 205,
    "start_time": "2023-07-09T12:51:53.888Z"
   },
   {
    "duration": 178,
    "start_time": "2023-07-09T12:52:23.784Z"
   },
   {
    "duration": 180,
    "start_time": "2023-07-09T12:52:34.242Z"
   },
   {
    "duration": 23,
    "start_time": "2023-07-09T12:54:20.804Z"
   },
   {
    "duration": 20,
    "start_time": "2023-07-09T12:54:31.890Z"
   },
   {
    "duration": 122742,
    "start_time": "2023-07-09T12:54:41.925Z"
   },
   {
    "duration": 48,
    "start_time": "2023-07-09T12:58:15.844Z"
   },
   {
    "duration": 11,
    "start_time": "2023-07-09T12:58:46.426Z"
   },
   {
    "duration": 78,
    "start_time": "2023-07-09T13:03:16.377Z"
   },
   {
    "duration": 1370,
    "start_time": "2023-07-09T13:12:39.670Z"
   },
   {
    "duration": 692,
    "start_time": "2023-07-09T13:13:08.239Z"
   },
   {
    "duration": 8,
    "start_time": "2023-07-09T13:13:48.873Z"
   },
   {
    "duration": 783,
    "start_time": "2023-07-09T13:14:27.315Z"
   },
   {
    "duration": 9,
    "start_time": "2023-07-09T13:14:28.564Z"
   },
   {
    "duration": 750,
    "start_time": "2023-07-09T13:22:32.614Z"
   },
   {
    "duration": 2,
    "start_time": "2023-07-09T13:45:32.970Z"
   },
   {
    "duration": 12,
    "start_time": "2023-07-09T13:47:24.042Z"
   },
   {
    "duration": 13,
    "start_time": "2023-07-09T15:13:31.085Z"
   },
   {
    "duration": 313,
    "start_time": "2023-07-09T15:16:01.700Z"
   },
   {
    "duration": 330,
    "start_time": "2023-07-09T15:19:22.304Z"
   },
   {
    "duration": 315,
    "start_time": "2023-07-09T15:19:43.590Z"
   },
   {
    "duration": 316,
    "start_time": "2023-07-09T15:20:52.500Z"
   },
   {
    "duration": 309,
    "start_time": "2023-07-09T15:22:00.528Z"
   },
   {
    "duration": 38,
    "start_time": "2023-07-09T15:22:03.533Z"
   },
   {
    "duration": 296,
    "start_time": "2023-07-09T15:23:40.958Z"
   },
   {
    "duration": 27,
    "start_time": "2023-07-09T15:23:42.207Z"
   },
   {
    "duration": 275,
    "start_time": "2023-07-09T15:26:05.252Z"
   },
   {
    "duration": 282,
    "start_time": "2023-07-09T15:26:36.535Z"
   },
   {
    "duration": 30,
    "start_time": "2023-07-09T15:28:21.356Z"
   },
   {
    "duration": 356,
    "start_time": "2023-07-09T15:28:43.988Z"
   },
   {
    "duration": 164,
    "start_time": "2023-07-09T15:28:50.141Z"
   },
   {
    "duration": 29,
    "start_time": "2023-07-09T15:29:02.699Z"
   },
   {
    "duration": 9,
    "start_time": "2023-07-09T15:30:28.259Z"
   },
   {
    "duration": 1479,
    "start_time": "2023-07-09T15:32:54.507Z"
   },
   {
    "duration": 42,
    "start_time": "2023-07-09T15:33:22.214Z"
   },
   {
    "duration": 31,
    "start_time": "2023-07-09T15:33:36.264Z"
   },
   {
    "duration": 43,
    "start_time": "2023-07-09T15:34:07.195Z"
   },
   {
    "duration": 8,
    "start_time": "2023-07-09T15:34:27.466Z"
   },
   {
    "duration": 55,
    "start_time": "2023-07-09T15:37:02.385Z"
   },
   {
    "duration": 22,
    "start_time": "2023-07-09T15:37:30.319Z"
   },
   {
    "duration": 1229,
    "start_time": "2023-07-09T15:39:24.699Z"
   },
   {
    "duration": 106,
    "start_time": "2023-07-09T15:39:44.521Z"
   },
   {
    "duration": 31,
    "start_time": "2023-07-09T15:39:45.361Z"
   },
   {
    "duration": 31,
    "start_time": "2023-07-09T15:40:11.323Z"
   },
   {
    "duration": 28,
    "start_time": "2023-07-09T15:43:03.978Z"
   },
   {
    "duration": 21,
    "start_time": "2023-07-09T15:46:47.361Z"
   },
   {
    "duration": 1164,
    "start_time": "2023-07-09T15:50:53.716Z"
   },
   {
    "duration": 24,
    "start_time": "2023-07-09T15:51:13.557Z"
   },
   {
    "duration": 28,
    "start_time": "2023-07-09T15:51:40.916Z"
   },
   {
    "duration": 1228,
    "start_time": "2023-07-09T15:56:16.718Z"
   },
   {
    "duration": 1153,
    "start_time": "2023-07-09T15:57:24.682Z"
   },
   {
    "duration": 5,
    "start_time": "2023-07-09T15:58:49.689Z"
   },
   {
    "duration": 398,
    "start_time": "2023-07-09T15:58:55.710Z"
   },
   {
    "duration": 319,
    "start_time": "2023-07-09T15:59:12.678Z"
   },
   {
    "duration": 28,
    "start_time": "2023-07-09T16:14:51.901Z"
   },
   {
    "duration": 39,
    "start_time": "2023-07-09T16:16:35.827Z"
   },
   {
    "duration": 68,
    "start_time": "2023-07-09T16:17:32.387Z"
   },
   {
    "duration": 7,
    "start_time": "2023-07-09T16:18:08.532Z"
   },
   {
    "duration": 14,
    "start_time": "2023-07-09T16:18:26.324Z"
   },
   {
    "duration": 21,
    "start_time": "2023-07-09T16:22:04.464Z"
   },
   {
    "duration": 20,
    "start_time": "2023-07-09T16:23:10.511Z"
   },
   {
    "duration": 11,
    "start_time": "2023-07-09T16:24:43.114Z"
   },
   {
    "duration": 12,
    "start_time": "2023-07-09T16:25:04.689Z"
   },
   {
    "duration": 21,
    "start_time": "2023-07-09T16:32:44.666Z"
   },
   {
    "duration": 270,
    "start_time": "2023-07-09T16:36:16.575Z"
   },
   {
    "duration": 263,
    "start_time": "2023-07-09T16:36:44.462Z"
   },
   {
    "duration": 260,
    "start_time": "2023-07-09T16:37:20.502Z"
   },
   {
    "duration": 267,
    "start_time": "2023-07-09T16:39:22.554Z"
   },
   {
    "duration": 428,
    "start_time": "2023-07-09T16:40:28.015Z"
   },
   {
    "duration": 1530,
    "start_time": "2023-07-09T16:41:20.934Z"
   },
   {
    "duration": 326,
    "start_time": "2023-07-09T16:41:45.003Z"
   },
   {
    "duration": 1698,
    "start_time": "2023-07-10T06:02:44.339Z"
   },
   {
    "duration": 289,
    "start_time": "2023-07-10T06:02:46.039Z"
   },
   {
    "duration": 39,
    "start_time": "2023-07-10T06:02:46.329Z"
   },
   {
    "duration": 28,
    "start_time": "2023-07-10T06:03:01.267Z"
   },
   {
    "duration": 26,
    "start_time": "2023-07-10T06:03:03.590Z"
   },
   {
    "duration": 50,
    "start_time": "2023-07-10T06:03:06.138Z"
   },
   {
    "duration": 40,
    "start_time": "2023-07-10T06:03:08.290Z"
   },
   {
    "duration": 266,
    "start_time": "2023-07-10T06:03:13.310Z"
   },
   {
    "duration": 11,
    "start_time": "2023-07-10T06:03:39.295Z"
   },
   {
    "duration": 31,
    "start_time": "2023-07-10T06:03:45.889Z"
   },
   {
    "duration": 11,
    "start_time": "2023-07-10T06:03:50.171Z"
   },
   {
    "duration": 15,
    "start_time": "2023-07-10T06:03:58.530Z"
   },
   {
    "duration": 119,
    "start_time": "2023-07-10T06:04:04.539Z"
   },
   {
    "duration": 17,
    "start_time": "2023-07-10T06:05:18.127Z"
   },
   {
    "duration": 14,
    "start_time": "2023-07-10T06:06:48.140Z"
   },
   {
    "duration": 21,
    "start_time": "2023-07-10T06:07:18.384Z"
   },
   {
    "duration": 64,
    "start_time": "2023-07-10T06:07:45.540Z"
   },
   {
    "duration": 36,
    "start_time": "2023-07-10T06:08:30.493Z"
   },
   {
    "duration": 14,
    "start_time": "2023-07-10T06:09:04.420Z"
   },
   {
    "duration": 24,
    "start_time": "2023-07-10T06:10:18.180Z"
   },
   {
    "duration": 12,
    "start_time": "2023-07-10T06:16:39.458Z"
   },
   {
    "duration": 13,
    "start_time": "2023-07-10T06:22:28.197Z"
   },
   {
    "duration": 603,
    "start_time": "2023-07-10T06:27:10.988Z"
   },
   {
    "duration": 601,
    "start_time": "2023-07-10T06:27:16.248Z"
   },
   {
    "duration": 624,
    "start_time": "2023-07-10T06:27:30.997Z"
   },
   {
    "duration": 623,
    "start_time": "2023-07-10T06:28:38.642Z"
   },
   {
    "duration": 644,
    "start_time": "2023-07-10T06:28:58.570Z"
   },
   {
    "duration": 656,
    "start_time": "2023-07-10T06:30:17.749Z"
   },
   {
    "duration": 637,
    "start_time": "2023-07-10T06:31:12.189Z"
   },
   {
    "duration": 16,
    "start_time": "2023-07-10T06:31:41.500Z"
   },
   {
    "duration": 34,
    "start_time": "2023-07-10T06:31:49.567Z"
   },
   {
    "duration": 10,
    "start_time": "2023-07-10T06:31:52.700Z"
   },
   {
    "duration": 21,
    "start_time": "2023-07-10T06:31:53.902Z"
   },
   {
    "duration": 6,
    "start_time": "2023-07-10T06:31:56.928Z"
   },
   {
    "duration": 15,
    "start_time": "2023-07-10T06:32:03.036Z"
   },
   {
    "duration": 11,
    "start_time": "2023-07-10T06:32:14.875Z"
   },
   {
    "duration": 29,
    "start_time": "2023-07-10T06:34:54.193Z"
   },
   {
    "duration": 48,
    "start_time": "2023-07-10T06:35:11.763Z"
   },
   {
    "duration": 1658,
    "start_time": "2023-07-10T06:36:34.572Z"
   },
   {
    "duration": 3325,
    "start_time": "2023-07-10T06:38:25.141Z"
   },
   {
    "duration": 447,
    "start_time": "2023-07-10T06:38:28.468Z"
   },
   {
    "duration": 2048,
    "start_time": "2023-07-10T06:38:40.761Z"
   },
   {
    "duration": 2205,
    "start_time": "2023-07-10T06:43:30.302Z"
   },
   {
    "duration": 11,
    "start_time": "2023-07-10T06:44:44.409Z"
   },
   {
    "duration": 1525,
    "start_time": "2023-07-10T06:44:59.174Z"
   },
   {
    "duration": 0,
    "start_time": "2023-07-10T06:45:00.701Z"
   },
   {
    "duration": 6,
    "start_time": "2023-07-10T06:45:54.001Z"
   },
   {
    "duration": 12,
    "start_time": "2023-07-10T06:45:59.962Z"
   },
   {
    "duration": 6,
    "start_time": "2023-07-10T06:46:51.202Z"
   },
   {
    "duration": 4,
    "start_time": "2023-07-10T06:47:07.222Z"
   },
   {
    "duration": 431,
    "start_time": "2023-07-10T06:47:07.933Z"
   },
   {
    "duration": 4426,
    "start_time": "2023-07-10T06:47:41.242Z"
   },
   {
    "duration": 722,
    "start_time": "2023-07-10T06:48:02.153Z"
   },
   {
    "duration": 1692,
    "start_time": "2023-07-10T06:48:37.442Z"
   },
   {
    "duration": 46,
    "start_time": "2023-07-10T07:02:14.793Z"
   },
   {
    "duration": 7,
    "start_time": "2023-07-10T07:03:01.215Z"
   },
   {
    "duration": 5,
    "start_time": "2023-07-10T07:04:48.089Z"
   },
   {
    "duration": 7,
    "start_time": "2023-07-10T07:05:20.583Z"
   },
   {
    "duration": 7,
    "start_time": "2023-07-10T07:05:35.919Z"
   },
   {
    "duration": 92,
    "start_time": "2023-07-10T08:04:46.847Z"
   },
   {
    "duration": 1463,
    "start_time": "2023-07-10T13:33:24.697Z"
   },
   {
    "duration": 300,
    "start_time": "2023-07-10T13:33:26.240Z"
   },
   {
    "duration": 27,
    "start_time": "2023-07-10T13:33:28.352Z"
   },
   {
    "duration": 23,
    "start_time": "2023-07-10T13:33:32.684Z"
   },
   {
    "duration": 189,
    "start_time": "2023-07-10T13:34:48.889Z"
   },
   {
    "duration": 21,
    "start_time": "2023-07-10T13:34:50.152Z"
   },
   {
    "duration": 220,
    "start_time": "2023-07-10T13:35:06.897Z"
   },
   {
    "duration": 26,
    "start_time": "2023-07-10T13:35:07.724Z"
   },
   {
    "duration": 25,
    "start_time": "2023-07-10T13:35:16.919Z"
   },
   {
    "duration": 23,
    "start_time": "2023-07-10T13:35:20.734Z"
   },
   {
    "duration": 43,
    "start_time": "2023-07-10T13:35:28.147Z"
   },
   {
    "duration": 41,
    "start_time": "2023-07-10T13:35:57.079Z"
   },
   {
    "duration": 316,
    "start_time": "2023-07-10T13:37:13.009Z"
   },
   {
    "duration": 16,
    "start_time": "2023-07-10T13:41:18.452Z"
   },
   {
    "duration": 24,
    "start_time": "2023-07-10T13:41:56.893Z"
   },
   {
    "duration": 16,
    "start_time": "2023-07-10T13:42:12.096Z"
   },
   {
    "duration": 11,
    "start_time": "2023-07-10T13:42:22.100Z"
   },
   {
    "duration": 20,
    "start_time": "2023-07-10T13:42:25.188Z"
   },
   {
    "duration": 9,
    "start_time": "2023-07-10T13:42:35.853Z"
   },
   {
    "duration": 12,
    "start_time": "2023-07-10T13:42:37.512Z"
   },
   {
    "duration": 9,
    "start_time": "2023-07-10T13:42:40.398Z"
   },
   {
    "duration": 113,
    "start_time": "2023-07-10T13:46:30.508Z"
   },
   {
    "duration": 35,
    "start_time": "2023-07-10T13:47:51.862Z"
   },
   {
    "duration": 37,
    "start_time": "2023-07-10T13:49:04.222Z"
   },
   {
    "duration": 15,
    "start_time": "2023-07-10T13:49:06.152Z"
   },
   {
    "duration": 30,
    "start_time": "2023-07-10T13:49:14.809Z"
   },
   {
    "duration": 5,
    "start_time": "2023-07-10T13:50:25.920Z"
   },
   {
    "duration": 417,
    "start_time": "2023-07-10T13:50:43.162Z"
   },
   {
    "duration": 63,
    "start_time": "2023-07-10T13:51:07.893Z"
   },
   {
    "duration": 11,
    "start_time": "2023-07-10T13:51:54.821Z"
   },
   {
    "duration": 265,
    "start_time": "2023-07-10T13:52:16.497Z"
   },
   {
    "duration": 196,
    "start_time": "2023-07-10T13:53:24.503Z"
   },
   {
    "duration": 127,
    "start_time": "2023-07-10T13:53:44.506Z"
   },
   {
    "duration": 121,
    "start_time": "2023-07-10T13:53:57.154Z"
   },
   {
    "duration": 123,
    "start_time": "2023-07-10T13:54:18.653Z"
   },
   {
    "duration": 530,
    "start_time": "2023-07-10T13:55:03.897Z"
   },
   {
    "duration": 21,
    "start_time": "2023-07-10T13:56:13.398Z"
   },
   {
    "duration": 19,
    "start_time": "2023-07-10T13:56:39.755Z"
   },
   {
    "duration": 36,
    "start_time": "2023-07-10T13:57:00.439Z"
   },
   {
    "duration": 34,
    "start_time": "2023-07-10T13:57:16.801Z"
   },
   {
    "duration": 256,
    "start_time": "2023-07-10T13:57:29.521Z"
   },
   {
    "duration": 203,
    "start_time": "2023-07-10T13:58:16.797Z"
   },
   {
    "duration": 858,
    "start_time": "2023-07-10T13:58:36.165Z"
   },
   {
    "duration": 723,
    "start_time": "2023-07-10T13:59:38.076Z"
   },
   {
    "duration": 25,
    "start_time": "2023-07-10T14:00:56.434Z"
   },
   {
    "duration": 18,
    "start_time": "2023-07-10T14:02:47.846Z"
   },
   {
    "duration": 34,
    "start_time": "2023-07-10T14:03:21.334Z"
   },
   {
    "duration": 20,
    "start_time": "2023-07-10T14:04:57.814Z"
   },
   {
    "duration": 19,
    "start_time": "2023-07-10T14:05:04.848Z"
   },
   {
    "duration": 16,
    "start_time": "2023-07-10T14:05:13.106Z"
   },
   {
    "duration": 7573,
    "start_time": "2023-07-10T14:05:51.816Z"
   },
   {
    "duration": 82,
    "start_time": "2023-07-10T14:07:05.454Z"
   },
   {
    "duration": 22,
    "start_time": "2023-07-10T14:07:35.735Z"
   },
   {
    "duration": 21,
    "start_time": "2023-07-10T14:08:20.405Z"
   },
   {
    "duration": 20,
    "start_time": "2023-07-10T14:08:29.515Z"
   },
   {
    "duration": 16,
    "start_time": "2023-07-10T14:09:05.623Z"
   },
   {
    "duration": 144,
    "start_time": "2023-07-10T14:11:26.223Z"
   },
   {
    "duration": 18,
    "start_time": "2023-07-10T14:11:33.796Z"
   },
   {
    "duration": 22,
    "start_time": "2023-07-10T14:17:03.093Z"
   },
   {
    "duration": 17,
    "start_time": "2023-07-10T14:17:18.016Z"
   },
   {
    "duration": 243,
    "start_time": "2023-07-10T14:17:52.286Z"
   },
   {
    "duration": 18,
    "start_time": "2023-07-10T14:19:00.744Z"
   },
   {
    "duration": 249,
    "start_time": "2023-07-10T14:19:04.784Z"
   },
   {
    "duration": 188,
    "start_time": "2023-07-10T14:21:25.791Z"
   },
   {
    "duration": 244,
    "start_time": "2023-07-10T14:22:02.262Z"
   },
   {
    "duration": 244,
    "start_time": "2023-07-10T14:22:20.291Z"
   },
   {
    "duration": 244,
    "start_time": "2023-07-10T14:23:15.643Z"
   },
   {
    "duration": 14,
    "start_time": "2023-07-10T14:33:39.435Z"
   },
   {
    "duration": 12,
    "start_time": "2023-07-10T14:33:48.736Z"
   },
   {
    "duration": 9,
    "start_time": "2023-07-10T14:36:13.803Z"
   },
   {
    "duration": 12,
    "start_time": "2023-07-10T14:36:28.235Z"
   },
   {
    "duration": 15,
    "start_time": "2023-07-10T14:36:39.995Z"
   },
   {
    "duration": 14,
    "start_time": "2023-07-10T14:39:04.743Z"
   },
   {
    "duration": 1352,
    "start_time": "2023-07-10T15:12:21.287Z"
   },
   {
    "duration": 10,
    "start_time": "2023-07-10T15:12:33.468Z"
   },
   {
    "duration": 25,
    "start_time": "2023-07-10T15:20:26.607Z"
   },
   {
    "duration": 17,
    "start_time": "2023-07-10T15:20:44.360Z"
   },
   {
    "duration": 4,
    "start_time": "2023-07-10T15:22:11.387Z"
   },
   {
    "duration": 85,
    "start_time": "2023-07-10T15:22:24.196Z"
   },
   {
    "duration": 22,
    "start_time": "2023-07-10T15:22:52.515Z"
   },
   {
    "duration": 17,
    "start_time": "2023-07-10T15:23:18.896Z"
   },
   {
    "duration": 27,
    "start_time": "2023-07-10T15:24:03.437Z"
   },
   {
    "duration": 18,
    "start_time": "2023-07-10T15:24:14.150Z"
   },
   {
    "duration": 21,
    "start_time": "2023-07-10T15:26:20.076Z"
   },
   {
    "duration": 18,
    "start_time": "2023-07-10T15:27:09.584Z"
   },
   {
    "duration": 1539,
    "start_time": "2023-07-11T06:59:30.277Z"
   },
   {
    "duration": 398,
    "start_time": "2023-07-11T06:59:32.877Z"
   },
   {
    "duration": 49,
    "start_time": "2023-07-11T06:59:34.100Z"
   },
   {
    "duration": 37,
    "start_time": "2023-07-11T06:59:37.940Z"
   },
   {
    "duration": 27,
    "start_time": "2023-07-11T06:59:39.711Z"
   },
   {
    "duration": 50,
    "start_time": "2023-07-11T06:59:40.500Z"
   },
   {
    "duration": 317,
    "start_time": "2023-07-11T06:59:42.237Z"
   },
   {
    "duration": 25,
    "start_time": "2023-07-11T06:59:44.260Z"
   },
   {
    "duration": 10,
    "start_time": "2023-07-11T06:59:45.253Z"
   },
   {
    "duration": 24,
    "start_time": "2023-07-11T06:59:47.410Z"
   },
   {
    "duration": 10,
    "start_time": "2023-07-11T06:59:49.416Z"
   },
   {
    "duration": 16,
    "start_time": "2023-07-11T06:59:50.517Z"
   },
   {
    "duration": 11,
    "start_time": "2023-07-11T06:59:53.537Z"
   },
   {
    "duration": 45,
    "start_time": "2023-07-11T06:59:57.296Z"
   },
   {
    "duration": 70,
    "start_time": "2023-07-11T07:00:05.149Z"
   },
   {
    "duration": 21,
    "start_time": "2023-07-11T07:00:06.349Z"
   },
   {
    "duration": 37,
    "start_time": "2023-07-11T07:00:08.677Z"
   },
   {
    "duration": 5,
    "start_time": "2023-07-11T07:00:10.117Z"
   },
   {
    "duration": 481,
    "start_time": "2023-07-11T07:00:11.116Z"
   },
   {
    "duration": 90,
    "start_time": "2023-07-11T07:00:16.445Z"
   },
   {
    "duration": 13,
    "start_time": "2023-07-11T07:00:21.425Z"
   },
   {
    "duration": 352,
    "start_time": "2023-07-11T07:00:23.938Z"
   },
   {
    "duration": 158,
    "start_time": "2023-07-11T07:02:43.145Z"
   },
   {
    "duration": 1019,
    "start_time": "2023-07-11T07:02:47.978Z"
   },
   {
    "duration": 26,
    "start_time": "2023-07-11T07:03:25.420Z"
   },
   {
    "duration": 18,
    "start_time": "2023-07-11T07:03:55.509Z"
   },
   {
    "duration": 22,
    "start_time": "2023-07-11T07:07:50.012Z"
   },
   {
    "duration": 31,
    "start_time": "2023-07-11T07:07:51.478Z"
   },
   {
    "duration": 555,
    "start_time": "2023-07-11T07:07:57.341Z"
   },
   {
    "duration": 87,
    "start_time": "2023-07-11T07:15:47.586Z"
   },
   {
    "duration": 92,
    "start_time": "2023-07-11T07:15:56.216Z"
   },
   {
    "duration": 180,
    "start_time": "2023-07-11T07:16:53.360Z"
   },
   {
    "duration": 180,
    "start_time": "2023-07-11T07:17:17.040Z"
   },
   {
    "duration": 18,
    "start_time": "2023-07-11T07:18:02.288Z"
   },
   {
    "duration": 13,
    "start_time": "2023-07-11T07:21:36.897Z"
   },
   {
    "duration": 13,
    "start_time": "2023-07-11T07:21:45.497Z"
   },
   {
    "duration": 41,
    "start_time": "2023-07-11T07:21:57.757Z"
   },
   {
    "duration": 14,
    "start_time": "2023-07-11T07:22:07.356Z"
   },
   {
    "duration": 159,
    "start_time": "2023-07-11T07:23:15.724Z"
   },
   {
    "duration": 18,
    "start_time": "2023-07-11T07:23:32.185Z"
   },
   {
    "duration": 20,
    "start_time": "2023-07-11T07:23:42.987Z"
   },
   {
    "duration": 14,
    "start_time": "2023-07-11T07:23:54.037Z"
   },
   {
    "duration": 736,
    "start_time": "2023-07-11T07:31:46.046Z"
   },
   {
    "duration": 27,
    "start_time": "2023-07-11T07:32:17.587Z"
   },
   {
    "duration": 18,
    "start_time": "2023-07-11T07:32:36.641Z"
   },
   {
    "duration": 24,
    "start_time": "2023-07-11T07:33:25.465Z"
   },
   {
    "duration": 1159,
    "start_time": "2023-07-11T07:33:44.846Z"
   },
   {
    "duration": 16,
    "start_time": "2023-07-11T07:34:17.094Z"
   },
   {
    "duration": 26,
    "start_time": "2023-07-11T07:35:15.307Z"
   },
   {
    "duration": 34,
    "start_time": "2023-07-11T07:35:40.699Z"
   },
   {
    "duration": 21,
    "start_time": "2023-07-11T07:35:59.706Z"
   },
   {
    "duration": 19,
    "start_time": "2023-07-11T07:36:40.337Z"
   },
   {
    "duration": 294,
    "start_time": "2023-07-11T07:37:07.259Z"
   },
   {
    "duration": 13,
    "start_time": "2023-07-11T07:37:17.697Z"
   },
   {
    "duration": 12,
    "start_time": "2023-07-11T07:37:37.411Z"
   },
   {
    "duration": 27,
    "start_time": "2023-07-11T07:37:38.490Z"
   },
   {
    "duration": 15,
    "start_time": "2023-07-11T07:38:17.246Z"
   },
   {
    "duration": 28,
    "start_time": "2023-07-11T07:45:28.115Z"
   },
   {
    "duration": 26,
    "start_time": "2023-07-11T07:45:53.505Z"
   },
   {
    "duration": 25,
    "start_time": "2023-07-11T07:48:08.694Z"
   },
   {
    "duration": 23,
    "start_time": "2023-07-11T07:48:22.199Z"
   },
   {
    "duration": 123,
    "start_time": "2023-07-11T07:48:54.047Z"
   },
   {
    "duration": 24,
    "start_time": "2023-07-11T07:49:06.327Z"
   },
   {
    "duration": 6,
    "start_time": "2023-07-11T07:50:18.193Z"
   },
   {
    "duration": 29,
    "start_time": "2023-07-11T07:52:05.344Z"
   },
   {
    "duration": 25,
    "start_time": "2023-07-11T07:52:21.382Z"
   },
   {
    "duration": 22,
    "start_time": "2023-07-11T07:52:31.292Z"
   },
   {
    "duration": 26,
    "start_time": "2023-07-11T07:53:03.381Z"
   },
   {
    "duration": 148,
    "start_time": "2023-07-11T07:53:54.706Z"
   },
   {
    "duration": 18,
    "start_time": "2023-07-11T07:54:15.106Z"
   },
   {
    "duration": 9,
    "start_time": "2023-07-11T07:54:36.997Z"
   },
   {
    "duration": 159,
    "start_time": "2023-07-11T08:00:11.811Z"
   },
   {
    "duration": 231,
    "start_time": "2023-07-11T08:01:26.679Z"
   },
   {
    "duration": 195,
    "start_time": "2023-07-11T08:02:35.166Z"
   },
   {
    "duration": 219,
    "start_time": "2023-07-11T08:02:42.386Z"
   },
   {
    "duration": 173,
    "start_time": "2023-07-11T08:05:01.947Z"
   },
   {
    "duration": 188,
    "start_time": "2023-07-11T08:07:38.012Z"
   },
   {
    "duration": 276,
    "start_time": "2023-07-11T08:08:30.466Z"
   },
   {
    "duration": 257,
    "start_time": "2023-07-11T08:12:50.306Z"
   },
   {
    "duration": 25,
    "start_time": "2023-07-11T08:21:23.705Z"
   },
   {
    "duration": 24,
    "start_time": "2023-07-11T08:22:14.719Z"
   },
   {
    "duration": 58,
    "start_time": "2023-07-11T08:22:57.614Z"
   },
   {
    "duration": 26,
    "start_time": "2023-07-11T08:24:46.985Z"
   },
   {
    "duration": 4,
    "start_time": "2023-07-11T08:31:12.726Z"
   },
   {
    "duration": 27,
    "start_time": "2023-07-11T08:31:29.538Z"
   },
   {
    "duration": 12,
    "start_time": "2023-07-11T08:36:46.864Z"
   },
   {
    "duration": 12,
    "start_time": "2023-07-11T08:36:54.535Z"
   },
   {
    "duration": 31,
    "start_time": "2023-07-11T08:37:03.899Z"
   },
   {
    "duration": 33,
    "start_time": "2023-07-11T08:40:36.502Z"
   },
   {
    "duration": 50,
    "start_time": "2023-07-11T08:41:00.627Z"
   },
   {
    "duration": 55,
    "start_time": "2023-07-11T08:41:16.591Z"
   },
   {
    "duration": 15,
    "start_time": "2023-07-11T08:46:01.801Z"
   },
   {
    "duration": 102,
    "start_time": "2023-07-11T08:49:05.709Z"
   },
   {
    "duration": 13,
    "start_time": "2023-07-11T08:49:13.679Z"
   },
   {
    "duration": 26,
    "start_time": "2023-07-11T08:49:23.946Z"
   },
   {
    "duration": 70,
    "start_time": "2023-07-11T08:52:48.632Z"
   },
   {
    "duration": 16,
    "start_time": "2023-07-11T08:56:09.249Z"
   },
   {
    "duration": 23,
    "start_time": "2023-07-11T08:58:46.574Z"
   },
   {
    "duration": 11,
    "start_time": "2023-07-11T09:02:34.640Z"
   },
   {
    "duration": 340,
    "start_time": "2023-07-11T09:02:43.053Z"
   },
   {
    "duration": 14,
    "start_time": "2023-07-11T09:02:48.398Z"
   },
   {
    "duration": 13,
    "start_time": "2023-07-11T09:04:12.968Z"
   },
   {
    "duration": 12,
    "start_time": "2023-07-11T09:06:31.698Z"
   },
   {
    "duration": 34,
    "start_time": "2023-07-11T09:19:35.246Z"
   },
   {
    "duration": 25,
    "start_time": "2023-07-11T09:24:10.245Z"
   },
   {
    "duration": 12,
    "start_time": "2023-07-11T09:24:26.636Z"
   },
   {
    "duration": 4,
    "start_time": "2023-07-11T09:27:31.316Z"
   },
   {
    "duration": 9,
    "start_time": "2023-07-11T09:27:42.355Z"
   },
   {
    "duration": 11,
    "start_time": "2023-07-11T09:29:00.504Z"
   },
   {
    "duration": 50,
    "start_time": "2023-07-11T09:36:17.750Z"
   },
   {
    "duration": 18,
    "start_time": "2023-07-11T09:39:07.447Z"
   },
   {
    "duration": 14,
    "start_time": "2023-07-11T09:39:20.766Z"
   },
   {
    "duration": 18,
    "start_time": "2023-07-11T09:44:24.322Z"
   },
   {
    "duration": 8,
    "start_time": "2023-07-11T09:46:24.341Z"
   },
   {
    "duration": 442,
    "start_time": "2023-07-11T09:46:27.020Z"
   },
   {
    "duration": 406,
    "start_time": "2023-07-11T09:46:27.956Z"
   },
   {
    "duration": 8,
    "start_time": "2023-07-11T09:47:51.806Z"
   },
   {
    "duration": 10,
    "start_time": "2023-07-11T09:48:05.195Z"
   },
   {
    "duration": 6,
    "start_time": "2023-07-11T09:48:11.430Z"
   },
   {
    "duration": 15,
    "start_time": "2023-07-11T09:48:46.515Z"
   },
   {
    "duration": 27,
    "start_time": "2023-07-11T09:49:15.396Z"
   },
   {
    "duration": 11,
    "start_time": "2023-07-11T09:50:27.228Z"
   },
   {
    "duration": 10,
    "start_time": "2023-07-11T09:52:46.971Z"
   },
   {
    "duration": 14,
    "start_time": "2023-07-11T09:52:59.208Z"
   },
   {
    "duration": 15,
    "start_time": "2023-07-11T09:53:05.675Z"
   },
   {
    "duration": 21,
    "start_time": "2023-07-11T09:53:40.695Z"
   },
   {
    "duration": 412,
    "start_time": "2023-07-11T09:53:42.510Z"
   },
   {
    "duration": 22,
    "start_time": "2023-07-11T09:54:44.410Z"
   },
   {
    "duration": 18,
    "start_time": "2023-07-11T09:55:25.401Z"
   },
   {
    "duration": 15,
    "start_time": "2023-07-11T09:55:37.915Z"
   },
   {
    "duration": 16,
    "start_time": "2023-07-11T09:55:58.619Z"
   },
   {
    "duration": 15,
    "start_time": "2023-07-11T09:56:27.597Z"
   },
   {
    "duration": 16,
    "start_time": "2023-07-11T09:56:42.102Z"
   },
   {
    "duration": 9,
    "start_time": "2023-07-11T09:59:30.806Z"
   },
   {
    "duration": 544,
    "start_time": "2023-07-11T09:59:39.941Z"
   },
   {
    "duration": 413,
    "start_time": "2023-07-11T09:59:41.827Z"
   },
   {
    "duration": 500,
    "start_time": "2023-07-11T09:59:54.372Z"
   },
   {
    "duration": 1848,
    "start_time": "2023-07-12T10:06:34.068Z"
   },
   {
    "duration": 495,
    "start_time": "2023-07-12T10:06:35.919Z"
   },
   {
    "duration": 31,
    "start_time": "2023-07-12T10:06:36.416Z"
   },
   {
    "duration": 29,
    "start_time": "2023-07-12T10:06:42.542Z"
   },
   {
    "duration": 25,
    "start_time": "2023-07-12T10:06:44.510Z"
   },
   {
    "duration": 79,
    "start_time": "2023-07-12T10:06:46.284Z"
   },
   {
    "duration": 336,
    "start_time": "2023-07-12T10:06:47.935Z"
   },
   {
    "duration": 16,
    "start_time": "2023-07-12T10:06:50.289Z"
   },
   {
    "duration": 17,
    "start_time": "2023-07-12T10:06:51.150Z"
   },
   {
    "duration": 30,
    "start_time": "2023-07-12T10:06:52.897Z"
   },
   {
    "duration": 12,
    "start_time": "2023-07-12T10:06:54.569Z"
   },
   {
    "duration": 25,
    "start_time": "2023-07-12T10:06:55.485Z"
   },
   {
    "duration": 11,
    "start_time": "2023-07-12T10:06:57.891Z"
   },
   {
    "duration": 43,
    "start_time": "2023-07-12T10:06:59.988Z"
   },
   {
    "duration": 42,
    "start_time": "2023-07-12T10:07:01.919Z"
   },
   {
    "duration": 19,
    "start_time": "2023-07-12T10:07:02.998Z"
   },
   {
    "duration": 31,
    "start_time": "2023-07-12T10:07:04.902Z"
   },
   {
    "duration": 7,
    "start_time": "2023-07-12T10:07:05.815Z"
   },
   {
    "duration": 469,
    "start_time": "2023-07-12T10:07:06.692Z"
   },
   {
    "duration": 71,
    "start_time": "2023-07-12T10:07:10.258Z"
   },
   {
    "duration": 12,
    "start_time": "2023-07-12T10:07:11.189Z"
   },
   {
    "duration": 332,
    "start_time": "2023-07-12T10:07:12.077Z"
   },
   {
    "duration": 217,
    "start_time": "2023-07-12T10:07:13.008Z"
   },
   {
    "duration": 896,
    "start_time": "2023-07-12T10:07:14.301Z"
   },
   {
    "duration": 24,
    "start_time": "2023-07-12T10:07:15.309Z"
   },
   {
    "duration": 33,
    "start_time": "2023-07-12T10:07:16.592Z"
   },
   {
    "duration": 27,
    "start_time": "2023-07-12T10:07:17.553Z"
   },
   {
    "duration": 244,
    "start_time": "2023-07-12T10:07:18.493Z"
   },
   {
    "duration": 16,
    "start_time": "2023-07-12T10:07:20.455Z"
   },
   {
    "duration": 14,
    "start_time": "2023-07-12T10:07:22.352Z"
   },
   {
    "duration": 22,
    "start_time": "2023-07-12T10:07:25.034Z"
   },
   {
    "duration": 310,
    "start_time": "2023-07-12T10:07:25.923Z"
   },
   {
    "duration": 7,
    "start_time": "2023-07-12T10:07:28.307Z"
   },
   {
    "duration": 10,
    "start_time": "2023-07-12T10:07:29.189Z"
   },
   {
    "duration": 180,
    "start_time": "2023-07-12T10:07:30.143Z"
   },
   {
    "duration": 15,
    "start_time": "2023-07-12T10:07:32.591Z"
   },
   {
    "duration": 29,
    "start_time": "2023-07-12T10:07:33.366Z"
   },
   {
    "duration": 12,
    "start_time": "2023-07-12T10:07:36.285Z"
   },
   {
    "duration": 29,
    "start_time": "2023-07-12T10:07:37.050Z"
   },
   {
    "duration": 4,
    "start_time": "2023-07-12T10:07:38.608Z"
   },
   {
    "duration": 33,
    "start_time": "2023-07-12T10:07:39.355Z"
   },
   {
    "duration": 43,
    "start_time": "2023-07-12T10:07:40.192Z"
   },
   {
    "duration": 31,
    "start_time": "2023-07-12T10:07:40.978Z"
   },
   {
    "duration": 155,
    "start_time": "2023-07-12T10:07:41.921Z"
   },
   {
    "duration": 32,
    "start_time": "2023-07-12T10:08:52.582Z"
   },
   {
    "duration": 14,
    "start_time": "2023-07-12T10:08:56.693Z"
   },
   {
    "duration": 21,
    "start_time": "2023-07-12T10:09:21.101Z"
   },
   {
    "duration": 35,
    "start_time": "2023-07-12T10:10:41.940Z"
   },
   {
    "duration": 13,
    "start_time": "2023-07-12T10:10:51.169Z"
   },
   {
    "duration": 12,
    "start_time": "2023-07-12T10:11:39.097Z"
   },
   {
    "duration": 15,
    "start_time": "2023-07-12T10:11:48.491Z"
   },
   {
    "duration": 18,
    "start_time": "2023-07-12T10:11:50.768Z"
   },
   {
    "duration": 62,
    "start_time": "2023-07-12T10:12:01.262Z"
   },
   {
    "duration": 22,
    "start_time": "2023-07-12T10:12:02.393Z"
   },
   {
    "duration": 8,
    "start_time": "2023-07-12T10:12:05.137Z"
   },
   {
    "duration": 407,
    "start_time": "2023-07-12T10:12:47.195Z"
   },
   {
    "duration": 381,
    "start_time": "2023-07-12T10:12:48.753Z"
   },
   {
    "duration": 424,
    "start_time": "2023-07-12T10:12:49.824Z"
   },
   {
    "duration": 60,
    "start_time": "2023-07-12T10:45:41.048Z"
   },
   {
    "duration": 287,
    "start_time": "2023-07-12T10:53:14.555Z"
   },
   {
    "duration": 323,
    "start_time": "2023-07-12T10:54:38.319Z"
   },
   {
    "duration": 31,
    "start_time": "2023-07-12T10:57:01.998Z"
   },
   {
    "duration": 307,
    "start_time": "2023-07-12T10:57:44.494Z"
   },
   {
    "duration": 23,
    "start_time": "2023-07-12T10:57:56.261Z"
   },
   {
    "duration": 25,
    "start_time": "2023-07-12T10:58:07.335Z"
   },
   {
    "duration": 31,
    "start_time": "2023-07-12T10:59:50.745Z"
   },
   {
    "duration": 302,
    "start_time": "2023-07-12T11:01:13.000Z"
   },
   {
    "duration": 28,
    "start_time": "2023-07-12T11:02:32.442Z"
   },
   {
    "duration": 32,
    "start_time": "2023-07-12T11:02:35.595Z"
   },
   {
    "duration": 33,
    "start_time": "2023-07-12T11:03:11.488Z"
   },
   {
    "duration": 22,
    "start_time": "2023-07-12T11:03:52.161Z"
   },
   {
    "duration": 25,
    "start_time": "2023-07-12T11:04:46.151Z"
   },
   {
    "duration": 8,
    "start_time": "2023-07-12T11:06:14.988Z"
   },
   {
    "duration": 3,
    "start_time": "2023-07-12T11:21:01.686Z"
   },
   {
    "duration": 328,
    "start_time": "2023-07-12T11:21:03.405Z"
   },
   {
    "duration": 12,
    "start_time": "2023-07-12T11:21:46.548Z"
   },
   {
    "duration": 23,
    "start_time": "2023-07-12T11:21:57.541Z"
   },
   {
    "duration": 3,
    "start_time": "2023-07-12T11:22:29.219Z"
   },
   {
    "duration": 276,
    "start_time": "2023-07-12T11:22:39.617Z"
   },
   {
    "duration": 4,
    "start_time": "2023-07-12T11:22:56.312Z"
   },
   {
    "duration": 259,
    "start_time": "2023-07-12T11:22:57.323Z"
   },
   {
    "duration": 3,
    "start_time": "2023-07-12T11:23:05.403Z"
   },
   {
    "duration": 28,
    "start_time": "2023-07-12T11:23:06.209Z"
   },
   {
    "duration": 31,
    "start_time": "2023-07-12T11:25:14.155Z"
   },
   {
    "duration": 29,
    "start_time": "2023-07-12T11:25:20.528Z"
   },
   {
    "duration": 29,
    "start_time": "2023-07-12T11:26:02.633Z"
   },
   {
    "duration": 33,
    "start_time": "2023-07-12T11:29:20.171Z"
   },
   {
    "duration": 28,
    "start_time": "2023-07-12T11:31:07.984Z"
   },
   {
    "duration": 8,
    "start_time": "2023-07-12T11:31:49.186Z"
   },
   {
    "duration": 284,
    "start_time": "2023-07-12T12:13:33.887Z"
   },
   {
    "duration": 143,
    "start_time": "2023-07-12T12:31:11.066Z"
   },
   {
    "duration": 24,
    "start_time": "2023-07-12T12:35:36.343Z"
   },
   {
    "duration": 28,
    "start_time": "2023-07-12T12:36:23.046Z"
   },
   {
    "duration": 301,
    "start_time": "2023-07-12T12:50:45.501Z"
   },
   {
    "duration": 212,
    "start_time": "2023-07-12T12:52:41.734Z"
   },
   {
    "duration": 310,
    "start_time": "2023-07-12T12:52:58.710Z"
   },
   {
    "duration": 341,
    "start_time": "2023-07-12T12:53:44.095Z"
   },
   {
    "duration": 279,
    "start_time": "2023-07-12T12:53:51.301Z"
   },
   {
    "duration": 253,
    "start_time": "2023-07-12T12:54:00.121Z"
   },
   {
    "duration": 270,
    "start_time": "2023-07-12T12:54:07.364Z"
   },
   {
    "duration": 260,
    "start_time": "2023-07-12T12:54:13.302Z"
   },
   {
    "duration": 46,
    "start_time": "2023-07-12T12:59:04.621Z"
   },
   {
    "duration": 1585,
    "start_time": "2023-07-12T16:42:22.915Z"
   },
   {
    "duration": 470,
    "start_time": "2023-07-12T16:42:24.502Z"
   },
   {
    "duration": 33,
    "start_time": "2023-07-12T16:42:26.043Z"
   },
   {
    "duration": 32,
    "start_time": "2023-07-12T16:42:28.457Z"
   },
   {
    "duration": 48,
    "start_time": "2023-07-12T16:42:29.895Z"
   },
   {
    "duration": 72,
    "start_time": "2023-07-12T16:42:30.397Z"
   },
   {
    "duration": 346,
    "start_time": "2023-07-12T16:42:32.864Z"
   },
   {
    "duration": 20,
    "start_time": "2023-07-12T16:42:34.926Z"
   },
   {
    "duration": 16,
    "start_time": "2023-07-12T16:42:36.625Z"
   },
   {
    "duration": 26,
    "start_time": "2023-07-12T16:42:38.392Z"
   },
   {
    "duration": 17,
    "start_time": "2023-07-12T16:42:40.193Z"
   },
   {
    "duration": 23,
    "start_time": "2023-07-12T16:42:40.965Z"
   },
   {
    "duration": 21,
    "start_time": "2023-07-12T16:42:43.129Z"
   },
   {
    "duration": 55,
    "start_time": "2023-07-12T16:42:44.595Z"
   },
   {
    "duration": 38,
    "start_time": "2023-07-12T16:42:46.249Z"
   },
   {
    "duration": 22,
    "start_time": "2023-07-12T16:42:47.198Z"
   },
   {
    "duration": 33,
    "start_time": "2023-07-12T16:42:48.618Z"
   },
   {
    "duration": 12,
    "start_time": "2023-07-12T16:42:49.831Z"
   },
   {
    "duration": 449,
    "start_time": "2023-07-12T16:42:50.650Z"
   },
   {
    "duration": 70,
    "start_time": "2023-07-12T16:43:13.620Z"
   },
   {
    "duration": 12,
    "start_time": "2023-07-12T16:43:14.503Z"
   },
   {
    "duration": 307,
    "start_time": "2023-07-12T16:43:16.399Z"
   },
   {
    "duration": 207,
    "start_time": "2023-07-12T16:43:18.759Z"
   },
   {
    "duration": 821,
    "start_time": "2023-07-12T16:43:23.455Z"
   },
   {
    "duration": 24,
    "start_time": "2023-07-12T16:43:25.450Z"
   },
   {
    "duration": 343,
    "start_time": "2023-07-12T16:43:27.113Z"
   },
   {
    "duration": 27,
    "start_time": "2023-07-12T16:43:29.278Z"
   },
   {
    "duration": 210,
    "start_time": "2023-07-12T16:43:31.801Z"
   },
   {
    "duration": 38,
    "start_time": "2023-07-12T16:43:42.948Z"
   },
   {
    "duration": 20,
    "start_time": "2023-07-12T16:43:55.499Z"
   },
   {
    "duration": 312,
    "start_time": "2023-07-12T16:43:56.696Z"
   },
   {
    "duration": 9,
    "start_time": "2023-07-12T16:43:58.846Z"
   },
   {
    "duration": 13,
    "start_time": "2023-07-12T16:43:59.721Z"
   },
   {
    "duration": 159,
    "start_time": "2023-07-12T16:44:01.421Z"
   },
   {
    "duration": 11,
    "start_time": "2023-07-12T16:44:03.763Z"
   },
   {
    "duration": 24,
    "start_time": "2023-07-12T16:44:04.430Z"
   },
   {
    "duration": 10,
    "start_time": "2023-07-12T16:44:07.305Z"
   },
   {
    "duration": 29,
    "start_time": "2023-07-12T16:44:08.110Z"
   },
   {
    "duration": 3,
    "start_time": "2023-07-12T16:44:09.602Z"
   },
   {
    "duration": 51,
    "start_time": "2023-07-12T16:44:10.319Z"
   },
   {
    "duration": 42,
    "start_time": "2023-07-12T16:44:11.120Z"
   },
   {
    "duration": 18,
    "start_time": "2023-07-12T16:44:11.900Z"
   },
   {
    "duration": 38,
    "start_time": "2023-07-12T16:44:12.730Z"
   },
   {
    "duration": 9,
    "start_time": "2023-07-12T16:44:13.608Z"
   },
   {
    "duration": 8,
    "start_time": "2023-07-12T16:44:15.363Z"
   },
   {
    "duration": 42,
    "start_time": "2023-07-12T16:44:17.606Z"
   },
   {
    "duration": 18,
    "start_time": "2023-07-12T16:44:18.306Z"
   },
   {
    "duration": 10,
    "start_time": "2023-07-12T16:44:19.107Z"
   },
   {
    "duration": 386,
    "start_time": "2023-07-12T16:44:19.807Z"
   },
   {
    "duration": 402,
    "start_time": "2023-07-12T16:44:20.697Z"
   },
   {
    "duration": 383,
    "start_time": "2023-07-12T16:44:21.516Z"
   },
   {
    "duration": 28,
    "start_time": "2023-07-12T16:44:26.056Z"
   },
   {
    "duration": 26,
    "start_time": "2023-07-12T16:44:27.048Z"
   },
   {
    "duration": 8,
    "start_time": "2023-07-12T16:44:27.885Z"
   },
   {
    "duration": 3,
    "start_time": "2023-07-12T16:44:30.988Z"
   },
   {
    "duration": 38,
    "start_time": "2023-07-12T16:44:31.715Z"
   },
   {
    "duration": 20,
    "start_time": "2023-07-12T16:44:32.496Z"
   },
   {
    "duration": 28,
    "start_time": "2023-07-12T16:44:33.301Z"
   },
   {
    "duration": 8,
    "start_time": "2023-07-12T16:44:34.092Z"
   },
   {
    "duration": 1803,
    "start_time": "2023-07-12T21:10:01.452Z"
   },
   {
    "duration": 370,
    "start_time": "2023-07-12T21:10:03.258Z"
   },
   {
    "duration": 33,
    "start_time": "2023-07-12T21:10:03.636Z"
   },
   {
    "duration": 94,
    "start_time": "2023-07-12T21:10:03.671Z"
   },
   {
    "duration": 58,
    "start_time": "2023-07-12T21:10:03.769Z"
   },
   {
    "duration": 109,
    "start_time": "2023-07-12T21:10:03.830Z"
   },
   {
    "duration": 437,
    "start_time": "2023-07-12T21:10:03.944Z"
   },
   {
    "duration": 27,
    "start_time": "2023-07-12T21:10:04.383Z"
   },
   {
    "duration": 48,
    "start_time": "2023-07-12T21:10:04.411Z"
   },
   {
    "duration": 36,
    "start_time": "2023-07-12T21:10:04.461Z"
   },
   {
    "duration": 57,
    "start_time": "2023-07-12T21:10:04.498Z"
   },
   {
    "duration": 42,
    "start_time": "2023-07-12T21:10:04.557Z"
   },
   {
    "duration": 72,
    "start_time": "2023-07-12T21:10:04.601Z"
   },
   {
    "duration": 44,
    "start_time": "2023-07-12T21:10:04.676Z"
   },
   {
    "duration": 52,
    "start_time": "2023-07-12T21:10:04.721Z"
   },
   {
    "duration": 16,
    "start_time": "2023-07-12T21:10:04.776Z"
   },
   {
    "duration": 48,
    "start_time": "2023-07-12T21:10:04.803Z"
   },
   {
    "duration": 18,
    "start_time": "2023-07-12T21:10:04.854Z"
   },
   {
    "duration": 513,
    "start_time": "2023-07-12T21:10:04.874Z"
   },
   {
    "duration": 95,
    "start_time": "2023-07-12T21:10:05.389Z"
   },
   {
    "duration": 44,
    "start_time": "2023-07-12T21:10:05.485Z"
   },
   {
    "duration": 353,
    "start_time": "2023-07-12T21:10:05.539Z"
   },
   {
    "duration": 264,
    "start_time": "2023-07-12T21:10:05.893Z"
   },
   {
    "duration": 986,
    "start_time": "2023-07-12T21:10:06.159Z"
   },
   {
    "duration": 31,
    "start_time": "2023-07-12T21:10:07.146Z"
   },
   {
    "duration": 476,
    "start_time": "2023-07-12T21:10:07.178Z"
   },
   {
    "duration": 26,
    "start_time": "2023-07-12T21:10:07.656Z"
   },
   {
    "duration": 222,
    "start_time": "2023-07-12T21:10:07.684Z"
   },
   {
    "duration": 46,
    "start_time": "2023-07-12T21:10:07.915Z"
   },
   {
    "duration": 22,
    "start_time": "2023-07-12T21:10:07.963Z"
   },
   {
    "duration": 500,
    "start_time": "2023-07-12T21:10:07.987Z"
   },
   {
    "duration": 6,
    "start_time": "2023-07-12T21:10:08.489Z"
   },
   {
    "duration": 96,
    "start_time": "2023-07-12T21:10:08.497Z"
   },
   {
    "duration": 250,
    "start_time": "2023-07-12T21:10:08.595Z"
   },
   {
    "duration": 11,
    "start_time": "2023-07-12T21:10:08.852Z"
   },
   {
    "duration": 32,
    "start_time": "2023-07-12T21:10:08.865Z"
   },
   {
    "duration": 36,
    "start_time": "2023-07-12T21:10:08.899Z"
   },
   {
    "duration": 50,
    "start_time": "2023-07-12T21:10:08.938Z"
   },
   {
    "duration": 4,
    "start_time": "2023-07-12T21:10:08.991Z"
   },
   {
    "duration": 128,
    "start_time": "2023-07-12T21:10:08.997Z"
   },
   {
    "duration": 43,
    "start_time": "2023-07-12T21:10:09.132Z"
   },
   {
    "duration": 22,
    "start_time": "2023-07-12T21:10:09.178Z"
   },
   {
    "duration": 72,
    "start_time": "2023-07-12T21:10:09.214Z"
   },
   {
    "duration": 10,
    "start_time": "2023-07-12T21:10:09.288Z"
   },
   {
    "duration": 69,
    "start_time": "2023-07-12T21:10:09.299Z"
   },
   {
    "duration": 45,
    "start_time": "2023-07-12T21:10:09.369Z"
   },
   {
    "duration": 16,
    "start_time": "2023-07-12T21:10:09.415Z"
   },
   {
    "duration": 30,
    "start_time": "2023-07-12T21:10:09.433Z"
   },
   {
    "duration": 434,
    "start_time": "2023-07-12T21:10:09.464Z"
   },
   {
    "duration": 412,
    "start_time": "2023-07-12T21:10:09.901Z"
   },
   {
    "duration": 444,
    "start_time": "2023-07-12T21:10:10.315Z"
   },
   {
    "duration": 33,
    "start_time": "2023-07-12T21:10:10.764Z"
   },
   {
    "duration": 49,
    "start_time": "2023-07-12T21:10:10.804Z"
   },
   {
    "duration": 25,
    "start_time": "2023-07-12T21:10:10.855Z"
   },
   {
    "duration": 21,
    "start_time": "2023-07-12T21:10:10.882Z"
   },
   {
    "duration": 73,
    "start_time": "2023-07-12T21:10:10.914Z"
   },
   {
    "duration": 36,
    "start_time": "2023-07-12T21:10:10.989Z"
   },
   {
    "duration": 48,
    "start_time": "2023-07-12T21:10:11.031Z"
   },
   {
    "duration": 8,
    "start_time": "2023-07-12T21:10:11.081Z"
   },
   {
    "duration": 1458,
    "start_time": "2023-07-12T21:13:45.801Z"
   },
   {
    "duration": 295,
    "start_time": "2023-07-12T21:13:47.261Z"
   },
   {
    "duration": 43,
    "start_time": "2023-07-12T21:13:47.558Z"
   },
   {
    "duration": 38,
    "start_time": "2023-07-12T21:13:47.613Z"
   },
   {
    "duration": 29,
    "start_time": "2023-07-12T21:13:47.657Z"
   },
   {
    "duration": 63,
    "start_time": "2023-07-12T21:13:47.688Z"
   },
   {
    "duration": 409,
    "start_time": "2023-07-12T21:13:47.753Z"
   },
   {
    "duration": 17,
    "start_time": "2023-07-12T21:13:48.164Z"
   },
   {
    "duration": 38,
    "start_time": "2023-07-12T21:13:48.183Z"
   },
   {
    "duration": 61,
    "start_time": "2023-07-12T21:13:48.222Z"
   },
   {
    "duration": 10,
    "start_time": "2023-07-12T21:13:48.285Z"
   },
   {
    "duration": 41,
    "start_time": "2023-07-12T21:13:48.297Z"
   },
   {
    "duration": 18,
    "start_time": "2023-07-12T21:13:48.346Z"
   },
   {
    "duration": 71,
    "start_time": "2023-07-12T21:13:48.367Z"
   },
   {
    "duration": 41,
    "start_time": "2023-07-12T21:13:48.448Z"
   },
   {
    "duration": 18,
    "start_time": "2023-07-12T21:13:48.491Z"
   },
   {
    "duration": 39,
    "start_time": "2023-07-12T21:13:48.510Z"
   },
   {
    "duration": 8,
    "start_time": "2023-07-12T21:13:48.551Z"
   },
   {
    "duration": 437,
    "start_time": "2023-07-12T21:13:48.561Z"
   },
   {
    "duration": 75,
    "start_time": "2023-07-12T21:13:49.000Z"
   },
   {
    "duration": 31,
    "start_time": "2023-07-12T21:13:49.077Z"
   },
   {
    "duration": 345,
    "start_time": "2023-07-12T21:13:49.112Z"
   },
   {
    "duration": 253,
    "start_time": "2023-07-12T21:13:49.459Z"
   },
   {
    "duration": 1022,
    "start_time": "2023-07-12T21:13:49.716Z"
   },
   {
    "duration": 35,
    "start_time": "2023-07-12T21:13:50.740Z"
   },
   {
    "duration": 400,
    "start_time": "2023-07-12T21:13:50.777Z"
   },
   {
    "duration": 56,
    "start_time": "2023-07-12T21:13:51.178Z"
   },
   {
    "duration": 273,
    "start_time": "2023-07-12T21:13:51.236Z"
   },
   {
    "duration": 49,
    "start_time": "2023-07-12T21:13:51.515Z"
   },
   {
    "duration": 19,
    "start_time": "2023-07-12T21:13:51.566Z"
   },
   {
    "duration": 346,
    "start_time": "2023-07-12T21:13:51.587Z"
   },
   {
    "duration": 9,
    "start_time": "2023-07-12T21:13:51.936Z"
   },
   {
    "duration": 22,
    "start_time": "2023-07-12T21:13:51.946Z"
   },
   {
    "duration": 188,
    "start_time": "2023-07-12T21:13:51.970Z"
   },
   {
    "duration": 12,
    "start_time": "2023-07-12T21:13:52.159Z"
   },
   {
    "duration": 17,
    "start_time": "2023-07-12T21:13:52.173Z"
   },
   {
    "duration": 41,
    "start_time": "2023-07-12T21:13:52.191Z"
   },
   {
    "duration": 44,
    "start_time": "2023-07-12T21:13:52.233Z"
   },
   {
    "duration": 22,
    "start_time": "2023-07-12T21:13:52.278Z"
   },
   {
    "duration": 79,
    "start_time": "2023-07-12T21:13:52.301Z"
   },
   {
    "duration": 42,
    "start_time": "2023-07-12T21:13:52.384Z"
   },
   {
    "duration": 44,
    "start_time": "2023-07-12T21:13:52.428Z"
   },
   {
    "duration": 51,
    "start_time": "2023-07-12T21:13:52.474Z"
   },
   {
    "duration": 15,
    "start_time": "2023-07-12T21:13:52.537Z"
   },
   {
    "duration": 11,
    "start_time": "2023-07-12T21:13:52.553Z"
   },
   {
    "duration": 45,
    "start_time": "2023-07-12T21:13:52.566Z"
   },
   {
    "duration": 36,
    "start_time": "2023-07-12T21:13:52.613Z"
   },
   {
    "duration": 12,
    "start_time": "2023-07-12T21:13:52.651Z"
   },
   {
    "duration": 433,
    "start_time": "2023-07-12T21:13:52.664Z"
   },
   {
    "duration": 396,
    "start_time": "2023-07-12T21:13:53.116Z"
   },
   {
    "duration": 386,
    "start_time": "2023-07-12T21:13:53.514Z"
   },
   {
    "duration": 44,
    "start_time": "2023-07-12T21:13:53.915Z"
   },
   {
    "duration": 59,
    "start_time": "2023-07-12T21:13:53.962Z"
   },
   {
    "duration": 18,
    "start_time": "2023-07-12T21:13:54.027Z"
   },
   {
    "duration": 23,
    "start_time": "2023-07-12T21:13:54.047Z"
   },
   {
    "duration": 35,
    "start_time": "2023-07-12T21:13:54.072Z"
   },
   {
    "duration": 28,
    "start_time": "2023-07-12T21:13:54.109Z"
   },
   {
    "duration": 41,
    "start_time": "2023-07-12T21:13:54.147Z"
   },
   {
    "duration": 8,
    "start_time": "2023-07-12T21:13:54.190Z"
   },
   {
    "duration": 1620,
    "start_time": "2023-07-13T07:40:22.697Z"
   },
   {
    "duration": 405,
    "start_time": "2023-07-13T07:40:24.320Z"
   },
   {
    "duration": 41,
    "start_time": "2023-07-13T07:40:24.727Z"
   },
   {
    "duration": 40,
    "start_time": "2023-07-13T07:40:28.599Z"
   },
   {
    "duration": 42,
    "start_time": "2023-07-13T07:40:39.238Z"
   },
   {
    "duration": 72,
    "start_time": "2023-07-13T07:40:40.373Z"
   },
   {
    "duration": 411,
    "start_time": "2023-07-13T07:40:42.592Z"
   },
   {
    "duration": 19,
    "start_time": "2023-07-13T07:40:45.198Z"
   },
   {
    "duration": 11,
    "start_time": "2023-07-13T07:40:46.103Z"
   },
   {
    "duration": 27,
    "start_time": "2023-07-13T07:40:48.389Z"
   },
   {
    "duration": 10,
    "start_time": "2023-07-13T07:40:52.238Z"
   },
   {
    "duration": 21,
    "start_time": "2023-07-13T07:40:53.322Z"
   },
   {
    "duration": 11,
    "start_time": "2023-07-13T07:41:20.483Z"
   },
   {
    "duration": 45,
    "start_time": "2023-07-13T07:41:23.682Z"
   },
   {
    "duration": 53,
    "start_time": "2023-07-13T07:41:26.822Z"
   },
   {
    "duration": 27,
    "start_time": "2023-07-13T07:41:27.708Z"
   },
   {
    "duration": 39,
    "start_time": "2023-07-13T07:41:29.690Z"
   },
   {
    "duration": 6,
    "start_time": "2023-07-13T07:41:30.786Z"
   },
   {
    "duration": 529,
    "start_time": "2023-07-13T07:41:31.616Z"
   },
   {
    "duration": 85,
    "start_time": "2023-07-13T07:41:46.502Z"
   },
   {
    "duration": 18,
    "start_time": "2023-07-13T07:41:49.108Z"
   },
   {
    "duration": 379,
    "start_time": "2023-07-13T07:41:52.555Z"
   },
   {
    "duration": 73,
    "start_time": "2023-07-13T07:46:12.086Z"
   },
   {
    "duration": 13,
    "start_time": "2023-07-13T07:46:13.588Z"
   },
   {
    "duration": 449,
    "start_time": "2023-07-13T07:46:16.465Z"
   },
   {
    "duration": 233,
    "start_time": "2023-07-13T07:46:21.798Z"
   },
   {
    "duration": 1033,
    "start_time": "2023-07-13T07:46:33.047Z"
   },
   {
    "duration": 23,
    "start_time": "2023-07-13T07:46:39.632Z"
   },
   {
    "duration": 310,
    "start_time": "2023-07-13T07:46:42.792Z"
   },
   {
    "duration": 137,
    "start_time": "2023-07-13T07:48:40.143Z"
   },
   {
    "duration": 318,
    "start_time": "2023-07-13T07:48:59.931Z"
   },
   {
    "duration": 319,
    "start_time": "2023-07-13T07:49:10.958Z"
   },
   {
    "duration": 29,
    "start_time": "2023-07-13T07:49:38.516Z"
   },
   {
    "duration": 1397,
    "start_time": "2023-07-13T07:53:29.322Z"
   },
   {
    "duration": 224,
    "start_time": "2023-07-13T07:54:25.603Z"
   },
   {
    "duration": 1582,
    "start_time": "2023-07-13T07:56:08.161Z"
   },
   {
    "duration": 253,
    "start_time": "2023-07-13T07:56:21.963Z"
   },
   {
    "duration": 401,
    "start_time": "2023-07-13T07:57:26.236Z"
   },
   {
    "duration": 324,
    "start_time": "2023-07-13T07:58:00.010Z"
   },
   {
    "duration": 240,
    "start_time": "2023-07-13T07:58:11.844Z"
   },
   {
    "duration": 339,
    "start_time": "2023-07-13T07:58:22.019Z"
   },
   {
    "duration": 262,
    "start_time": "2023-07-13T07:59:52.754Z"
   },
   {
    "duration": 245,
    "start_time": "2023-07-13T08:04:20.698Z"
   },
   {
    "duration": 273,
    "start_time": "2023-07-13T08:05:03.109Z"
   },
   {
    "duration": 279,
    "start_time": "2023-07-13T08:05:17.733Z"
   },
   {
    "duration": 56,
    "start_time": "2023-07-13T08:06:53.207Z"
   },
   {
    "duration": 19,
    "start_time": "2023-07-13T08:07:03.327Z"
   },
   {
    "duration": 336,
    "start_time": "2023-07-13T08:07:05.597Z"
   },
   {
    "duration": 30,
    "start_time": "2023-07-13T08:07:51.325Z"
   },
   {
    "duration": 29,
    "start_time": "2023-07-13T08:08:08.999Z"
   },
   {
    "duration": 31,
    "start_time": "2023-07-13T08:08:42.884Z"
   },
   {
    "duration": 33,
    "start_time": "2023-07-13T08:09:08.464Z"
   },
   {
    "duration": 26,
    "start_time": "2023-07-13T08:09:21.744Z"
   },
   {
    "duration": 31,
    "start_time": "2023-07-13T08:12:28.655Z"
   },
   {
    "duration": 29,
    "start_time": "2023-07-13T08:13:02.701Z"
   },
   {
    "duration": 22,
    "start_time": "2023-07-13T08:15:07.122Z"
   },
   {
    "duration": 17,
    "start_time": "2023-07-13T08:15:55.486Z"
   },
   {
    "duration": 25,
    "start_time": "2023-07-13T08:23:36.904Z"
   },
   {
    "duration": 20,
    "start_time": "2023-07-13T08:26:12.525Z"
   },
   {
    "duration": 21,
    "start_time": "2023-07-13T08:29:23.047Z"
   },
   {
    "duration": 31,
    "start_time": "2023-07-13T08:32:21.897Z"
   },
   {
    "duration": 32,
    "start_time": "2023-07-13T08:33:01.010Z"
   },
   {
    "duration": 30,
    "start_time": "2023-07-13T08:34:47.216Z"
   },
   {
    "duration": 28,
    "start_time": "2023-07-13T08:36:41.317Z"
   },
   {
    "duration": 25,
    "start_time": "2023-07-13T08:37:00.812Z"
   },
   {
    "duration": 21,
    "start_time": "2023-07-13T08:39:11.804Z"
   },
   {
    "duration": 21,
    "start_time": "2023-07-13T08:40:06.106Z"
   },
   {
    "duration": 37,
    "start_time": "2023-07-13T08:40:50.931Z"
   },
   {
    "duration": 22,
    "start_time": "2023-07-13T08:41:17.228Z"
   },
   {
    "duration": 33,
    "start_time": "2023-07-13T08:42:37.328Z"
   },
   {
    "duration": 24,
    "start_time": "2023-07-13T08:43:05.000Z"
   },
   {
    "duration": 22,
    "start_time": "2023-07-13T08:43:19.903Z"
   },
   {
    "duration": 24,
    "start_time": "2023-07-13T08:44:07.391Z"
   },
   {
    "duration": 23,
    "start_time": "2023-07-13T08:45:05.590Z"
   },
   {
    "duration": 38,
    "start_time": "2023-07-13T08:47:16.595Z"
   },
   {
    "duration": 34,
    "start_time": "2023-07-13T08:48:57.804Z"
   },
   {
    "duration": 28,
    "start_time": "2023-07-13T08:49:50.203Z"
   },
   {
    "duration": 28,
    "start_time": "2023-07-13T08:50:05.807Z"
   },
   {
    "duration": 19,
    "start_time": "2023-07-13T08:50:31.216Z"
   },
   {
    "duration": 88,
    "start_time": "2023-07-13T08:51:17.540Z"
   },
   {
    "duration": 26,
    "start_time": "2023-07-13T08:51:28.504Z"
   },
   {
    "duration": 26,
    "start_time": "2023-07-13T08:52:12.188Z"
   },
   {
    "duration": 25,
    "start_time": "2023-07-13T08:52:21.352Z"
   },
   {
    "duration": 307,
    "start_time": "2023-07-13T08:52:48.553Z"
   },
   {
    "duration": 399,
    "start_time": "2023-07-13T08:54:09.600Z"
   },
   {
    "duration": 299,
    "start_time": "2023-07-13T08:55:03.220Z"
   },
   {
    "duration": 24,
    "start_time": "2023-07-13T08:57:17.835Z"
   },
   {
    "duration": 314,
    "start_time": "2023-07-13T08:57:29.326Z"
   },
   {
    "duration": 7,
    "start_time": "2023-07-13T08:58:05.592Z"
   },
   {
    "duration": 10,
    "start_time": "2023-07-13T08:58:06.519Z"
   },
   {
    "duration": 184,
    "start_time": "2023-07-13T08:58:42.888Z"
   },
   {
    "duration": 16,
    "start_time": "2023-07-13T09:05:33.911Z"
   },
   {
    "duration": 13,
    "start_time": "2023-07-13T09:06:14.891Z"
   },
   {
    "duration": 16,
    "start_time": "2023-07-13T09:06:33.329Z"
   },
   {
    "duration": 10,
    "start_time": "2023-07-13T09:06:41.230Z"
   },
   {
    "duration": 11,
    "start_time": "2023-07-13T09:06:58.014Z"
   },
   {
    "duration": 11,
    "start_time": "2023-07-13T09:07:12.495Z"
   },
   {
    "duration": 201,
    "start_time": "2023-07-13T09:07:21.698Z"
   },
   {
    "duration": 24,
    "start_time": "2023-07-13T09:08:40.897Z"
   },
   {
    "duration": 14,
    "start_time": "2023-07-13T09:09:40.210Z"
   },
   {
    "duration": 34,
    "start_time": "2023-07-13T09:10:12.966Z"
   },
   {
    "duration": 27,
    "start_time": "2023-07-13T09:15:53.952Z"
   },
   {
    "duration": 19,
    "start_time": "2023-07-13T09:16:15.998Z"
   },
   {
    "duration": 37,
    "start_time": "2023-07-13T09:17:12.354Z"
   },
   {
    "duration": 21,
    "start_time": "2023-07-13T09:17:30.446Z"
   },
   {
    "duration": 23,
    "start_time": "2023-07-13T09:18:01.754Z"
   },
   {
    "duration": 24,
    "start_time": "2023-07-13T09:18:20.700Z"
   },
   {
    "duration": 23,
    "start_time": "2023-07-13T09:19:25.136Z"
   },
   {
    "duration": 28,
    "start_time": "2023-07-13T09:19:53.698Z"
   },
   {
    "duration": 421,
    "start_time": "2023-07-13T09:25:05.829Z"
   },
   {
    "duration": 345,
    "start_time": "2023-07-13T09:25:24.509Z"
   },
   {
    "duration": 312,
    "start_time": "2023-07-13T09:26:42.402Z"
   },
   {
    "duration": 328,
    "start_time": "2023-07-13T09:27:37.800Z"
   },
   {
    "duration": 329,
    "start_time": "2023-07-13T09:29:22.696Z"
   },
   {
    "duration": 498,
    "start_time": "2023-07-13T09:31:52.226Z"
   },
   {
    "duration": 339,
    "start_time": "2023-07-13T09:32:02.752Z"
   },
   {
    "duration": 21,
    "start_time": "2023-07-13T09:32:12.919Z"
   },
   {
    "duration": 36,
    "start_time": "2023-07-13T09:32:14.095Z"
   },
   {
    "duration": 23,
    "start_time": "2023-07-13T09:38:45.408Z"
   },
   {
    "duration": 34,
    "start_time": "2023-07-13T09:38:50.508Z"
   },
   {
    "duration": 4,
    "start_time": "2023-07-13T09:38:52.229Z"
   },
   {
    "duration": 41,
    "start_time": "2023-07-13T09:38:53.407Z"
   },
   {
    "duration": 58,
    "start_time": "2023-07-13T09:38:54.145Z"
   },
   {
    "duration": 24,
    "start_time": "2023-07-13T09:38:55.029Z"
   },
   {
    "duration": 46,
    "start_time": "2023-07-13T09:38:56.203Z"
   },
   {
    "duration": 17,
    "start_time": "2023-07-13T09:38:57.741Z"
   },
   {
    "duration": 12,
    "start_time": "2023-07-13T09:39:00.047Z"
   },
   {
    "duration": 74,
    "start_time": "2023-07-13T09:39:14.955Z"
   },
   {
    "duration": 18,
    "start_time": "2023-07-13T09:39:16.225Z"
   },
   {
    "duration": 18,
    "start_time": "2023-07-13T09:39:17.396Z"
   },
   {
    "duration": 478,
    "start_time": "2023-07-13T09:39:18.365Z"
   },
   {
    "duration": 420,
    "start_time": "2023-07-13T09:42:18.936Z"
   },
   {
    "duration": 501,
    "start_time": "2023-07-13T09:42:47.522Z"
   },
   {
    "duration": 461,
    "start_time": "2023-07-13T09:44:14.099Z"
   },
   {
    "duration": 422,
    "start_time": "2023-07-13T09:44:37.720Z"
   },
   {
    "duration": 45,
    "start_time": "2023-07-13T09:44:56.991Z"
   },
   {
    "duration": 30,
    "start_time": "2023-07-13T09:44:57.927Z"
   },
   {
    "duration": 13,
    "start_time": "2023-07-13T09:45:05.828Z"
   },
   {
    "duration": 6,
    "start_time": "2023-07-13T09:45:09.009Z"
   },
   {
    "duration": 61,
    "start_time": "2023-07-13T09:45:10.822Z"
   },
   {
    "duration": 38,
    "start_time": "2023-07-13T09:45:11.710Z"
   },
   {
    "duration": 31,
    "start_time": "2023-07-13T09:45:12.520Z"
   },
   {
    "duration": 13,
    "start_time": "2023-07-13T09:45:14.616Z"
   },
   {
    "duration": 1955,
    "start_time": "2023-07-13T15:36:24.115Z"
   },
   {
    "duration": 364,
    "start_time": "2023-07-13T15:36:26.072Z"
   },
   {
    "duration": 47,
    "start_time": "2023-07-13T15:36:26.438Z"
   },
   {
    "duration": 29,
    "start_time": "2023-07-13T15:36:30.227Z"
   },
   {
    "duration": 32,
    "start_time": "2023-07-13T15:36:31.827Z"
   },
   {
    "duration": 79,
    "start_time": "2023-07-13T15:36:32.913Z"
   },
   {
    "duration": 410,
    "start_time": "2023-07-13T15:36:34.511Z"
   },
   {
    "duration": 25,
    "start_time": "2023-07-13T15:36:36.981Z"
   },
   {
    "duration": 10,
    "start_time": "2023-07-13T15:36:38.118Z"
   },
   {
    "duration": 27,
    "start_time": "2023-07-13T15:36:39.807Z"
   },
   {
    "duration": 11,
    "start_time": "2023-07-13T15:36:42.452Z"
   },
   {
    "duration": 15,
    "start_time": "2023-07-13T15:36:43.508Z"
   },
   {
    "duration": 11,
    "start_time": "2023-07-13T15:36:52.810Z"
   },
   {
    "duration": 52,
    "start_time": "2023-07-13T15:36:54.722Z"
   },
   {
    "duration": 47,
    "start_time": "2023-07-13T15:36:56.507Z"
   },
   {
    "duration": 28,
    "start_time": "2023-07-13T15:36:57.450Z"
   },
   {
    "duration": 33,
    "start_time": "2023-07-13T15:36:59.611Z"
   },
   {
    "duration": 7,
    "start_time": "2023-07-13T15:37:00.411Z"
   },
   {
    "duration": 458,
    "start_time": "2023-07-13T15:37:01.486Z"
   },
   {
    "duration": 80,
    "start_time": "2023-07-13T15:37:08.046Z"
   },
   {
    "duration": 13,
    "start_time": "2023-07-13T15:37:09.110Z"
   },
   {
    "duration": 341,
    "start_time": "2023-07-13T15:37:10.922Z"
   },
   {
    "duration": 227,
    "start_time": "2023-07-13T15:37:29.311Z"
   },
   {
    "duration": 326,
    "start_time": "2023-07-13T15:37:38.912Z"
   },
   {
    "duration": 993,
    "start_time": "2023-07-13T15:37:52.826Z"
   },
   {
    "duration": 26,
    "start_time": "2023-07-13T15:37:57.215Z"
   },
   {
    "duration": 316,
    "start_time": "2023-07-13T15:37:58.218Z"
   },
   {
    "duration": 48,
    "start_time": "2023-07-13T15:38:08.855Z"
   },
   {
    "duration": 249,
    "start_time": "2023-07-13T15:38:36.345Z"
   },
   {
    "duration": 39,
    "start_time": "2023-07-13T15:39:11.507Z"
   },
   {
    "duration": 23,
    "start_time": "2023-07-13T15:39:19.044Z"
   },
   {
    "duration": 286,
    "start_time": "2023-07-13T15:39:20.811Z"
   },
   {
    "duration": 6,
    "start_time": "2023-07-13T15:39:46.036Z"
   },
   {
    "duration": 10,
    "start_time": "2023-07-13T15:39:47.135Z"
   },
   {
    "duration": 182,
    "start_time": "2023-07-13T15:39:49.880Z"
   },
   {
    "duration": 25,
    "start_time": "2023-07-13T15:39:57.131Z"
   },
   {
    "duration": 381,
    "start_time": "2023-07-13T15:39:58.351Z"
   },
   {
    "duration": 13,
    "start_time": "2023-07-13T15:40:52.214Z"
   },
   {
    "duration": 15,
    "start_time": "2023-07-13T15:40:54.416Z"
   },
   {
    "duration": 14,
    "start_time": "2023-07-13T15:52:24.176Z"
   },
   {
    "duration": 31,
    "start_time": "2023-07-13T15:52:25.871Z"
   },
   {
    "duration": 3,
    "start_time": "2023-07-13T15:52:28.302Z"
   },
   {
    "duration": 32,
    "start_time": "2023-07-13T15:52:29.902Z"
   },
   {
    "duration": 41,
    "start_time": "2023-07-13T15:52:30.907Z"
   },
   {
    "duration": 34,
    "start_time": "2023-07-13T15:52:31.758Z"
   },
   {
    "duration": 43,
    "start_time": "2023-07-13T15:52:33.440Z"
   },
   {
    "duration": 12,
    "start_time": "2023-07-13T15:52:35.150Z"
   },
   {
    "duration": 19,
    "start_time": "2023-07-13T15:52:37.959Z"
   },
   {
    "duration": 47,
    "start_time": "2023-07-13T15:52:51.335Z"
   },
   {
    "duration": 19,
    "start_time": "2023-07-13T15:52:52.702Z"
   },
   {
    "duration": 18,
    "start_time": "2023-07-13T15:53:01.162Z"
   },
   {
    "duration": 394,
    "start_time": "2023-07-13T15:53:03.408Z"
   },
   {
    "duration": 384,
    "start_time": "2023-07-13T15:53:29.505Z"
   },
   {
    "duration": 420,
    "start_time": "2023-07-13T15:53:31.005Z"
   },
   {
    "duration": 32,
    "start_time": "2023-07-13T15:53:43.804Z"
   },
   {
    "duration": 32,
    "start_time": "2023-07-13T15:53:45.530Z"
   },
   {
    "duration": 133,
    "start_time": "2023-07-13T15:53:46.613Z"
   },
   {
    "duration": 3,
    "start_time": "2023-07-13T15:53:50.398Z"
   },
   {
    "duration": 31,
    "start_time": "2023-07-13T15:53:51.430Z"
   },
   {
    "duration": 23,
    "start_time": "2023-07-13T15:53:52.531Z"
   },
   {
    "duration": 36,
    "start_time": "2023-07-13T15:53:53.518Z"
   },
   {
    "duration": 9,
    "start_time": "2023-07-13T15:53:54.736Z"
   },
   {
    "duration": 1318,
    "start_time": "2023-07-13T18:18:08.516Z"
   },
   {
    "duration": 312,
    "start_time": "2023-07-13T18:18:09.836Z"
   },
   {
    "duration": 26,
    "start_time": "2023-07-13T18:18:10.150Z"
   },
   {
    "duration": 30,
    "start_time": "2023-07-13T18:18:10.178Z"
   },
   {
    "duration": 25,
    "start_time": "2023-07-13T18:18:10.210Z"
   },
   {
    "duration": 64,
    "start_time": "2023-07-13T18:18:10.236Z"
   },
   {
    "duration": 337,
    "start_time": "2023-07-13T18:18:10.302Z"
   },
   {
    "duration": 29,
    "start_time": "2023-07-13T18:18:10.641Z"
   },
   {
    "duration": 10,
    "start_time": "2023-07-13T18:18:10.672Z"
   },
   {
    "duration": 45,
    "start_time": "2023-07-13T18:18:10.684Z"
   },
   {
    "duration": 9,
    "start_time": "2023-07-13T18:18:10.730Z"
   },
   {
    "duration": 33,
    "start_time": "2023-07-13T18:18:10.741Z"
   },
   {
    "duration": 23,
    "start_time": "2023-07-13T18:18:10.776Z"
   },
   {
    "duration": 52,
    "start_time": "2023-07-13T18:18:10.802Z"
   },
   {
    "duration": 38,
    "start_time": "2023-07-13T18:18:10.855Z"
   },
   {
    "duration": 16,
    "start_time": "2023-07-13T18:18:10.895Z"
   },
   {
    "duration": 52,
    "start_time": "2023-07-13T18:18:10.913Z"
   },
   {
    "duration": 5,
    "start_time": "2023-07-13T18:18:10.967Z"
   },
   {
    "duration": 374,
    "start_time": "2023-07-13T18:18:10.974Z"
   },
   {
    "duration": 68,
    "start_time": "2023-07-13T18:18:11.349Z"
   },
   {
    "duration": 11,
    "start_time": "2023-07-13T18:18:11.418Z"
   },
   {
    "duration": 326,
    "start_time": "2023-07-13T18:18:11.430Z"
   },
   {
    "duration": 221,
    "start_time": "2023-07-13T18:18:11.758Z"
   },
   {
    "duration": 820,
    "start_time": "2023-07-13T18:18:11.980Z"
   },
   {
    "duration": 20,
    "start_time": "2023-07-13T18:18:12.801Z"
   },
   {
    "duration": 331,
    "start_time": "2023-07-13T18:18:12.822Z"
   },
   {
    "duration": 25,
    "start_time": "2023-07-13T18:18:13.155Z"
   },
   {
    "duration": 220,
    "start_time": "2023-07-13T18:18:13.182Z"
   },
   {
    "duration": 35,
    "start_time": "2023-07-13T18:18:13.403Z"
   },
   {
    "duration": 20,
    "start_time": "2023-07-13T18:18:13.456Z"
   },
   {
    "duration": 248,
    "start_time": "2023-07-13T18:18:13.478Z"
   },
   {
    "duration": 6,
    "start_time": "2023-07-13T18:18:13.728Z"
   },
   {
    "duration": 29,
    "start_time": "2023-07-13T18:18:13.735Z"
   },
   {
    "duration": 163,
    "start_time": "2023-07-13T18:18:13.765Z"
   },
   {
    "duration": 31,
    "start_time": "2023-07-13T18:18:13.930Z"
   },
   {
    "duration": 306,
    "start_time": "2023-07-13T18:18:13.962Z"
   },
   {
    "duration": 11,
    "start_time": "2023-07-13T18:18:14.270Z"
   },
   {
    "duration": 15,
    "start_time": "2023-07-13T18:18:14.282Z"
   },
   {
    "duration": 28,
    "start_time": "2023-07-13T18:18:14.298Z"
   },
   {
    "duration": 38,
    "start_time": "2023-07-13T18:18:14.328Z"
   },
   {
    "duration": 4,
    "start_time": "2023-07-13T18:18:14.371Z"
   },
   {
    "duration": 39,
    "start_time": "2023-07-13T18:18:14.376Z"
   },
   {
    "duration": 51,
    "start_time": "2023-07-13T18:18:14.417Z"
   },
   {
    "duration": 21,
    "start_time": "2023-07-13T18:18:14.470Z"
   },
   {
    "duration": 34,
    "start_time": "2023-07-13T18:18:14.493Z"
   },
   {
    "duration": 36,
    "start_time": "2023-07-13T18:18:14.529Z"
   },
   {
    "duration": 8,
    "start_time": "2023-07-13T18:18:14.567Z"
   },
   {
    "duration": 36,
    "start_time": "2023-07-13T18:18:14.577Z"
   },
   {
    "duration": 44,
    "start_time": "2023-07-13T18:18:14.614Z"
   },
   {
    "duration": 13,
    "start_time": "2023-07-13T18:18:14.659Z"
   },
   {
    "duration": 321,
    "start_time": "2023-07-13T18:18:14.674Z"
   },
   {
    "duration": 385,
    "start_time": "2023-07-13T18:18:14.997Z"
   },
   {
    "duration": 329,
    "start_time": "2023-07-13T18:18:15.384Z"
   },
   {
    "duration": 27,
    "start_time": "2023-07-13T18:18:15.715Z"
   },
   {
    "duration": 34,
    "start_time": "2023-07-13T18:18:15.744Z"
   },
   {
    "duration": 114,
    "start_time": "2023-07-13T18:18:15.780Z"
   },
   {
    "duration": 7,
    "start_time": "2023-07-13T18:18:15.895Z"
   },
   {
    "duration": 28,
    "start_time": "2023-07-13T18:18:15.904Z"
   },
   {
    "duration": 35,
    "start_time": "2023-07-13T18:18:15.934Z"
   },
   {
    "duration": 31,
    "start_time": "2023-07-13T18:18:15.970Z"
   },
   {
    "duration": 8,
    "start_time": "2023-07-13T18:18:16.003Z"
   },
   {
    "duration": 28,
    "start_time": "2023-07-13T18:19:34.559Z"
   },
   {
    "duration": 1575,
    "start_time": "2023-07-14T12:55:10.645Z"
   },
   {
    "duration": 348,
    "start_time": "2023-07-14T12:55:13.119Z"
   },
   {
    "duration": 35,
    "start_time": "2023-07-14T12:55:14.708Z"
   },
   {
    "duration": 34,
    "start_time": "2023-07-14T12:55:17.637Z"
   },
   {
    "duration": 27,
    "start_time": "2023-07-14T12:55:18.063Z"
   },
   {
    "duration": 54,
    "start_time": "2023-07-14T12:55:18.248Z"
   },
   {
    "duration": 394,
    "start_time": "2023-07-14T12:55:19.863Z"
   },
   {
    "duration": 19,
    "start_time": "2023-07-14T12:55:21.603Z"
   },
   {
    "duration": 11,
    "start_time": "2023-07-14T12:55:22.467Z"
   },
   {
    "duration": 26,
    "start_time": "2023-07-14T12:55:24.165Z"
   },
   {
    "duration": 11,
    "start_time": "2023-07-14T12:55:26.531Z"
   },
   {
    "duration": 20,
    "start_time": "2023-07-14T12:55:27.415Z"
   },
   {
    "duration": 14,
    "start_time": "2023-07-14T12:55:37.402Z"
   },
   {
    "duration": 63,
    "start_time": "2023-07-14T12:55:39.389Z"
   },
   {
    "duration": 44,
    "start_time": "2023-07-14T12:55:41.197Z"
   },
   {
    "duration": 17,
    "start_time": "2023-07-14T12:55:42.321Z"
   },
   {
    "duration": 34,
    "start_time": "2023-07-14T12:55:44.128Z"
   },
   {
    "duration": 6,
    "start_time": "2023-07-14T12:55:45.013Z"
   },
   {
    "duration": 458,
    "start_time": "2023-07-14T12:55:45.932Z"
   },
   {
    "duration": 67,
    "start_time": "2023-07-14T12:55:50.621Z"
   },
   {
    "duration": 13,
    "start_time": "2023-07-14T12:55:52.400Z"
   },
   {
    "duration": 309,
    "start_time": "2023-07-14T12:55:54.241Z"
   },
   {
    "duration": 213,
    "start_time": "2023-07-14T12:55:56.294Z"
   },
   {
    "duration": 869,
    "start_time": "2023-07-14T12:56:00.117Z"
   },
   {
    "duration": 81,
    "start_time": "2023-07-14T13:00:14.977Z"
   },
   {
    "duration": 45,
    "start_time": "2023-07-14T13:02:32.676Z"
   },
   {
    "duration": 57,
    "start_time": "2023-07-14T13:03:56.560Z"
   },
   {
    "duration": 65,
    "start_time": "2023-07-14T13:06:41.884Z"
   },
   {
    "duration": 16,
    "start_time": "2023-07-14T13:07:38.458Z"
   },
   {
    "duration": 24,
    "start_time": "2023-07-14T13:07:45.798Z"
   },
   {
    "duration": 133,
    "start_time": "2023-07-14T13:12:06.940Z"
   },
   {
    "duration": 17,
    "start_time": "2023-07-14T13:12:19.446Z"
   },
   {
    "duration": 29,
    "start_time": "2023-07-14T13:12:36.733Z"
   },
   {
    "duration": 1646,
    "start_time": "2023-07-14T19:14:03.351Z"
   },
   {
    "duration": 545,
    "start_time": "2023-07-14T19:14:05.968Z"
   },
   {
    "duration": 31,
    "start_time": "2023-07-14T19:14:07.032Z"
   },
   {
    "duration": 31,
    "start_time": "2023-07-14T19:14:09.900Z"
   },
   {
    "duration": 27,
    "start_time": "2023-07-14T19:14:11.336Z"
   },
   {
    "duration": 53,
    "start_time": "2023-07-14T19:14:12.006Z"
   },
   {
    "duration": 412,
    "start_time": "2023-07-14T19:14:13.472Z"
   },
   {
    "duration": 19,
    "start_time": "2023-07-14T19:14:15.073Z"
   },
   {
    "duration": 12,
    "start_time": "2023-07-14T19:14:15.969Z"
   },
   {
    "duration": 33,
    "start_time": "2023-07-14T19:14:17.635Z"
   },
   {
    "duration": 10,
    "start_time": "2023-07-14T19:14:20.114Z"
   },
   {
    "duration": 16,
    "start_time": "2023-07-14T19:14:20.890Z"
   },
   {
    "duration": 11,
    "start_time": "2023-07-14T19:14:28.144Z"
   },
   {
    "duration": 54,
    "start_time": "2023-07-14T19:14:29.625Z"
   },
   {
    "duration": 41,
    "start_time": "2023-07-14T19:14:31.175Z"
   },
   {
    "duration": 18,
    "start_time": "2023-07-14T19:14:32.041Z"
   },
   {
    "duration": 34,
    "start_time": "2023-07-14T19:14:34.287Z"
   },
   {
    "duration": 6,
    "start_time": "2023-07-14T19:14:35.182Z"
   },
   {
    "duration": 475,
    "start_time": "2023-07-14T19:14:35.994Z"
   },
   {
    "duration": 78,
    "start_time": "2023-07-14T19:14:41.624Z"
   },
   {
    "duration": 12,
    "start_time": "2023-07-14T19:14:42.615Z"
   },
   {
    "duration": 314,
    "start_time": "2023-07-14T19:14:44.532Z"
   },
   {
    "duration": 242,
    "start_time": "2023-07-14T19:14:46.511Z"
   },
   {
    "duration": 889,
    "start_time": "2023-07-14T19:14:51.193Z"
   },
   {
    "duration": 62,
    "start_time": "2023-07-14T19:15:40.497Z"
   },
   {
    "duration": 18,
    "start_time": "2023-07-14T19:15:43.040Z"
   },
   {
    "duration": 120727,
    "start_time": "2023-07-14T19:15:45.741Z"
   },
   {
    "duration": 24,
    "start_time": "2023-07-14T19:17:46.470Z"
   },
   {
    "duration": 11,
    "start_time": "2023-07-14T19:19:01.328Z"
   },
   {
    "duration": 173,
    "start_time": "2023-07-14T19:20:16.530Z"
   },
   {
    "duration": 17,
    "start_time": "2023-07-14T19:20:50.332Z"
   },
   {
    "duration": 174,
    "start_time": "2023-07-14T19:20:56.079Z"
   },
   {
    "duration": 177,
    "start_time": "2023-07-14T19:21:17.201Z"
   },
   {
    "duration": 179,
    "start_time": "2023-07-14T19:21:23.005Z"
   },
   {
    "duration": 193,
    "start_time": "2023-07-14T19:21:28.728Z"
   },
   {
    "duration": 22,
    "start_time": "2023-07-14T19:23:26.089Z"
   },
   {
    "duration": 23,
    "start_time": "2023-07-14T19:24:25.576Z"
   },
   {
    "duration": 22,
    "start_time": "2023-07-14T19:25:25.832Z"
   },
   {
    "duration": 34,
    "start_time": "2023-07-14T19:25:37.768Z"
   },
   {
    "duration": 1388,
    "start_time": "2023-07-15T12:30:24.275Z"
   },
   {
    "duration": 238,
    "start_time": "2023-07-15T12:30:26.704Z"
   },
   {
    "duration": 27,
    "start_time": "2023-07-15T12:30:27.758Z"
   },
   {
    "duration": 27,
    "start_time": "2023-07-15T12:30:30.842Z"
   },
   {
    "duration": 28,
    "start_time": "2023-07-15T12:30:32.341Z"
   },
   {
    "duration": 54,
    "start_time": "2023-07-15T12:30:33.083Z"
   },
   {
    "duration": 368,
    "start_time": "2023-07-15T12:30:34.679Z"
   },
   {
    "duration": 15,
    "start_time": "2023-07-15T12:30:35.999Z"
   },
   {
    "duration": 10,
    "start_time": "2023-07-15T12:30:36.211Z"
   },
   {
    "duration": 29,
    "start_time": "2023-07-15T12:30:37.310Z"
   },
   {
    "duration": 10,
    "start_time": "2023-07-15T12:30:38.369Z"
   },
   {
    "duration": 14,
    "start_time": "2023-07-15T12:30:38.648Z"
   },
   {
    "duration": 8,
    "start_time": "2023-07-15T12:30:41.432Z"
   },
   {
    "duration": 47,
    "start_time": "2023-07-15T12:30:43.216Z"
   },
   {
    "duration": 43,
    "start_time": "2023-07-15T12:30:45.100Z"
   },
   {
    "duration": 16,
    "start_time": "2023-07-15T12:30:46.191Z"
   },
   {
    "duration": 30,
    "start_time": "2023-07-15T12:30:47.974Z"
   },
   {
    "duration": 4,
    "start_time": "2023-07-15T12:30:49.232Z"
   },
   {
    "duration": 99,
    "start_time": "2023-07-15T12:30:50.432Z"
   },
   {
    "duration": 412,
    "start_time": "2023-07-15T12:31:18.292Z"
   }
  ],
  "kernelspec": {
   "display_name": "Python 3 (ipykernel)",
   "language": "python",
   "name": "python3"
  },
  "language_info": {
   "codemirror_mode": {
    "name": "ipython",
    "version": 3
   },
   "file_extension": ".py",
   "mimetype": "text/x-python",
   "name": "python",
   "nbconvert_exporter": "python",
   "pygments_lexer": "ipython3",
   "version": "3.9.5"
  },
  "toc": {
   "base_numbering": 1,
   "nav_menu": {},
   "number_sections": true,
   "sideBar": true,
   "skip_h1_title": true,
   "title_cell": "Table of Contents",
   "title_sidebar": "Contents",
   "toc_cell": false,
   "toc_position": {},
   "toc_section_display": true,
   "toc_window_display": true
  }
 },
 "nbformat": 4,
 "nbformat_minor": 2
}
